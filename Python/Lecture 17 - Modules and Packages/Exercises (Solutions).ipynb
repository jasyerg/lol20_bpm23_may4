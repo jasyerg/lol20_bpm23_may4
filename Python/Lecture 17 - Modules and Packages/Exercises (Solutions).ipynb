{
 "cells": [
  {
   "cell_type": "markdown",
   "metadata": {},
   "source": [
    "# Modules and Packages\n",
    "\n",
    "Writing your own modules and packages is a key skill for making your code reusable. You can also clear lines of code out of Jupyter notebooks and move it into separate modules, making the notebook more readable and better organized.\n",
    "\n",
    "We'll practice this here by writing functions to calculate the mean, variance, and covariance of lists of numbers."
   ]
  },
  {
   "cell_type": "markdown",
   "metadata": {},
   "source": [
    "## Implementing our functions\n",
    "\n",
    "Write a function, `my_mean`, to calculate the mean of a list of numbers,\n",
    "\n",
    "$\\frac{1}{N}\\sum_{i=1}^N (x_i)$\n",
    "\n",
    "Note that in this notation, the numbers are indexed from _1_ to _N_, which is different from Python list indexing. Don't import any Python modules, write your code from scratch."
   ]
  },
  {
   "cell_type": "code",
   "execution_count": 3,
   "metadata": {
    "ExecuteTime": {
     "end_time": "2019-11-08T07:24:00.367292Z",
     "start_time": "2019-11-08T07:24:00.349829Z"
    }
   },
   "outputs": [
    {
     "name": "stdout",
     "output_type": "stream",
     "text": [
      "Overwriting my_stats/averages.py\n"
     ]
    }
   ],
   "source": [
    "%%writefile my_stats/averages.py\n",
    "\n",
    "def my_mean(numbers):\n",
    "    N = len(numbers)\n",
    "    total = 0\n",
    "    for num in numbers:\n",
    "        total += num\n",
    "    mean = total / N\n",
    "    return mean"
   ]
  },
  {
   "cell_type": "code",
   "execution_count": 6,
   "metadata": {
    "ExecuteTime": {
     "end_time": "2019-11-08T06:02:02.862583Z",
     "start_time": "2019-11-08T06:02:02.854965Z"
    }
   },
   "outputs": [],
   "source": [
    "list_x = [1, 2, 3, 4, 5, 6, 7, 8, 9, 10]\n",
    "assert my_mean(list_x) == 5.5"
   ]
  },
  {
   "cell_type": "markdown",
   "metadata": {},
   "source": [
    "Next we'll write a covariance function, and write a variance function as a special case of that.\n",
    "\n",
    "$\\frac{1}{N}\\sum_{i=1}^N(x_i - \\bar{x})(y_i - \\bar{y})$\n",
    "\n",
    "(This is the function for the population covariance, which is different from the sample variance... don't worry if you don't know the difference between these two; it's not important for this exercise.)\n",
    "\n",
    "This only works if `list_x` and `list_y` have the same length. We'll use an `assert` statement for now to enforce this, but there are more graceful ways of handling that, as we'll see in the next lecture."
   ]
  },
  {
   "cell_type": "code",
   "execution_count": 4,
   "metadata": {
    "ExecuteTime": {
     "end_time": "2019-11-08T07:24:02.787842Z",
     "start_time": "2019-11-08T07:24:02.777905Z"
    }
   },
   "outputs": [
    {
     "name": "stdout",
     "output_type": "stream",
     "text": [
      "Overwriting my_stats/variance.py\n"
     ]
    }
   ],
   "source": [
    "%%writefile my_stats/variance.py\n",
    "\n",
    "def my_cov(list_x, list_y):\n",
    "    assert len(list_x) == len(list_y)\n",
    "    N = len(list_x)\n",
    "    xbar = my_mean(list_x)\n",
    "    ybar = my_mean(list_y)\n",
    "    total = 0\n",
    "    for i in range(len(list_x)):\n",
    "        total += ((list_x[i] - xbar) * (list_y[i] - ybar))\n",
    "    cov = total / N\n",
    "    return cov"
   ]
  },
  {
   "cell_type": "code",
   "execution_count": 13,
   "metadata": {
    "ExecuteTime": {
     "end_time": "2019-11-08T06:15:28.629793Z",
     "start_time": "2019-11-08T06:15:28.622281Z"
    }
   },
   "outputs": [
    {
     "data": {
      "text/plain": [
       "0.5999999999999999"
      ]
     },
     "execution_count": 13,
     "metadata": {},
     "output_type": "execute_result"
    }
   ],
   "source": [
    "list_y = [3, 6, 4, 3, 8, 0, 6, 3, 7, 4]\n",
    "assert round(my_cov(list_x, list_y), 4) == 0.6"
   ]
  },
  {
   "cell_type": "markdown",
   "metadata": {},
   "source": [
    "Note that the purpose of functions is to make code reusable. If you didn't use your `my_mean` function to get this to work, go back and do that now.\n",
    "\n",
    "Finally, note that the variance formula, \n",
    "\n",
    "$\\frac{1}{N}\\sum_{i=1}^N(x_i - \\bar{x})^2$\n",
    "\n",
    "is a special case of the covariance formula. Write a variance function that uses your `my_cov` function to get the result."
   ]
  },
  {
   "cell_type": "code",
   "execution_count": 5,
   "metadata": {
    "ExecuteTime": {
     "end_time": "2019-11-08T07:24:05.756861Z",
     "start_time": "2019-11-08T07:24:05.751471Z"
    }
   },
   "outputs": [
    {
     "name": "stdout",
     "output_type": "stream",
     "text": [
      "Appending to my_stats/variance.py\n"
     ]
    }
   ],
   "source": [
    "%%writefile -a my_stats/variance.py\n",
    "\n",
    "def my_var(list_x):\n",
    "    var = my_cov(list_x, list_x)\n",
    "    return var"
   ]
  },
  {
   "cell_type": "code",
   "execution_count": 16,
   "metadata": {
    "ExecuteTime": {
     "end_time": "2019-11-08T06:27:32.170431Z",
     "start_time": "2019-11-08T06:27:32.162175Z"
    }
   },
   "outputs": [
    {
     "data": {
      "text/plain": [
       "8.25"
      ]
     },
     "execution_count": 16,
     "metadata": {},
     "output_type": "execute_result"
    }
   ],
   "source": [
    "assert my_var(list_x) == 8.25"
   ]
  },
  {
   "cell_type": "markdown",
   "metadata": {},
   "source": [
    "## Exporting Our Functions to Modules\n",
    "\n",
    "Now we can use the Jupyter `%%writefile` magic command to export our functions into modules. There is a folder called `my_stats` in this directory, which we will use as our package. It already contains the necessary `__init__.py` file that signals to Python that this directory behaves as a package.\n",
    "\n",
    "Add the command `%%writefile <module_name>.py` to your function definition cells above. Put your `my_mean` function in a module called `averages.py`. Put the other two in a module called `variance.py`. \n",
    "\n",
    "Note that you will need to add code to the `my_cov` cell in order to import the `my_mean` function that it uses, since these functions will now be defined in two different files. Importing functions from other files in the same directory can be tricky. Try this on your own to see where you get stuck, and if you need help refer to [this question](https://stackoverflow.com/questions/43865291/import-function-from-a-file-in-the-same-folder) on StackOverflow.\n",
    "\n",
    "You will also need to add a parameter to the `%%writefile` command in the `my_var` cell in order to append it to the file, instead of overwriting `my_cov`.\n",
    "\n",
    "Run the next two cells to clear your python workspace, import the functions from your new modules, and pass the tests."
   ]
  },
  {
   "cell_type": "code",
   "execution_count": 2,
   "metadata": {
    "ExecuteTime": {
     "end_time": "2019-11-08T17:14:39.966400Z",
     "start_time": "2019-11-08T17:14:37.947934Z"
    }
   },
   "outputs": [
    {
     "name": "stdout",
     "output_type": "stream",
     "text": [
      "Once deleted, variables cannot be recovered. Proceed (y/[n])? y\n"
     ]
    },
    {
     "name": "stderr",
     "output_type": "stream",
     "text": [
      "ERROR:root:Invalid alias: The name clear can't be aliased because it is another magic command.\n",
      "ERROR:root:Invalid alias: The name more can't be aliased because it is another magic command.\n",
      "ERROR:root:Invalid alias: The name less can't be aliased because it is another magic command.\n",
      "ERROR:root:Invalid alias: The name man can't be aliased because it is another magic command.\n"
     ]
    }
   ],
   "source": [
    "%reset"
   ]
  },
  {
   "cell_type": "code",
   "execution_count": 3,
   "metadata": {
    "ExecuteTime": {
     "end_time": "2019-11-08T17:14:41.508642Z",
     "start_time": "2019-11-08T17:14:41.500113Z"
    }
   },
   "outputs": [],
   "source": [
    "from my_stats.averages import my_mean\n",
    "from my_stats.variance import my_cov, my_var\n",
    "\n",
    "list_x = [1, 2, 3, 4, 5, 6, 7, 8, 9, 10]\n",
    "list_y = [3, 6, 4, 3, 8, 0, 6, 3, 7, 4]\n",
    "assert my_mean(list_x) == 5.5\n",
    "assert round(my_cov(list_x, list_y), 4) == 0.6\n",
    "assert my_var(list_x) == 8.25"
   ]
  },
  {
   "cell_type": "markdown",
   "metadata": {},
   "source": []
  }
 ],
 "metadata": {
  "kernelspec": {
   "display_name": "Python 3",
   "language": "python",
   "name": "python3"
  },
  "language_info": {
   "codemirror_mode": {
    "name": "ipython",
    "version": 3
   },
   "file_extension": ".py",
   "mimetype": "text/x-python",
   "name": "python",
   "nbconvert_exporter": "python",
   "pygments_lexer": "ipython3",
   "version": "3.6.8"
  },
  "toc": {
   "base_numbering": 1,
   "nav_menu": {},
   "number_sections": true,
   "sideBar": true,
   "skip_h1_title": false,
   "title_cell": "Table of Contents",
   "title_sidebar": "Contents",
   "toc_cell": false,
   "toc_position": {},
   "toc_section_display": true,
   "toc_window_display": false
  }
 },
 "nbformat": 4,
 "nbformat_minor": 2
}
