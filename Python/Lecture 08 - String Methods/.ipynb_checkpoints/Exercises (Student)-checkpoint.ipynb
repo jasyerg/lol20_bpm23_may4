{
 "cells": [
  {
   "cell_type": "markdown",
   "metadata": {},
   "source": [
    "# Exercises: String Methods\n",
    "\n",
    "Note: There are multiple ways to solve these problems, and these are just examples."
   ]
  },
  {
   "cell_type": "markdown",
   "metadata": {},
   "source": [
    "## For the following string: \"The quick brown fox jumps over the lazy dog\"\n",
    "\n",
    "A) How many characters, including blank spaces, are in the string?\n",
    "\n",
    "B) Replace the work \"quick\" with \"slow\"\n",
    "\n",
    "C) How many words are in the sentence? \n",
    "\n",
    "D) At what index does the letter \"z\" occur?\n",
    "\n",
    "E) Sort the letters of the sentence (not in place) and print it out.\n",
    "\n",
    "F) Count how many times the  letter \"o\" appears.\n",
    "\n",
    "G) Print the string with the first letter of each word capitalized.  Google the __title__ method."
   ]
  },
  {
   "cell_type": "code",
   "execution_count": 40,
   "metadata": {},
   "outputs": [
    {
     "data": {
      "text/plain": [
       "43"
      ]
     },
     "execution_count": 40,
     "metadata": {},
     "output_type": "execute_result"
    }
   ],
   "source": [
    "# A How many characters, including blank spaces, are in the string?\n",
    "\n",
    "string1 =\"The quick brown fox jumps over the lazy dog\"\n",
    "\n",
    "len(string1)"
   ]
  },
  {
   "cell_type": "code",
   "execution_count": 41,
   "metadata": {},
   "outputs": [
    {
     "data": {
      "text/plain": [
       "'The slow brown fox jumps over the lazy dog'"
      ]
     },
     "execution_count": 41,
     "metadata": {},
     "output_type": "execute_result"
    }
   ],
   "source": [
    "# B Replace the work \"quick\" with \"slow\"\n",
    "\n",
    "string1.replace(\"quick\", \"slow\")\n"
   ]
  },
  {
   "cell_type": "code",
   "execution_count": 42,
   "metadata": {},
   "outputs": [
    {
     "data": {
      "text/plain": [
       "9"
      ]
     },
     "execution_count": 42,
     "metadata": {},
     "output_type": "execute_result"
    }
   ],
   "source": [
    "# C How many words are in the sentence?\n",
    "\n",
    "string4 = string1.split(' ')\n",
    "\n",
    "len(string4)\n",
    "\n",
    "\n",
    "\n",
    "\n"
   ]
  },
  {
   "cell_type": "code",
   "execution_count": 44,
   "metadata": {},
   "outputs": [
    {
     "data": {
      "text/plain": [
       "37"
      ]
     },
     "execution_count": 44,
     "metadata": {},
     "output_type": "execute_result"
    }
   ],
   "source": [
    "# D At what index does the letter \"z\" occur?\n",
    "\n",
    "string1.index('z')\n"
   ]
  },
  {
   "cell_type": "code",
   "execution_count": null,
   "metadata": {},
   "outputs": [],
   "source": [
    "# E\n"
   ]
  },
  {
   "cell_type": "code",
   "execution_count": null,
   "metadata": {},
   "outputs": [],
   "source": [
    "# F\n"
   ]
  },
  {
   "cell_type": "code",
   "execution_count": null,
   "metadata": {},
   "outputs": [],
   "source": [
    "# G\n"
   ]
  },
  {
   "cell_type": "markdown",
   "metadata": {},
   "source": [
    "## Print a sentence with the following format: \"The number is X!\" Replace X with:\n",
    "\n",
    "A) The output of 1/3 showing all decimals\n",
    "\n",
    "B) The output of 1+1/3 showing no decimals\n",
    "\n",
    "C) The output of 10/3 showing 2 decimals"
   ]
  },
  {
   "cell_type": "code",
   "execution_count": null,
   "metadata": {},
   "outputs": [],
   "source": [
    "# A\n"
   ]
  },
  {
   "cell_type": "code",
   "execution_count": null,
   "metadata": {},
   "outputs": [],
   "source": [
    "# B\n"
   ]
  },
  {
   "cell_type": "code",
   "execution_count": null,
   "metadata": {},
   "outputs": [],
   "source": [
    "# C\n"
   ]
  }
 ],
 "metadata": {
  "kernelspec": {
   "display_name": "Python 3",
   "language": "python",
   "name": "python3"
  },
  "language_info": {
   "codemirror_mode": {
    "name": "ipython",
    "version": 3
   },
   "file_extension": ".py",
   "mimetype": "text/x-python",
   "name": "python",
   "nbconvert_exporter": "python",
   "pygments_lexer": "ipython3",
   "version": "3.7.6"
  },
  "toc": {
   "base_numbering": 1,
   "nav_menu": {},
   "number_sections": true,
   "sideBar": true,
   "skip_h1_title": false,
   "title_cell": "Table of Contents",
   "title_sidebar": "Contents",
   "toc_cell": false,
   "toc_position": {},
   "toc_section_display": true,
   "toc_window_display": false
  }
 },
 "nbformat": 4,
 "nbformat_minor": 2
}
