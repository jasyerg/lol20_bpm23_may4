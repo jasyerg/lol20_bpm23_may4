{
 "cells": [
  {
   "cell_type": "markdown",
   "metadata": {},
   "source": [
    "# Exercises: Sets"
   ]
  },
  {
   "cell_type": "markdown",
   "metadata": {},
   "source": [
    "## For the following string: \"The quick brown fox jumps over the lazy dog\"\n",
    "\n",
    "A) Modify the string so that all the characters are lowercase\n",
    "\n",
    "B) Create a set that extracts the unique letters in the string\n",
    "\n",
    "C) Remove the blank space as an element from the set\n",
    "\n",
    "D) Print a list that shows the elements of the set sorted. What do you notice?"
   ]
  },
  {
   "cell_type": "code",
   "execution_count": 6,
   "metadata": {},
   "outputs": [
    {
     "name": "stdout",
     "output_type": "stream",
     "text": [
      "the quick brown fox jumps over the lazy dog\n"
     ]
    }
   ],
   "source": [
    "my_string = \"The quick brown fox jumps over the lazy dog\"\n",
    "\n",
    "# A Modify the string so that all the characters are lowercase\n",
    "\n",
    "my_string=my_string.lower()\n",
    "\n",
    "print (my_string)\n"
   ]
  },
  {
   "cell_type": "code",
   "execution_count": 7,
   "metadata": {},
   "outputs": [
    {
     "name": "stdout",
     "output_type": "stream",
     "text": [
      "{'h', 'j', 'r', 'v', 'p', 'g', 'f', 'm', 'l', 'a', 'b', 'e', 's', 'd', 'n', 'z', 'i', 'o', 'y', 'q', 'c', 'w', 'x', 't', ' ', 'k', 'u'}\n"
     ]
    }
   ],
   "source": [
    "# B Create a set that extracts the unique letters in the string\n",
    "\n",
    "my_set = set(my_string)\n",
    "\n",
    "print(my_set)"
   ]
  },
  {
   "cell_type": "code",
   "execution_count": 8,
   "metadata": {},
   "outputs": [
    {
     "name": "stdout",
     "output_type": "stream",
     "text": [
      "{'h', 'j', 'r', 'v', 'p', 'g', 'f', 'm', 'l', 'a', 'b', 'e', 's', 'd', 'n', 'z', 'i', 'o', 'y', 'q', 'c', 'w', 'x', 't', 'k', 'u'}\n"
     ]
    }
   ],
   "source": [
    "# C Remove the blank space as an element from the set\n",
    "\n",
    "my_set.remove(\" \")\n",
    "\n",
    "print(my_set)\n"
   ]
  },
  {
   "cell_type": "code",
   "execution_count": 10,
   "metadata": {},
   "outputs": [
    {
     "name": "stdout",
     "output_type": "stream",
     "text": [
      "['a', 'b', 'c', 'd', 'e', 'f', 'g', 'h', 'i', 'j', 'k', 'l', 'm', 'n', 'o', 'p', 'q', 'r', 's', 't', 'u', 'v', 'w', 'x', 'y', 'z']\n"
     ]
    }
   ],
   "source": [
    "# D Print a list that shows the elements of the set sorted. What do you notice?\n",
    "\n",
    "sorted_list = sorted(list(my_set))\n",
    "print(sorted_list)\n"
   ]
  },
  {
   "cell_type": "code",
   "execution_count": null,
   "metadata": {},
   "outputs": [],
   "source": []
  }
 ],
 "metadata": {
  "kernelspec": {
   "display_name": "Python 3",
   "language": "python",
   "name": "python3"
  },
  "language_info": {
   "codemirror_mode": {
    "name": "ipython",
    "version": 3
   },
   "file_extension": ".py",
   "mimetype": "text/x-python",
   "name": "python",
   "nbconvert_exporter": "python",
   "pygments_lexer": "ipython3",
   "version": "3.7.6"
  },
  "toc": {
   "base_numbering": 1,
   "nav_menu": {},
   "number_sections": true,
   "sideBar": true,
   "skip_h1_title": false,
   "title_cell": "Table of Contents",
   "title_sidebar": "Contents",
   "toc_cell": false,
   "toc_position": {},
   "toc_section_display": true,
   "toc_window_display": true
  }
 },
 "nbformat": 4,
 "nbformat_minor": 2
}
