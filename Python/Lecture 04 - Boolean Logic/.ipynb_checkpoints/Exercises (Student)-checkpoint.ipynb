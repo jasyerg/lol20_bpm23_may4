{
 "cells": [
  {
   "cell_type": "markdown",
   "metadata": {},
   "source": [
    "# Boolean Types\n",
    "\n",
    "In Python, an `assert` statement is one that checks a boolean condition and throws an error (an `AssertionError`, to be precise) that interrupts your code if that condition is not true. This can be a useful tool to make sure that code is working as intended. We will look at more productive ways to work with errors in a later lecture, but for now we can use `assert` statements to make sure code cells execute correctly in these assignments."
   ]
  },
  {
   "cell_type": "markdown",
   "metadata": {},
   "source": [
    "## Boolean Conversion"
   ]
  },
  {
   "cell_type": "code",
   "execution_count": 1,
   "metadata": {
    "ExecuteTime": {
     "end_time": "2019-10-15T22:25:08.845814Z",
     "start_time": "2019-10-15T22:25:08.838462Z"
    }
   },
   "outputs": [],
   "source": [
    "# Comment out the False assertions to get this cell to run correctly.\n",
    "# Do not comment out any assertions that pass successfully.\n",
    "\n",
    "assert True\n",
    "#assert False\n",
    "#assert bool(\"\")\n",
    "assert bool(\"False\")\n",
    "#assert bool(0)\n",
    "assert bool(1)"
   ]
  },
  {
   "cell_type": "markdown",
   "metadata": {},
   "source": [
    "## Boolean Evaluation of Other Types"
   ]
  },
  {
   "cell_type": "code",
   "execution_count": 2,
   "metadata": {
    "ExecuteTime": {
     "end_time": "2019-10-15T22:25:42.030364Z",
     "start_time": "2019-10-15T22:25:41.950795Z"
    }
   },
   "outputs": [],
   "source": [
    "assert \"sandwich\"\n",
    "#assert 0\n",
    "assert complex(0, 4)\n",
    "#assert ''"
   ]
  },
  {
   "cell_type": "code",
   "execution_count": 3,
   "metadata": {
    "ExecuteTime": {
     "end_time": "2019-10-15T22:25:06.388640Z",
     "start_time": "2019-10-15T22:25:06.381998Z"
    }
   },
   "outputs": [],
   "source": [
    "a = 'c'\n",
    "b = 'c'\n",
    "\n",
    "assert b is a\n",
    "#assert a is 'a'"
   ]
  },
  {
   "cell_type": "code",
   "execution_count": 5,
   "metadata": {},
   "outputs": [],
   "source": [
    "assert 1 == True\n",
    "#assert 5 == True\n",
    "assert bool(5) == True\n",
    "assert bool(1) == True"
   ]
  },
  {
   "cell_type": "markdown",
   "metadata": {},
   "source": [
    "## String Comparisons\n",
    "\n",
    "The comparison operators `<`, `>`, `<=`, `>=` also work on strings.\n",
    "\n",
    "Use the following assertion statements to figure out how string comparison works in Python."
   ]
  },
  {
   "cell_type": "code",
   "execution_count": 32,
   "metadata": {
    "ExecuteTime": {
     "end_time": "2019-10-15T22:25:03.080540Z",
     "start_time": "2019-10-15T22:25:03.063641Z"
    }
   },
   "outputs": [],
   "source": [
    "# Edit the equality operators to the appropriate comparison operators\n",
    "# to get all of the assertion statements to pass.\n",
    "\n",
    "assert 'a' <= 'c'\n",
    "assert 'cow' <= 'coward'\n",
    "assert 'armored' >= 'armadillo'\n",
    "assert '' == ''\n",
    "assert '' == \"\"\"\"\"\"\n",
    "assert 'Right?' >= 'Right!'"
   ]
  },
  {
   "cell_type": "code",
   "execution_count": 33,
   "metadata": {},
   "outputs": [
    {
     "name": "stdout",
     "output_type": "stream",
     "text": [
      "329 97\n"
     ]
    }
   ],
   "source": [
    "value = ord('c')+ord('o')+ord('w')\n",
    "\n",
    "value_1 = ord('a')\n",
    "\n",
    "print (value, value_1)\n"
   ]
  },
  {
   "cell_type": "markdown",
   "metadata": {},
   "source": [
    "*That last one was a dirty trick. You can use the `ord()` function to get the ASCII value of a character, which is used for string comparisons.*\n",
    "\n",
    "*Note that in most cases, you will only be interested in string comparisons that check for equality between string variables. But it is still useful to know how Python executes these operations.*"
   ]
  },
  {
   "cell_type": "markdown",
   "metadata": {},
   "source": [
    "## Is the remainder of 7 divided by 5 greater than 3.2?"
   ]
  },
  {
   "cell_type": "code",
   "execution_count": 37,
   "metadata": {},
   "outputs": [
    {
     "name": "stdout",
     "output_type": "stream",
     "text": [
      "False\n"
     ]
    }
   ],
   "source": [
    "print (7%5>3.2)"
   ]
  },
  {
   "cell_type": "markdown",
   "metadata": {},
   "source": [
    "## Is a 5 foot 3 inch person taller than a 1 meter 77 cms person?\n",
    "\n",
    "Knowing that: \n",
    "- 1 meter is 100 cms\n",
    "- 1 foot is 12 inches\n",
    "- 1 inch is 2.54 cms"
   ]
  },
  {
   "cell_type": "code",
   "execution_count": 38,
   "metadata": {},
   "outputs": [
    {
     "name": "stdout",
     "output_type": "stream",
     "text": [
      "False\n"
     ]
    }
   ],
   "source": [
    "cms_to_in = 177 / 2.54\n",
    "\n",
    "ft_to_in = 5*12\n",
    "\n",
    "in_conv = 3\n",
    "\n",
    "person1cm = cms_to_in\n",
    "\n",
    "person2in = ft_to_in + in_conv\n",
    "\n",
    "print (person2in > person1cm)"
   ]
  },
  {
   "cell_type": "markdown",
   "metadata": {},
   "source": [
    "## Is a car that drives at 65mph faster than a car going at 80kmh and slower than a car going at 100kmh?\n",
    "\n",
    "Knowing that:\n",
    "- 1 mile is 1.6kms"
   ]
  },
  {
   "cell_type": "code",
   "execution_count": 40,
   "metadata": {},
   "outputs": [
    {
     "name": "stdout",
     "output_type": "stream",
     "text": [
      "speed of first car in kms 104.0\n",
      "False\n"
     ]
    }
   ],
   "source": [
    "car1 = 65*1.6\n",
    "car2 = 80\n",
    "car3 = 100\n",
    "\n",
    "print (\"speed of first car in kms\", car1)\n",
    "print (car2 < car1 < car3)\n"
   ]
  },
  {
   "cell_type": "code",
   "execution_count": null,
   "metadata": {},
   "outputs": [],
   "source": []
  }
 ],
 "metadata": {
  "kernelspec": {
   "display_name": "Python 3",
   "language": "python",
   "name": "python3"
  },
  "language_info": {
   "codemirror_mode": {
    "name": "ipython",
    "version": 3
   },
   "file_extension": ".py",
   "mimetype": "text/x-python",
   "name": "python",
   "nbconvert_exporter": "python",
   "pygments_lexer": "ipython3",
   "version": "3.7.6"
  },
  "toc": {
   "base_numbering": 1,
   "nav_menu": {},
   "number_sections": true,
   "sideBar": true,
   "skip_h1_title": false,
   "title_cell": "Table of Contents",
   "title_sidebar": "Contents",
   "toc_cell": false,
   "toc_position": {},
   "toc_section_display": true,
   "toc_window_display": false
  }
 },
 "nbformat": 4,
 "nbformat_minor": 2
}
