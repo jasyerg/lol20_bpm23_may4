{
 "cells": [
  {
   "cell_type": "markdown",
   "metadata": {},
   "source": [
    "# Exercises: Dictionaries"
   ]
  },
  {
   "cell_type": "markdown",
   "metadata": {},
   "source": [
    "## Create a dictionary with the following:\n",
    "\n",
    "A) A dictionary (__dict1__) with the following key values:\n",
    "- Name: Clark\n",
    "- LastName: Kent\n",
    "\n",
    "B) A dictionary (__dict2__) with the following key values:\n",
    "- Name: Bruce \n",
    "- LastName: Wayne\n",
    "\n",
    "C) A dictionary (__dict3__) with the following key values:\n",
    "- Person1: dict1\n",
    "- Person2: dict2\n",
    "\n",
    "D) Print the LastName of Person1\n",
    "\n",
    "E) Replace the Name of Person2 with 'Batman'\n",
    "\n",
    "F) Add to Person1 the following key values:\n",
    "- Planet: Krypton\n",
    "\n",
    "G) Remove the Name from Person2\n",
    "\n",
    "H) Add a Person3 with the following:\n",
    "- Person3: {Superhero:WonderWoman}"
   ]
  },
  {
   "cell_type": "code",
   "execution_count": 20,
   "metadata": {},
   "outputs": [],
   "source": [
    "# A\n",
    "dict1 = {'Name':'Clark','LastName':'Kent'}"
   ]
  },
  {
   "cell_type": "code",
   "execution_count": 21,
   "metadata": {},
   "outputs": [],
   "source": [
    "# B\n",
    "dict2 = {'Name':'Bruce','LastName':'Wayne'}"
   ]
  },
  {
   "cell_type": "code",
   "execution_count": 23,
   "metadata": {},
   "outputs": [
    {
     "data": {
      "text/plain": [
       "{'Person1': {'Name': 'Clark', 'LastName': 'Kent'},\n",
       " 'Person2': {'Name': 'Bruce', 'LastName': 'Wayne'}}"
      ]
     },
     "execution_count": 23,
     "metadata": {},
     "output_type": "execute_result"
    }
   ],
   "source": [
    "# C\n",
    "dict3 = {'Person1':dict1,'Person2':dict2}\n",
    "dict3"
   ]
  },
  {
   "cell_type": "code",
   "execution_count": 24,
   "metadata": {},
   "outputs": [
    {
     "data": {
      "text/plain": [
       "'Kent'"
      ]
     },
     "execution_count": 24,
     "metadata": {},
     "output_type": "execute_result"
    }
   ],
   "source": [
    "# D\n",
    "dict3['Person1']['LastName']"
   ]
  },
  {
   "cell_type": "code",
   "execution_count": 25,
   "metadata": {},
   "outputs": [
    {
     "data": {
      "text/plain": [
       "{'Person1': {'Name': 'Clark', 'LastName': 'Kent'},\n",
       " 'Person2': {'Name': 'Batman', 'LastName': 'Wayne'}}"
      ]
     },
     "execution_count": 25,
     "metadata": {},
     "output_type": "execute_result"
    }
   ],
   "source": [
    "# E\n",
    "dict3['Person2']['Name'] = 'Batman'\n",
    "dict3"
   ]
  },
  {
   "cell_type": "code",
   "execution_count": 26,
   "metadata": {},
   "outputs": [
    {
     "data": {
      "text/plain": [
       "{'Person1': {'Name': 'Clark', 'LastName': 'Kent', 'Planet': 'Krypton'},\n",
       " 'Person2': {'Name': 'Batman', 'LastName': 'Wayne'}}"
      ]
     },
     "execution_count": 26,
     "metadata": {},
     "output_type": "execute_result"
    }
   ],
   "source": [
    "# F\n",
    "dict3['Person1']['Planet'] = 'Krypton'\n",
    "dict3"
   ]
  },
  {
   "cell_type": "code",
   "execution_count": 27,
   "metadata": {},
   "outputs": [
    {
     "data": {
      "text/plain": [
       "{'Person1': {'Name': 'Clark', 'LastName': 'Kent', 'Planet': 'Krypton'},\n",
       " 'Person2': {'LastName': 'Wayne'}}"
      ]
     },
     "execution_count": 27,
     "metadata": {},
     "output_type": "execute_result"
    }
   ],
   "source": [
    "# G\n",
    "del dict3['Person2']['Name']\n",
    "dict3"
   ]
  },
  {
   "cell_type": "code",
   "execution_count": 29,
   "metadata": {},
   "outputs": [
    {
     "data": {
      "text/plain": [
       "{'Person1': {'Name': 'Clark', 'LastName': 'Kent', 'Planet': 'Krypton'},\n",
       " 'Person2': {'LastName': 'Wayne'},\n",
       " 'Person3': {'Superhero': 'WonderWoman'}}"
      ]
     },
     "execution_count": 29,
     "metadata": {},
     "output_type": "execute_result"
    }
   ],
   "source": [
    "# H\n",
    "dict3['Person3'] = {'Superhero':'WonderWoman'}\n",
    "dict3"
   ]
  },
  {
   "cell_type": "code",
   "execution_count": null,
   "metadata": {},
   "outputs": [],
   "source": []
  }
 ],
 "metadata": {
  "kernelspec": {
   "display_name": "Python 3",
   "language": "python",
   "name": "python3"
  },
  "language_info": {
   "codemirror_mode": {
    "name": "ipython",
    "version": 3
   },
   "file_extension": ".py",
   "mimetype": "text/x-python",
   "name": "python",
   "nbconvert_exporter": "python",
   "pygments_lexer": "ipython3",
   "version": "3.6.8"
  },
  "toc": {
   "base_numbering": 1,
   "nav_menu": {},
   "number_sections": true,
   "sideBar": true,
   "skip_h1_title": false,
   "title_cell": "Table of Contents",
   "title_sidebar": "Contents",
   "toc_cell": false,
   "toc_position": {},
   "toc_section_display": true,
   "toc_window_display": true
  }
 },
 "nbformat": 4,
 "nbformat_minor": 2
}
