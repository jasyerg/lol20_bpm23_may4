{
 "cells": [
  {
   "cell_type": "markdown",
   "metadata": {},
   "source": [
    "# Exercises: Comprehensions"
   ]
  },
  {
   "cell_type": "markdown",
   "metadata": {},
   "source": [
    "## Conditional Comprehensions\n",
    "\n",
    "Write a list comprehension that converts all of the vowels in a string to uppercase and all of the consonants to lowercase.\n"
   ]
  },
  {
   "cell_type": "code",
   "execution_count": 11,
   "metadata": {
    "ExecuteTime": {
     "end_time": "2019-11-07T06:30:47.161387Z",
     "start_time": "2019-11-07T06:30:47.124801Z"
    }
   },
   "outputs": [
    {
     "name": "stdout",
     "output_type": "stream",
     "text": [
      "thE qUIck brOwn fOx jUmps OvEr thE lAzy dOg\n"
     ]
    }
   ],
   "source": [
    "string = \"the quick brown fox jumps over the lazy dog\"\n",
    "comp = [x.upper() if x in 'aeiou' else x for x in string]\n",
    "print(''.join(comp))"
   ]
  },
  {
   "cell_type": "markdown",
   "metadata": {},
   "source": [
    "## Pairwise Products\n",
    "\n",
    "Write a list comprehension that returns the product of corresponding integers in two lists with the same length."
   ]
  },
  {
   "cell_type": "code",
   "execution_count": 13,
   "metadata": {
    "ExecuteTime": {
     "end_time": "2019-11-07T06:32:22.995545Z",
     "start_time": "2019-11-07T06:32:22.972608Z"
    }
   },
   "outputs": [
    {
     "name": "stdout",
     "output_type": "stream",
     "text": [
      "[4, 10, 18, 28, 40]\n"
     ]
    }
   ],
   "source": [
    "list_1 = [1, 2, 3, 4, 5]\n",
    "list_2 = [4, 5, 6, 7, 8]\n",
    "list_3 = [x * y for x, y in zip(list_1, list_2)]\n",
    "print(list_3)"
   ]
  },
  {
   "cell_type": "markdown",
   "metadata": {
    "ExecuteTime": {
     "end_time": "2019-11-07T06:29:33.968847Z",
     "start_time": "2019-11-07T06:29:33.939876Z"
    }
   },
   "source": [
    "## Cached Functions\n",
    "\n",
    "Write a dictionary comprehension whose keys are integers from 1 to 100 that are divisible by 3, and whose values are their squares."
   ]
  },
  {
   "cell_type": "code",
   "execution_count": 14,
   "metadata": {
    "ExecuteTime": {
     "end_time": "2019-11-07T06:44:21.899805Z",
     "start_time": "2019-11-07T06:44:21.878250Z"
    }
   },
   "outputs": [
    {
     "data": {
      "text/plain": [
       "{3: 27,\n",
       " 6: 216,\n",
       " 9: 729,\n",
       " 12: 1728,\n",
       " 15: 3375,\n",
       " 18: 5832,\n",
       " 21: 9261,\n",
       " 24: 13824,\n",
       " 27: 19683,\n",
       " 30: 27000,\n",
       " 33: 35937,\n",
       " 36: 46656,\n",
       " 39: 59319,\n",
       " 42: 74088,\n",
       " 45: 91125,\n",
       " 48: 110592,\n",
       " 51: 132651,\n",
       " 54: 157464,\n",
       " 57: 185193,\n",
       " 60: 216000,\n",
       " 63: 250047,\n",
       " 66: 287496,\n",
       " 69: 328509,\n",
       " 72: 373248,\n",
       " 75: 421875,\n",
       " 78: 474552,\n",
       " 81: 531441,\n",
       " 84: 592704,\n",
       " 87: 658503,\n",
       " 90: 729000,\n",
       " 93: 804357,\n",
       " 96: 884736,\n",
       " 99: 970299}"
      ]
     },
     "execution_count": 14,
     "metadata": {},
     "output_type": "execute_result"
    }
   ],
   "source": [
    "{x: x**3 for x in range(1, 101) if x%3==0}"
   ]
  },
  {
   "cell_type": "markdown",
   "metadata": {},
   "source": [
    "## Name Hash Dictionary\n",
    "\n",
    "Recall the name hashing function from the Lecture 22 exercises.\n",
    "\n",
    "Write a dictionary comprehension that creates a dictionary whose keys are the name hashes and values are the full names (in one string) of the actors in these lists:"
   ]
  },
  {
   "cell_type": "code",
   "execution_count": 24,
   "metadata": {
    "ExecuteTime": {
     "end_time": "2019-11-07T07:15:24.048596Z",
     "start_time": "2019-11-07T07:15:23.993687Z"
    }
   },
   "outputs": [],
   "source": [
    "from hash import get_name_hash\n",
    "\n",
    "first =  ['Daniel', 'Billy', 'Jeffrey', 'Sarah', 'Sarah', 'Jennifer', 'Philip', 'Evan', 'Michael']\n",
    "middle = ['Day', 'Bob', 'Dean', 'Michelle', 'Jessica', 'Love', 'Seymour', 'Rachel', 'Clarke']\n",
    "last =   ['Lewis', 'Thornton', 'Morgan', 'Gellar', 'Parker', 'Hewitt', 'Hoffman', 'Wood', 'Duncan']"
   ]
  },
  {
   "cell_type": "code",
   "execution_count": 25,
   "metadata": {
    "ExecuteTime": {
     "end_time": "2019-11-07T07:15:24.925706Z",
     "start_time": "2019-11-07T07:15:24.912551Z"
    }
   },
   "outputs": [
    {
     "name": "stdout",
     "output_type": "stream",
     "text": [
      "{56.02551020408163: 'Daniel Day Lewis', 42.83984375: 'Billy Bob Thornton', 43.08650519031142: 'Jeffrey Dean Morgan', 31.3573407202216: 'Sarah Michelle Gellar', 49.987654320987644: 'Sarah Jessica Parker', 37.283950617283956: 'Jennifer Love Hewitt', 33.947500000000005: 'Philip Seymour Hoffman', 53.24489795918368: 'Evan Rachel Wood', 34.84764542936288: 'Michael Clarke Duncan'}\n"
     ]
    }
   ],
   "source": [
    "name_hashes = {get_name_hash(f+m+l): ' '.join([f, m, l]) for f, m, l in zip(first, middle, last)}\n",
    "print(name_hashes)"
   ]
  },
  {
   "cell_type": "markdown",
   "metadata": {},
   "source": [
    "## Set Comprehension with Overlaps\n",
    "\n",
    "Write a comprehension to get the set of all primes less than 100."
   ]
  },
  {
   "cell_type": "code",
   "execution_count": 23,
   "metadata": {
    "ExecuteTime": {
     "end_time": "2019-11-07T07:10:25.160347Z",
     "start_time": "2019-11-07T07:10:25.144950Z"
    }
   },
   "outputs": [
    {
     "data": {
      "text/plain": [
       "{2,\n",
       " 3,\n",
       " 5,\n",
       " 7,\n",
       " 11,\n",
       " 13,\n",
       " 17,\n",
       " 19,\n",
       " 23,\n",
       " 29,\n",
       " 31,\n",
       " 37,\n",
       " 41,\n",
       " 43,\n",
       " 47,\n",
       " 53,\n",
       " 59,\n",
       " 61,\n",
       " 67,\n",
       " 71,\n",
       " 73,\n",
       " 79,\n",
       " 83,\n",
       " 89,\n",
       " 97}"
      ]
     },
     "execution_count": 23,
     "metadata": {},
     "output_type": "execute_result"
    }
   ],
   "source": [
    "{x for x in range(2, 101) if all(x%y for y in range(2, min(x, 11)))}"
   ]
  },
  {
   "cell_type": "code",
   "execution_count": null,
   "metadata": {},
   "outputs": [],
   "source": []
  }
 ],
 "metadata": {
  "kernelspec": {
   "display_name": "Python 3",
   "language": "python",
   "name": "python3"
  },
  "language_info": {
   "codemirror_mode": {
    "name": "ipython",
    "version": 3
   },
   "file_extension": ".py",
   "mimetype": "text/x-python",
   "name": "python",
   "nbconvert_exporter": "python",
   "pygments_lexer": "ipython3",
   "version": "3.6.8"
  },
  "toc": {
   "base_numbering": 1,
   "nav_menu": {},
   "number_sections": true,
   "sideBar": true,
   "skip_h1_title": false,
   "title_cell": "Table of Contents",
   "title_sidebar": "Contents",
   "toc_cell": false,
   "toc_position": {},
   "toc_section_display": true,
   "toc_window_display": false
  }
 },
 "nbformat": 4,
 "nbformat_minor": 2
}
