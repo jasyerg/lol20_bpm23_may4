{
 "cells": [
  {
   "cell_type": "markdown",
   "metadata": {},
   "source": [
    "# Beginner Python and Math for Data Science\n",
    "## Lecture 22\n",
    "### Map, Filter and Reduce (OPTIONAL)"
   ]
  },
  {
   "cell_type": "markdown",
   "metadata": {},
   "source": [
    "__Purpose:__ The purpose of this lecture is to introduce the concepts of Map, Filter and Reduce\n",
    "\n",
    "__At the end of this lecture you will be able to:__\n",
    "> 1. Understand the map/filter/reduce functions\n",
    "> 2. Use map/filter/reduce functions in conjunction with Lambda Expressions\n"
   ]
  },
  {
   "cell_type": "markdown",
   "metadata": {},
   "source": [
    "## 1.1 Map, Filter, and Reduce Functions"
   ]
  },
  {
   "cell_type": "markdown",
   "metadata": {},
   "source": [
    "### 1.1.1 Map Functions"
   ]
  },
  {
   "cell_type": "markdown",
   "metadata": {},
   "source": [
    "__Overview:__\n",
    "- __[Map Function](https://docs.python.org/2/library/functions.html#map):__ Map is a built-in Python function and is useful for applying a function to every item of an `iterable` (i.e. sequence such as `list`, `str`, etc.) and returns a list of the results \n",
    "- The general form of the `map()` function is the following: `map(function, iterable, ...)`\n",
    "- Map functions make it easier to perform a function on every element of a sequence as opposed to wrapping this in a `for` loop and then applying the function on every iteration, for example (see Part 1 examples below) \n",
    "\n",
    "__Helpful Points:__\n",
    "1. The `map()` function can have more than one `iterable` passed into as long as the `function` requires this many arguments (see Part 3 examples below)\n",
    "2. If the `function` argument is `None`, the __[Identity Function](https://en.wikipedia.org/wiki/Identity_function)__ is assumed which returns the `iterable` as is (doesn't change its elements) \n",
    "3. Remember, Map Functions are commonly used in conjunction with Lambda Expressions (see Part 2 examples below)\n",
    "\n",
    "__Practice:__ Example of Map Functions in Python "
   ]
  },
  {
   "cell_type": "markdown",
   "metadata": {},
   "source": [
    "### Part 1 (Loop vs. Map Function):"
   ]
  },
  {
   "cell_type": "markdown",
   "metadata": {},
   "source": [
    "### Example 1.1 (Celsius to Fahrenheit):"
   ]
  },
  {
   "cell_type": "code",
   "execution_count": 1,
   "metadata": {},
   "outputs": [],
   "source": [
    "# define a function to convert celsius into fahrenheit \n",
    "def fahrenheit(cels):\n",
    "    return ((float(9/5)*cels + 32))"
   ]
  },
  {
   "cell_type": "code",
   "execution_count": 2,
   "metadata": {},
   "outputs": [],
   "source": [
    "temps_cels = [0, 32, 50, 100]"
   ]
  },
  {
   "cell_type": "code",
   "execution_count": 3,
   "metadata": {},
   "outputs": [
    {
     "name": "stdout",
     "output_type": "stream",
     "text": [
      "[32.0, 89.6, 122.0, 212.0]\n"
     ]
    }
   ],
   "source": [
    "# convert every element of the list to fahrenheit without map function\n",
    "temps_fahr = []\n",
    "for temps in temps_cels:\n",
    "    fahr = fahrenheit(temps) \n",
    "    temps_fahr.append(fahr)\n",
    "    \n",
    "print(temps_fahr)"
   ]
  },
  {
   "cell_type": "code",
   "execution_count": 4,
   "metadata": {},
   "outputs": [
    {
     "name": "stdout",
     "output_type": "stream",
     "text": [
      "<map object at 0x1049dc198>\n",
      "[32.0, 89.6, 122.0, 212.0]\n"
     ]
    }
   ],
   "source": [
    "# convert every element of the list to fahrenheit with map function\n",
    "print(map(fahrenheit, temps_cels))\n",
    "print(list(map(fahrenheit, temps_cels)))"
   ]
  },
  {
   "cell_type": "markdown",
   "metadata": {},
   "source": [
    "### Example 1.2 (Squared):"
   ]
  },
  {
   "cell_type": "code",
   "execution_count": 5,
   "metadata": {},
   "outputs": [],
   "source": [
    "# define a function to square a number\n",
    "def squared(num):\n",
    "    return num ** 2"
   ]
  },
  {
   "cell_type": "code",
   "execution_count": 6,
   "metadata": {},
   "outputs": [],
   "source": [
    "my_nums = [2, 3, 5, 10]"
   ]
  },
  {
   "cell_type": "code",
   "execution_count": 7,
   "metadata": {},
   "outputs": [
    {
     "name": "stdout",
     "output_type": "stream",
     "text": [
      "[4, 9, 25, 100]\n"
     ]
    }
   ],
   "source": [
    "# square every element of the list without map function\n",
    "squared_nums = []\n",
    "for num in my_nums:\n",
    "    squared_num = squared(num)\n",
    "    squared_nums.append(squared_num)\n",
    "\n",
    "print(squared_nums)"
   ]
  },
  {
   "cell_type": "code",
   "execution_count": 8,
   "metadata": {},
   "outputs": [
    {
     "name": "stdout",
     "output_type": "stream",
     "text": [
      "<map object at 0x1049dc358>\n",
      "[4, 9, 25, 100]\n"
     ]
    }
   ],
   "source": [
    "# square every element of the list with map function\n",
    "print(map(squared, my_nums))\n",
    "print(list(map(squared, my_nums)))"
   ]
  },
  {
   "cell_type": "markdown",
   "metadata": {},
   "source": [
    "### Part 2 (Map Function with Lambda Expression):\n",
    "\n",
    "- In the example above, we created (and named) a function using the `def` keyword. This allowed us to call on that function at any future point in the program\n",
    "- What if we created the same function, but anonymously (without a name) and just used it on an \"as-needed\" basis and \"threw it away\" when we were finished with it "
   ]
  },
  {
   "cell_type": "markdown",
   "metadata": {},
   "source": [
    "### Example 2.1 (Celsius to Fahrenheit):"
   ]
  },
  {
   "cell_type": "code",
   "execution_count": 9,
   "metadata": {},
   "outputs": [],
   "source": [
    "temps_cels = [0, 32, 50, 100]"
   ]
  },
  {
   "cell_type": "code",
   "execution_count": 10,
   "metadata": {},
   "outputs": [
    {
     "name": "stdout",
     "output_type": "stream",
     "text": [
      "[32.0, 89.6, 122.0, 212.0]\n"
     ]
    }
   ],
   "source": [
    "# map and lambda function\n",
    "print(list(map(lambda cels: float(9/5)*cels + 32, temps_cels)))"
   ]
  },
  {
   "cell_type": "markdown",
   "metadata": {},
   "source": [
    "Notes:\n",
    "- The `lambda` function is anonymous so it remains unnamed\n",
    "- The `lambda` function is the first argument into the `map` function \n",
    "- The `cels` variable is the input into the `lambda` function\n",
    "- The `temps_cels` variable is the second argument into the `map` function and indicates the `iterable` object in which you want to apply the `lambda` function to each of its elements"
   ]
  },
  {
   "cell_type": "markdown",
   "metadata": {},
   "source": [
    "### Example 2.2 (Squared):"
   ]
  },
  {
   "cell_type": "code",
   "execution_count": 11,
   "metadata": {},
   "outputs": [],
   "source": [
    "my_nums = [2, 3, 5, 10]"
   ]
  },
  {
   "cell_type": "code",
   "execution_count": 12,
   "metadata": {},
   "outputs": [
    {
     "name": "stdout",
     "output_type": "stream",
     "text": [
      "[4, 9, 25, 100]\n"
     ]
    }
   ],
   "source": [
    "# map and lambda function\n",
    "print(list(map(lambda num: num ** 2, my_nums)))"
   ]
  },
  {
   "cell_type": "markdown",
   "metadata": {},
   "source": [
    "It is clear in the above examples that this is a very efficient way of writing this program as we were able to save over 10 lines of code with a simple, one-line equivalent. In this one-line equivalent, the Lambda Function was not defined by name and we \"threw it away\" after that line, which means we can't access it outside that Lambda Expression"
   ]
  },
  {
   "cell_type": "markdown",
   "metadata": {},
   "source": [
    "### Part 3 (Multiple Arguments):"
   ]
  },
  {
   "cell_type": "markdown",
   "metadata": {},
   "source": [
    "### Example 3.1 (Adding 2 Sequences):"
   ]
  },
  {
   "cell_type": "code",
   "execution_count": 13,
   "metadata": {},
   "outputs": [],
   "source": [
    "# function to add two numbers\n",
    "def add(x, y):\n",
    "    return x + y"
   ]
  },
  {
   "cell_type": "code",
   "execution_count": 14,
   "metadata": {},
   "outputs": [],
   "source": [
    "x_list = [1, 5, 3]\n",
    "y_list = [2, 3, 4]"
   ]
  },
  {
   "cell_type": "code",
   "execution_count": 15,
   "metadata": {},
   "outputs": [
    {
     "name": "stdout",
     "output_type": "stream",
     "text": [
      "[3, 8, 7]\n"
     ]
    }
   ],
   "source": [
    "print(list(map(add, x_list, y_list))) # 2 arguments are required in the function so we can pass in 2 iterables "
   ]
  },
  {
   "cell_type": "markdown",
   "metadata": {},
   "source": [
    "The above example adds each element of the lists together, one element at a time (what does this remind you of?)"
   ]
  },
  {
   "cell_type": "markdown",
   "metadata": {},
   "source": [
    "### Part 4 (List of Functions):"
   ]
  },
  {
   "cell_type": "code",
   "execution_count": 16,
   "metadata": {},
   "outputs": [],
   "source": [
    "# define a function to multiply by 2\n",
    "def multi(num):\n",
    "    return num * 2\n",
    "\n",
    "# define a function to divide by 2\n",
    "def divide(num):\n",
    "    return num / 2"
   ]
  },
  {
   "cell_type": "code",
   "execution_count": 17,
   "metadata": {},
   "outputs": [
    {
     "name": "stdout",
     "output_type": "stream",
     "text": [
      "[4, 1.0]\n",
      "[8, 2.0]\n",
      "[12, 3.0]\n",
      "[16, 4.0]\n",
      "[20, 5.0]\n"
     ]
    }
   ],
   "source": [
    "# list of functions as the iterable object\n",
    "func_list = [multi, divide]\n",
    "\n",
    "for i in range(2, 11, 2):\n",
    "    res = list(map(lambda x: x(i), func_list))\n",
    "    print(res)"
   ]
  },
  {
   "cell_type": "markdown",
   "metadata": {},
   "source": [
    "This last example is very interesting. We can pass a function name (i.e. `multi`, and `divide`) as an argument into a Lambda Function. Recall the only stipulation with Lambda Functions was that it had to contain an expression and since a function evaluates to a number, this is valid for Lambda Functions. \n",
    "\n",
    "The interpretation is the following (for the first iteration):\n",
    "- At the first iteration, `i = 2`, so the statement reads: `res = list(map(lambda x: x(2), func_list))`, but `func_list` is a sequence of length 2, so the first element goes first: `lambda multi: multi(2)` which is evaluated as 4 and is the first element of the result. The second element goes next: `lambda divide: divide(2)` which is evaluated as 1.0 and is the second element of the result: `[4, 1.0]`"
   ]
  },
  {
   "cell_type": "markdown",
   "metadata": {},
   "source": [
    "### Problem 1: \n",
    "\n",
    "Write a program to take a sentence and return the number of letters in each word to a list. For example, if you have the sentence: \"Clark Kent is a superhero also known as Superman\", your program should return the following list: `[5, 4, 2, 1, 9, 4, 5, 2, 8]`\n",
    "\n",
    "- Show how you can do this using a `map` + `lambda` function, but also with a traditional function definition with `def` (although this may be redundant, show it anyways so you get used to comparing `def` with `lambda` style functions \n",
    "- Some hints:\n",
    "> 1. First, initialize the sentence as a variable then use an appropriate string method to split the sentence into words\n",
    "> 2. Then, calculate the length of each word and return this to a list "
   ]
  },
  {
   "cell_type": "code",
   "execution_count": null,
   "metadata": {},
   "outputs": [],
   "source": [
    "# Write your code here\n",
    "\n",
    "\n",
    "\n"
   ]
  },
  {
   "cell_type": "markdown",
   "metadata": {},
   "source": [
    "### 1.1.2 Filter Functions"
   ]
  },
  {
   "cell_type": "markdown",
   "metadata": {},
   "source": [
    "__Overview:__\n",
    "- __[Filter Function](https://docs.python.org/2/library/functions.html#filter):__ Filter is a built-in function and is useful for a constructing a list of elements from the `iterable` argument for which the `function` returned `True` (it filters out all the elements of the `iterable` that were evaluated as `False`)  \n",
    "- The general form of the `filter()` function is the following: `filter(function, iterable)`\n",
    "- The `function` used in the first argument must return a Boolean Value (`True` or `False`) \n",
    "- Similar to Map functions, Filter functions make it easier to perform a function on every element of a sequence as opposed to wrapping this in a `for` loop and then applying the function on every iteration, for example (see Part 1 examples below) \n",
    "\n",
    "__Helpful Points:__\n",
    "1. Similar to the Map function, if the `function` argument is `None`, the __[Identity Function](https://en.wikipedia.org/wiki/Identity_function)__ is assumed which returns the `iterable` as is (doesn't change its elements) \n",
    "2. Remember, Filter Functions are commonly used in conjunction with Lambda Expressions (see Part 2 examples below)\n",
    "\n",
    "__Practice:__ Example of Filter Functions in Python "
   ]
  },
  {
   "cell_type": "markdown",
   "metadata": {},
   "source": [
    "### Part 1 (Loop vs. Filter Function):"
   ]
  },
  {
   "cell_type": "markdown",
   "metadata": {},
   "source": [
    "### Example 1.1 (Greater than Value):"
   ]
  },
  {
   "cell_type": "code",
   "execution_count": 22,
   "metadata": {},
   "outputs": [],
   "source": [
    "# function to check if a value is greater than or equal to 3\n",
    "def over_3(num):\n",
    "    if num >= 3:\n",
    "        return True"
   ]
  },
  {
   "cell_type": "code",
   "execution_count": 23,
   "metadata": {},
   "outputs": [],
   "source": [
    "my_list = [2, 4, 10, 3, 1]"
   ]
  },
  {
   "cell_type": "code",
   "execution_count": 24,
   "metadata": {},
   "outputs": [
    {
     "name": "stdout",
     "output_type": "stream",
     "text": [
      "[4, 10, 3]\n"
     ]
    }
   ],
   "source": [
    "# filter the list so it contains only elements that are greater or equal than 3 without filter function\n",
    "over_3_list = []\n",
    "for num in my_list:\n",
    "    # check if function returns true\n",
    "    if over_3(num):\n",
    "        over_3_list.append(num)\n",
    "\n",
    "print(over_3_list)"
   ]
  },
  {
   "cell_type": "code",
   "execution_count": 25,
   "metadata": {},
   "outputs": [
    {
     "name": "stdout",
     "output_type": "stream",
     "text": [
      "[4, 10, 3]\n"
     ]
    }
   ],
   "source": [
    "# filter the list so it contains only elements that are greater or equal than 3 with filter function\n",
    "print(list(filter(over_3, my_list)))"
   ]
  },
  {
   "cell_type": "markdown",
   "metadata": {},
   "source": [
    "### Example 1.2 (Even Check):"
   ]
  },
  {
   "cell_type": "code",
   "execution_count": 26,
   "metadata": {},
   "outputs": [],
   "source": [
    "# function to check if a value is even\n",
    "def even(num):\n",
    "    if num % 2 == 0:\n",
    "        return True"
   ]
  },
  {
   "cell_type": "code",
   "execution_count": 27,
   "metadata": {},
   "outputs": [],
   "source": [
    "my_list = [2, 4, 10, 3, 1]"
   ]
  },
  {
   "cell_type": "code",
   "execution_count": 28,
   "metadata": {},
   "outputs": [
    {
     "name": "stdout",
     "output_type": "stream",
     "text": [
      "[2, 4, 10]\n"
     ]
    }
   ],
   "source": [
    "# filter the list so it contains only elements that are even without filter function\n",
    "even_list = []\n",
    "for num in my_list:\n",
    "    # check if function returns true\n",
    "    if even(num):\n",
    "        even_list.append(num)\n",
    "\n",
    "print(even_list)"
   ]
  },
  {
   "cell_type": "code",
   "execution_count": 29,
   "metadata": {},
   "outputs": [
    {
     "name": "stdout",
     "output_type": "stream",
     "text": [
      "[2, 4, 10]\n"
     ]
    }
   ],
   "source": [
    "# filter the list so it contains only elements that are even with filter function\n",
    "print(list(filter(even, my_list)))"
   ]
  },
  {
   "cell_type": "markdown",
   "metadata": {},
   "source": [
    "### Part 2 (Filter Function with Lambda Expression):\n",
    "\n",
    "- In the example above, we created (and named) a function using the `def` keyword. This allowed us to call on that function at any future point in the program\n",
    "- What if we created the same function, but anonymously (without a name) and just used it on an \"as-needed\" basis and \"threw it away\" when we were finished with it "
   ]
  },
  {
   "cell_type": "markdown",
   "metadata": {},
   "source": [
    "### Example 2.1 (Greater than Value):"
   ]
  },
  {
   "cell_type": "code",
   "execution_count": 30,
   "metadata": {},
   "outputs": [
    {
     "name": "stdout",
     "output_type": "stream",
     "text": [
      "[4, 10, 3]\n"
     ]
    }
   ],
   "source": [
    "print(list(filter(lambda num: num >= 3, my_list)))"
   ]
  },
  {
   "cell_type": "markdown",
   "metadata": {},
   "source": [
    "### Example 2.2 (Even):"
   ]
  },
  {
   "cell_type": "code",
   "execution_count": 31,
   "metadata": {},
   "outputs": [
    {
     "name": "stdout",
     "output_type": "stream",
     "text": [
      "[2, 4, 10]\n"
     ]
    }
   ],
   "source": [
    "print(list(filter(lambda num: num % 2 == 0, my_list)))"
   ]
  },
  {
   "cell_type": "markdown",
   "metadata": {},
   "source": [
    "### 1.1.3 Reduce Functions"
   ]
  },
  {
   "cell_type": "markdown",
   "metadata": {},
   "source": [
    "__Overview:__\n",
    "- __[Reduce Function](https://docs.python.org/2/library/functions.html#reduce):__ Reduce Function is useful for applying a function of 2 arguments cumulatively to the items of `iterable`, from left to right, so to reduce the iterable to a single value \n",
    "- The general form of the `reduce()` function is the following: `reduce(function, iterable)`\n",
    "- For a sequence `seq = [s1, s2, s3, ..., sn]`, calling `reduce(function, seq)` would result in the following operations: \n",
    "> 1. First 2 elements (s1, s2) are applied to the function (`func(s1, s2)`) and the list now becomes `[func(s1, s2), s3, ..., sn]`\n",
    "> 2. Result of 1 and the third element (func(s1, s2), s3) are applied to the function (`func(func(s1, s2), s3)`) and the list now becomes `[func(func(s1, s2), s3), ..., sn]`\n",
    "> 3. Continue like this until there is only one element left \n",
    "\n",
    "__Helpful Points:__\n",
    "1. Remember, Reduce Functions are commonly used in conjunction with Lambda Expressions (see Example 2 below)\n",
    "\n",
    "__Practice:__ Example of Reduce Functions in Python "
   ]
  },
  {
   "cell_type": "markdown",
   "metadata": {},
   "source": [
    "### Example 1 (Loop vs. Reduce Function):"
   ]
  },
  {
   "cell_type": "code",
   "execution_count": 32,
   "metadata": {},
   "outputs": [],
   "source": [
    "# function to calculate product \n",
    "def product_seq(num_1, num_2):\n",
    "    return num_1 * num_2"
   ]
  },
  {
   "cell_type": "code",
   "execution_count": 33,
   "metadata": {},
   "outputs": [],
   "source": [
    "my_list = [2, 4, 10, 3, 1]"
   ]
  },
  {
   "cell_type": "code",
   "execution_count": 34,
   "metadata": {},
   "outputs": [
    {
     "name": "stdout",
     "output_type": "stream",
     "text": [
      "240\n"
     ]
    }
   ],
   "source": [
    "# reduce the list to one number which is a rolling product without reduce function \n",
    "prod = 1 \n",
    "for num in my_list:\n",
    "    prod = product_seq(prod, num)\n",
    "\n",
    "print(prod)"
   ]
  },
  {
   "cell_type": "code",
   "execution_count": 35,
   "metadata": {},
   "outputs": [],
   "source": [
    "# import the reduce function from the functools module (recall this syntax from lecture 3)\n",
    "from functools import reduce"
   ]
  },
  {
   "cell_type": "code",
   "execution_count": 36,
   "metadata": {
    "scrolled": true
   },
   "outputs": [
    {
     "name": "stdout",
     "output_type": "stream",
     "text": [
      "240\n"
     ]
    }
   ],
   "source": [
    "# reduce the list to one number which is a rolling product with reduce function \n",
    "print(reduce(product_seq, [2, 4, 10, 3, 1]))"
   ]
  },
  {
   "cell_type": "markdown",
   "metadata": {},
   "source": [
    "### Example 2 (Reduce Function with Lambda Expression):\n",
    "\n",
    "- In the example above, we created (and named) a function using the `def` keyword. This allowed us to call on that function at any future point in the program\n",
    "- What if we created the same function, but anonymously (without a name) and just used it on an \"as-needed\" basis and \"threw it away\" when we were finished with it "
   ]
  },
  {
   "cell_type": "code",
   "execution_count": 37,
   "metadata": {},
   "outputs": [
    {
     "name": "stdout",
     "output_type": "stream",
     "text": [
      "113\n"
     ]
    }
   ],
   "source": [
    "my_list = [47, 11, 42, 13]\n",
    "print(reduce(lambda num_1, num_2: num_1 + num_2, my_list))"
   ]
  },
  {
   "cell_type": "markdown",
   "metadata": {},
   "source": [
    "Reduce Functions are easily visualized. In the above example, the following visualization illustrates what takes place: <img src=\"img22.png\">"
   ]
  },
  {
   "cell_type": "markdown",
   "metadata": {},
   "source": [
    "Interpretation:\n",
    "- For the sequence `seq = [47, 11, 42, 14]`, calling `reduce(function, seq)` results in the following operations: \n",
    "> 1. First 2 elements (47, 11) are applied to the function (`func(s1, s2)`) and the list now becomes `[58, 42, 13]`\n",
    "> 2. Result of 1 and the third element (58, 42) are applied to the function (`func(58, 42)`) and the list now becomes `[100, 13]`\n",
    "> 3. Result of 2 and the fourth element (100, 13) are applied to the function (`func(100, 13)`) and the list now becomes `[113]`\n",
    "> 4. Since the list only has one more value, the reduce operation is complete"
   ]
  },
  {
   "cell_type": "markdown",
   "metadata": {},
   "source": [
    "# ANSWERS"
   ]
  },
  {
   "cell_type": "markdown",
   "metadata": {},
   "source": [
    "### Problem 1: \n",
    "\n",
    "Write a program to take a sentence and return the number of letters in each word to a list. For example, if you have the sentence: \"Clark Kent is a superhero also known as Superman\", your program should return the following list: `[5, 4, 2, 1, 9, 4, 5, 2, 8]`\n",
    "\n",
    "- Show how you can do this using a `map` + `lambda` function, but also with a traditional function definition with `def` (although this may be redundant, show it anyways so you get used to comparing `def` with `lambda` style functions \n",
    "- Some hints:\n",
    "> 1. First, initialize the sentence as a variable then use an appropriate string method to split the sentence into words\n",
    "> 2. Then, calculate the length of each word and return this to a list "
   ]
  },
  {
   "cell_type": "code",
   "execution_count": 20,
   "metadata": {},
   "outputs": [
    {
     "name": "stdout",
     "output_type": "stream",
     "text": [
      "[5, 4, 2, 1, 9, 4, 5, 2, 8]\n"
     ]
    }
   ],
   "source": [
    "# Write your code here\n",
    "sentence = \"Clark Kent is a superhero also known as Superman\"\n",
    "words = sentence.split()\n",
    "\n",
    "lengths = list(map(lambda word: len(word), words))\n",
    "print(lengths)"
   ]
  },
  {
   "cell_type": "code",
   "execution_count": 21,
   "metadata": {},
   "outputs": [
    {
     "name": "stdout",
     "output_type": "stream",
     "text": [
      "[5, 4, 2, 1, 9, 4, 5, 2, 8]\n"
     ]
    }
   ],
   "source": [
    "# Write your code here\n",
    "def word_count(word):\n",
    "    return len(word)\n",
    "\n",
    "lengths = []\n",
    "for word in words:\n",
    "    lengths.append(word_count(word))\n",
    "\n",
    "print(lengths)"
   ]
  },
  {
   "cell_type": "code",
   "execution_count": null,
   "metadata": {},
   "outputs": [],
   "source": []
  }
 ],
 "metadata": {
  "kernelspec": {
   "display_name": "Python 3",
   "language": "python",
   "name": "python3"
  },
  "language_info": {
   "codemirror_mode": {
    "name": "ipython",
    "version": 3
   },
   "file_extension": ".py",
   "mimetype": "text/x-python",
   "name": "python",
   "nbconvert_exporter": "python",
   "pygments_lexer": "ipython3",
   "version": "3.6.8"
  },
  "toc": {
   "base_numbering": 1,
   "nav_menu": {},
   "number_sections": true,
   "sideBar": true,
   "skip_h1_title": false,
   "title_cell": "Table of Contents",
   "title_sidebar": "Contents",
   "toc_cell": false,
   "toc_position": {},
   "toc_section_display": true,
   "toc_window_display": false
  }
 },
 "nbformat": 4,
 "nbformat_minor": 2
}
