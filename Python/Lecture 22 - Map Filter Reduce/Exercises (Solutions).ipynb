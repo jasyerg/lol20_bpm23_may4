{
 "cells": [
  {
   "cell_type": "markdown",
   "metadata": {},
   "source": [
    "# Exercises: Map Filter Reduce"
   ]
  },
  {
   "cell_type": "markdown",
   "metadata": {},
   "source": [
    "## Data Types for `map`, `filter`, `reduce`\n",
    "\n",
    "Define `squares` to be a map that squares integers from 1 to 10. \n",
    "\n",
    "- What is the data type of `squares`? \n",
    "- What do you see when you print `squares`?"
   ]
  },
  {
   "cell_type": "code",
   "execution_count": 10,
   "metadata": {
    "ExecuteTime": {
     "end_time": "2019-11-06T08:03:21.611169Z",
     "start_time": "2019-11-06T08:03:21.569437Z"
    }
   },
   "outputs": [
    {
     "name": "stdout",
     "output_type": "stream",
     "text": [
      "<class 'map'>\n",
      "<map object at 0x103ce7c18>\n"
     ]
    }
   ],
   "source": [
    "squares = map(lambda x:x**2, range(1, 10))\n",
    "print(type(squares))\n",
    "print(squares)"
   ]
  },
  {
   "cell_type": "markdown",
   "metadata": {},
   "source": [
    "Now define `list_sq` as `list(squares)`. \n",
    "\n",
    "- What is the type of `list_sq`? \n",
    "- What do you get when you print it?"
   ]
  },
  {
   "cell_type": "code",
   "execution_count": 11,
   "metadata": {
    "ExecuteTime": {
     "end_time": "2019-11-06T08:05:16.106231Z",
     "start_time": "2019-11-06T08:05:16.089383Z"
    }
   },
   "outputs": [
    {
     "name": "stdout",
     "output_type": "stream",
     "text": [
      "<class 'list'>\n",
      "[1, 4, 9, 16, 25, 36, 49, 64, 81]\n"
     ]
    }
   ],
   "source": [
    "list_sq = list(squares)\n",
    "print(type(list_sq))\n",
    "print(list_sq)"
   ]
  },
  {
   "cell_type": "markdown",
   "metadata": {},
   "source": [
    "Now let's just look at the odd squared values. \n",
    "\n",
    "- Call `filter` on `squares` to get just the odd values.\n",
    "- Load the result into a list and print it.\n",
    "- How many odd squares do you see?"
   ]
  },
  {
   "cell_type": "code",
   "execution_count": 14,
   "metadata": {
    "ExecuteTime": {
     "end_time": "2019-11-06T08:08:52.066213Z",
     "start_time": "2019-11-06T08:08:52.013738Z"
    }
   },
   "outputs": [
    {
     "data": {
      "text/plain": [
       "[]"
      ]
     },
     "execution_count": 14,
     "metadata": {},
     "output_type": "execute_result"
    }
   ],
   "source": [
    "list(filter(lambda x: x % 2 != 0, squares))"
   ]
  },
  {
   "cell_type": "markdown",
   "metadata": {},
   "source": [
    "What happened to our odd squares? When we created `list_sq` a few cells above, the `list` function unpacked our `map`. We can no longer generate values from `squares`. Let's try this again.\n",
    "\n",
    "Apply our filter to `list_sq` instead of `squares`.\n",
    "- Load the result into a list and print it.\n",
    "- Now how many odd squares do you see?"
   ]
  },
  {
   "cell_type": "code",
   "execution_count": 15,
   "metadata": {
    "ExecuteTime": {
     "end_time": "2019-11-06T08:11:20.490724Z",
     "start_time": "2019-11-06T08:11:20.462370Z"
    }
   },
   "outputs": [
    {
     "data": {
      "text/plain": [
       "[1, 9, 25, 49, 81]"
      ]
     },
     "execution_count": 15,
     "metadata": {},
     "output_type": "execute_result"
    }
   ],
   "source": [
    "list(filter(lambda x: x % 2 != 0, list_sq))"
   ]
  },
  {
   "cell_type": "markdown",
   "metadata": {},
   "source": [
    "## A Map/Filter/Reduce Hash Function\n",
    "\n",
    "A hash function is any function that can be used to map data of arbitrary size to fixed-size values. The values returned by a hash function are called hash values, hash codes, digests, or simply hashes. The values are used to index a fixed-size table called a hash table.\n",
    "\n",
    "In computer science, hash tables are used to store data in a way that supports very fast value lookups. When a new value is added to a hash table, a hash value is calculated and used as the index for that object in the table. Then when we check the table to see if it contains a particular value, it calculates the hash value and searches that part of the table, instead of having to search the entire table (which may be computationally expensive if the table is very large).\n",
    "\n",
    "We are going to use map, filter, and reduce to create a hash function for strings of arbitrary length."
   ]
  },
  {
   "cell_type": "markdown",
   "metadata": {},
   "source": [
    "### Strings to Lists\n",
    "\n",
    "Create a string from your full name.\n",
    "\n",
    "Initialize a list with this string. What values does this list contain?"
   ]
  },
  {
   "cell_type": "code",
   "execution_count": 1,
   "metadata": {
    "ExecuteTime": {
     "end_time": "2019-11-06T07:54:49.433429Z",
     "start_time": "2019-11-06T07:54:49.378141Z"
    }
   },
   "outputs": [
    {
     "data": {
      "text/plain": [
       "['C',\n",
       " 'l',\n",
       " 'i',\n",
       " 'f',\n",
       " 'f',\n",
       " 'o',\n",
       " 'r',\n",
       " 'd',\n",
       " ' ',\n",
       " 'C',\n",
       " 'l',\n",
       " 'a',\n",
       " 'r',\n",
       " 'k',\n",
       " ' ',\n",
       " 'C',\n",
       " 'l',\n",
       " 'i',\n",
       " 'v',\n",
       " 'e']"
      ]
     },
     "execution_count": 1,
     "metadata": {},
     "output_type": "execute_result"
    }
   ],
   "source": [
    "my_name = \"Clifford Clark Clive\"\n",
    "list(my_name)"
   ]
  },
  {
   "cell_type": "markdown",
   "metadata": {},
   "source": [
    "### Maps and Lambdas\n",
    "\n",
    "We don't actually need to use the list of characters we just made; but looking at a string converted to a list illustrates that Python treats strings as a type of _sequence_ of individual characters. In other words, strings are iterable objects, and we can apply map, filter, and reduce to them.\n",
    "\n",
    "Using `map`, convert your name string to a list of only lowercase characters. Note that  `.lower()` is a string method, so it can't just be plugged into the first parameter of a call to `map`. You will have to use a lambda function to do this conversion."
   ]
  },
  {
   "cell_type": "code",
   "execution_count": 2,
   "metadata": {
    "ExecuteTime": {
     "end_time": "2019-11-06T07:54:49.444001Z",
     "start_time": "2019-11-06T07:54:49.437422Z"
    }
   },
   "outputs": [],
   "source": [
    "my_name_lower = list(map(lambda x: x.lower(), my_name))"
   ]
  },
  {
   "cell_type": "markdown",
   "metadata": {},
   "source": [
    "### ASCII names\n",
    "\n",
    "Using `map` and `ord`, which converts characters into their ASCII values, create a list of the ASCII values of each character in your name string."
   ]
  },
  {
   "cell_type": "code",
   "execution_count": 3,
   "metadata": {
    "ExecuteTime": {
     "end_time": "2019-11-06T07:54:49.473103Z",
     "start_time": "2019-11-06T07:54:49.453985Z"
    }
   },
   "outputs": [
    {
     "data": {
      "text/plain": [
       "[99,\n",
       " 108,\n",
       " 105,\n",
       " 102,\n",
       " 102,\n",
       " 111,\n",
       " 114,\n",
       " 100,\n",
       " 32,\n",
       " 99,\n",
       " 108,\n",
       " 97,\n",
       " 114,\n",
       " 107,\n",
       " 32,\n",
       " 99,\n",
       " 108,\n",
       " 105,\n",
       " 118,\n",
       " 101]"
      ]
     },
     "execution_count": 3,
     "metadata": {},
     "output_type": "execute_result"
    }
   ],
   "source": [
    "my_ascii_name = list(map(ord, my_name_lower))\n",
    "my_ascii_name"
   ]
  },
  {
   "cell_type": "markdown",
   "metadata": {},
   "source": [
    "### Just the letters\n",
    "\n",
    "Use the `filter` function to remove the ASCII values for white spaces in your name. The ASCII character for a single white space is 32. You'll need to use a lambda function to identify characters with this value.\n",
    "\n",
    "(If you included tabs or line breaks in your name, start over and don't be cheeky.)"
   ]
  },
  {
   "cell_type": "code",
   "execution_count": 4,
   "metadata": {
    "ExecuteTime": {
     "end_time": "2019-11-06T07:54:49.488441Z",
     "start_time": "2019-11-06T07:54:49.478948Z"
    }
   },
   "outputs": [
    {
     "data": {
      "text/plain": [
       "[99,\n",
       " 108,\n",
       " 105,\n",
       " 102,\n",
       " 102,\n",
       " 111,\n",
       " 114,\n",
       " 100,\n",
       " 99,\n",
       " 108,\n",
       " 97,\n",
       " 114,\n",
       " 107,\n",
       " 99,\n",
       " 108,\n",
       " 105,\n",
       " 118,\n",
       " 101]"
      ]
     },
     "execution_count": 4,
     "metadata": {},
     "output_type": "execute_result"
    }
   ],
   "source": [
    "my_ascii_letters = list(filter(lambda x: x != 32, my_ascii_name))\n",
    "my_ascii_letters"
   ]
  },
  {
   "cell_type": "markdown",
   "metadata": {},
   "source": [
    "### ASCII Mean\n",
    "\n",
    "For our name hash function, we're going to calculate the variance of the characters' ASCII values. First use `reduce` and `len` to calculate the mean of these values. (Use `len` to get the length of your ASCII name list and save it as `N`, we'll need it again soon.) \n",
    "\n",
    "Recall that `reduce` works with a function that takes two inputs and returns one value, and applies it cumulatively to the items in a sequence. How would you use `reduce` to calculate a sum of a list of numbers?"
   ]
  },
  {
   "cell_type": "code",
   "execution_count": 5,
   "metadata": {
    "ExecuteTime": {
     "end_time": "2019-11-06T07:54:49.518986Z",
     "start_time": "2019-11-06T07:54:49.496331Z"
    }
   },
   "outputs": [
    {
     "data": {
      "text/plain": [
       "105.38888888888889"
      ]
     },
     "execution_count": 5,
     "metadata": {},
     "output_type": "execute_result"
    }
   ],
   "source": [
    "from functools import reduce\n",
    "\n",
    "N = len(my_ascii_letters)\n",
    "my_ascii_mean = reduce(lambda x, y: x + y, my_ascii_letters) / N\n",
    "\n",
    "my_ascii_mean"
   ]
  },
  {
   "cell_type": "markdown",
   "metadata": {},
   "source": [
    "### ASCII Variance\n",
    "\n",
    "Variance is calculated as the mean squared deviation. A deviation is the difference between a value and the population mean. Use `map`, and the mean you just calculated, to create a list of each deviation, squared, in your list of ASCII characters."
   ]
  },
  {
   "cell_type": "code",
   "execution_count": 6,
   "metadata": {
    "ExecuteTime": {
     "end_time": "2019-11-06T07:54:49.550112Z",
     "start_time": "2019-11-06T07:54:49.530019Z"
    }
   },
   "outputs": [
    {
     "data": {
      "text/plain": [
       "[40.81790123456786,\n",
       " 6.817901234567918,\n",
       " 0.1512345679012321,\n",
       " 11.484567901234547,\n",
       " 11.484567901234547,\n",
       " 31.484567901234602,\n",
       " 74.15123456790128,\n",
       " 29.040123456790088,\n",
       " 40.81790123456786,\n",
       " 6.817901234567918,\n",
       " 70.3734567901234,\n",
       " 74.15123456790128,\n",
       " 2.595679012345689,\n",
       " 40.81790123456786,\n",
       " 6.817901234567918,\n",
       " 0.1512345679012321,\n",
       " 159.0401234567902,\n",
       " 19.262345679012316]"
      ]
     },
     "execution_count": 6,
     "metadata": {},
     "output_type": "execute_result"
    }
   ],
   "source": [
    "my_squared_devs = list(map((lambda x: (x - my_ascii_mean)**2), my_ascii_letters))\n",
    "my_squared_devs"
   ]
  },
  {
   "cell_type": "markdown",
   "metadata": {
    "ExecuteTime": {
     "end_time": "2019-11-06T02:08:00.920393Z",
     "start_time": "2019-11-06T02:08:00.911069Z"
    }
   },
   "source": [
    "Now use `reduce` and `N` to calculate the mean of your squared deviations... This is the variance of the ASCII values of the letters in your name.\n",
    "\n",
    "You're almost there!"
   ]
  },
  {
   "cell_type": "code",
   "execution_count": 7,
   "metadata": {
    "ExecuteTime": {
     "end_time": "2019-11-06T07:54:49.572701Z",
     "start_time": "2019-11-06T07:54:49.554570Z"
    }
   },
   "outputs": [
    {
     "data": {
      "text/plain": [
       "34.79320987654321"
      ]
     },
     "execution_count": 7,
     "metadata": {},
     "output_type": "execute_result"
    }
   ],
   "source": [
    "my_name_hash = reduce(lambda x, y: x + y, my_squared_devs) / N\n",
    "my_name_hash"
   ]
  },
  {
   "cell_type": "markdown",
   "metadata": {},
   "source": [
    "### Name Hash Function\n",
    "\n",
    "Now put the code from all of the above steps into a single hash function. Make sure that it returns the same hash you just calculated. \n",
    "\n",
    "Then use it to calculate the hash for \"James Earl Jones\". You should get a value of 36.67857142857143.\n",
    "\n",
    "- You can call `map`, `filter`, or `reduce` on a `map` or a `filter` object without first converting it into a list (but not on the output of `reduce`, which is a number, not a sequence).\n",
    "\n",
    "- When you pack all of the above steps into a single function, your code will be more readable if you don't call `list` on any of the intermediate values... except you'll have to call it for one. \n",
    "\n",
    "- Since `len` only works on lists and not on `filter` objects, you will have to make a list of your ASCII letters with white spaces filtered out. "
   ]
  },
  {
   "cell_type": "code",
   "execution_count": 8,
   "metadata": {
    "ExecuteTime": {
     "end_time": "2019-11-06T07:54:49.621840Z",
     "start_time": "2019-11-06T07:54:49.584267Z"
    }
   },
   "outputs": [],
   "source": [
    "def get_name_hash(name):\n",
    "    name_lower = map(lambda x: x.lower(), name)\n",
    "    ascii_name = map(ord, name_lower)\n",
    "    \n",
    "    ascii_letters = list(filter(lambda x: x != 32, ascii_name))\n",
    "    N = len(ascii_letters)\n",
    "\n",
    "    ascii_mean = reduce(lambda x, y: x + y, ascii_letters) / N\n",
    "    squared_devs = map((lambda x: (x - ascii_mean)**2), ascii_letters)\n",
    "    name_hash = reduce(lambda x, y: x + y, squared_devs) / N\n",
    "    return name_hash"
   ]
  },
  {
   "cell_type": "code",
   "execution_count": 9,
   "metadata": {
    "ExecuteTime": {
     "end_time": "2019-11-06T07:54:49.730091Z",
     "start_time": "2019-11-06T07:54:49.635665Z"
    }
   },
   "outputs": [
    {
     "name": "stdout",
     "output_type": "stream",
     "text": [
      "34.79320987654321\n",
      "36.67857142857143\n"
     ]
    }
   ],
   "source": [
    "print(get_name_hash(my_name))\n",
    "print(get_name_hash(\"James Earl Jones\"))"
   ]
  }
 ],
 "metadata": {
  "kernelspec": {
   "display_name": "Python 3",
   "language": "python",
   "name": "python3"
  },
  "language_info": {
   "codemirror_mode": {
    "name": "ipython",
    "version": 3
   },
   "file_extension": ".py",
   "mimetype": "text/x-python",
   "name": "python",
   "nbconvert_exporter": "python",
   "pygments_lexer": "ipython3",
   "version": "3.6.8"
  },
  "toc": {
   "base_numbering": 1,
   "nav_menu": {},
   "number_sections": true,
   "sideBar": true,
   "skip_h1_title": false,
   "title_cell": "Table of Contents",
   "title_sidebar": "Contents",
   "toc_cell": false,
   "toc_position": {},
   "toc_section_display": true,
   "toc_window_display": true
  }
 },
 "nbformat": 4,
 "nbformat_minor": 2
}
