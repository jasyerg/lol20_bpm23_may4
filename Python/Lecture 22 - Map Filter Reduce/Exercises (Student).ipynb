{
 "cells": [
  {
   "cell_type": "markdown",
   "metadata": {},
   "source": [
    "# Exercises: Map Filter Reduce"
   ]
  },
  {
   "cell_type": "markdown",
   "metadata": {},
   "source": [
    "## Data Types for `map`, `filter`, `reduce`\n",
    "\n",
    "Define `squares` to be a map that squares integers from 1 to 10. \n",
    "\n",
    "- What is the data type of `squares`? \n",
    "- What do you see when you print `squares`?"
   ]
  },
  {
   "cell_type": "code",
   "execution_count": null,
   "metadata": {
    "ExecuteTime": {
     "end_time": "2019-11-06T08:03:21.611169Z",
     "start_time": "2019-11-06T08:03:21.569437Z"
    }
   },
   "outputs": [],
   "source": [
    "squares = map()\n",
    "print(type(squares))\n",
    "print(squares)"
   ]
  },
  {
   "cell_type": "markdown",
   "metadata": {},
   "source": [
    "Now define `list_sq` as `list(squares)`. \n",
    "\n",
    "- What is the type of `list_sq`? \n",
    "- What do you get when you print it?"
   ]
  },
  {
   "cell_type": "code",
   "execution_count": null,
   "metadata": {
    "ExecuteTime": {
     "end_time": "2019-11-06T08:05:16.106231Z",
     "start_time": "2019-11-06T08:05:16.089383Z"
    }
   },
   "outputs": [],
   "source": []
  },
  {
   "cell_type": "markdown",
   "metadata": {},
   "source": [
    "Now let's just look at the odd squared values. \n",
    "\n",
    "- Call `filter` on `squares` to get just the odd values.\n",
    "- Load the result into a list and print it.\n",
    "- How many odd squares do you see?"
   ]
  },
  {
   "cell_type": "code",
   "execution_count": null,
   "metadata": {
    "ExecuteTime": {
     "end_time": "2019-11-06T08:08:52.066213Z",
     "start_time": "2019-11-06T08:08:52.013738Z"
    }
   },
   "outputs": [],
   "source": []
  },
  {
   "cell_type": "markdown",
   "metadata": {},
   "source": [
    "What happened to our odd squares? When we created `list_sq` a few cells above, the `list` function unpacked our `map`. We can no longer generate values from `squares`. Let's try this again.\n",
    "\n",
    "Apply our filter to `list_sq` instead of `squares`.\n",
    "- Load the result into a list and print it.\n",
    "- Now how many odd squares do you see?"
   ]
  },
  {
   "cell_type": "code",
   "execution_count": null,
   "metadata": {
    "ExecuteTime": {
     "end_time": "2019-11-06T08:11:20.490724Z",
     "start_time": "2019-11-06T08:11:20.462370Z"
    }
   },
   "outputs": [],
   "source": []
  },
  {
   "cell_type": "markdown",
   "metadata": {},
   "source": [
    "### Note on Generators\n",
    "\n",
    "It's important to remember that `map` and `filter` return generator objects. You can use these in functions like `list`, `map`, and `filter` once, but then they will not contain any more values. \n",
    "\n",
    "So if you initialize a list from a map, that map cannot be used again. You can call `filter` on a `map` object, but only one time. You cannot call `filter` on a `map` object that has already been used to initialize a list.\n",
    "\n",
    "If you are using a sequence of `map` and `filter` calls, you can do so without making lists from the outputs. But if you do make lists (to inspect the outputs, for example), you will have to then apply later `map` and `filter` calls to those lists. "
   ]
  },
  {
   "cell_type": "markdown",
   "metadata": {},
   "source": [
    "## A Map/Filter/Reduce Hash Function\n",
    "\n",
    "A hash function is any function that can be used to map data of arbitrary size to fixed-size values. The values returned by a hash function are called hash values, hash codes, digests, or simply hashes. The values are used to index a fixed-size table called a hash table.\n",
    "\n",
    "In computer science, hash tables are used to store data in a way that supports very fast value lookups. When a new value is added to a hash table, a hash value is calculated and used as the index for that object in the table. Then when we check the table to see if it contains a particular value, it calculates the hash value and searches that part of the table, instead of having to search the entire table (which may be computationally expensive if the table is very large).\n",
    "\n",
    "We are going to use map, filter, and reduce to create a hash function for strings of arbitrary length."
   ]
  },
  {
   "cell_type": "markdown",
   "metadata": {},
   "source": [
    "### Strings to Lists\n",
    "\n",
    "Create a string from your full name.\n",
    "\n",
    "Initialize a list with this string. What values does this list contain?"
   ]
  },
  {
   "cell_type": "code",
   "execution_count": null,
   "metadata": {
    "ExecuteTime": {
     "end_time": "2019-11-06T07:54:49.433429Z",
     "start_time": "2019-11-06T07:54:49.378141Z"
    }
   },
   "outputs": [],
   "source": [
    "name = \n",
    "list(name)"
   ]
  },
  {
   "cell_type": "markdown",
   "metadata": {},
   "source": [
    "### Maps and Lambdas\n",
    "\n",
    "We don't actually need to use the list of characters we just made; but looking at a string converted to a list illustrates that Python treats strings as a type of _sequence_ of individual characters. In other words, strings are iterable objects, and we can apply map, filter, and reduce to them.\n",
    "\n",
    "Using `map`, convert your name string to a list of only lowercase characters. Note that  `.lower()` is a string method, so it can't just be plugged into the first parameter of a call to `map`. You will have to use a lambda function to do this conversion."
   ]
  },
  {
   "cell_type": "code",
   "execution_count": null,
   "metadata": {
    "ExecuteTime": {
     "end_time": "2019-11-06T07:54:49.444001Z",
     "start_time": "2019-11-06T07:54:49.437422Z"
    }
   },
   "outputs": [],
   "source": [
    "name_lower = list(map(lambda x: ... , name ))"
   ]
  },
  {
   "cell_type": "markdown",
   "metadata": {},
   "source": [
    "### ASCII names\n",
    "\n",
    "Using `map` and `ord`, which converts characters into their ASCII values, create a list of the ASCII values of each character in your name string."
   ]
  },
  {
   "cell_type": "code",
   "execution_count": null,
   "metadata": {
    "ExecuteTime": {
     "end_time": "2019-11-06T07:54:49.473103Z",
     "start_time": "2019-11-06T07:54:49.453985Z"
    }
   },
   "outputs": [],
   "source": [
    "ascii_name = list(map( ... , name_lower))\n",
    "ascii_name"
   ]
  },
  {
   "cell_type": "markdown",
   "metadata": {},
   "source": [
    "### Just the letters\n",
    "\n",
    "Use the `filter` function to remove the ASCII values for white spaces in your name. The ASCII character for a single white space is 32. You'll need to use a lambda function to identify characters with this value.\n",
    "\n",
    "(If you included tabs or line breaks in your name, start over and don't be cheeky.)"
   ]
  },
  {
   "cell_type": "code",
   "execution_count": null,
   "metadata": {
    "ExecuteTime": {
     "end_time": "2019-11-06T07:54:49.488441Z",
     "start_time": "2019-11-06T07:54:49.478948Z"
    }
   },
   "outputs": [],
   "source": [
    "ascii_letters = list(filter( ... , ascii_name))\n",
    "ascii_letters"
   ]
  },
  {
   "cell_type": "markdown",
   "metadata": {},
   "source": [
    "### ASCII Mean\n",
    "\n",
    "For our name hash function, we're going to calculate the variance of the characters' ASCII values. First use `reduce` and `len` to calculate the mean of these values. (Use `len` to get the length of your ASCII name list and save it as `N`, we'll need it again soon.) \n",
    "\n",
    "Recall that `reduce` works with a function that takes two inputs and returns one value, and applies it cumulatively to the items in a sequence. How would you use `reduce` to calculate a sum of a list of numbers?"
   ]
  },
  {
   "cell_type": "code",
   "execution_count": null,
   "metadata": {
    "ExecuteTime": {
     "end_time": "2019-11-06T07:54:49.518986Z",
     "start_time": "2019-11-06T07:54:49.496331Z"
    }
   },
   "outputs": [],
   "source": [
    "from functools import reduce\n",
    "\n",
    "N = len(ascii_letters)\n",
    "ascii_mean = reduce(lambda x, y: ... , ascii_letters) / N\n",
    "\n",
    "ascii_mean"
   ]
  },
  {
   "cell_type": "markdown",
   "metadata": {},
   "source": [
    "### ASCII Variance\n",
    "\n",
    "Variance is calculated as the mean squared deviation. A deviation is the difference between a value and the population mean. Use `map`, and the mean you just calculated, to create a list of each deviation, squared, in your list of ASCII characters."
   ]
  },
  {
   "cell_type": "code",
   "execution_count": null,
   "metadata": {
    "ExecuteTime": {
     "end_time": "2019-11-06T07:54:49.550112Z",
     "start_time": "2019-11-06T07:54:49.530019Z"
    }
   },
   "outputs": [],
   "source": [
    "squared_devs = list(map(lambda x: ... , ascii_letters))"
   ]
  },
  {
   "cell_type": "markdown",
   "metadata": {
    "ExecuteTime": {
     "end_time": "2019-11-06T02:08:00.920393Z",
     "start_time": "2019-11-06T02:08:00.911069Z"
    }
   },
   "source": [
    "Now use `reduce` and `N` to calculate the mean of your squared deviations... This is the variance of the ASCII values of the letters in your name.\n",
    "\n",
    "You're almost there!"
   ]
  },
  {
   "cell_type": "code",
   "execution_count": null,
   "metadata": {
    "ExecuteTime": {
     "end_time": "2019-11-06T07:54:49.572701Z",
     "start_time": "2019-11-06T07:54:49.554570Z"
    }
   },
   "outputs": [],
   "source": [
    "name_hash = reduce(lambda x, y: ... , squared_devs) / N\n",
    "name_hash"
   ]
  },
  {
   "cell_type": "markdown",
   "metadata": {},
   "source": [
    "### Name Hash Function\n",
    "\n",
    "Now put the code from all of the above steps into a single hash function. Make sure that it returns the same hash you just calculated. \n",
    "\n",
    "Then use it to calculate the hash for \"James Earl Jones\". You should get a value of 36.67857142857143.\n",
    "\n",
    "- You can call `map`, `filter`, or `reduce` on a `map` or a `filter` object without first converting it into a list (but not on the output of `reduce`, which is a number, not a sequence).\n",
    "\n",
    "- When you pack all of the above steps into a single function, your code will be more readable if you don't call `list` on any of the intermediate values... except you'll have to call it for one. \n",
    "\n",
    "- Since `len` only works on lists and not on `filter` objects, you will have to make a list of your ASCII letters with white spaces filtered out. "
   ]
  },
  {
   "cell_type": "code",
   "execution_count": null,
   "metadata": {
    "ExecuteTime": {
     "end_time": "2019-11-06T07:54:49.621840Z",
     "start_time": "2019-11-06T07:54:49.584267Z"
    }
   },
   "outputs": [],
   "source": [
    "def get_name_hash(name):\n",
    "    name_lower = map()\n",
    "    ascii_name = map()\n",
    "    \n",
    "    ascii_letters = list(filter())\n",
    "    N = len(ascii_letters)\n",
    "\n",
    "    ascii_mean = reduce() / N\n",
    "    squared_devs = map()\n",
    "    name_hash = reduce() / N\n",
    "    return name_hash"
   ]
  },
  {
   "cell_type": "code",
   "execution_count": null,
   "metadata": {
    "ExecuteTime": {
     "end_time": "2019-11-06T07:54:49.730091Z",
     "start_time": "2019-11-06T07:54:49.635665Z"
    }
   },
   "outputs": [],
   "source": [
    "print(get_name_hash(my_name))\n",
    "print(get_name_hash(\"James Earl Jones\"))"
   ]
  }
 ],
 "metadata": {
  "kernelspec": {
   "display_name": "Python 3",
   "language": "python",
   "name": "python3"
  },
  "language_info": {
   "codemirror_mode": {
    "name": "ipython",
    "version": 3
   },
   "file_extension": ".py",
   "mimetype": "text/x-python",
   "name": "python",
   "nbconvert_exporter": "python",
   "pygments_lexer": "ipython3",
   "version": "3.6.8"
  },
  "toc": {
   "base_numbering": 1,
   "nav_menu": {},
   "number_sections": true,
   "sideBar": true,
   "skip_h1_title": false,
   "title_cell": "Table of Contents",
   "title_sidebar": "Contents",
   "toc_cell": false,
   "toc_position": {},
   "toc_section_display": true,
   "toc_window_display": true
  }
 },
 "nbformat": 4,
 "nbformat_minor": 2
}
