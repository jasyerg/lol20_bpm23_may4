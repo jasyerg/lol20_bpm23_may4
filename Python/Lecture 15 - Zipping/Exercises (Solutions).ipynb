{
 "cells": [
  {
   "cell_type": "markdown",
   "metadata": {},
   "source": [
    "# Exercises: Zipping and Unzipping"
   ]
  },
  {
   "cell_type": "markdown",
   "metadata": {},
   "source": [
    "## Size of small zipped objects\n",
    "- Create two lists, one containing the characters 'a', 'b', 'c', and one containing the numbers 1, 2, 3. \n",
    "- Zip these two lists together.\n",
    "- What is the type of this zipped variable?\n",
    "- What is its size in bytes?\n",
    "- What are the sizes of the lists of characters and numbers?"
   ]
  },
  {
   "cell_type": "code",
   "execution_count": 37,
   "metadata": {
    "ExecuteTime": {
     "end_time": "2019-11-03T05:30:36.589601Z",
     "start_time": "2019-11-03T05:30:36.574449Z"
    }
   },
   "outputs": [
    {
     "name": "stdout",
     "output_type": "stream",
     "text": [
      "<class 'zip'>\n",
      "64\n",
      "88\n",
      "88\n"
     ]
    }
   ],
   "source": [
    "from sys import getsizeof\n",
    "\n",
    "list_a = ['a', 'b', 'c']\n",
    "list_1 = [1, 2, 3]\n",
    "zip_a1 = zip(list_a, list_1)\n",
    "print(type(zip_a1))\n",
    "print(getsizeof(zip_a1))\n",
    "print(getsizeof(list_a))\n",
    "print(getsizeof(list_1))"
   ]
  },
  {
   "cell_type": "markdown",
   "metadata": {},
   "source": [
    "## Size of large zipped objects\n",
    "- Create a list containing the numbers from 0 to 100,000.\n",
    "- Create a list containing the numbers from 100,000 to 200,000.\n",
    "- Zip these two lists together.\n",
    "- (Do not overwrite the previous lists or zip.)\n",
    "- (If you use range() to create these lists -- which is highly recommended -- be sure to convert the ranges into lists before zipping.)\n",
    "- What is its size of this zipped variable in bytes?\n",
    "- What are the sizes of the lists of characters and numbers?"
   ]
  },
  {
   "cell_type": "code",
   "execution_count": 38,
   "metadata": {
    "ExecuteTime": {
     "end_time": "2019-11-03T05:30:47.263222Z",
     "start_time": "2019-11-03T05:30:47.251415Z"
    }
   },
   "outputs": [
    {
     "name": "stdout",
     "output_type": "stream",
     "text": [
      "64\n",
      "900112\n",
      "900112\n"
     ]
    }
   ],
   "source": [
    "list_100K = list(range(     0, 100000))\n",
    "list_200K = list(range(100000, 200000))\n",
    "zip_1200K = zip(list_100K, list_200K)\n",
    "print(getsizeof(zip_1200K))\n",
    "print(getsizeof(list_100K))\n",
    "print(getsizeof(list_200K))"
   ]
  },
  {
   "cell_type": "markdown",
   "metadata": {
    "ExecuteTime": {
     "end_time": "2019-11-03T04:37:48.147901Z",
     "start_time": "2019-11-03T04:37:48.138709Z"
    }
   },
   "source": [
    "## What is a `zip` object?\n",
    "\n",
    "- How large is the second zip compared to the first one?\n",
    "- How many items are in each zip?\n",
    "- What's going on here?"
   ]
  },
  {
   "cell_type": "markdown",
   "metadata": {
    "ExecuteTime": {
     "end_time": "2019-11-03T04:46:51.104942Z",
     "start_time": "2019-11-03T04:46:51.086563Z"
    }
   },
   "source": [
    "The two `zip` objects are the same size.\n",
    "\n",
    "Neither `zip` contains any items. A zip does not contain any data; it is a generator. It is a map to one or more sequences and it yields items from each sequence when it is called by another "
   ]
  },
  {
   "cell_type": "markdown",
   "metadata": {},
   "source": [
    "## Size of unzipped objects\n",
    "- Re-run the cells that created your `zip` objects to make sure they are in their original state.\n",
    "- Unzip your two zip objects into lists.\n",
    "- What is the size (in bytes) of the first list?\n",
    "- What is the size (in bytes) of the second list?"
   ]
  },
  {
   "cell_type": "code",
   "execution_count": 39,
   "metadata": {
    "ExecuteTime": {
     "end_time": "2019-11-03T05:30:51.391665Z",
     "start_time": "2019-11-03T05:30:51.371826Z"
    }
   },
   "outputs": [
    {
     "name": "stdout",
     "output_type": "stream",
     "text": [
      "112\n",
      "879840\n"
     ]
    }
   ],
   "source": [
    "print(getsizeof(list(zip_a1)))\n",
    "print(getsizeof(list(zip_1200K)))"
   ]
  },
  {
   "cell_type": "markdown",
   "metadata": {},
   "source": [
    "## Unzip them again\n",
    "- Unzip your two zip objects into two new lists.\n",
    "- What is the size of these new lists?\n",
    "- What's going on now?"
   ]
  },
  {
   "cell_type": "code",
   "execution_count": 40,
   "metadata": {
    "ExecuteTime": {
     "end_time": "2019-11-03T05:31:51.210904Z",
     "start_time": "2019-11-03T05:31:51.205937Z"
    }
   },
   "outputs": [
    {
     "name": "stdout",
     "output_type": "stream",
     "text": [
      "64\n",
      "64\n"
     ]
    }
   ],
   "source": [
    "print(getsizeof(list(zip_a1)))\n",
    "print(getsizeof(list(zip_1200K)))"
   ]
  },
  {
   "cell_type": "markdown",
   "metadata": {},
   "source": [
    "After a `zip` variable is unzipped, it has yielded all of its data; it doesn't point to any more values."
   ]
  },
  {
   "cell_type": "markdown",
   "metadata": {},
   "source": [
    "## `zip` Party Tricks\n",
    "\n",
    "Let's explore some weirdness with `zip` objects.\n",
    "\n",
    "- Create a list with a mix of strings and integers. Call it `random_list_1`.\n",
    "- Create another list, `random_list_2` with a different number of objects of any type.\n",
    "- Create a new list, `temp_list_1`, consisting of `random_list_1` and three other objects.\n",
    "- Create a new lists, `temp_list_2`, consisting of `random_list_2` and three other objects.\n",
    "- What is the length of `temp_list_1`? of `temp_list_2`?\n",
    "- Zip `temp_list_1` and `temp_list_2` into a zip object called `zip_missing`.\n",
    "- Delete `temp_list_1` and `temp_list_2`.\n",
    "- What do you expect to happen if you unzip `zip_missing`?\n",
    "- What do you get when you unzip `zip_missing` into a list called `ta_daaa`?\n",
    "- What values are currently in `temp_list_1` and `temp_list_2`?\n",
    "- What values are currently in `random_list_1` and `random_list_2`?\n",
    "- Unzip `zip_missing` into a list called `oops`... what values does `oops` contain?"
   ]
  },
  {
   "cell_type": "code",
   "execution_count": 42,
   "metadata": {
    "ExecuteTime": {
     "end_time": "2019-11-03T05:45:48.938194Z",
     "start_time": "2019-11-03T05:45:48.925650Z"
    }
   },
   "outputs": [
    {
     "name": "stdout",
     "output_type": "stream",
     "text": [
      "4\n",
      "4\n"
     ]
    }
   ],
   "source": [
    "random_list_1 = ['a', 'brown', 'car', 1, 5]\n",
    "random_list_2 = [{'a':1, 'b':2, 'c':3}, 'zeppelin', 3.1415926]\n",
    "temp_list_1 = [random_list_1, 2, 3, 4]\n",
    "temp_list_2 = [random_list_2, 'x', 'y', 'z']\n",
    "print(len(temp_list_1))\n",
    "print(len(temp_list_2))\n",
    "zip_missing = zip(temp_list_1, temp_list_2)\n",
    "del temp_list_1\n",
    "del temp_list_2"
   ]
  },
  {
   "cell_type": "markdown",
   "metadata": {
    "ExecuteTime": {
     "end_time": "2019-11-03T05:22:57.395627Z",
     "start_time": "2019-11-03T05:22:57.389823Z"
    }
   },
   "source": [
    "Expectations may vary... there's no right or wrong answer here."
   ]
  },
  {
   "cell_type": "code",
   "execution_count": 43,
   "metadata": {
    "ExecuteTime": {
     "end_time": "2019-11-03T05:45:53.220419Z",
     "start_time": "2019-11-03T05:45:53.212154Z"
    }
   },
   "outputs": [
    {
     "name": "stdout",
     "output_type": "stream",
     "text": [
      "[(['a', 'brown', 'car', 1, 5], [{'a': 1, 'b': 2, 'c': 3}, 'zeppelin', 3.1415926]), (2, 'x'), (3, 'y'), (4, 'z')]\n"
     ]
    }
   ],
   "source": [
    "ta_daaa = list(zip_missing)\n",
    "print(ta_daaa)"
   ]
  },
  {
   "cell_type": "code",
   "execution_count": 44,
   "metadata": {
    "ExecuteTime": {
     "end_time": "2019-11-03T05:46:05.913558Z",
     "start_time": "2019-11-03T05:46:05.893923Z"
    }
   },
   "outputs": [
    {
     "ename": "NameError",
     "evalue": "name 'temp_list_1' is not defined",
     "output_type": "error",
     "traceback": [
      "\u001b[0;31m---------------------------------------------------------------------------\u001b[0m",
      "\u001b[0;31mNameError\u001b[0m                                 Traceback (most recent call last)",
      "\u001b[0;32m<ipython-input-44-527f31a94320>\u001b[0m in \u001b[0;36m<module>\u001b[0;34m\u001b[0m\n\u001b[0;32m----> 1\u001b[0;31m \u001b[0mprint\u001b[0m\u001b[0;34m(\u001b[0m\u001b[0mtemp_list_1\u001b[0m\u001b[0;34m)\u001b[0m\u001b[0;34m\u001b[0m\u001b[0;34m\u001b[0m\u001b[0m\n\u001b[0m\u001b[1;32m      2\u001b[0m \u001b[0mprint\u001b[0m\u001b[0;34m(\u001b[0m\u001b[0mtemp_list_2\u001b[0m\u001b[0;34m)\u001b[0m\u001b[0;34m\u001b[0m\u001b[0;34m\u001b[0m\u001b[0m\n",
      "\u001b[0;31mNameError\u001b[0m: name 'temp_list_1' is not defined"
     ]
    }
   ],
   "source": [
    "print(temp_list_1)\n",
    "print(temp_list_2)"
   ]
  },
  {
   "cell_type": "code",
   "execution_count": 45,
   "metadata": {
    "ExecuteTime": {
     "end_time": "2019-11-03T05:46:38.684400Z",
     "start_time": "2019-11-03T05:46:38.675057Z"
    }
   },
   "outputs": [
    {
     "name": "stdout",
     "output_type": "stream",
     "text": [
      "['a', 'brown', 'car', 1, 5]\n",
      "[{'a': 1, 'b': 2, 'c': 3}, 'zeppelin', 3.1415926]\n"
     ]
    }
   ],
   "source": [
    "print(random_list_1)\n",
    "print(random_list_2)"
   ]
  },
  {
   "cell_type": "code",
   "execution_count": 46,
   "metadata": {
    "ExecuteTime": {
     "end_time": "2019-11-03T05:47:02.686021Z",
     "start_time": "2019-11-03T05:47:02.679760Z"
    }
   },
   "outputs": [
    {
     "name": "stdout",
     "output_type": "stream",
     "text": [
      "[]\n"
     ]
    }
   ],
   "source": [
    "oops = list(zip_missing)\n",
    "print(oops)"
   ]
  },
  {
   "cell_type": "markdown",
   "metadata": {},
   "source": [
    "## Triple zips and for loops\n",
    "\n",
    "The main cast of the original Avengers team is:\n",
    "- Robert Downey Jr. as Iron Man\n",
    "- Chris Evans as Captain America\n",
    "- Mark Ruffalo as The Hulk\n",
    "- Chris Hemsworth as Thor\n",
    "- Scarlett Johansson as Black Widow\n",
    "- Jeremy Renner as Hawkeye\n",
    "\n",
    "Create three lists, one with the actors' first names, one with their last names (use Downey Jr. for Robert's last name), and one with the super hero names. Use a zip expression inside a for loop expression to print the string `In the Avengers movies, {Avenger} is played by {first name} {last name}.` for each member of the team."
   ]
  },
  {
   "cell_type": "code",
   "execution_count": 47,
   "metadata": {
    "ExecuteTime": {
     "end_time": "2019-11-03T05:56:16.387024Z",
     "start_time": "2019-11-03T05:56:16.364396Z"
    }
   },
   "outputs": [
    {
     "name": "stdout",
     "output_type": "stream",
     "text": [
      "In the Avengers movies, Iron Man is played by Robert Downey Jr..\n",
      "In the Avengers movies, Captain America is played by Chris Evans.\n",
      "In the Avengers movies, The Hulk is played by Mark Ruffalo.\n",
      "In the Avengers movies, Thor is played by Chris Hemsworth.\n",
      "In the Avengers movies, Black Widow is played by Scarlett Johansson.\n",
      "In the Avengers movies, Hawkeye is played by Jeremy Renner.\n"
     ]
    }
   ],
   "source": [
    "first_names = ['Robert', 'Chris', 'Mark', 'Chris', 'Scarlett', 'Jeremy']\n",
    "last_names = ['Downey Jr', 'Evans', 'Ruffalo', 'Hemsworth', 'Johansson', 'Renner']\n",
    "super_heroes = ['Iron Man', 'Captain America', 'The Hulk', 'Thor', 'Black Widow', 'Hawkeye']\n",
    "\n",
    "sentence = 'In the Avengers movies, {0} is played by {1} {2}.'\n",
    "for first, last, hero in zip(first_names, last_names, super_heroes):\n",
    "    print(sentence.format(hero, first, last))"
   ]
  }
 ],
 "metadata": {
  "kernelspec": {
   "display_name": "Python 3",
   "language": "python",
   "name": "python3"
  },
  "language_info": {
   "codemirror_mode": {
    "name": "ipython",
    "version": 3
   },
   "file_extension": ".py",
   "mimetype": "text/x-python",
   "name": "python",
   "nbconvert_exporter": "python",
   "pygments_lexer": "ipython3",
   "version": "3.6.8"
  },
  "toc": {
   "base_numbering": 1,
   "nav_menu": {},
   "number_sections": true,
   "sideBar": true,
   "skip_h1_title": false,
   "title_cell": "Table of Contents",
   "title_sidebar": "Contents",
   "toc_cell": false,
   "toc_position": {},
   "toc_section_display": true,
   "toc_window_display": false
  }
 },
 "nbformat": 4,
 "nbformat_minor": 2
}
