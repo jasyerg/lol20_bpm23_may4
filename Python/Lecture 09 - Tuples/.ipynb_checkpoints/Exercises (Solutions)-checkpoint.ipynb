{
 "cells": [
  {
   "cell_type": "markdown",
   "metadata": {},
   "source": [
    "# Exercises: Tuples"
   ]
  },
  {
   "cell_type": "markdown",
   "metadata": {},
   "source": [
    "## Tuple creation, updates, and usage\n",
    "\n",
    "Create a tuple that has the following values 21, 'Roberto', 177.5\n",
    "\n",
    "A) Assign the three values to the following three variable names: Name, Height and Age using packing/unpacking.\n",
    "\n",
    "B) Fix the assignments above by updating the variable to contain Age = 21, Name = 'Roberto' and Height = 177.5 using packing/unpacking.\n",
    "\n",
    "C) Add the first and last elements of the tuple.\n",
    "\n",
    "D) From the tuple create a list that contains the last and first values to obtain [177.5, 21]"
   ]
  },
  {
   "cell_type": "code",
   "execution_count": 48,
   "metadata": {},
   "outputs": [
    {
     "name": "stdout",
     "output_type": "stream",
     "text": [
      "21 Roberto 177.5\n"
     ]
    }
   ],
   "source": [
    "my_tuple = (21,'Roberto',177.5)\n",
    "\n",
    "# A\n",
    "Name, Height, Age = my_tuple\n",
    "\n",
    "print(Name, Height, Age)"
   ]
  },
  {
   "cell_type": "code",
   "execution_count": 49,
   "metadata": {},
   "outputs": [
    {
     "name": "stdout",
     "output_type": "stream",
     "text": [
      "Roberto 177.5 21\n"
     ]
    }
   ],
   "source": [
    "# B\n",
    "Name, Height, Age = Height, Age, Name\n",
    "print(Name, Height, Age)"
   ]
  },
  {
   "cell_type": "code",
   "execution_count": 50,
   "metadata": {},
   "outputs": [
    {
     "data": {
      "text/plain": [
       "198.5"
      ]
     },
     "execution_count": 50,
     "metadata": {},
     "output_type": "execute_result"
    }
   ],
   "source": [
    "# C\n",
    "my_tuple[0] + my_tuple[2]"
   ]
  },
  {
   "cell_type": "code",
   "execution_count": 54,
   "metadata": {},
   "outputs": [
    {
     "data": {
      "text/plain": [
       "[177.5, 21]"
      ]
     },
     "execution_count": 54,
     "metadata": {},
     "output_type": "execute_result"
    }
   ],
   "source": [
    "# D\n",
    "list(my_tuple[::-2])"
   ]
  },
  {
   "cell_type": "code",
   "execution_count": null,
   "metadata": {},
   "outputs": [],
   "source": []
  }
 ],
 "metadata": {
  "kernelspec": {
   "display_name": "Python 3",
   "language": "python",
   "name": "python3"
  },
  "language_info": {
   "codemirror_mode": {
    "name": "ipython",
    "version": 3
   },
   "file_extension": ".py",
   "mimetype": "text/x-python",
   "name": "python",
   "nbconvert_exporter": "python",
   "pygments_lexer": "ipython3",
   "version": "3.7.6"
  },
  "toc": {
   "base_numbering": 1,
   "nav_menu": {},
   "number_sections": true,
   "sideBar": true,
   "skip_h1_title": false,
   "title_cell": "Table of Contents",
   "title_sidebar": "Contents",
   "toc_cell": false,
   "toc_position": {},
   "toc_section_display": true,
   "toc_window_display": true
  }
 },
 "nbformat": 4,
 "nbformat_minor": 2
}
