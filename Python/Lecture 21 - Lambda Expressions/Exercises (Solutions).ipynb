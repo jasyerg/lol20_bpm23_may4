{
 "cells": [
  {
   "cell_type": "markdown",
   "metadata": {},
   "source": [
    "# Exercises: Lambda Expressions"
   ]
  },
  {
   "cell_type": "markdown",
   "metadata": {},
   "source": [
    "## Linear relationships\n",
    "\n",
    "A linear relationship is a function of the form $y = mx + b$.\n",
    "\n",
    "For example, recall the temperature conversion formulas:\n",
    "- $C = (F – 32) * 5/9$\n",
    "- $C = K – 273.15$\n",
    "- $F = (C * 9/5) + 32$\n",
    "- $F = (K – 273.15) * 9/5 + 32$\n",
    "- $K = (F − 32) × 5/9 + 273.15$\n",
    "- $K = C + 273.15$\n",
    "\n",
    "Write a function that uses a lambda expression to create linear functions, given values of `m` and `b` (that is, the function takes inputs `m` and `b`, and the return statement uses a lambda expression to output a linear function)."
   ]
  },
  {
   "cell_type": "code",
   "execution_count": 1,
   "metadata": {
    "ExecuteTime": {
     "end_time": "2019-11-04T07:31:49.794952Z",
     "start_time": "2019-11-04T07:31:49.724257Z"
    }
   },
   "outputs": [],
   "source": [
    "def linear_converter(m, b):\n",
    "    return lambda x: m * x + b"
   ]
  },
  {
   "cell_type": "markdown",
   "metadata": {},
   "source": [
    "Use that function to create 6 functions (`c_to_f`, `c_to_k`, etc.) for each of the above temperature conversions. You may or may not need to apply some algebra to these formulas to get this part to work."
   ]
  },
  {
   "cell_type": "code",
   "execution_count": 13,
   "metadata": {
    "ExecuteTime": {
     "end_time": "2019-11-04T07:46:18.070416Z",
     "start_time": "2019-11-04T07:46:18.060818Z"
    }
   },
   "outputs": [],
   "source": [
    "c_to_f = linear_converter(9/5, 32)\n",
    "c_to_k = linear_converter(1, 273.15)\n",
    "f_to_c = linear_converter(5/9, -32 * 5/9)\n",
    "f_to_k = linear_converter(5/9, -32 * 5/9 + 273.15)\n",
    "k_to_c = linear_converter(1, -273.15)\n",
    "k_to_f = linear_converter(9/5, -273 * 9/5 + 32)"
   ]
  },
  {
   "cell_type": "markdown",
   "metadata": {},
   "source": [
    "Test your conversion functions by making sure the following `assert` statements pass with no errors."
   ]
  },
  {
   "cell_type": "code",
   "execution_count": 16,
   "metadata": {
    "ExecuteTime": {
     "end_time": "2019-11-04T07:46:29.499247Z",
     "start_time": "2019-11-04T07:46:29.493749Z"
    }
   },
   "outputs": [],
   "source": [
    "assert round(c_to_f(22), 2) == 71.60\n",
    "assert round(c_to_k(22), 2) == 295.15\n",
    "assert round(f_to_c(98), 2) == 36.67\n",
    "assert round(f_to_k(98), 2) == 309.82\n",
    "assert round(k_to_c(365), 2) == 91.85\n",
    "assert round(k_to_f(365), 2) == 197.60"
   ]
  }
 ],
 "metadata": {
  "kernelspec": {
   "display_name": "Python 3",
   "language": "python",
   "name": "python3"
  },
  "language_info": {
   "codemirror_mode": {
    "name": "ipython",
    "version": 3
   },
   "file_extension": ".py",
   "mimetype": "text/x-python",
   "name": "python",
   "nbconvert_exporter": "python",
   "pygments_lexer": "ipython3",
   "version": "3.6.8"
  },
  "toc": {
   "base_numbering": 1,
   "nav_menu": {},
   "number_sections": true,
   "sideBar": true,
   "skip_h1_title": false,
   "title_cell": "Table of Contents",
   "title_sidebar": "Contents",
   "toc_cell": false,
   "toc_position": {},
   "toc_section_display": true,
   "toc_window_display": false
  }
 },
 "nbformat": 4,
 "nbformat_minor": 2
}
