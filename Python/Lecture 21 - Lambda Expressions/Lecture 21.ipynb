{
 "cells": [
  {
   "cell_type": "markdown",
   "metadata": {},
   "source": [
    "# Beginner Python and Math for Data Science\n",
    "## Lecture 21\n",
    "### Lambda Expressions (OPTIONAL)"
   ]
  },
  {
   "cell_type": "markdown",
   "metadata": {},
   "source": [
    "__Purpose:__ Introduce Lambda expressions\n",
    "\n",
    "__At the end of this lecture you will be able to:__\n",
    "> 1. Understand Lambda Expressions and use them to write functions"
   ]
  },
  {
   "cell_type": "markdown",
   "metadata": {},
   "source": [
    "### 4.1 Lambda Expressions"
   ]
  },
  {
   "cell_type": "markdown",
   "metadata": {},
   "source": [
    "### 4.1.1 What are Lambda Expressions?"
   ]
  },
  {
   "cell_type": "markdown",
   "metadata": {},
   "source": [
    "__Overview:__\n",
    "- __[Lambda Expressions](https://docs.python.org/3/tutorial/controlflow.html#lambda-expressions):__ Lambda Expressions are small, anonymous functions that can be created with the `lambda` keyword  \n",
    "- Lambda Expressions are just another tool for building functions. In summary, we can build a function in Python using one of the following methods:\n",
    "> 1. `def` keyword as we saw in functions\n",
    "> 2. `lambda` keyword as explained here\n",
    "- Functions built using Lambda Expressions have a few dominating characteristics:\n",
    "> 1. __Anonymous:__ Lambda Functions are __[Anonymous Functions](https://en.wikipedia.org/wiki/Anonymous_function)__ which means they do not require a name to be used immediately and can be developed without a proper definition (like we needed with `def` in functions)\n",
    "> 2. __Ad-Hoc:__ Lambda Functions are used in an \"ad-hoc\" fashion. This means that we only create the function when we need it, use it immediately, and never use it again\n",
    "> 3. __Short:__ Lambda Functions support only minimal input, requiring that the body of the function is short\n",
    "- Lambda Expressions are NOT mandatory and we can definitely do without them, but in some scenarios they can be useful for writing cleaner and more efficient code \n",
    "\n",
    "__Helpful Points:__\n",
    "1. Many programming languages support Anonymous Functions in different forms, while Python supports it using the `lambda` form\n",
    "2. Lambda Expressions are most beneficial when used in conjunction with the functions `map()`, `filter()`, and `reduce()` which are covered in subsequent sections"
   ]
  },
  {
   "cell_type": "markdown",
   "metadata": {},
   "source": [
    "### 4.1.2 Lambda Expressions in Python:"
   ]
  },
  {
   "cell_type": "markdown",
   "metadata": {},
   "source": [
    "__Overview:__\n",
    "- In general, Functions using Lambda Expressions can be written in Python using the following syntax: `func_name = lambda input : <expression>` vs. a Function using the `def` keyword: `def func_name(input): return <expression>`\n",
    "- The reason why Lambda Functions are anonymous is because we don't need to assign the Lambda Function to a variable, per se: `lambda input : <expression>` \n",
    "- Notice the differences between a function built with the `lambda` keyword and a function built with the `def` keyword: \n",
    "> 1. No `return` statement in Lambda Functions (it is there, but only implicitly) \n",
    "> 2. Lambda Functions are ALWAYS one-line, whereas traditional functions are not \n",
    "- In practice, Lambda Expressions can accept the following (basically anything that can be used on the right-hand side of the equal `=` sign): \n",
    "> 1. Mathematical operations (i.e adding, subtracting, multiplying, etc.)\n",
    "> 2. String operations (i.e. slicing `[:]`)\n",
    "> 3. Any Function (i.e. `print()`)\n",
    "> 4. Conditional Expressions (i.e. \"large\" if x > 100 else \"small\")\n",
    "- In practice, Lambda Expressions can NOT accept the following (basically anything that does not return a value):\n",
    "> 1. Assignment statements (i.e. x = 1)\n",
    "> 2. Multiple Expressions (i.e. `print()` and slicing `[:]`)\n",
    "\n",
    "__Helpful Points:__\n",
    "1. Lambdas are restrictive because, strictly speaking, they can take only a single __[expression](https://docs.python.org/3/reference/expressions.html)__ (expressions \"represent\" something like a number or string and any value is an expression vs. a __[statement](https://docs.python.org/2/reference/simple_stmts.html)__ which is \"doing\" something like assigning a value to some variable)\n",
    "2. Lambda Functions can also take multiple inputs (just like tradtional functions) in the following way: `lambda input_1, input_2: <expression>`\n",
    "\n",
    "__Practice:__ Examples of Lambda Expressions in Python"
   ]
  },
  {
   "cell_type": "markdown",
   "metadata": {},
   "source": [
    "### Part 1 (Functions using `def` and `lambda`):"
   ]
  },
  {
   "cell_type": "markdown",
   "metadata": {},
   "source": [
    "### Example 1.1 (Square Number):"
   ]
  },
  {
   "cell_type": "code",
   "execution_count": null,
   "metadata": {},
   "outputs": [],
   "source": [
    "# function to square a number using def\n",
    "def square_def(num):\n",
    "    return num ** 2"
   ]
  },
  {
   "cell_type": "code",
   "execution_count": null,
   "metadata": {},
   "outputs": [],
   "source": [
    "square_def(5)"
   ]
  },
  {
   "cell_type": "code",
   "execution_count": null,
   "metadata": {},
   "outputs": [],
   "source": [
    "# function to square a number using lambda\n",
    "lambda num: num ** 2 # we don't name this function (thus, anonymous)"
   ]
  },
  {
   "cell_type": "code",
   "execution_count": null,
   "metadata": {},
   "outputs": [],
   "source": [
    "square_lambda = lambda num: num ** 2"
   ]
  },
  {
   "cell_type": "code",
   "execution_count": null,
   "metadata": {},
   "outputs": [],
   "source": [
    "square_lambda(5)"
   ]
  },
  {
   "cell_type": "markdown",
   "metadata": {},
   "source": [
    "### Example 1.2 (Add Numbers):"
   ]
  },
  {
   "cell_type": "code",
   "execution_count": null,
   "metadata": {},
   "outputs": [],
   "source": [
    "# function to add two numbers using def \n",
    "def add_nums_def(num_1, num_2):\n",
    "    return num_1 + num_2"
   ]
  },
  {
   "cell_type": "code",
   "execution_count": null,
   "metadata": {},
   "outputs": [],
   "source": [
    "add_nums_def(30, 4)"
   ]
  },
  {
   "cell_type": "code",
   "execution_count": null,
   "metadata": {},
   "outputs": [],
   "source": [
    "# function to add two numbers using lambda\n",
    "lambda num_1, num_2: num_1 + num_2"
   ]
  },
  {
   "cell_type": "code",
   "execution_count": null,
   "metadata": {},
   "outputs": [],
   "source": [
    "add_nums_lambda = lambda num_1, num_2: num_1 + num_2"
   ]
  },
  {
   "cell_type": "code",
   "execution_count": null,
   "metadata": {},
   "outputs": [],
   "source": [
    "add_nums_lambda(30, 4)"
   ]
  },
  {
   "cell_type": "markdown",
   "metadata": {},
   "source": [
    "### Part 2 (Proper Usage of Lambda Functions):\n",
    "\n",
    "- Recall, in order to be part of a Lambda Function, it has to be an expression (i.e. has to evaluate to something)"
   ]
  },
  {
   "cell_type": "markdown",
   "metadata": {},
   "source": [
    "### Example 2.1 (Expression 1):"
   ]
  },
  {
   "cell_type": "code",
   "execution_count": null,
   "metadata": {},
   "outputs": [],
   "source": [
    "5%2 == 0 # evaluates to a Boolean value so it is okay for a Lambda "
   ]
  },
  {
   "cell_type": "code",
   "execution_count": null,
   "metadata": {},
   "outputs": [],
   "source": [
    "# function to check if number is even\n",
    "check_even = lambda num: num%2 == 0 "
   ]
  },
  {
   "cell_type": "code",
   "execution_count": null,
   "metadata": {},
   "outputs": [],
   "source": [
    "check_even(2)"
   ]
  },
  {
   "cell_type": "markdown",
   "metadata": {},
   "source": [
    "### Example 2.2 (Expression 2):"
   ]
  },
  {
   "cell_type": "code",
   "execution_count": null,
   "metadata": {},
   "outputs": [],
   "source": [
    "my_string = \"Clark\"\n",
    "my_string[-3::] # evaluates to a String so it is okay for a Lambda"
   ]
  },
  {
   "cell_type": "code",
   "execution_count": null,
   "metadata": {},
   "outputs": [],
   "source": [
    "# function to get the last 3 letters of a string \n",
    "last_three = lambda string: string[-3::]"
   ]
  },
  {
   "cell_type": "code",
   "execution_count": null,
   "metadata": {
    "scrolled": true
   },
   "outputs": [],
   "source": [
    "last_three(my_string)"
   ]
  },
  {
   "cell_type": "markdown",
   "metadata": {},
   "source": [
    "### Example 2.3 (Expression 3):\n",
    "\n",
    "- Recall the `sorted()` function which has an argument called `key` to specify a function to be called on each list element prior to making comparisons\n",
    "- We can use a Lambda Function inside this `key` parameter to define a custom function that we want to be called on each list element"
   ]
  },
  {
   "cell_type": "code",
   "execution_count": null,
   "metadata": {},
   "outputs": [],
   "source": [
    "superhero_list = [\"clark\", \"Bruce\", \"diana\", \"Lex\"]\n",
    "\n",
    "# sort by first name\n",
    "superhero_list.sort()\n",
    "print(superhero_list)"
   ]
  },
  {
   "cell_type": "markdown",
   "metadata": {},
   "source": [
    "This method fails because there are some strings as \"capital\" letters and some strings as \"lower case\" letters"
   ]
  },
  {
   "cell_type": "code",
   "execution_count": null,
   "metadata": {},
   "outputs": [],
   "source": [
    "# sort by first name, convert to lower case before sorting \n",
    "superhero_list.sort(key = str.lower)\n",
    "print(superhero_list)"
   ]
  },
  {
   "cell_type": "code",
   "execution_count": null,
   "metadata": {},
   "outputs": [],
   "source": [
    "superhero_list_age = [(\"clark\", 21), (\"Bruce\", 41), (\"diana\", 35), (\"Lex\", 19)]\n",
    "\n",
    "# sort by age\n",
    "superhero_list_age.sort(key = lambda employee: employee[1])\n",
    "print(superhero_list_age)"
   ]
  },
  {
   "cell_type": "markdown",
   "metadata": {},
   "source": [
    "### Part 3 (Improper Usage of Lambda Functions):\n",
    "- Recall, statements and multiple expressions can not be used in Lambda Functions"
   ]
  },
  {
   "cell_type": "markdown",
   "metadata": {},
   "source": [
    "### Example 3.1 (Statement 1):"
   ]
  },
  {
   "cell_type": "code",
   "execution_count": null,
   "metadata": {},
   "outputs": [],
   "source": [
    "a = 1  # doesn't evaluate to anything, therefore it is not okay for a Lambda"
   ]
  },
  {
   "cell_type": "code",
   "execution_count": null,
   "metadata": {},
   "outputs": [],
   "source": [
    "change_a = lambda a: a = 1"
   ]
  },
  {
   "cell_type": "code",
   "execution_count": null,
   "metadata": {},
   "outputs": [],
   "source": [
    "# functions evaluated using the def keyword can support statements, of course \n",
    "def change_a(a):\n",
    "    a = 1\n",
    "    return(a)"
   ]
  },
  {
   "cell_type": "code",
   "execution_count": null,
   "metadata": {},
   "outputs": [],
   "source": [
    "a = 10\n",
    "change_a(10)"
   ]
  },
  {
   "cell_type": "markdown",
   "metadata": {},
   "source": [
    "### Example 3.2 (Multiple Expressions and Statements):"
   ]
  },
  {
   "cell_type": "code",
   "execution_count": null,
   "metadata": {
    "scrolled": true
   },
   "outputs": [],
   "source": [
    "print_lower = lambda string: string = string.lower() print(string)"
   ]
  },
  {
   "cell_type": "code",
   "execution_count": null,
   "metadata": {},
   "outputs": [],
   "source": [
    "# functions evaluated using the def keyword can support multiple expressions and statements, of course\n",
    "def print_lower(string):\n",
    "    string = string.lower()\n",
    "    print(string)"
   ]
  },
  {
   "cell_type": "code",
   "execution_count": null,
   "metadata": {},
   "outputs": [],
   "source": [
    "my_str = \"Clark\"\n",
    "print_lower(my_str)"
   ]
  },
  {
   "cell_type": "code",
   "execution_count": null,
   "metadata": {},
   "outputs": [],
   "source": []
  }
 ],
 "metadata": {
  "kernelspec": {
   "display_name": "Python 3",
   "language": "python",
   "name": "python3"
  },
  "language_info": {
   "codemirror_mode": {
    "name": "ipython",
    "version": 3
   },
   "file_extension": ".py",
   "mimetype": "text/x-python",
   "name": "python",
   "nbconvert_exporter": "python",
   "pygments_lexer": "ipython3",
   "version": "3.6.8"
  }
 },
 "nbformat": 4,
 "nbformat_minor": 2
}
