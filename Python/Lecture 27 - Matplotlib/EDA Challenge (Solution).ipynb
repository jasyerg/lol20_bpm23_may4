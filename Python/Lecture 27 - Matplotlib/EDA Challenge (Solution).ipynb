{
 "cells": [
  {
   "cell_type": "markdown",
   "metadata": {},
   "source": [
    "#  Challenge : Exploratory Data Analysis w/ Pandas and Matplotlib\n"
   ]
  },
  {
   "cell_type": "markdown",
   "metadata": {},
   "source": [
    "Let's switch gear and work with a real data set from homes being sold in the Seattle area.\n",
    "\n",
    "Let's start by reading and exploring the data."
   ]
  },
  {
   "cell_type": "code",
   "execution_count": 1,
   "metadata": {
    "ExecuteTime": {
     "end_time": "2019-12-20T21:20:53.068541Z",
     "start_time": "2019-12-20T21:20:50.942927Z"
    }
   },
   "outputs": [],
   "source": [
    "import matplotlib.pyplot as plt\n",
    "import numpy as np\n",
    "import pandas as pd\n",
    "\n",
    "# this statement allows the visuals to render within your Jupyter Notebook\n",
    "%matplotlib inline "
   ]
  },
  {
   "cell_type": "code",
   "execution_count": 2,
   "metadata": {
    "ExecuteTime": {
     "end_time": "2019-12-20T21:20:53.125094Z",
     "start_time": "2019-12-20T21:20:53.071165Z"
    }
   },
   "outputs": [],
   "source": [
    "data = pd.read_csv('data/SeattleHomePrices.csv')"
   ]
  },
  {
   "cell_type": "markdown",
   "metadata": {},
   "source": [
    "## Problem 1\n",
    "Let's use a subset of the data set that only contains the following columns: PROPERTY TYPE, ZIP, PRICE, BEDS, BATHS, SQUARE FEET, DAYS ON MARKET. Save it in a Pandas Dataframe named small_data."
   ]
  },
  {
   "cell_type": "code",
   "execution_count": 3,
   "metadata": {
    "ExecuteTime": {
     "end_time": "2019-12-20T21:20:53.156039Z",
     "start_time": "2019-12-20T21:20:53.127907Z"
    }
   },
   "outputs": [],
   "source": [
    "small_data = data[['PROPERTY TYPE', 'ZIP', 'PRICE', 'BEDS', 'BATHS', 'SQUARE FEET', 'DAYS ON MARKET']]"
   ]
  },
  {
   "cell_type": "markdown",
   "metadata": {},
   "source": [
    "## Problem 2\n",
    "\n",
    "    *Show a sample of 5 houses\n",
    "    *Get a summary of the numerical values"
   ]
  },
  {
   "cell_type": "code",
   "execution_count": 4,
   "metadata": {
    "ExecuteTime": {
     "end_time": "2019-12-20T21:20:53.265704Z",
     "start_time": "2019-12-20T21:20:53.158777Z"
    }
   },
   "outputs": [
    {
     "data": {
      "text/html": [
       "<div>\n",
       "<style scoped>\n",
       "    .dataframe tbody tr th:only-of-type {\n",
       "        vertical-align: middle;\n",
       "    }\n",
       "\n",
       "    .dataframe tbody tr th {\n",
       "        vertical-align: top;\n",
       "    }\n",
       "\n",
       "    .dataframe thead th {\n",
       "        text-align: right;\n",
       "    }\n",
       "</style>\n",
       "<table border=\"1\" class=\"dataframe\">\n",
       "  <thead>\n",
       "    <tr style=\"text-align: right;\">\n",
       "      <th></th>\n",
       "      <th>PROPERTY TYPE</th>\n",
       "      <th>ZIP</th>\n",
       "      <th>PRICE</th>\n",
       "      <th>BEDS</th>\n",
       "      <th>BATHS</th>\n",
       "      <th>SQUARE FEET</th>\n",
       "      <th>DAYS ON MARKET</th>\n",
       "    </tr>\n",
       "  </thead>\n",
       "  <tbody>\n",
       "    <tr>\n",
       "      <th>207</th>\n",
       "      <td>Condo/Co-op</td>\n",
       "      <td>98144</td>\n",
       "      <td>395000</td>\n",
       "      <td>2</td>\n",
       "      <td>1.00</td>\n",
       "      <td>858.0</td>\n",
       "      <td>12</td>\n",
       "    </tr>\n",
       "    <tr>\n",
       "      <th>265</th>\n",
       "      <td>Vacant Land</td>\n",
       "      <td>98144</td>\n",
       "      <td>690000</td>\n",
       "      <td>0</td>\n",
       "      <td>NaN</td>\n",
       "      <td>NaN</td>\n",
       "      <td>26</td>\n",
       "    </tr>\n",
       "    <tr>\n",
       "      <th>143</th>\n",
       "      <td>Single Family Residential</td>\n",
       "      <td>98112</td>\n",
       "      <td>2350000</td>\n",
       "      <td>5</td>\n",
       "      <td>3.00</td>\n",
       "      <td>4700.0</td>\n",
       "      <td>7</td>\n",
       "    </tr>\n",
       "    <tr>\n",
       "      <th>153</th>\n",
       "      <td>Townhouse</td>\n",
       "      <td>98108</td>\n",
       "      <td>628000</td>\n",
       "      <td>3</td>\n",
       "      <td>2.25</td>\n",
       "      <td>1520.0</td>\n",
       "      <td>7</td>\n",
       "    </tr>\n",
       "    <tr>\n",
       "      <th>24</th>\n",
       "      <td>Condo/Co-op</td>\n",
       "      <td>98133</td>\n",
       "      <td>295000</td>\n",
       "      <td>1</td>\n",
       "      <td>1.00</td>\n",
       "      <td>707.0</td>\n",
       "      <td>1</td>\n",
       "    </tr>\n",
       "  </tbody>\n",
       "</table>\n",
       "</div>"
      ],
      "text/plain": [
       "                 PROPERTY TYPE    ZIP    PRICE  BEDS  BATHS  SQUARE FEET  \\\n",
       "207                Condo/Co-op  98144   395000     2   1.00        858.0   \n",
       "265                Vacant Land  98144   690000     0    NaN          NaN   \n",
       "143  Single Family Residential  98112  2350000     5   3.00       4700.0   \n",
       "153                  Townhouse  98108   628000     3   2.25       1520.0   \n",
       "24                 Condo/Co-op  98133   295000     1   1.00        707.0   \n",
       "\n",
       "     DAYS ON MARKET  \n",
       "207              12  \n",
       "265              26  \n",
       "143               7  \n",
       "153               7  \n",
       "24                1  "
      ]
     },
     "execution_count": 4,
     "metadata": {},
     "output_type": "execute_result"
    }
   ],
   "source": [
    "small_data.sample(5)"
   ]
  },
  {
   "cell_type": "code",
   "execution_count": 5,
   "metadata": {
    "ExecuteTime": {
     "end_time": "2019-12-20T21:20:53.437320Z",
     "start_time": "2019-12-20T21:20:53.297878Z"
    }
   },
   "outputs": [
    {
     "data": {
      "text/html": [
       "<div>\n",
       "<style scoped>\n",
       "    .dataframe tbody tr th:only-of-type {\n",
       "        vertical-align: middle;\n",
       "    }\n",
       "\n",
       "    .dataframe tbody tr th {\n",
       "        vertical-align: top;\n",
       "    }\n",
       "\n",
       "    .dataframe thead th {\n",
       "        text-align: right;\n",
       "    }\n",
       "</style>\n",
       "<table border=\"1\" class=\"dataframe\">\n",
       "  <thead>\n",
       "    <tr style=\"text-align: right;\">\n",
       "      <th></th>\n",
       "      <th>ZIP</th>\n",
       "      <th>PRICE</th>\n",
       "      <th>BEDS</th>\n",
       "      <th>BATHS</th>\n",
       "      <th>SQUARE FEET</th>\n",
       "      <th>DAYS ON MARKET</th>\n",
       "    </tr>\n",
       "  </thead>\n",
       "  <tbody>\n",
       "    <tr>\n",
       "      <th>count</th>\n",
       "      <td>350.000000</td>\n",
       "      <td>3.500000e+02</td>\n",
       "      <td>350.000000</td>\n",
       "      <td>324.000000</td>\n",
       "      <td>327.000000</td>\n",
       "      <td>350.000000</td>\n",
       "    </tr>\n",
       "    <tr>\n",
       "      <th>mean</th>\n",
       "      <td>98125.342857</td>\n",
       "      <td>9.730178e+05</td>\n",
       "      <td>2.888571</td>\n",
       "      <td>2.219907</td>\n",
       "      <td>2039.064220</td>\n",
       "      <td>19.880000</td>\n",
       "    </tr>\n",
       "    <tr>\n",
       "      <th>std</th>\n",
       "      <td>25.070723</td>\n",
       "      <td>9.797377e+05</td>\n",
       "      <td>1.842397</td>\n",
       "      <td>1.208547</td>\n",
       "      <td>1572.550774</td>\n",
       "      <td>23.239069</td>\n",
       "    </tr>\n",
       "    <tr>\n",
       "      <th>min</th>\n",
       "      <td>98101.000000</td>\n",
       "      <td>7.500000e+04</td>\n",
       "      <td>0.000000</td>\n",
       "      <td>0.750000</td>\n",
       "      <td>240.000000</td>\n",
       "      <td>1.000000</td>\n",
       "    </tr>\n",
       "    <tr>\n",
       "      <th>25%</th>\n",
       "      <td>98107.000000</td>\n",
       "      <td>5.121750e+05</td>\n",
       "      <td>2.000000</td>\n",
       "      <td>1.500000</td>\n",
       "      <td>1090.000000</td>\n",
       "      <td>5.000000</td>\n",
       "    </tr>\n",
       "    <tr>\n",
       "      <th>50%</th>\n",
       "      <td>98118.000000</td>\n",
       "      <td>7.294440e+05</td>\n",
       "      <td>3.000000</td>\n",
       "      <td>2.000000</td>\n",
       "      <td>1640.000000</td>\n",
       "      <td>8.000000</td>\n",
       "    </tr>\n",
       "    <tr>\n",
       "      <th>75%</th>\n",
       "      <td>98126.000000</td>\n",
       "      <td>1.095000e+06</td>\n",
       "      <td>4.000000</td>\n",
       "      <td>2.750000</td>\n",
       "      <td>2565.000000</td>\n",
       "      <td>26.000000</td>\n",
       "    </tr>\n",
       "    <tr>\n",
       "      <th>max</th>\n",
       "      <td>98199.000000</td>\n",
       "      <td>1.000000e+07</td>\n",
       "      <td>11.000000</td>\n",
       "      <td>11.000000</td>\n",
       "      <td>17011.000000</td>\n",
       "      <td>114.000000</td>\n",
       "    </tr>\n",
       "  </tbody>\n",
       "</table>\n",
       "</div>"
      ],
      "text/plain": [
       "                ZIP         PRICE        BEDS       BATHS   SQUARE FEET  \\\n",
       "count    350.000000  3.500000e+02  350.000000  324.000000    327.000000   \n",
       "mean   98125.342857  9.730178e+05    2.888571    2.219907   2039.064220   \n",
       "std       25.070723  9.797377e+05    1.842397    1.208547   1572.550774   \n",
       "min    98101.000000  7.500000e+04    0.000000    0.750000    240.000000   \n",
       "25%    98107.000000  5.121750e+05    2.000000    1.500000   1090.000000   \n",
       "50%    98118.000000  7.294440e+05    3.000000    2.000000   1640.000000   \n",
       "75%    98126.000000  1.095000e+06    4.000000    2.750000   2565.000000   \n",
       "max    98199.000000  1.000000e+07   11.000000   11.000000  17011.000000   \n",
       "\n",
       "       DAYS ON MARKET  \n",
       "count      350.000000  \n",
       "mean        19.880000  \n",
       "std         23.239069  \n",
       "min          1.000000  \n",
       "25%          5.000000  \n",
       "50%          8.000000  \n",
       "75%         26.000000  \n",
       "max        114.000000  "
      ]
     },
     "execution_count": 5,
     "metadata": {},
     "output_type": "execute_result"
    }
   ],
   "source": [
    "small_data.describe()"
   ]
  },
  {
   "cell_type": "markdown",
   "metadata": {},
   "source": [
    "## Problem 3\n",
    "Our data set contains 350 houses.  However, there are some NULL values in SQUARE FEET and BATHS.  Let's drop the houses with at least 1 NULL value in any of the columns of the dataset.\n",
    "\n",
    "**Hint:** Pandas dropna"
   ]
  },
  {
   "cell_type": "code",
   "execution_count": 6,
   "metadata": {
    "ExecuteTime": {
     "end_time": "2019-12-20T21:20:53.508257Z",
     "start_time": "2019-12-20T21:20:53.442493Z"
    }
   },
   "outputs": [
    {
     "name": "stderr",
     "output_type": "stream",
     "text": [
      "/Users/cliffclive/miniconda3/envs/metis/lib/python3.6/site-packages/ipykernel_launcher.py:1: SettingWithCopyWarning: \n",
      "A value is trying to be set on a copy of a slice from a DataFrame\n",
      "\n",
      "See the caveats in the documentation: http://pandas.pydata.org/pandas-docs/stable/indexing.html#indexing-view-versus-copy\n",
      "  \"\"\"Entry point for launching an IPython kernel.\n"
     ]
    }
   ],
   "source": [
    "small_data.dropna(inplace = True)"
   ]
  },
  {
   "cell_type": "markdown",
   "metadata": {},
   "source": [
    "## Problem 4\n",
    "Create a histograms that shows the distribution of the number of BEDS"
   ]
  },
  {
   "cell_type": "code",
   "execution_count": 7,
   "metadata": {
    "ExecuteTime": {
     "end_time": "2019-12-20T21:20:53.945057Z",
     "start_time": "2019-12-20T21:20:53.518190Z"
    }
   },
   "outputs": [
    {
     "data": {
      "image/png": "[encoded data removed]",
      "text/plain": [
       "<Figure size 720x360 with 1 Axes>"
      ]
     },
     "metadata": {
      "needs_background": "light"
     },
     "output_type": "display_data"
    }
   ],
   "source": [
    "plt.figure(figsize=[10,5])\n",
    "\n",
    "# plt.hist(small_data['BEDS'])\n",
    "plt.hist(small_data['BEDS'],small_data['BEDS'].max())\n",
    "plt.title('Distribution of Number of Bedrooms');"
   ]
  },
  {
   "cell_type": "markdown",
   "metadata": {},
   "source": [
    "## Problem 5\n",
    "\n",
    "Create a pie chart that shows the percenatge of houses with more than 2 bathrooms, compared to 2 or less bathrooms."
   ]
  },
  {
   "cell_type": "code",
   "execution_count": 8,
   "metadata": {
    "ExecuteTime": {
     "end_time": "2019-12-20T21:20:54.081101Z",
     "start_time": "2019-12-20T21:20:53.952387Z"
    }
   },
   "outputs": [
    {
     "data": {
      "image/png": "[encoded data removed]",
      "text/plain": [
       "<Figure size 360x360 with 1 Axes>"
      ]
     },
     "metadata": {},
     "output_type": "display_data"
    }
   ],
   "source": [
    "greater = len(small_data[small_data['BATHS']>2])\n",
    "lessthan = len(small_data[small_data['BATHS']<=2])\n",
    "\n",
    "plt.figure(figsize=[5,5])\n",
    "plt.pie([greater,lessthan],labels=['Greater','Less Than']);"
   ]
  },
  {
   "cell_type": "markdown",
   "metadata": {},
   "source": [
    "## Problem 6\n",
    "\n",
    "Create two scatter plots that shows the PRICE in the $y$ axis and the SQUARE FEET in the $x$-axis.\n",
    "\n",
    "1) One scatter plot should be in a normal scale.\n",
    "\n",
    "2) The other scatter plot should have a log-log scale."
   ]
  },
  {
   "cell_type": "code",
   "execution_count": 9,
   "metadata": {
    "ExecuteTime": {
     "end_time": "2019-12-20T21:20:55.546094Z",
     "start_time": "2019-12-20T21:20:54.088255Z"
    }
   },
   "outputs": [
    {
     "data": {
      "image/png": "[encoded data removed]",
      "text/plain": [
       "<Figure size 720x360 with 2 Axes>"
      ]
     },
     "metadata": {
      "needs_background": "light"
     },
     "output_type": "display_data"
    }
   ],
   "source": [
    "plt.figure(figsize=(10,5))\n",
    "\n",
    "plt.subplot(1,2,1)\n",
    "plt.scatter(small_data['SQUARE FEET'],small_data['PRICE'],alpha = 0.5,s=10);\n",
    "\n",
    "plt.subplot(1,2,2)\n",
    "plt.loglog(small_data['SQUARE FEET'],small_data['PRICE'],'r.',alpha = 0.5);"
   ]
  },
  {
   "cell_type": "markdown",
   "metadata": {},
   "source": [
    "## Problem 7 (Challenge)\n",
    "\n",
    "Create a bar chart that shows the different PROPERTY TYPEs in the $x$-axis, and the average days on the market on the $y$-axis."
   ]
  },
  {
   "cell_type": "code",
   "execution_count": 10,
   "metadata": {
    "ExecuteTime": {
     "end_time": "2019-12-20T21:20:55.831813Z",
     "start_time": "2019-12-20T21:20:55.548880Z"
    }
   },
   "outputs": [
    {
     "data": {
      "image/png": "[encoded data removed]",
      "text/plain": [
       "<Figure size 432x288 with 1 Axes>"
      ]
     },
     "metadata": {
      "needs_background": "light"
     },
     "output_type": "display_data"
    }
   ],
   "source": [
    "PropType = small_data.groupby(['PROPERTY TYPE'])['DAYS ON MARKET'].mean()\n",
    "plt.bar(range(len(PropType)),PropType.values)\n",
    "plt.xticks(range(len(PropType)),PropType.index,rotation = 90)\n",
    "plt.grid();"
   ]
  },
  {
   "cell_type": "code",
   "execution_count": null,
   "metadata": {},
   "outputs": [],
   "source": []
  }
 ],
 "metadata": {
  "kernelspec": {
   "display_name": "Python 3",
   "language": "python",
   "name": "python3"
  },
  "language_info": {
   "codemirror_mode": {
    "name": "ipython",
    "version": 3
   },
   "file_extension": ".py",
   "mimetype": "text/x-python",
   "name": "python",
   "nbconvert_exporter": "python",
   "pygments_lexer": "ipython3",
   "version": "3.6.8"
  },
  "toc": {
   "base_numbering": 1,
   "nav_menu": {},
   "number_sections": true,
   "sideBar": true,
   "skip_h1_title": false,
   "title_cell": "Table of Contents",
   "title_sidebar": "Contents",
   "toc_cell": false,
   "toc_position": {},
   "toc_section_display": true,
   "toc_window_display": true
  }
 },
 "nbformat": 4,
 "nbformat_minor": 2
}
