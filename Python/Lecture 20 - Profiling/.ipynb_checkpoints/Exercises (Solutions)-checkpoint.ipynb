{
 "cells": [
  {
   "cell_type": "markdown",
   "metadata": {},
   "source": [
    "# Exercises: Profiling Techniques\n",
    "\n",
    "We've covered two Python modules and two IPython magic commands that can be used for profiling code. In this exercise we'll use all of these techniques to compare performance of 6 common sorting algorithms."
   ]
  },
  {
   "cell_type": "code",
   "execution_count": 8,
   "metadata": {
    "ExecuteTime": {
     "end_time": "2019-11-08T23:27:11.742079Z",
     "start_time": "2019-11-08T23:27:11.728660Z"
    }
   },
   "outputs": [],
   "source": [
    "from sorters import bubble_sort, selection_sort, insertion_sort, heap_sort, merge_sort, quick_sort"
   ]
  },
  {
   "cell_type": "markdown",
   "metadata": {},
   "source": [
    "### Python modules `time` and `timeit`\n",
    "\n",
    "For a quick review, here are the built-in Python modules and an outline of how to use them to profile your code."
   ]
  },
  {
   "cell_type": "code",
   "execution_count": 10,
   "metadata": {
    "ExecuteTime": {
     "end_time": "2019-11-08T23:27:29.294800Z",
     "start_time": "2019-11-08T23:27:29.289652Z"
    }
   },
   "outputs": [
    {
     "name": "stdout",
     "output_type": "stream",
     "text": [
      "The program took 0.00002 seconds\n"
     ]
    }
   ],
   "source": [
    "import time\n",
    "\n",
    "start_time = time.time() # this clocks the current time\n",
    "\n",
    "# block of code\n",
    "#\n",
    "#\n",
    "\n",
    "# enter this command after the block of code you want to calculate the time for\n",
    "stop_time = time.time() # this clocks the current time \n",
    "\n",
    "elapsed_time = stop_time - start_time\n",
    "print(\"The program took {:.5f} seconds\".format(elapsed_time))"
   ]
  },
  {
   "cell_type": "code",
   "execution_count": 26,
   "metadata": {
    "ExecuteTime": {
     "end_time": "2019-11-09T00:10:15.910061Z",
     "start_time": "2019-11-09T00:10:15.893286Z"
    }
   },
   "outputs": [
    {
     "ename": "IndentationError",
     "evalue": "expected an indented block (<timeit-src>, line 11)",
     "output_type": "error",
     "traceback": [
      "Traceback \u001b[0;36m(most recent call last)\u001b[0m:\n",
      "  File \u001b[1;32m\"/Users/cliffclive/miniconda3/envs/metis/lib/python3.6/site-packages/IPython/core/interactiveshell.py\"\u001b[0m, line \u001b[1;32m3296\u001b[0m, in \u001b[1;35mrun_code\u001b[0m\n    exec(code_obj, self.user_global_ns, self.user_ns)\n",
      "  File \u001b[1;32m\"<ipython-input-26-d5ce06c34653>\"\u001b[0m, line \u001b[1;32m15\u001b[0m, in \u001b[1;35m<module>\u001b[0m\n    timeit.timeit(stmt = statement, setup = setup, number = 10)\n",
      "  File \u001b[1;32m\"/Users/cliffclive/miniconda3/envs/metis/lib/python3.6/timeit.py\"\u001b[0m, line \u001b[1;32m233\u001b[0m, in \u001b[1;35mtimeit\u001b[0m\n    return Timer(stmt, setup, timer, globals).timeit(number)\n",
      "\u001b[0;36m  File \u001b[0;32m\"/Users/cliffclive/miniconda3/envs/metis/lib/python3.6/timeit.py\"\u001b[0;36m, line \u001b[0;32m133\u001b[0;36m, in \u001b[0;35m__init__\u001b[0;36m\u001b[0m\n\u001b[0;31m    code = compile(src, dummy_src_name, \"exec\")\u001b[0m\n",
      "\u001b[0;36m  File \u001b[0;32m\"<timeit-src>\"\u001b[0;36m, line \u001b[0;32m11\u001b[0m\n\u001b[0;31m    _t1 = _timer()\u001b[0m\n\u001b[0m      ^\u001b[0m\n\u001b[0;31mIndentationError\u001b[0m\u001b[0;31m:\u001b[0m expected an indented block\n"
     ]
    }
   ],
   "source": [
    "# import the module\n",
    "import timeit\n",
    "\n",
    "# setup string\n",
    "setup = \"\"\"\n",
    "## define variables\n",
    "\"\"\"\n",
    "\n",
    "# statement string that you want to test \n",
    "statement = \"\"\"\n",
    "## block of code\n",
    "\"\"\"\n",
    "\n",
    "# calculates the time to execute the statement n times \n",
    "timeit.timeit(stmt = statement, setup = setup, number = 10)"
   ]
  },
  {
   "cell_type": "markdown",
   "metadata": {},
   "source": [
    "### IPython Magic commands\n",
    "And these are the IPython magic commands. Note that both of these can be used either to profile a single expression or an entire cell."
   ]
  },
  {
   "cell_type": "code",
   "execution_count": 2,
   "metadata": {
    "ExecuteTime": {
     "end_time": "2019-11-08T23:07:36.039201Z",
     "start_time": "2019-11-08T23:07:36.025439Z"
    }
   },
   "outputs": [
    {
     "name": "stdout",
     "output_type": "stream",
     "text": [
      "CPU times: user 3 µs, sys: 1 µs, total: 4 µs\n",
      "Wall time: 25.3 µs\n",
      "CPU times: user 3 µs, sys: 0 ns, total: 3 µs\n",
      "Wall time: 5.72 µs\n"
     ]
    }
   ],
   "source": [
    "%time # expression1\n",
    "%time # expression2"
   ]
  },
  {
   "cell_type": "code",
   "execution_count": null,
   "metadata": {},
   "outputs": [],
   "source": [
    "# check time of the entire cell body \n",
    "%time\n",
    "\n",
    "## block of code"
   ]
  },
  {
   "cell_type": "code",
   "execution_count": null,
   "metadata": {},
   "outputs": [],
   "source": [
    "%timeit -n2 -r4 -t -p4 # expression1\n",
    "%timeit -n2 -r4 -t -p4 # expression2"
   ]
  },
  {
   "cell_type": "code",
   "execution_count": null,
   "metadata": {},
   "outputs": [],
   "source": [
    "# run timeit on the entire cell body\n",
    "%timeit -o\n",
    "\n",
    "## block of code"
   ]
  },
  {
   "cell_type": "markdown",
   "metadata": {},
   "source": [
    "## `%timeit` options\n",
    "\n",
    "The `%timeit` iPython magic command has a number of optional parameters to customize the way it runs. Write down what each of these options does:"
   ]
  },
  {
   "cell_type": "markdown",
   "metadata": {},
   "source": [
    "- `-n<N>`: execute the given statement &lt;N\\> times in a loop. If &lt;N\\> is not provided, &lt;N\\> is determined so as to get sufficient accuracy.\n",
    "\n",
    "- `-r&lt;R\\>`: number of repeats &lt;R\\>, each consisting of &lt;N\\> loops, and take the best result. Default: 7\n",
    "\n",
    "- `-t`: use time.time to measure the time, which is the default on Unix. This function measures wall time.\n",
    "\n",
    "- `-c`: use time.clock to measure the time, which is the default on Windows and measures wall time. On Unix, resource.getrusage is used instead and returns the CPU user time.\n",
    "\n",
    "- `-p&lt;P\\>`: use a precision of &lt;P\\> digits to display the timing result. Default: 3\n",
    "\n",
    "- `-q`: Quiet, do not print result.\n",
    "\n",
    "- `-o`: return a TimeitResult that can be stored in a variable to inspect"
   ]
  },
  {
   "cell_type": "markdown",
   "metadata": {},
   "source": [
    "## Profiling with `time.time()`\n",
    "\n",
    "Write a function `profile_sort` that takes one of our sort functions and a list of numbers, sorts them with the passed function, and returns the time it took to sort them."
   ]
  },
  {
   "cell_type": "code",
   "execution_count": 20,
   "metadata": {
    "ExecuteTime": {
     "end_time": "2019-11-08T23:36:49.425466Z",
     "start_time": "2019-11-08T23:36:49.418432Z"
    }
   },
   "outputs": [],
   "source": [
    "def profile_sort(sorter, nums):\n",
    "    start_time = time.time() \n",
    "    sorter(nums)\n",
    "    stop_time = time.time() \n",
    "    elapsed_time = stop_time - start_time\n",
    "    K = len(nums)\n",
    "    print(\"{0:>16} took {1:.5f} seconds to sort {2} numbers\".format(sorter.__name__, elapsed_time, K))"
   ]
  },
  {
   "cell_type": "markdown",
   "metadata": {},
   "source": [
    "Use the following function to create lists to test our sorting functions:"
   ]
  },
  {
   "cell_type": "code",
   "execution_count": 15,
   "metadata": {
    "ExecuteTime": {
     "end_time": "2019-11-08T23:30:43.280056Z",
     "start_time": "2019-11-08T23:30:43.273914Z"
    }
   },
   "outputs": [],
   "source": [
    "# Use rand_list(K) to generate lists of random numbers of length K\n",
    "\n",
    "from random import random\n",
    "rand_list = lambda K: [random() for x in range(K)]"
   ]
  },
  {
   "cell_type": "markdown",
   "metadata": {},
   "source": [
    "Now use `profile_sort` to time each sorting algorithm on a list of 1000 random numbers."
   ]
  },
  {
   "cell_type": "code",
   "execution_count": 21,
   "metadata": {
    "ExecuteTime": {
     "end_time": "2019-11-08T23:36:51.343791Z",
     "start_time": "2019-11-08T23:36:51.126783Z"
    }
   },
   "outputs": [
    {
     "name": "stdout",
     "output_type": "stream",
     "text": [
      "     bubble_sort took 0.13303 seconds to sort 1000 numbers\n",
      "  selection_sort took 0.03606 seconds to sort 1000 numbers\n",
      "  insertion_sort took 0.03429 seconds to sort 1000 numbers\n",
      "       heap_sort took 0.00409 seconds to sort 1000 numbers\n",
      "      merge_sort took 0.00292 seconds to sort 1000 numbers\n",
      "      quick_sort took 0.00169 seconds to sort 1000 numbers\n"
     ]
    }
   ],
   "source": [
    "nums = rand_list(1000)\n",
    "profile_sort(bubble_sort, rand_list(K))\n",
    "profile_sort(selection_sort, rand_list(K))\n",
    "profile_sort(insertion_sort, rand_list(K))\n",
    "profile_sort(heap_sort, rand_list(K))\n",
    "profile_sort(merge_sort, rand_list(K))\n",
    "profile_sort(quick_sort, rand_list(K))"
   ]
  },
  {
   "cell_type": "markdown",
   "metadata": {},
   "source": [
    "Now use `profile_sort` to time each sorting algorithm on a list of 10000 random numbers."
   ]
  },
  {
   "cell_type": "code",
   "execution_count": 23,
   "metadata": {
    "ExecuteTime": {
     "end_time": "2019-11-08T23:39:26.605911Z",
     "start_time": "2019-11-08T23:39:05.276041Z"
    }
   },
   "outputs": [
    {
     "name": "stdout",
     "output_type": "stream",
     "text": [
      "     bubble_sort took 13.57635 seconds to sort 10000 numbers\n",
      "  selection_sort took 3.79754 seconds to sort 10000 numbers\n",
      "  insertion_sort took 3.82197 seconds to sort 10000 numbers\n",
      "       heap_sort took 0.06362 seconds to sort 10000 numbers\n",
      "      merge_sort took 0.03787 seconds to sort 10000 numbers\n",
      "      quick_sort took 0.02162 seconds to sort 10000 numbers\n"
     ]
    }
   ],
   "source": [
    "K = 10000\n",
    "profile_sort(bubble_sort, rand_list(K))\n",
    "profile_sort(selection_sort, rand_list(K))\n",
    "profile_sort(insertion_sort, rand_list(K))\n",
    "profile_sort(heap_sort, rand_list(K))\n",
    "profile_sort(merge_sort, rand_list(K))\n",
    "profile_sort(quick_sort, rand_list(K))"
   ]
  },
  {
   "cell_type": "markdown",
   "metadata": {},
   "source": [
    "## Profiling with `timeit.timeit()`\n",
    "\n",
    "Now do the same with `timeit()`, for both _K = 1000_ and _K = 10000_.\n",
    "\n",
    "Depending on your code style, you may be interested in using loops and string formatting instead of creating two different `setup` strings and six different `statement` strings.\n",
    "\n",
    "Note that `timeit()` calculates an average run time by repeating the test several times, so this will take a bit longer to run."
   ]
  },
  {
   "cell_type": "code",
   "execution_count": 41,
   "metadata": {
    "ExecuteTime": {
     "end_time": "2019-11-09T00:28:07.577388Z",
     "start_time": "2019-11-09T00:24:40.304587Z"
    }
   },
   "outputs": [
    {
     "name": "stdout",
     "output_type": "stream",
     "text": [
      "     bubble_sort took 0.15042 seconds to sort 1000 numbers\n",
      "     bubble_sort took 0.13133 seconds to sort 1000 numbers\n",
      "     bubble_sort took 0.13698 seconds to sort 1000 numbers\n",
      "     bubble_sort took 0.12272 seconds to sort 1000 numbers\n",
      "     bubble_sort took 0.13637 seconds to sort 1000 numbers\n",
      "     bubble_sort took 0.13095 seconds to sort 1000 numbers\n",
      "     bubble_sort took 0.12798 seconds to sort 1000 numbers\n",
      "     bubble_sort took 0.12448 seconds to sort 1000 numbers\n",
      "     bubble_sort took 0.12841 seconds to sort 1000 numbers\n",
      "     bubble_sort took 0.12798 seconds to sort 1000 numbers\n",
      "  selection_sort took 0.03413 seconds to sort 1000 numbers\n",
      "  selection_sort took 0.03450 seconds to sort 1000 numbers\n",
      "  selection_sort took 0.03743 seconds to sort 1000 numbers\n",
      "  selection_sort took 0.03805 seconds to sort 1000 numbers\n",
      "  selection_sort took 0.03505 seconds to sort 1000 numbers\n",
      "  selection_sort took 0.03678 seconds to sort 1000 numbers\n",
      "  selection_sort took 0.03473 seconds to sort 1000 numbers\n",
      "  selection_sort took 0.03522 seconds to sort 1000 numbers\n",
      "  selection_sort took 0.03492 seconds to sort 1000 numbers\n",
      "  selection_sort took 0.04070 seconds to sort 1000 numbers\n",
      "  insertion_sort took 0.03584 seconds to sort 1000 numbers\n",
      "  insertion_sort took 0.03436 seconds to sort 1000 numbers\n",
      "  insertion_sort took 0.03460 seconds to sort 1000 numbers\n",
      "  insertion_sort took 0.03602 seconds to sort 1000 numbers\n",
      "  insertion_sort took 0.03453 seconds to sort 1000 numbers\n",
      "  insertion_sort took 0.03581 seconds to sort 1000 numbers\n",
      "  insertion_sort took 0.03813 seconds to sort 1000 numbers\n",
      "  insertion_sort took 0.03634 seconds to sort 1000 numbers\n",
      "  insertion_sort took 0.03528 seconds to sort 1000 numbers\n",
      "  insertion_sort took 0.03401 seconds to sort 1000 numbers\n",
      "       heap_sort took 0.00434 seconds to sort 1000 numbers\n",
      "       heap_sort took 0.00415 seconds to sort 1000 numbers\n",
      "       heap_sort took 0.00415 seconds to sort 1000 numbers\n",
      "       heap_sort took 0.00423 seconds to sort 1000 numbers\n",
      "       heap_sort took 0.00426 seconds to sort 1000 numbers\n",
      "       heap_sort took 0.00447 seconds to sort 1000 numbers\n",
      "       heap_sort took 0.00410 seconds to sort 1000 numbers\n",
      "       heap_sort took 0.00430 seconds to sort 1000 numbers\n",
      "       heap_sort took 0.00422 seconds to sort 1000 numbers\n",
      "       heap_sort took 0.00414 seconds to sort 1000 numbers\n",
      "      merge_sort took 0.00290 seconds to sort 1000 numbers\n",
      "      merge_sort took 0.00294 seconds to sort 1000 numbers\n",
      "      merge_sort took 0.00309 seconds to sort 1000 numbers\n",
      "      merge_sort took 0.00288 seconds to sort 1000 numbers\n",
      "      merge_sort took 0.00288 seconds to sort 1000 numbers\n",
      "      merge_sort took 0.00288 seconds to sort 1000 numbers\n",
      "      merge_sort took 0.00292 seconds to sort 1000 numbers\n",
      "      merge_sort took 0.00321 seconds to sort 1000 numbers\n",
      "      merge_sort took 0.00288 seconds to sort 1000 numbers\n",
      "      merge_sort took 0.00288 seconds to sort 1000 numbers\n",
      "      quick_sort took 0.00171 seconds to sort 1000 numbers\n",
      "      quick_sort took 0.00167 seconds to sort 1000 numbers\n",
      "      quick_sort took 0.00164 seconds to sort 1000 numbers\n",
      "      quick_sort took 0.00167 seconds to sort 1000 numbers\n",
      "      quick_sort took 0.00169 seconds to sort 1000 numbers\n",
      "      quick_sort took 0.00174 seconds to sort 1000 numbers\n",
      "      quick_sort took 0.00163 seconds to sort 1000 numbers\n",
      "      quick_sort took 0.00179 seconds to sort 1000 numbers\n",
      "      quick_sort took 0.00167 seconds to sort 1000 numbers\n",
      "      quick_sort took 0.00165 seconds to sort 1000 numbers\n",
      "     bubble_sort took 13.48160 seconds to sort 10000 numbers\n",
      "     bubble_sort took 13.10740 seconds to sort 10000 numbers\n",
      "     bubble_sort took 13.31087 seconds to sort 10000 numbers\n",
      "     bubble_sort took 13.39778 seconds to sort 10000 numbers\n",
      "     bubble_sort took 13.20741 seconds to sort 10000 numbers\n",
      "     bubble_sort took 12.80242 seconds to sort 10000 numbers\n",
      "     bubble_sort took 13.27019 seconds to sort 10000 numbers\n",
      "     bubble_sort took 12.84277 seconds to sort 10000 numbers\n",
      "     bubble_sort took 13.53660 seconds to sort 10000 numbers\n",
      "     bubble_sort took 12.72781 seconds to sort 10000 numbers\n",
      "  selection_sort took 3.49846 seconds to sort 10000 numbers\n",
      "  selection_sort took 3.49077 seconds to sort 10000 numbers\n",
      "  selection_sort took 3.48920 seconds to sort 10000 numbers\n",
      "  selection_sort took 3.50092 seconds to sort 10000 numbers\n",
      "  selection_sort took 3.61432 seconds to sort 10000 numbers\n",
      "  selection_sort took 3.70079 seconds to sort 10000 numbers\n",
      "  selection_sort took 3.51664 seconds to sort 10000 numbers\n",
      "  selection_sort took 3.58215 seconds to sort 10000 numbers\n",
      "  selection_sort took 3.52933 seconds to sort 10000 numbers\n",
      "  selection_sort took 3.50258 seconds to sort 10000 numbers\n",
      "  insertion_sort took 3.70596 seconds to sort 10000 numbers\n",
      "  insertion_sort took 3.68340 seconds to sort 10000 numbers\n",
      "  insertion_sort took 3.64564 seconds to sort 10000 numbers\n",
      "  insertion_sort took 3.70494 seconds to sort 10000 numbers\n",
      "  insertion_sort took 3.67633 seconds to sort 10000 numbers\n",
      "  insertion_sort took 3.72549 seconds to sort 10000 numbers\n",
      "  insertion_sort took 3.63643 seconds to sort 10000 numbers\n",
      "  insertion_sort took 3.58286 seconds to sort 10000 numbers\n",
      "  insertion_sort took 3.74626 seconds to sort 10000 numbers\n",
      "  insertion_sort took 3.65345 seconds to sort 10000 numbers\n",
      "       heap_sort took 0.05910 seconds to sort 10000 numbers\n",
      "       heap_sort took 0.05977 seconds to sort 10000 numbers\n",
      "       heap_sort took 0.05979 seconds to sort 10000 numbers\n",
      "       heap_sort took 0.06383 seconds to sort 10000 numbers\n",
      "       heap_sort took 0.06114 seconds to sort 10000 numbers\n",
      "       heap_sort took 0.05899 seconds to sort 10000 numbers\n",
      "       heap_sort took 0.05922 seconds to sort 10000 numbers\n",
      "       heap_sort took 0.06329 seconds to sort 10000 numbers\n",
      "       heap_sort took 0.05992 seconds to sort 10000 numbers\n",
      "       heap_sort took 0.05908 seconds to sort 10000 numbers\n",
      "      merge_sort took 0.03731 seconds to sort 10000 numbers\n",
      "      merge_sort took 0.03921 seconds to sort 10000 numbers\n",
      "      merge_sort took 0.03993 seconds to sort 10000 numbers\n",
      "      merge_sort took 0.04007 seconds to sort 10000 numbers\n",
      "      merge_sort took 0.03711 seconds to sort 10000 numbers\n",
      "      merge_sort took 0.03688 seconds to sort 10000 numbers\n",
      "      merge_sort took 0.03710 seconds to sort 10000 numbers\n",
      "      merge_sort took 0.03700 seconds to sort 10000 numbers\n",
      "      merge_sort took 0.03945 seconds to sort 10000 numbers\n",
      "      merge_sort took 0.04176 seconds to sort 10000 numbers\n",
      "      quick_sort took 0.02272 seconds to sort 10000 numbers\n",
      "      quick_sort took 0.02177 seconds to sort 10000 numbers\n",
      "      quick_sort took 0.02121 seconds to sort 10000 numbers\n",
      "      quick_sort took 0.02145 seconds to sort 10000 numbers\n",
      "      quick_sort took 0.02148 seconds to sort 10000 numbers\n",
      "      quick_sort took 0.02181 seconds to sort 10000 numbers\n",
      "      quick_sort took 0.02250 seconds to sort 10000 numbers\n",
      "      quick_sort took 0.02371 seconds to sort 10000 numbers\n",
      "      quick_sort took 0.02513 seconds to sort 10000 numbers\n",
      "      quick_sort took 0.02434 seconds to sort 10000 numbers\n"
     ]
    }
   ],
   "source": [
    "# setup string\n",
    "setup = \"\"\"\n",
    "from sorters import bubble_sort, selection_sort, insertion_sort, heap_sort, merge_sort, quick_sort\n",
    "from __main__ import profile_sort\n",
    "from random import random\n",
    "rand_list = lambda K: [random() for x in range(K)]\n",
    "K = {0}\n",
    "\"\"\"\n",
    "\n",
    "# statement string that you want to test \n",
    "statement = \"profile_sort({0}, rand_list(K))\"\n",
    "\n",
    "# calculates the time to execute the statement n times \n",
    "for K in [1000, 10000]:\n",
    "    for func in [bubble_sort, selection_sort, insertion_sort, heap_sort, merge_sort, quick_sort]:\n",
    "        state = statement.format(func.__name__)\n",
    "        stp = setup.format(K)\n",
    "        timeit.timeit(stmt = state, setup = stp, number = 10)"
   ]
  },
  {
   "cell_type": "code",
   "execution_count": null,
   "metadata": {},
   "outputs": [],
   "source": []
  }
 ],
 "metadata": {
  "kernelspec": {
   "display_name": "Python 3",
   "language": "python",
   "name": "python3"
  },
  "language_info": {
   "codemirror_mode": {
    "name": "ipython",
    "version": 3
   },
   "file_extension": ".py",
   "mimetype": "text/x-python",
   "name": "python",
   "nbconvert_exporter": "python",
   "pygments_lexer": "ipython3",
   "version": "3.7.3"
  },
  "toc": {
   "base_numbering": 1,
   "nav_menu": {},
   "number_sections": true,
   "sideBar": true,
   "skip_h1_title": false,
   "title_cell": "Table of Contents",
   "title_sidebar": "Contents",
   "toc_cell": false,
   "toc_position": {},
   "toc_section_display": true,
   "toc_window_display": false
  }
 },
 "nbformat": 4,
 "nbformat_minor": 2
}
