{
 "cells": [
  {
   "cell_type": "markdown",
   "metadata": {},
   "source": [
    "# Beginner Python and Math for Data Science\n",
    "## Lecture 20\n",
    "### Profiling"
   ]
  },
  {
   "cell_type": "markdown",
   "metadata": {},
   "source": [
    "__Purpose:__\n",
    "The purpose of this lecture is to understand how to use profiling in Python. \n",
    "\n",
    "__At the end of this lecture you will be able to:__\n",
    "1. Understand how to use profiling to determine the duration of a function"
   ]
  },
  {
   "cell_type": "markdown",
   "metadata": {},
   "source": [
    "## 1.1 Profiling Programs:"
   ]
  },
  {
   "cell_type": "markdown",
   "metadata": {},
   "source": [
    "### 1.1.1 What is Profiling? "
   ]
  },
  {
   "cell_type": "markdown",
   "metadata": {},
   "source": [
    "__Overview:__\n",
    "- __[Profiling](https://en.wikipedia.org/wiki/Profiling_(computer_programming)):__ Profiling is the practice of measuring the space (memory) or time complexity of a program\n",
    "- Recall that in programming, there is ALWAYS more than one way to do something, where some methods are more efficient (less complex, take less time, etc.) than others \n",
    "- For example:\n",
    "> 1. If you are adding elements to a list and you know ahead of time how large the list has to be, why not pre-allocate memory for the list and then simply add in-place, rather than \"growing\" the list which is inefficient\n",
    "> 2. If you don't need to create a loop and can leverage a \"Pythonic\" way of accomplishing the same task, you should use it since loops take long to run \n",
    "- Profiling allows you to:\n",
    "> 1. Find what parts of your program are causing the entire program to slow down \n",
    "> 2. Evaluate multiple methods of programming a task so you can choose the most efficient way \n",
    "\n",
    "__Helpful Points:__\n",
    "1. You may not find yourself worrying so much about the time complexity of a program yet, as you are just beginning, but soon enough this will become very important \n",
    "2. As you become a more active programmer and spend more time on websites such as [www.stackoverflow.com](https://stackoverflow.com/), you will notice that most answers include an explanation of the time complexity of their solution as well as the time complexitiy of candidate solutions they also evaluated "
   ]
  },
  {
   "cell_type": "markdown",
   "metadata": {},
   "source": [
    "### 1.1.2 Profiling in Python "
   ]
  },
  {
   "cell_type": "markdown",
   "metadata": {},
   "source": [
    "__Overview:__\n",
    "- We will focus primarily on measuring the time it takes to run a program and in order to do this, Python offers a few solutions: \n",
    "> 1. Using the __[`time`](https://docs.python.org/2/library/time.html)__ module: This module uses the `time()` function to track the __[\"wall time\"/\"wall-clock time\"](https://en.wikipedia.org/wiki/Elapsed_real_time)__ of a program (actual time it takes) \n",
    "> 2. Using the __[`timeit`](https://docs.python.org/2/library/timeit.html)__ module: This module uses the `timeit()` function to track small code snippets\n",
    "> 3. Using the __[`time`](http://ipython.readthedocs.io/en/stable/interactive/magics.html#magic-time)__ Magic Command: This Magic Command is similar to the `time` module and will show you the time execution of a program in both __[CPU Time](https://en.wikipedia.org/wiki/CPU_time)__ and __Wall Time__. This command can be used in both:\n",
    ">> a. __Line Mode__: Using the `%time` command next to a statement, you can time a single-line statement<br>\n",
    ">> b. __Cell Mode__: Using the `%time` or `%%time` command at the top of the cell, you can time the entire cell body. Note, you can't have anything above this statement (not even comments) \n",
    "> 4. Using the __[`timeit`](http://ipython.readthedocs.io/en/stable/interactive/magics.html#magic-timeit)__ Magic Command: This Magic Command is similar to the `timeit` module and will show you more information on the time execution of a program. This command can be used in both: \n",
    ">> a. __Line Mode__: Using the `%timeit[-n<N> -r<R> [-t|-C] -q -p<P> -0]` statement<br>\n",
    ">> b. __Cell Mode__: Using the `%%timeit[-n<N> -r<R> [-t|-C] -q -p<P> -0]` statement<br>\n",
    ">> - In both cases, the parameters refer to the following: \n",
    ">> > 1. `-n<N>` says to execute the given statement `<N>` times in a loop (select the value for `N`)\n",
    ">> > 2. `-r<R>` says to repeat the loop iteration `<R>` times and take the best result \n",
    ">> > 3. `-t` says to use `time.time` to measure the time \n",
    ">> > 4. `-C` says to use `time.clock` to measure the time \n",
    ">> > 5. `-p<P>` says to use a precision of `<P>` digits to display the timing result \n",
    ">> > 6. `q` says to be \"quiet\" (do not print result) \n",
    ">> > 7. `o` returns a result that can be stored in a variable to inspect the result in more details \n",
    "\n",
    "__Helpful Points:__\n",
    "1. See examples of both methods below\n",
    "\n",
    "__Practice:__ Examples of Profiling in Python "
   ]
  },
  {
   "cell_type": "markdown",
   "metadata": {},
   "source": [
    "### Part 1 (Using the `time` module):"
   ]
  },
  {
   "cell_type": "code",
   "execution_count": 1,
   "metadata": {},
   "outputs": [],
   "source": [
    "# import the module\n",
    "import time"
   ]
  },
  {
   "cell_type": "markdown",
   "metadata": {},
   "source": [
    "### Example 1.1 (Checking Time for a Nested Loop):"
   ]
  },
  {
   "cell_type": "code",
   "execution_count": 4,
   "metadata": {},
   "outputs": [
    {
     "name": "stdout",
     "output_type": "stream",
     "text": [
      "The program took 1.66015 seconds\n"
     ]
    }
   ],
   "source": [
    "# enter this command before the block of code you want to calculate the time for\n",
    "start_time = time.time() # this clocks the current time\n",
    "\n",
    "# block of code\n",
    "empty_list_i = []\n",
    "empty_list_j = []\n",
    "for i in range(10000):\n",
    "    empty_list_i.append(i)\n",
    "    for j in range(1000):\n",
    "        empty_list_j.append(j)\n",
    "        \n",
    "# enter this command after the block of code you want to calculate the time for\n",
    "stop_time = time.time() # this clocks the current time \n",
    "\n",
    "elapsed_time = stop_time - start_time\n",
    "print(\"The program took {:.5f} seconds\".format(elapsed_time))"
   ]
  },
  {
   "cell_type": "markdown",
   "metadata": {},
   "source": [
    "### Part 2 (Using the `timeit` module):"
   ]
  },
  {
   "cell_type": "code",
   "execution_count": 3,
   "metadata": {
    "ExecuteTime": {
     "end_time": "2019-11-08T16:09:17.339243Z",
     "start_time": "2019-11-08T16:09:17.334973Z"
    }
   },
   "outputs": [],
   "source": [
    "# import the module\n",
    "import timeit"
   ]
  },
  {
   "cell_type": "markdown",
   "metadata": {},
   "source": [
    "### Example 2.1 (Checking Time for a Nested Loop):"
   ]
  },
  {
   "cell_type": "code",
   "execution_count": 4,
   "metadata": {
    "ExecuteTime": {
     "end_time": "2019-11-08T16:09:20.422488Z",
     "start_time": "2019-11-08T16:09:20.417928Z"
    }
   },
   "outputs": [],
   "source": [
    "# setup string\n",
    "setup = \"\"\"\n",
    "empty_list_i = []\n",
    "empty_list_j = []\n",
    "\"\"\"\n",
    "\n",
    "# statement string that you want to test \n",
    "statement = \"\"\"\n",
    "for i in range(10000):\n",
    "    empty_list_i.append(i)\n",
    "    for j in range(1000):\n",
    "        empty_list_j.append(j)\n",
    "\"\"\""
   ]
  },
  {
   "cell_type": "code",
   "execution_count": 5,
   "metadata": {
    "ExecuteTime": {
     "end_time": "2019-11-08T16:09:33.071104Z",
     "start_time": "2019-11-08T16:09:21.626790Z"
    }
   },
   "outputs": [
    {
     "data": {
      "text/plain": [
       "8.4586077999993"
      ]
     },
     "execution_count": 5,
     "metadata": {},
     "output_type": "execute_result"
    }
   ],
   "source": [
    "# calculates the time to execute the statement n times \n",
    "timeit.timeit(stmt = statement, setup = setup, number = 10)"
   ]
  },
  {
   "cell_type": "markdown",
   "metadata": {},
   "source": [
    "### Part 3 (Using the `time` Magic Command):"
   ]
  },
  {
   "cell_type": "markdown",
   "metadata": {},
   "source": [
    "### Example 3.1 (Checking Time using `%time` for a Single Statement):"
   ]
  },
  {
   "cell_type": "code",
   "execution_count": 8,
   "metadata": {},
   "outputs": [
    {
     "name": "stdout",
     "output_type": "stream",
     "text": [
      "CPU times: user 8 µs, sys: 1 µs, total: 9 µs\n",
      "Wall time: 22.9 µs\n"
     ]
    },
    {
     "data": {
      "text/plain": [
       "2037035976334486086268445688409378161051468393665936250636140449354381299763336706183397376"
      ]
     },
     "execution_count": 8,
     "metadata": {},
     "output_type": "execute_result"
    }
   ],
   "source": [
    "%time 2**300"
   ]
  },
  {
   "cell_type": "code",
   "execution_count": 10,
   "metadata": {},
   "outputs": [
    {
     "name": "stdout",
     "output_type": "stream",
     "text": [
      "CPU times: user 162 µs, sys: 1 µs, total: 163 µs\n",
      "Wall time: 166 µs\n"
     ]
    },
    {
     "data": {
      "text/plain": [
       "49995000"
      ]
     },
     "execution_count": 10,
     "metadata": {},
     "output_type": "execute_result"
    }
   ],
   "source": [
    "n = 10000\n",
    "%time sum(range(n))"
   ]
  },
  {
   "cell_type": "markdown",
   "metadata": {},
   "source": [
    "### Example 3.2 (Checking Time using `%time` for Multiple Statements):"
   ]
  },
  {
   "cell_type": "code",
   "execution_count": 11,
   "metadata": {
    "scrolled": true
   },
   "outputs": [
    {
     "name": "stdout",
     "output_type": "stream",
     "text": [
      "CPU times: user 263 µs, sys: 1 µs, total: 264 µs\n",
      "Wall time: 268 µs\n"
     ]
    }
   ],
   "source": [
    "n = 10000\n",
    "%time 2**300; sum(range(n))"
   ]
  },
  {
   "cell_type": "markdown",
   "metadata": {},
   "source": [
    "### Example 3.3 (Checking Time using `%time` for Cell Body):"
   ]
  },
  {
   "cell_type": "code",
   "execution_count": 7,
   "metadata": {
    "ExecuteTime": {
     "end_time": "2019-11-08T22:50:32.891277Z",
     "start_time": "2019-11-08T22:50:31.586227Z"
    }
   },
   "outputs": [
    {
     "name": "stdout",
     "output_type": "stream",
     "text": [
      "CPU times: user 3 µs, sys: 0 ns, total: 3 µs\n",
      "Wall time: 17.9 µs\n"
     ]
    }
   ],
   "source": [
    "# check time of the entire cell body \n",
    "%time\n",
    "\n",
    "empty_list_i = []\n",
    "empty_list_j = []\n",
    "\n",
    "for i in range(10000):\n",
    "    empty_list_i.append(i)\n",
    "    for j in range(1000):\n",
    "        empty_list_j.append(j)"
   ]
  },
  {
   "cell_type": "markdown",
   "metadata": {},
   "source": [
    "### Example 3.4 (Checking Time using `%%time` for Cell Body):"
   ]
  },
  {
   "cell_type": "code",
   "execution_count": 8,
   "metadata": {
    "ExecuteTime": {
     "end_time": "2019-11-08T22:50:35.899730Z",
     "start_time": "2019-11-08T22:50:34.594357Z"
    }
   },
   "outputs": [
    {
     "name": "stdout",
     "output_type": "stream",
     "text": [
      "CPU times: user 1.14 s, sys: 136 ms, total: 1.28 s\n",
      "Wall time: 1.3 s\n"
     ]
    }
   ],
   "source": [
    "%%time\n",
    "\n",
    "empty_list_i = []\n",
    "empty_list_j = []\n",
    "\n",
    "for i in range(10000):\n",
    "    empty_list_i.append(i)\n",
    "    for j in range(1000):\n",
    "        empty_list_j.append(j)"
   ]
  },
  {
   "cell_type": "markdown",
   "metadata": {},
   "source": [
    "### Part 4 (Using the `timeit` Magic Command):"
   ]
  },
  {
   "cell_type": "markdown",
   "metadata": {},
   "source": [
    "### Example 4.1 (Checking Time using `%timeit` for Single Statements):"
   ]
  },
  {
   "cell_type": "code",
   "execution_count": 14,
   "metadata": {},
   "outputs": [
    {
     "name": "stdout",
     "output_type": "stream",
     "text": [
      "1.46 µs ± 660.4 ns per loop (mean ± std. dev. of 4 runs, 2 loops each)\n"
     ]
    }
   ],
   "source": [
    "%timeit -n2 -r4 -t -p4 (2**300)"
   ]
  },
  {
   "cell_type": "markdown",
   "metadata": {},
   "source": [
    "This is translated as:\n",
    "> 1. Repeat the loop 2 times and take the best result (\"`2 loops each`\")\n",
    "> 2. Repeat the loop iteration 4 times (`\" of 4 runs\"`)\n",
    "> 3. Use the `time.time` measure of time\n",
    "> 4. Use a precision of 4 digits to display the timing result (\"`208.6 ns +- 212.8ns`\")"
   ]
  },
  {
   "cell_type": "code",
   "execution_count": 15,
   "metadata": {},
   "outputs": [
    {
     "name": "stdout",
     "output_type": "stream",
     "text": [
      "394.25 µs ± 182.46 µs per loop (mean ± std. dev. of 5 runs, 4 loops each)\n"
     ]
    }
   ],
   "source": [
    "n = 10000\n",
    "%timeit -n4 -r5 -c -p5 sum(range(n))"
   ]
  },
  {
   "cell_type": "markdown",
   "metadata": {},
   "source": [
    "This is translated as:\n",
    "> 1. Repeat the loop 4 times and take the best result (\"`4 loops each`\")\n",
    "> 2. Repeat the loop iteration 5 times (`\" of 5 runs\"`)\n",
    "> 3. Use the `time.clock` measure of time\n",
    "> 4. Use a precision of 5 digits to display the timing result (\"`215.55 micro s +- 49.87 micro s`\")"
   ]
  },
  {
   "cell_type": "markdown",
   "metadata": {},
   "source": [
    "### Example 4.2 (Checking Time using `%%timeit`):"
   ]
  },
  {
   "cell_type": "code",
   "execution_count": 16,
   "metadata": {},
   "outputs": [
    {
     "name": "stdout",
     "output_type": "stream",
     "text": [
      "1.04 s ± 48.8 ms per loop (mean ± std. dev. of 7 runs, 1 loop each)\n"
     ]
    },
    {
     "data": {
      "text/plain": [
       "<TimeitResult : 1.04 s ± 48.8 ms per loop (mean ± std. dev. of 7 runs, 1 loop each)>"
      ]
     },
     "execution_count": 16,
     "metadata": {},
     "output_type": "execute_result"
    }
   ],
   "source": [
    "%%timeit -o\n",
    "\n",
    "empty_list_i = []\n",
    "empty_list_j = []\n",
    "\n",
    "for i in range(10000):\n",
    "    empty_list_i.append(i)\n",
    "    for j in range(1000):\n",
    "        empty_list_j.append(j)"
   ]
  },
  {
   "cell_type": "code",
   "execution_count": 18,
   "metadata": {},
   "outputs": [
    {
     "name": "stdout",
     "output_type": "stream",
     "text": [
      "1.04 s ± 48.8 ms per loop (mean ± std. dev. of 7 runs, 1 loop each)\n"
     ]
    }
   ],
   "source": [
    "# store the result in the _ variable\n",
    "res = _\n",
    "print(res)"
   ]
  },
  {
   "cell_type": "markdown",
   "metadata": {},
   "source": [
    "### Problem 1:\n",
    "\n",
    "Create a list that has all the elements from 0 to 9,999 using two different methods.  Use profiling to determine how long it takes to create each list."
   ]
  },
  {
   "cell_type": "code",
   "execution_count": null,
   "metadata": {},
   "outputs": [],
   "source": [
    "### Your code here\n",
    "\n",
    "\n"
   ]
  },
  {
   "cell_type": "markdown",
   "metadata": {},
   "source": [
    "# ANSWERS"
   ]
  },
  {
   "cell_type": "markdown",
   "metadata": {},
   "source": [
    "### Problem 1:\n",
    "\n",
    "Create a list that has all the elements from 0 to 9,999 using two different methods.  Use profiling to determine how long it takes to create each list."
   ]
  },
  {
   "cell_type": "code",
   "execution_count": 33,
   "metadata": {},
   "outputs": [
    {
     "name": "stdout",
     "output_type": "stream",
     "text": [
      "215 µs ± 32.9 µs per loop (mean ± std. dev. of 7 runs, 10 loops each)\n"
     ]
    }
   ],
   "source": [
    "%%timeit -n10\n",
    "my_list = list(range(10000))"
   ]
  },
  {
   "cell_type": "code",
   "execution_count": 34,
   "metadata": {},
   "outputs": [
    {
     "name": "stdout",
     "output_type": "stream",
     "text": [
      "1.17 ms ± 238 µs per loop (mean ± std. dev. of 7 runs, 10 loops each)\n"
     ]
    }
   ],
   "source": [
    "%%timeit -n10\n",
    "my_list = []\n",
    "for i in range(10000):\n",
    "    my_list.append(i)"
   ]
  },
  {
   "cell_type": "markdown",
   "metadata": {},
   "source": [
    "We observe that the first method is much faster than the second, although both provide the same output."
   ]
  },
  {
   "cell_type": "code",
   "execution_count": null,
   "metadata": {},
   "outputs": [],
   "source": []
  }
 ],
 "metadata": {
  "kernelspec": {
   "display_name": "Python 3",
   "language": "python",
   "name": "python3"
  },
  "language_info": {
   "codemirror_mode": {
    "name": "ipython",
    "version": 3
   },
   "file_extension": ".py",
   "mimetype": "text/x-python",
   "name": "python",
   "nbconvert_exporter": "python",
   "pygments_lexer": "ipython3",
   "version": "3.6.8"
  },
  "toc": {
   "base_numbering": 1,
   "nav_menu": {},
   "number_sections": true,
   "sideBar": true,
   "skip_h1_title": false,
   "title_cell": "Table of Contents",
   "title_sidebar": "Contents",
   "toc_cell": false,
   "toc_position": {},
   "toc_section_display": true,
   "toc_window_display": true
  }
 },
 "nbformat": 4,
 "nbformat_minor": 2
}
