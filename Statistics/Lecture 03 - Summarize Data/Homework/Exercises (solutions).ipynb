{
 "cells": [
  {
   "cell_type": "markdown",
   "metadata": {},
   "source": [
    "### Problem 1:\n",
    "\n",
    "For the following array: \n",
    "\n",
    "[1, 1, 9, 5, 9, 8, 8, 9, 2, 5, 8, 5, 1, 9, 8, 5, 2, 1, 8, 4]\n",
    "\n",
    "Calculate the:\n",
    "\n",
    "a) Mean\n",
    "\n",
    "b) Median\n",
    "\n",
    "c) Mode\n",
    "\n",
    "d) Variance \n",
    "\n",
    "e) Standard Deviation"
   ]
  },
  {
   "cell_type": "markdown",
   "metadata": {},
   "source": [
    "### Solutions\n",
    "\n",
    "a) $\\frac{1 + 1 + 9 + 5 + 9 + 8 + 8 + 9 + 2 + 5 + 8 + 5 + 1 + 9 + 8 + 5 + 2 + 1 + 8 + 4}{20} = \\frac{108}{20} = 5.4$"
   ]
  },
  {
   "cell_type": "markdown",
   "metadata": {},
   "source": [
    "b) We sort the list and find the middle value or average the middle two values:\n",
    "\n",
    "$1, 1, 1, 1, 2, 2, 4, 5, 5,$ **5, 5**$, 8, 8, 8, 8, 8, 9, 9, 9, 9$\n",
    "\n",
    "The two middle values are the 5 and 5, and their average is 5."
   ]
  },
  {
   "cell_type": "markdown",
   "metadata": {},
   "source": [
    "c) \n",
    "\n",
    "| Value   |     Counts      |\n",
    "|:----------:|:-------------:|\n",
    "| 1 | 4 |\n",
    "| 2 |    2   |\n",
    "| 4 | 1 |\n",
    "| 5 | 4 |\n",
    "| **8** | **5** |\n",
    "| 9 | 4 |\n",
    "\n",
    "The mode is 8 since it is the value that has the highest counts of 5!"
   ]
  },
  {
   "cell_type": "markdown",
   "metadata": {},
   "source": [
    "d) The variance is given by the following equation:\n",
    "\n",
    "$\\frac{ [(1-5.4)^2 + (1-5.4)^2 + (9-5.4)^2 + (5-5.4)^2 + (9-5.4)^2 + (8-5.4)^2 + (8-5.4)^2 + (9-5.4)^2 + (2-5.4)^2 + (5-5.4)^2 + (8-5.4)^2 + (5-5.4)^2 + (1-5.4)^2 + (9-5.4)^2 + (8-5.4)^2 + (5-5.4)^2 + (2-5.4)^2 + (1-5.4)^2 + (8-5.4)^2 + (4-5.4)^2]}{20} = \\frac{4*19.36 + 2*11.56 + 1*1.96 + 4*0.16 + 5*6.75 + 4*12.95}{20} = \\frac{188.7}{20} = 9.43$"
   ]
  },
  {
   "cell_type": "markdown",
   "metadata": {},
   "source": [
    "e) The standard deviation is the square root of the variance\n",
    "\n",
    "$\\sqrt{9.43} = 3.07$"
   ]
  },
  {
   "cell_type": "markdown",
   "metadata": {},
   "source": [
    "### Problem 2:\n",
    "\n",
    "In a company that has 80 employees, 60 earn \\\\$10/hr and 20 earn \\\\$13/hr.\n",
    "\n",
    "a) Determine the mean earning per hour.\n",
    "\n",
    "b) If the 60 employees now earn \\\\$14/hr, how much should the hourly rate be for the remaining 20 employees to maintain the same mean earning per hour as part (a)?"
   ]
  },
  {
   "cell_type": "markdown",
   "metadata": {},
   "source": [
    "### Solutions:\n",
    "\n",
    "a) $\\frac{60*10+20*13}{80} = \\frac{600+260}{80} = \\frac{860}{80} = 10.75$\n",
    "\n",
    "b) $\\frac{10.75*80-60*14}{20} = \\frac{860-840}{20} = \\frac{20}{20} = 1$ "
   ]
  },
  {
   "cell_type": "markdown",
   "metadata": {},
   "source": [
    "### Problem 3:\n",
    "\n",
    "A car travel 10mph for 3 hrs, 15mph for 2 hrs and 20 mph for 1 hr.  What was the average speed of the car?"
   ]
  },
  {
   "cell_type": "markdown",
   "metadata": {},
   "source": [
    "### Solution\n",
    "\n",
    "$\\frac{10*3+15*2+20*1}{6} = \\frac{30+30+20}{6} = \\frac{80}{6} = 13.33$mph"
   ]
  },
  {
   "cell_type": "markdown",
   "metadata": {},
   "source": [
    "### Problem 4:\n",
    "\n",
    "The mean annual salary paid to all employees in a company is \\\\$36,000.  The mean annual salaries paid to the engineers and scientists of the company is \\\\$34,000 and $40,000 respectively.  Determine the percentage of engineers and scientists employed by the company."
   ]
  },
  {
   "cell_type": "markdown",
   "metadata": {},
   "source": [
    "### Solutions:\n",
    "\n",
    "Equation 1: $34,000X + 40,000Y = 36,000$\n",
    "\n",
    "Equation 2: $X+Y = 1$    ->    $X = 1-Y$\n",
    "\n",
    "Plug equation 2 into equation 1:\n",
    "\n",
    "$ 34,000(1-Y) + 40,000Y = 36,000$\n",
    "\n",
    "$ 34,000 - 34,000Y + 40,000Y = 36,000 $\n",
    "\n",
    "$ 6,000Y = 2,000$\n",
    "\n",
    "$ Y = \\frac{1}{3}$\n",
    "\n",
    "Therefore, $X = \\frac{2}{3}$\n"
   ]
  },
  {
   "cell_type": "markdown",
   "metadata": {},
   "source": [
    "### Problem 5:\n",
    "\n",
    "$ X = [4, 4, -4, -4]$\n",
    "\n",
    "$ Y = [7, 1, -6, -2]$\n",
    "\n",
    "a) Calculate the mean of X and of Y.\n",
    "\n",
    "b) Calculate the mean absolute deviation of X and of Y.\n",
    "\n",
    "c) Calculate the standard deviation of X and of Y.\n"
   ]
  },
  {
   "cell_type": "markdown",
   "metadata": {},
   "source": [
    "### Solutions:\n",
    "\n",
    "a) \n",
    "\n",
    "$\\bar{X} = \\frac{4+4-4-4}{4} = 0$\n",
    "\n",
    "$\\bar{Y} = \\frac{7+1-6-2}{4} = 0$\n",
    "\n",
    "b) \n",
    "\n",
    "$ X => \\frac{(4-0)+(4-0)+(4-0)+(4-0)}{4} = 4$\n",
    "\n",
    "$ Y => \\frac{(7-0)+(1-0)+(6-0)+(2-0)}{4} = 4$\n",
    "\n",
    "c)\n",
    "\n",
    "$ X = \\sqrt{\\frac{(4-0)^2+(4-0)^2+(-4-0)^2+(-4-0)^2}{4}} = 4$\n",
    "\n",
    "$ Y = \\sqrt{\\frac{(7-0)^2+(1-0)^2+(-6-0)^2+(-2-0)^2}{4}} = 4.74$\n",
    "\n",
    "Notice that the dataset of $Y$ has a bigger spread than the dataset of $X$.  As a result, we prefer to use standard deviation since it indicates this spread compared to the mean absolute values.\n"
   ]
  },
  {
   "cell_type": "markdown",
   "metadata": {},
   "source": [
    "### Problem 6:\n",
    "\n",
    "A manufacturer of a smartphone has two type of models $A$ and $B$.  The smartphones have a lifetime of $\\bar{X_a} = 1495$ days and $\\bar{X_b} = 1875$ days, and a standard deviation of $\\sigma_a$ = 280 days and $\\sigma_b$ = 310 days. Which model has the greater absolute deviation and relative deviation?"
   ]
  },
  {
   "cell_type": "markdown",
   "metadata": {},
   "source": [
    "### Solutions:\n",
    "\n",
    "Model $B$ has the largest absolute deviation of 310 days.  However, smartphone $A$ has the largest relative deviation:\n",
    "\n",
    "$A = \\frac{280}{1495} = 0.187$\n",
    "\n",
    "$B = \\frac{310}{1875} = 0.165$"
   ]
  },
  {
   "cell_type": "markdown",
   "metadata": {},
   "source": [
    "### Problem 7:\n",
    "\n",
    "A student received a grade of 84 in a math test for which the mean grade and standard deviation of the class was 76 and 10, respectively.  The student also received a grade of 90 in a physics test for which the mean grade and standard deviation of the class was 82 and 16.  In which class was the student relatively standing higher? "
   ]
  },
  {
   "cell_type": "markdown",
   "metadata": {},
   "source": [
    "### Solutions:\n",
    "\n",
    "For this problem we use the z-score. \n",
    "\n",
    "$Math = \\frac{84-76}{10} = \\frac{8}{10} = 0.8$\n",
    "\n",
    "$Physics = \\frac{90-82}{16} = \\frac{8}{16} = 0.5$\n",
    "\n",
    "The student did better in Math because they received a grade 0.8 standard deviations above the mean, compared to 0.5 standard deviations above the mean in Physics."
   ]
  },
  {
   "cell_type": "markdown",
   "metadata": {},
   "source": [
    "### Problem 8:\n",
    "\n",
    "For the following dataset [5, 7, 3, 2, 1, 8].\n",
    "\n",
    "a) Calculate the standard deviation.\n",
    "\n",
    "b) Calculate the standard deviation of the dataset after adding 5 to each number (i.e. [10, 12, 8, 7, 6, 13].\n",
    "\n",
    "c) Calculate the standard deviation of the dataset after multiplying each number by 2 (i.e. [10, 14, 6, 4, 2, 16]."
   ]
  },
  {
   "cell_type": "markdown",
   "metadata": {},
   "source": [
    "### Solutions:\n",
    "\n",
    "a) $ \\sigma = \\sqrt{\\frac{(5-4.33)^2+(7-4.33)^2+(3-4.33)^2+(2-4.33)^2+(1-4.33)^2+(8-4.33)^2}{6}} = 2.56$\n",
    "\n",
    "b) $ \\sigma = \\sqrt{\\frac{(10-9.33)^2+(12-9.33)^2+(8-9.33)^2+(7-9.33)^2+(6-9.33)^2+(13-9.33)^2}{6}} = 2.56$\n",
    "\n",
    "In summary, changing the mean does not change the standard deviation.\n",
    "\n",
    "c) $ \\sigma = \\sqrt{\\frac{(10-8.66)^2+(14-8.66)^2+(6-8.66)^2+(4-8.66)^2+(2-8.66)^2+(16-8.66)^2}{6}} = 5.12$\n",
    "\n",
    "In summary, doubling the values doubles the standard deviation."
   ]
  },
  {
   "cell_type": "code",
   "execution_count": null,
   "metadata": {},
   "outputs": [],
   "source": []
  }
 ],
 "metadata": {
  "kernelspec": {
   "display_name": "Python 3",
   "language": "python",
   "name": "python3"
  },
  "language_info": {
   "codemirror_mode": {
    "name": "ipython",
    "version": 3
   },
   "file_extension": ".py",
   "mimetype": "text/x-python",
   "name": "python",
   "nbconvert_exporter": "python",
   "pygments_lexer": "ipython3",
   "version": "3.7.3"
  }
 },
 "nbformat": 4,
 "nbformat_minor": 2
}
