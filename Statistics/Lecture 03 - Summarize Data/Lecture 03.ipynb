{
 "cells": [
  {
   "cell_type": "markdown",
   "metadata": {},
   "source": [
    "# Beginner Python and Math for Data Science\n",
    "## Lecture 03 - Summarize Data\n",
    "### Statistics "
   ]
  },
  {
   "cell_type": "markdown",
   "metadata": {},
   "source": [
    "__Purpose:__ The purpose of this lecture is to learn how to summarize data\n",
    "\n",
    "__At the end of this lecture you will be able to:__\n",
    "> 1. Summarize data using measures of Central Tendency and Variation "
   ]
  },
  {
   "cell_type": "code",
   "execution_count": 1,
   "metadata": {},
   "outputs": [],
   "source": [
    "import numpy as np\n",
    "import pandas as pd\n",
    "from scipy import stats\n",
    "import seaborn as sns\n",
    "import math \n",
    "import random\n",
    "import matplotlib.pyplot as plt\n",
    "%matplotlib inline"
   ]
  },
  {
   "cell_type": "markdown",
   "metadata": {},
   "source": [
    "### 1.1.1 Summarizing Data and Distributions:"
   ]
  },
  {
   "cell_type": "markdown",
   "metadata": {},
   "source": [
    "__Overview:__\n",
    "- It is possible to summarize data directly, but we typically create a Probability Distribution for the univariate (single variable) data that we are interested in exploring \n",
    "- Recall the definition of a Probability Distribution (Probability Distributions describes the probabilities of occurrences of possible outcomes) \n",
    "- We can use one of two types of summaries to characterize the data and distributions: \n",
    "> 1. __[Central Tendency](https://en.wikipedia.org/wiki/Central_tendency):__ Central Tendency is the central value of a Probability Distribution and can be measured in many different ways. The most common measures of Central Tendency include the following:\n",
    ">> a. __Arithmetic Mean:__  The Arithmetic Mean refers to the arithmetic average of a group values which is equal to dividing the total sum of all the values by the number of values <br> \n",
    ">> b. __Median:__ The Median refers to the middle value and is found by ordering the data and choosing the value in the middle (or the average of the two middle values if the data has an even number of values) <br>\n",
    ">> c. __Mode:__ The mode refers to the value that occurs most often in the data and is found first by calculating the frequency of each value in the data abd then finding the value that has the highest frequency \n",
    "> 2. __[Variability/Dispersion](https://en.wikipedia.org/wiki/Statistical_dispersion):__ Dispersion refers to the variability or spread of the distribution for each data point to the center of the distribution. The most common measures of Dispersion include the following: \n",
    ">> a. __Variance:__ The Variance is the average of the squared differences of each value and the mean of the data/distribution <br>\n",
    ">> b. __Standard Deviation:__ Standard Deviation is the square root of the Variance \n",
    "\n",
    "__Helpful Points:__ \n",
    "1. Based on the type of data, different measures of Central Tendency are used:\n",
    ">> a. __Nominal Data:__ The Central Tendency in Nominal Data is the Mode <br>\n",
    ">> b. __Ordinal Data:__ The Central Tendency in Ordinal Data is the Median <br>\n",
    ">> c. __Interval Data:__ The Central Tendency in Interval Data is the Mean<br>\n",
    ">> d. __Ratio Data:__ The Central Tendency in Ratio Data is the Geometric Mean \n",
    "\n",
    "__Practice:__ Examples of Summarizing Data in Python "
   ]
  },
  {
   "cell_type": "code",
   "execution_count": 2,
   "metadata": {},
   "outputs": [],
   "source": [
    "# read in data to analyze \n",
    "nba_df = pd.read_csv(\"NBA_GameLog_2010_2017.csv\")\n",
    "tor_2016_2017 = nba_df.loc[(nba_df.loc[:, \"Season\"] == 2017) & (nba_df.loc[:, \"Team\"] == \"TOR\"), ]"
   ]
  },
  {
   "cell_type": "markdown",
   "metadata": {},
   "source": [
    "### Part 1 (Central Tendency):"
   ]
  },
  {
   "cell_type": "markdown",
   "metadata": {},
   "source": [
    "### Example 1.1 (Mean of Data):"
   ]
  },
  {
   "cell_type": "code",
   "execution_count": 3,
   "metadata": {
    "scrolled": true
   },
   "outputs": [
    {
     "data": {
      "text/plain": [
       "Tm.Pts               105.750000\n",
       "Opp.Pts              102.619565\n",
       "Tm.FGM                38.739130\n",
       "Tm.FGA                83.836957\n",
       "Tm.FG_Perc             0.462924\n",
       "Tm.3PM                 8.728261\n",
       "Tm.3PA                24.250000\n",
       "Tm.3P_Perc             0.359913\n",
       "Tm.FTM                19.543478\n",
       "Tm.FTA                24.489130\n",
       "Tm.FT_Perc             0.798717\n",
       "Tm.ORB                10.206522\n",
       "Tm.TRB                42.815217\n",
       "Tm.AST                18.619565\n",
       "Tm.STL                 8.173913\n",
       "Tm.BLK                 4.826087\n",
       "Tm.TOV                11.836957\n",
       "Tm.PF                 20.836957\n",
       "Home.Attendance    18982.934783\n",
       "dtype: float64"
      ]
     },
     "execution_count": 3,
     "metadata": {},
     "output_type": "execute_result"
    }
   ],
   "source": [
    "tor_2016_2017.loc[:, [\"Tm.Pts\", \"Opp.Pts\", 'Tm.FGM', 'Tm.FGA', 'Tm.FG_Perc', 'Tm.3PM', 'Tm.3PA',\n",
    "       'Tm.3P_Perc', 'Tm.FTM', 'Tm.FTA', 'Tm.FT_Perc', 'Tm.ORB', 'Tm.TRB',\n",
    "       'Tm.AST', 'Tm.STL', 'Tm.BLK', 'Tm.TOV', 'Tm.PF', 'Home.Attendance']].mean(axis=0)"
   ]
  },
  {
   "cell_type": "markdown",
   "metadata": {},
   "source": [
    "### Example 1.2 (Median of Data):"
   ]
  },
  {
   "cell_type": "code",
   "execution_count": 4,
   "metadata": {},
   "outputs": [],
   "source": [
    "# remove scientific notation \n",
    "np.set_printoptions(suppress=True)"
   ]
  },
  {
   "cell_type": "code",
   "execution_count": 5,
   "metadata": {},
   "outputs": [
    {
     "data": {
      "text/plain": [
       "array([  105.5   ,   102.5   ,    39.    ,    84.    ,     0.4655,\n",
       "           9.    ,    24.5   ,     0.356 ,    19.    ,    24.    ,\n",
       "           0.806 ,    10.    ,    43.    ,    19.    ,     8.    ,\n",
       "           5.    ,    12.    ,    21.    , 19800.    ])"
      ]
     },
     "execution_count": 5,
     "metadata": {},
     "output_type": "execute_result"
    }
   ],
   "source": [
    "np.median(tor_2016_2017.loc[:, [\"Tm.Pts\", \"Opp.Pts\", 'Tm.FGM', 'Tm.FGA', 'Tm.FG_Perc', 'Tm.3PM', 'Tm.3PA',\n",
    "       'Tm.3P_Perc', 'Tm.FTM', 'Tm.FTA', 'Tm.FT_Perc', 'Tm.ORB', 'Tm.TRB',\n",
    "       'Tm.AST', 'Tm.STL', 'Tm.BLK', 'Tm.TOV', 'Tm.PF', 'Home.Attendance']], axis=0)"
   ]
  },
  {
   "cell_type": "markdown",
   "metadata": {},
   "source": [
    "### Example 1.3 (Mode of Data):"
   ]
  },
  {
   "cell_type": "code",
   "execution_count": 6,
   "metadata": {
    "scrolled": true
   },
   "outputs": [
    {
     "data": {
      "text/plain": [
       "ModeResult(mode=array([[   94.   ,   102.   ,    37.   ,    87.   ,     0.457,    10.   ,\n",
       "           25.   ,     0.25 ,    17.   ,    23.   ,     0.778,     8.   ,\n",
       "           43.   ,    19.   ,     7.   ,     5.   ,    11.   ,    21.   ,\n",
       "        19800.   ]]), count=array([[ 6,  7,  9,  8,  4, 17, 10,  5, 11,  7,  4, 15,  8, 11, 17, 21,\n",
       "        15, 13, 40]]))"
      ]
     },
     "execution_count": 6,
     "metadata": {},
     "output_type": "execute_result"
    }
   ],
   "source": [
    "stats.mode(tor_2016_2017.loc[:, [\"Tm.Pts\", \"Opp.Pts\", 'Tm.FGM', 'Tm.FGA', 'Tm.FG_Perc', 'Tm.3PM', 'Tm.3PA',\n",
    "       'Tm.3P_Perc', 'Tm.FTM', 'Tm.FTA', 'Tm.FT_Perc', 'Tm.ORB', 'Tm.TRB',\n",
    "       'Tm.AST', 'Tm.STL', 'Tm.BLK', 'Tm.TOV', 'Tm.PF', 'Home.Attendance']])"
   ]
  },
  {
   "cell_type": "markdown",
   "metadata": {},
   "source": [
    "### Example 1.4 (Mean of Distribution)"
   ]
  },
  {
   "cell_type": "markdown",
   "metadata": {},
   "source": [
    "First, we need to create a Probability Distribution for the variable \"Team Points\". This can be done manually by finding the relative frequency of each unique value in the variable \"Team Points\". It can also be done programmatically using the `seaborn` Package. "
   ]
  },
  {
   "cell_type": "code",
   "execution_count": 7,
   "metadata": {
    "scrolled": true
   },
   "outputs": [
    {
     "data": {
      "text/plain": [
       "Int64Index([ 94, 113, 122, 118, 101, 105, 103,  91,  96,  99, 102, 106, 109,\n",
       "            116, 112, 123, 121,  90,  89,  87, 111, 104, 115, 114,  92,  78,\n",
       "             77, 132, 131,  83,  82, 124,  95,  98, 100, 107, 108, 110, 117,\n",
       "            119, 120, 128],\n",
       "           dtype='int64')"
      ]
     },
     "execution_count": 7,
     "metadata": {},
     "output_type": "execute_result"
    }
   ],
   "source": [
    "team_points = tor_2016_2017.loc[:, \"Tm.Pts\"].value_counts().index\n",
    "team_points"
   ]
  },
  {
   "cell_type": "code",
   "execution_count": 8,
   "metadata": {},
   "outputs": [
    {
     "data": {
      "text/plain": [
       "94     0.065217\n",
       "113    0.065217\n",
       "122    0.043478\n",
       "118    0.043478\n",
       "101    0.043478\n",
       "Name: Tm.Pts, dtype: float64"
      ]
     },
     "execution_count": 8,
     "metadata": {},
     "output_type": "execute_result"
    }
   ],
   "source": [
    "team_points_prob = tor_2016_2017.loc[:, \"Tm.Pts\"].value_counts() / tor_2016_2017.loc[:, \"Tm.Pts\"].value_counts().sum()\n",
    "team_points_prob.head(5)"
   ]
  },
  {
   "cell_type": "code",
   "execution_count": 9,
   "metadata": {
    "scrolled": true
   },
   "outputs": [
    {
     "data": {
      "text/plain": [
       "<BarContainer object of 42 artists>"
      ]
     },
     "execution_count": 9,
     "metadata": {},
     "output_type": "execute_result"
    },
    {
     "data": {
      "image/png": "[encoded data removed]",
      "text/plain": [
       "<Figure size 432x288 with 1 Axes>"
      ]
     },
     "metadata": {
      "needs_background": "light"
     },
     "output_type": "display_data"
    }
   ],
   "source": [
    "# manual probability distribution (prob. mass function)\n",
    "plt.bar(team_points, team_points_prob)"
   ]
  },
  {
   "cell_type": "code",
   "execution_count": 10,
   "metadata": {},
   "outputs": [
    {
     "data": {
      "text/plain": [
       "1.0"
      ]
     },
     "execution_count": 10,
     "metadata": {},
     "output_type": "execute_result"
    }
   ],
   "source": [
    "team_points_prob.sum()"
   ]
  },
  {
   "cell_type": "markdown",
   "metadata": {},
   "source": [
    "Note that the sum of the probabilities equals to 1!"
   ]
  },
  {
   "cell_type": "code",
   "execution_count": 11,
   "metadata": {
    "scrolled": true
   },
   "outputs": [
    {
     "data": {
      "text/plain": [
       "<matplotlib.axes._subplots.AxesSubplot at 0x1043eabe0>"
      ]
     },
     "execution_count": 11,
     "metadata": {},
     "output_type": "execute_result"
    },
    {
     "data": {
      "image/png": "[encoded data removed]",
      "text/plain": [
       "<Figure size 432x288 with 1 Axes>"
      ]
     },
     "metadata": {},
     "output_type": "display_data"
    }
   ],
   "source": [
    "# kernel density plot \n",
    "sns.set_style('whitegrid')\n",
    "sns.kdeplot(tor_2016_2017.loc[:, \"Tm.Pts\"], bw=0.5)"
   ]
  },
  {
   "cell_type": "code",
   "execution_count": 12,
   "metadata": {
    "scrolled": true
   },
   "outputs": [
    {
     "data": {
      "text/plain": [
       "<matplotlib.axes._subplots.AxesSubplot at 0x1a10a669b0>"
      ]
     },
     "execution_count": 12,
     "metadata": {},
     "output_type": "execute_result"
    },
    {
     "data": {
      "image/png": "[encoded data removed]",
      "text/plain": [
       "<Figure size 432x288 with 1 Axes>"
      ]
     },
     "metadata": {},
     "output_type": "display_data"
    }
   ],
   "source": [
    "sns.distplot(tor_2016_2017.loc[:, \"Tm.Pts\"],kde=True,bins=15)"
   ]
  },
  {
   "cell_type": "markdown",
   "metadata": {},
   "source": [
    "Recall the formula for the Expected Value for a Discrete Random Variable: The sum of the product of the possible values of the Random Variable and the probability of each value occurring. We can use the dot product function for this calculation. See below:"
   ]
  },
  {
   "cell_type": "code",
   "execution_count": 13,
   "metadata": {},
   "outputs": [
    {
     "data": {
      "text/plain": [
       "105.75"
      ]
     },
     "execution_count": 13,
     "metadata": {},
     "output_type": "execute_result"
    }
   ],
   "source": [
    "distr_mean = np.dot(team_points, team_points_prob)\n",
    "distr_mean"
   ]
  },
  {
   "cell_type": "markdown",
   "metadata": {},
   "source": [
    "### Part 2 (Dispersion):"
   ]
  },
  {
   "cell_type": "markdown",
   "metadata": {},
   "source": [
    "### Example 2.1 (Variance of Data):"
   ]
  },
  {
   "cell_type": "markdown",
   "metadata": {},
   "source": [
    "$\\sigma$ = $\\sqrt{\\sigma^2}$"
   ]
  },
  {
   "cell_type": "code",
   "execution_count": 14,
   "metadata": {},
   "outputs": [
    {
     "data": {
      "text/plain": [
       "Tm.Pts             1.498379e+02\n",
       "Opp.Pts            1.505680e+02\n",
       "Tm.FGM             2.746966e+01\n",
       "Tm.FGA             4.185225e+01\n",
       "Tm.FG_Perc         3.467148e-03\n",
       "Tm.3PM             8.925346e+00\n",
       "Tm.3PA             2.414560e+01\n",
       "Tm.3P_Perc         1.202727e-02\n",
       "Tm.FTM             3.414095e+01\n",
       "Tm.FTA             4.510977e+01\n",
       "Tm.FT_Perc         8.088095e-03\n",
       "Tm.ORB             1.539644e+01\n",
       "Tm.TRB             3.569075e+01\n",
       "Tm.AST             2.346906e+01\n",
       "Tm.STL             7.090301e+00\n",
       "Tm.BLK             4.980411e+00\n",
       "Tm.TOV             9.896202e+00\n",
       "Tm.PF              1.259950e+01\n",
       "Home.Attendance    3.098411e+06\n",
       "dtype: float64"
      ]
     },
     "execution_count": 14,
     "metadata": {},
     "output_type": "execute_result"
    }
   ],
   "source": [
    "tor_2016_2017.loc[:, [\"Tm.Pts\", \"Opp.Pts\", 'Tm.FGM', 'Tm.FGA', 'Tm.FG_Perc', 'Tm.3PM', 'Tm.3PA',\n",
    "       'Tm.3P_Perc', 'Tm.FTM', 'Tm.FTA', 'Tm.FT_Perc', 'Tm.ORB', 'Tm.TRB',\n",
    "       'Tm.AST', 'Tm.STL', 'Tm.BLK', 'Tm.TOV', 'Tm.PF', 'Home.Attendance']].var(axis=0)"
   ]
  },
  {
   "cell_type": "markdown",
   "metadata": {},
   "source": [
    "### Example 2.2 (Standard Deviation of Data):"
   ]
  },
  {
   "cell_type": "code",
   "execution_count": 15,
   "metadata": {},
   "outputs": [
    {
     "data": {
      "text/plain": [
       "Tm.Pts               12.240830\n",
       "Opp.Pts              12.270614\n",
       "Tm.FGM                5.241151\n",
       "Tm.FGA                6.469331\n",
       "Tm.FG_Perc            0.058882\n",
       "Tm.3PM                2.987532\n",
       "Tm.3PA                4.913818\n",
       "Tm.3P_Perc            0.109669\n",
       "Tm.FTM                5.843025\n",
       "Tm.FTA                6.716381\n",
       "Tm.FT_Perc            0.089934\n",
       "Tm.ORB                3.923830\n",
       "Tm.TRB                5.974174\n",
       "Tm.AST                4.844488\n",
       "Tm.STL                2.662762\n",
       "Tm.BLK                2.231683\n",
       "Tm.TOV                3.145823\n",
       "Tm.PF                 3.549577\n",
       "Home.Attendance    1760.230497\n",
       "dtype: float64"
      ]
     },
     "execution_count": 15,
     "metadata": {},
     "output_type": "execute_result"
    }
   ],
   "source": [
    "tor_2016_2017.loc[:, [\"Tm.Pts\", \"Opp.Pts\", 'Tm.FGM', 'Tm.FGA', 'Tm.FG_Perc', 'Tm.3PM', 'Tm.3PA',\n",
    "       'Tm.3P_Perc', 'Tm.FTM', 'Tm.FTA', 'Tm.FT_Perc', 'Tm.ORB', 'Tm.TRB',\n",
    "       'Tm.AST', 'Tm.STL', 'Tm.BLK', 'Tm.TOV', 'Tm.PF', 'Home.Attendance']].std(axis=0)"
   ]
  },
  {
   "cell_type": "markdown",
   "metadata": {},
   "source": [
    "### Example 2.3 (Variance of Distribution):"
   ]
  },
  {
   "cell_type": "code",
   "execution_count": 16,
   "metadata": {},
   "outputs": [
    {
     "data": {
      "text/plain": [
       "148.20923913043478"
      ]
     },
     "execution_count": 16,
     "metadata": {},
     "output_type": "execute_result"
    }
   ],
   "source": [
    "distr_var = np.dot((team_points - distr_mean)**2, team_points_prob)\n",
    "distr_var"
   ]
  },
  {
   "cell_type": "markdown",
   "metadata": {},
   "source": [
    "### 1.1.1.1 The Standard Score or z-score\n",
    "\n",
    "Is a variable that measures the deviation from the mean in units of the standard deviation.  It is a dimensionless quantity, and is given by:\n",
    "\n",
    "<center>\n",
    "$z=\\frac{X-\\bar{X}}{\\sigma}$\n",
    "</center>"
   ]
  },
  {
   "cell_type": "code",
   "execution_count": null,
   "metadata": {},
   "outputs": [],
   "source": []
  }
 ],
 "metadata": {
  "kernelspec": {
   "display_name": "Python 3",
   "language": "python",
   "name": "python3"
  },
  "language_info": {
   "codemirror_mode": {
    "name": "ipython",
    "version": 3
   },
   "file_extension": ".py",
   "mimetype": "text/x-python",
   "name": "python",
   "nbconvert_exporter": "python",
   "pygments_lexer": "ipython3",
   "version": "3.7.3"
  }
 },
 "nbformat": 4,
 "nbformat_minor": 2
}
