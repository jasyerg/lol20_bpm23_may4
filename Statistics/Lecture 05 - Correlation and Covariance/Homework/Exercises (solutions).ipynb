{
 "cells": [
  {
   "cell_type": "markdown",
   "metadata": {},
   "source": [
    "### Problem 1:\n",
    "\n",
    "Find the covariance and correlation for the Temperature and Number of Customers:\n",
    "\n",
    "|Temperature   |Number of Customers   |\n",
    "|---|---|\n",
    "| 98  | 15  |\n",
    "| 87  | 12  |\n",
    "| 90  | 10  |\n",
    "| 85  | 10  |\n",
    "| 95  | 16  |\n",
    "| 75  |  7 |"
   ]
  },
  {
   "cell_type": "markdown",
   "metadata": {},
   "source": [
    "### Solutions:\n",
    "For the covariance we calulate the following:\n",
    "\n",
    "|Temperature   |Number of Customers   | Product (Temp x Num Cust)   |\n",
    "|---|---|---|\n",
    "|$(x-\\bar{x})$| $(y-\\bar{y})$|$(x-\\bar{x})(y-\\bar{y})$|\n",
    "| 98-88.3  | 15-11.6  |32.2|\n",
    "| 87-88.3  | 12-11.6  |-0.44|\n",
    "| 90-88.3  | 10-11.6  |-2.79|\n",
    "| 85-88.3  | 10-11.6  |5.56|\n",
    "| 95-88.3  | 16-11.6  |28.88|\n",
    "| 75-88.3  |  7-11.6 |62.25|"
   ]
  },
  {
   "cell_type": "markdown",
   "metadata": {},
   "source": [
    "We then add up all the products column and divide by n.\n",
    "\n",
    "$Covariance = \\frac{125.66}{6} = 20.94$\n",
    "\n",
    "For the correlation we need to divide by the product of the standard deviations.\n",
    "\n",
    "$\\sigma_{Temp} = 7.43$\n",
    "\n",
    "$\\sigma_{Numb Cust} = 3.09$\n",
    "\n",
    "$Correlation = \\frac{20.94}{7.43*3.09} = 0.912$"
   ]
  },
  {
   "cell_type": "code",
   "execution_count": null,
   "metadata": {},
   "outputs": [],
   "source": [
    "import matplotlib.pylab as plt\n",
    "%matplotlib inline"
   ]
  },
  {
   "cell_type": "code",
   "execution_count": null,
   "metadata": {},
   "outputs": [],
   "source": [
    "x = [98,87,90,85,95,75]\n",
    "y = [15,12,10,10,16,7]\n",
    "plt.scatter(x,y)\n",
    "plt.xlabel('x')\n",
    "plt.ylabel('y');"
   ]
  },
  {
   "cell_type": "code",
   "execution_count": null,
   "metadata": {},
   "outputs": [],
   "source": []
  }
 ],
 "metadata": {
  "kernelspec": {
   "display_name": "Python 3",
   "language": "python",
   "name": "python3"
  },
  "language_info": {
   "codemirror_mode": {
    "name": "ipython",
    "version": 3
   },
   "file_extension": ".py",
   "mimetype": "text/x-python",
   "name": "python",
   "nbconvert_exporter": "python",
   "pygments_lexer": "ipython3",
   "version": "3.7.3"
  }
 },
 "nbformat": 4,
 "nbformat_minor": 2
}
