{
 "cells": [
  {
   "cell_type": "markdown",
   "metadata": {},
   "source": [
    "### Problem 1:\n",
    "\n",
    "If we toss a fair coin 999 times and we get Heads on every toss. What is the probability we get a hear on the 1000th toss?"
   ]
  },
  {
   "cell_type": "markdown",
   "metadata": {},
   "source": [
    "### Solution:\n",
    "\n",
    "Given that it is a fair coin, the probability is still 0.5."
   ]
  },
  {
   "cell_type": "markdown",
   "metadata": {},
   "source": [
    "### Problem 2:\n",
    "\n",
    "If the probability that $A$ will be alive in 10 years is 0.7, and the probability that $B$ will be alive in 10 years is 0.55, then:\n",
    "\n",
    "a) What is the probability that both $A$ and $B$ are alive in 10 years?\n",
    "\n",
    "b) What is the probability that $A$ is alive in 10 years, but not $B$?\n",
    "\n",
    "c) What is the probability that $B$ is alive in 10 years, but not $A$?\n",
    "\n",
    "d) What is the probability that neither $A$ nor $B$ are alive in 10 years?\n"
   ]
  },
  {
   "cell_type": "markdown",
   "metadata": {},
   "source": [
    "### Solutions:\n",
    "\n",
    "a) $0.7*0.55 = 0.385$\n",
    "\n",
    "b) $0.7*(1-0.55) = 0.315$\n",
    "\n",
    "c) $(1-0.7)*0.55 = 0.165$\n",
    "\n",
    "d) $(1-0.7)*(1-0.5) = 0.135$\n",
    "\n",
    "Note that all probabilities add up to 1."
   ]
  },
  {
   "cell_type": "markdown",
   "metadata": {},
   "source": [
    "### Problem 3:\n",
    "\n",
    "A box contains 3 white balls and 2 black balls.  What is the probability of the first and second ball being black, if the balls are (a) replaced and (b) not replaced?"
   ]
  },
  {
   "cell_type": "markdown",
   "metadata": {},
   "source": [
    "### Solutions:\n",
    "\n",
    "a) $\\frac{2}{5}*\\frac{2}{5} = \\frac{4}{25}$\n",
    "\n",
    "b) $\\frac{2}{5}*\\frac{1}{4} = \\frac{1}{10}$"
   ]
  },
  {
   "cell_type": "markdown",
   "metadata": {},
   "source": [
    "### Problem 4:\n",
    "\n",
    "If we have a deck of 52 cards, what is the probability of:\n",
    "\n",
    "a) Drawing an Ace or a King?\n",
    "\n",
    "b) Drawing an Ace or a Spade?"
   ]
  },
  {
   "cell_type": "markdown",
   "metadata": {},
   "source": [
    "### Solutions:\n",
    "\n",
    "a) $\\frac{4}{52}+\\frac{4}{52} = \\frac{2}{13}$\n",
    "\n",
    "b) $\\frac{4}{52} + \\frac{13}{52} - \\frac{1}{52} = \\frac{16}{52} = \\frac{4}{13}$"
   ]
  },
  {
   "cell_type": "markdown",
   "metadata": {},
   "source": [
    "### Problem 5:\n",
    "\n",
    "What is the number of permutations of the letters $a$, $b$ and $c$ taken two at a time?"
   ]
  },
  {
   "cell_type": "markdown",
   "metadata": {},
   "source": [
    "### Solutions:\n",
    "\n",
    "$ab, ba, ac, ca, bc, cb$ or $3! = 3*2 = 6$"
   ]
  },
  {
   "cell_type": "markdown",
   "metadata": {},
   "source": [
    "### Problem 6:\n",
    "\n",
    "Determine the probabilities for the each of the following:\n",
    "\n",
    "a) An odd number appears on a single toss of a fair die\n",
    "\n",
    "b) At least one head appears in two tosses of a fair coin\n",
    "\n",
    "c) An ace, 10 of diamonds or 2 of spades appear in drawing a single card from a deck of 52 cards\n",
    "\n",
    "d) The sum of 7 appears in a single toss of a pair of fair dice"
   ]
  },
  {
   "cell_type": "markdown",
   "metadata": {},
   "source": [
    "### Solutions:\n",
    "\n",
    "a) There are 3 odd numbers out of six so the probability is $\\frac{3}{6} = 0.5$\n",
    "\n",
    "b) There are four options {HH, HT, TH, TT}.  Three of the options have at least one head so the probability is $\\frac{3}{4} = 0.75$\n",
    "\n",
    "c) There are 4 aces, 1 ten of diamonds and 1 two of spades, so there are 6 cards out of 52 that meet the criteria.  The probability is $\\frac{6}{52} = \\frac{3}{26}$\n",
    "\n",
    "d) Here are all the six options that add up to seven {1-6, 6-1, 2-5, 5-2, 3-4, 4-3}.  Since each die has 6 sides, there are $6*6 = 36$ options.  The probability is $\\frac{6}{36} = \\frac{1}{6}$"
   ]
  },
  {
   "cell_type": "markdown",
   "metadata": {},
   "source": [
    "### Problem 7:\n",
    "\n",
    "A ball is drawn at random from a box containing 6 red ball, 4 white balls and 5 blue balls.  Determine the probabilities that the balls drawn is:\n",
    "\n",
    "a) Red\n",
    "\n",
    "b) White\n",
    "\n",
    "c) Blue\n",
    "\n",
    "d) Not Red\n",
    "\n",
    "e) Red or White"
   ]
  },
  {
   "cell_type": "markdown",
   "metadata": {},
   "source": [
    "### Solutions:\n",
    "\n",
    "a) $\\frac{6}{15} = \\frac{2}{5}$\n",
    "\n",
    "b) $\\frac{4}{15}$\n",
    "\n",
    "c) $\\frac{5}{15} = \\frac{1}{3}$\n",
    "\n",
    "a) $\\frac{9}{15} = \\frac{3}{5}$\n",
    "\n",
    "a) $\\frac{6+4}{15} = \\frac{10}{15} = \\frac{2}{3}$"
   ]
  },
  {
   "cell_type": "markdown",
   "metadata": {},
   "source": [
    "### Problem 8:\n",
    "\n",
    "A fair dies is tossed twice.  Find the probability of getting a 4, 5 or 6 on the first toss and a 1, 2, 3 or 4 on the second toss."
   ]
  },
  {
   "cell_type": "markdown",
   "metadata": {},
   "source": [
    "### Solutions:\n",
    "\n",
    "The probability of a 4, 5 or 6 on the first toss is $P(4,5,6) = \\frac{3}{6} =\\frac{1}{2}$\n",
    "\n",
    "The probability of a 1, 2, 3 or 4 on the second toss is $P(1,2,3,4) = \\frac{4}{6} = \\frac{2}{3}$\n",
    "\n",
    "The required probability is $P(4,5,6)*P(1,2,3,4) = \\frac{1*2}{2*3} = \\frac{1}{3}$"
   ]
  },
  {
   "cell_type": "markdown",
   "metadata": {},
   "source": [
    "### Problem 9:\n",
    "\n",
    "A ball is drawn at random from a box containing 6 red ball, 4 white balls and 5 blue balls.  Three balls are drawn one at a time.  Determine the probabilities that the order drawn is red, white and blue if the balls (a) are replaced, and (b) are not replaced.\n"
   ]
  },
  {
   "cell_type": "markdown",
   "metadata": {},
   "source": [
    "### Solutions:\n",
    "\n",
    "a) $\\frac{6}{15}*\\frac{4}{15}*\\frac{5}{15} = \\frac{8}{225}$\n",
    "\n",
    "b) $\\frac{6}{15}*\\frac{4}{14}*\\frac{5}{13} = \\frac{4}{91}$\n"
   ]
  },
  {
   "cell_type": "markdown",
   "metadata": {},
   "source": [
    "### Problem 10:\n",
    "\n",
    "Find the probability of a 4 turning up at least once in two tosses of a fair die."
   ]
  },
  {
   "cell_type": "markdown",
   "metadata": {},
   "source": [
    "### Solutions:\n",
    "\n",
    "We can calculate this by determining the probability of a four never turning up and calculating the complement.\n",
    "\n",
    "$ 1-P(not 4)*P(not 4) = 1 - \\frac{5}{6}*\\frac{5}{6} = 1 - \\frac{25}{36} = \\frac{11}{36}$"
   ]
  },
  {
   "cell_type": "markdown",
   "metadata": {},
   "source": [
    "### Problem 11:\n",
    "\n",
    "A and B play 12 games of chess, of which A wins 6 games, B wins 4 games, and 2 games end in a draw.  They agree to play a match consisting of 3 games.  Find the probability that: \n",
    "\n",
    "a) A wins all 3 games, \n",
    "\n",
    "b) 2 games end in a draw, \n",
    "\n",
    "c) A and B win alternately,\n",
    "\n",
    "d) B wins at least 1 game."
   ]
  },
  {
   "cell_type": "markdown",
   "metadata": {},
   "source": [
    "### Solutions:\n",
    "\n",
    "a) $P(AAA) = \\frac{6}{12}*\\frac{6}{12}*\\frac{6}{12} = \\frac{1}{8}$\n",
    "\n",
    "b) $P(DD\\bar{D}) + P(D\\bar{D}D) + P(\\bar{D}DD) = 3*\\frac{2}{12}*\\frac{2}{12}*\\frac{10}{12} = 3*\\frac{5}{216} = \\frac{5}{72}$\n",
    "\n",
    "c) $P(ABA) + P(BAB) = \\frac{6}{12}*\\frac{4}{12}*\\frac{6}{12} + \\frac{4}{12}*\\frac{6}{12}*\\frac{4}{12} = \\frac{1}{12} + \\frac{1}{18} = \\frac{5}{36}$\n",
    "\n",
    "d) $1-P(\\bar{B}\\bar{B}\\bar{B}) = 1-\\frac{8}{12}*\\frac{8}{12}*\\frac{8}{12} = 1-\\frac{8}{27} = \\frac{19}{27}$"
   ]
  },
  {
   "cell_type": "markdown",
   "metadata": {},
   "source": [
    "### Problem 12:\n",
    "\n",
    "Assuming that the probability of a boy or girl being born is 0.5, calculate the following probabilities in a family of 3:\n",
    "\n",
    "a) The probability of 3 boys\n",
    "\n",
    "b) The probability of 3 girls\n",
    "\n",
    "c) The probability of 2 boys and 1 girl\n",
    "\n",
    "d) The probability of 2 girls and 1 boy"
   ]
  },
  {
   "cell_type": "markdown",
   "metadata": {},
   "source": [
    "### Solutions\n",
    "\n",
    "a) $P(B)P(B)P(B) = \\frac{1}{2}\\frac{1}{2}\\frac{1}{2} = \\frac{1}{8}$\n",
    "\n",
    "b) $P(G)P(G)P(G) = \\frac{1}{2}\\frac{1}{2}\\frac{1}{2} = \\frac{1}{8}$\n",
    "\n",
    "c) $P(B)P(B)P(G)+P(B)P(G)P(B)+P(G)P(B)P(B) = 3*\\frac{1}{2}\\frac{1}{2}\\frac{1}{2} = \\frac{3}{8}$\n",
    "\n",
    "d) $P(G)P(G)P(B)+P(G)P(B)P(G)+P(B)P(G)P(G) = 3*\\frac{1}{2}\\frac{1}{2}\\frac{1}{2} = \\frac{3}{8}$"
   ]
  },
  {
   "cell_type": "code",
   "execution_count": null,
   "metadata": {},
   "outputs": [],
   "source": []
  }
 ],
 "metadata": {
  "kernelspec": {
   "display_name": "Python 3",
   "language": "python",
   "name": "python3"
  },
  "language_info": {
   "codemirror_mode": {
    "name": "ipython",
    "version": 3
   },
   "file_extension": ".py",
   "mimetype": "text/x-python",
   "name": "python",
   "nbconvert_exporter": "python",
   "pygments_lexer": "ipython3",
   "version": "3.7.3"
  }
 },
 "nbformat": 4,
 "nbformat_minor": 2
}
