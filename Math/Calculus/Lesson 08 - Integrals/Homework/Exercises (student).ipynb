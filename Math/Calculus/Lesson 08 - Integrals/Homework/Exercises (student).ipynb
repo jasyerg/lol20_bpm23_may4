{
 "cells": [
  {
   "cell_type": "markdown",
   "metadata": {},
   "source": [
    "### Problem 1:\n",
    "\n",
    "Calculate the following:\n",
    "\n",
    "a) $\\int x^2dx$\n",
    "\n",
    "b) $\\int cos(x)dx$\n",
    "\n",
    "c) $\\int sin(x)dx$\n",
    "\n",
    "d) $\\int sec^2(x)dx$\n",
    "\n",
    "e) $\\int 0dx$\n",
    "\n",
    "f) $\\int 1dx$\n",
    "\n",
    "g) $\\int (3x^5-\\frac{1}{2}x^4+7x^2+x-3)dx$\n",
    "\n",
    "h) $\\int (x^{\\frac{1}{3}}-5x^2)dx$\n",
    "\n",
    "i) $\\int (x^2-sec^2(x))dx$"
   ]
  },
  {
   "cell_type": "code",
   "execution_count": null,
   "metadata": {},
   "outputs": [],
   "source": []
  }
 ],
 "metadata": {
  "kernelspec": {
   "display_name": "Python 3",
   "language": "python",
   "name": "python3"
  },
  "language_info": {
   "codemirror_mode": {
    "name": "ipython",
    "version": 3
   },
   "file_extension": ".py",
   "mimetype": "text/x-python",
   "name": "python",
   "nbconvert_exporter": "python",
   "pygments_lexer": "ipython3",
   "version": "3.7.3"
  }
 },
 "nbformat": 4,
 "nbformat_minor": 2
}
