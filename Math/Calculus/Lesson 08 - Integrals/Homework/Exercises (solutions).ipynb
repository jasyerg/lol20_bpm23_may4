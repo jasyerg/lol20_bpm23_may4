{
 "cells": [
  {
   "cell_type": "markdown",
   "metadata": {},
   "source": [
    "### Problem 1:\n",
    "\n",
    "Calculate the following:\n",
    "\n",
    "a) $\\int x^2dx$\n",
    "\n",
    "b) $\\int cos(x)dx$\n",
    "\n",
    "c) $\\int sin(x)dx$\n",
    "\n",
    "d) $\\int sec^2(x)dx$\n",
    "\n",
    "e) $\\int 0dx$\n",
    "\n",
    "f) $\\int 1dx$\n",
    "\n",
    "g) $\\int (3x^5-\\frac{1}{2}x^4+7x^2+x-3)dx$\n",
    "\n",
    "h) $\\int (x^{\\frac{1}{3}}-5x^2)dx$\n",
    "\n",
    "i) $\\int (x^2-sec^2(x))dx$"
   ]
  },
  {
   "cell_type": "markdown",
   "metadata": {},
   "source": [
    "### Solutions:\n",
    "\n",
    "a) $\\frac{x^3}{3}+C$\n",
    "\n",
    "b) $sin(x)+C$\n",
    "\n",
    "c) $-cos(x)+C$\n",
    "\n",
    "d) $tan(x)+C$\n",
    "\n",
    "e) $C$\n",
    "\n",
    "f) $x+C$"
   ]
  },
  {
   "cell_type": "markdown",
   "metadata": {},
   "source": [
    "g) $\\frac{3x^6}{6}-\\frac{x^5}{2*5}+7\\frac{x^3}{3}+\\frac{x^2}{2}-3x+C = \\frac{x^6}{2}-\\frac{x^5}{10}+\\frac{7x^3}{3}+\\frac{x^2}{2}-3x+C$\n",
    "\n",
    "h) $\\frac{3x^{\\frac{4}{3}}}{4}-\\frac{5x^3}{3}+C$\n",
    "\n",
    "i) $\\frac{x^3}{3}-tan(x)+C$"
   ]
  },
  {
   "cell_type": "code",
   "execution_count": null,
   "metadata": {},
   "outputs": [],
   "source": []
  }
 ],
 "metadata": {
  "kernelspec": {
   "display_name": "Python 3",
   "language": "python",
   "name": "python3"
  },
  "language_info": {
   "codemirror_mode": {
    "name": "ipython",
    "version": 3
   },
   "file_extension": ".py",
   "mimetype": "text/x-python",
   "name": "python",
   "nbconvert_exporter": "python",
   "pygments_lexer": "ipython3",
   "version": "3.7.3"
  }
 },
 "nbformat": 4,
 "nbformat_minor": 2
}
