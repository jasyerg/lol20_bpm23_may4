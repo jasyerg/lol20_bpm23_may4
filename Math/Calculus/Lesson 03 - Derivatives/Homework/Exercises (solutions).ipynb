{
 "cells": [
  {
   "cell_type": "markdown",
   "metadata": {},
   "source": [
    "### Problem 1:\n",
    "\n",
    "Find the $\\lim_{h\\to0} \\frac{f(x+h)-f(x)}{h}$ for the following:\n",
    "\n",
    "a) $f(x) = 3x+1$\n",
    "\n",
    "b) $f(x) = 4x^2-x$\n",
    "\n",
    "c) $f(x) = \\frac{1}{x}$\n",
    "\n"
   ]
  },
  {
   "cell_type": "markdown",
   "metadata": {},
   "source": [
    "### Solutions:\n",
    "\n",
    "a)\n",
    "\n",
    "$\\lim_{h\\to0} \\frac{3(x+h)+1-3x-1}{h} = \\lim_{h\\to0} \\frac{3h}{h} = \\lim_{h\\to0} 3 = 3$"
   ]
  },
  {
   "cell_type": "markdown",
   "metadata": {},
   "source": [
    "b)\n",
    "\n",
    "$\\lim_{h\\to0} \\frac{4(x+h)^2-(x+h)-(4x^2-x)}{h} = \n",
    "\\lim_{h\\to0} \\frac{4(x^2+2xh+h^2)-x-h-4x^2+x}{h} = \n",
    "\\lim_{h\\to0} \\frac{4x^2+8xh+4h^2-h-4x^2}{h} = \n",
    "\\lim_{h\\to0} \\frac{8xh+4h^2-h}{h} = \n",
    "\\lim_{h\\to0} \\frac{8x+4h-1}{1} = \n",
    "8x+4*0-1 = 8x-1$"
   ]
  },
  {
   "cell_type": "markdown",
   "metadata": {},
   "source": [
    "c)\n",
    "\n",
    "$\\lim_{h\\to0} \\frac{\\frac{1}{x+h}-\\frac{1}{x}}{h} =\\lim_{h\\to0} \\frac{\\frac{x-x-h}{x(x+h)}}{h} =\\lim_{h\\to0} \\frac{\\frac{-h}{x^2+xh}}{h} = \\lim_{h\\to0} \\frac{-1}{x^2+xh} = \\frac{-1}{x^2+x*0} = \\frac{-1}{x^2}$"
   ]
  },
  {
   "cell_type": "code",
   "execution_count": null,
   "metadata": {},
   "outputs": [],
   "source": []
  }
 ],
 "metadata": {
  "kernelspec": {
   "display_name": "Python 3",
   "language": "python",
   "name": "python3"
  },
  "language_info": {
   "codemirror_mode": {
    "name": "ipython",
    "version": 3
   },
   "file_extension": ".py",
   "mimetype": "text/x-python",
   "name": "python",
   "nbconvert_exporter": "python",
   "pygments_lexer": "ipython3",
   "version": "3.7.3"
  }
 },
 "nbformat": 4,
 "nbformat_minor": 2
}
