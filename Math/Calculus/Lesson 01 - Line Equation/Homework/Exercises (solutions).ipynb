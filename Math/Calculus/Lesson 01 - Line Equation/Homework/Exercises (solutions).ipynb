{
 "cells": [
  {
   "cell_type": "markdown",
   "metadata": {},
   "source": [
    "### Problem 1: \n",
    "\n",
    "Find the line equation that connects the points (1,2) and (3,5)."
   ]
  },
  {
   "cell_type": "markdown",
   "metadata": {},
   "source": [
    "### Solutions:\n",
    "\n",
    "The slope is given by:\n",
    "\n",
    "$ m  = \\frac{5-2}{3-1} = \\frac{3}{2} = 1.5 $\n",
    "\n",
    "Therefore, the line equation is:\n",
    "\n",
    "$ y = 1.5x + b $\n",
    "\n",
    "If we plug in 1 and 2 in the $x$ and $y$ values, we get:\n",
    "\n",
    "$ 2 = 1.5*1 + b $\n",
    "\n",
    "$ b = 2 - 1.5 = 0.5$\n",
    "\n",
    "The final equation is:\n",
    "\n",
    "$y = 1.5x + 0.5$"
   ]
  },
  {
   "cell_type": "markdown",
   "metadata": {},
   "source": [
    "### Problem 2:\n",
    "\n",
    "Find a line equation that contains the point (5,3) and is parallel to the line $y = -3x+2$."
   ]
  },
  {
   "cell_type": "markdown",
   "metadata": {},
   "source": [
    "### Solution:\n",
    "\n",
    "Since the lines are parallel, they have the same slope, so the form of the equation is:\n",
    "\n",
    "$ y = -3x + b$\n",
    "\n",
    "If we plug in 5 and 3 for $x$ and $y$, we can calculate $b$.\n",
    "\n",
    "$3 = -3*5+b$ \n",
    "\n",
    "$b = 3+3*5 = 3+15 = 18$\n",
    "\n",
    "The final equation is:\n",
    "\n",
    "$y = -3x+18$"
   ]
  },
  {
   "cell_type": "markdown",
   "metadata": {},
   "source": [
    "### Problem 3:\n",
    "\n",
    "For the line $y = 2x-7$, determine if the following point belong to the line:\n",
    "\n",
    "a) (3,-2)\n",
    "\n",
    "b) (1,-5)"
   ]
  },
  {
   "cell_type": "markdown",
   "metadata": {},
   "source": [
    "### Solutions:\n",
    "\n",
    "a) \n",
    "\n",
    "$y = 2*3-7 = 6-7 = -1$, this is not equal to -2 so it does not belong to the line.\n",
    "\n",
    "b)\n",
    "\n",
    "$y = 2*1 - 7 = 2 - 7 = -5$.  This point does belong to the line."
   ]
  },
  {
   "cell_type": "code",
   "execution_count": null,
   "metadata": {},
   "outputs": [],
   "source": []
  }
 ],
 "metadata": {
  "kernelspec": {
   "display_name": "Python 3",
   "language": "python",
   "name": "python3"
  },
  "language_info": {
   "codemirror_mode": {
    "name": "ipython",
    "version": 3
   },
   "file_extension": ".py",
   "mimetype": "text/x-python",
   "name": "python",
   "nbconvert_exporter": "python",
   "pygments_lexer": "ipython3",
   "version": "3.7.3"
  }
 },
 "nbformat": 4,
 "nbformat_minor": 2
}
