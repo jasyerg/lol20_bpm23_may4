{
 "cells": [
  {
   "cell_type": "markdown",
   "metadata": {},
   "source": [
    "### Problem 1:\n",
    "\n",
    "Calculate:\n",
    "\n",
    "a) $\\int_0^1 x^2dx$\n",
    "\n",
    "b) $\\int_2^5 8dx$\n",
    "\n",
    "c) $\\int_0^1 5x^2dx$\n",
    "\n",
    "d) $\\int_0^1 (x^2+4)dx$"
   ]
  },
  {
   "cell_type": "markdown",
   "metadata": {},
   "source": [
    "### Solutions:\n",
    "\n",
    "a) $\\frac{x^3}{3}+C|_0^1 = \\frac{1^3}{3}+C-\\frac{0^3}{3}-C = \\frac{1}{3}$"
   ]
  },
  {
   "cell_type": "markdown",
   "metadata": {},
   "source": [
    "b) $8x+C|_2^5 = 8*5+C-8*2-C = 40-16 = 24$"
   ]
  },
  {
   "cell_type": "markdown",
   "metadata": {},
   "source": [
    "c) $\\frac{5x^3}{3}+C|_0^1 = \\frac{5*1^3}{3}+C-\\frac{5*0^3}{3}-C = \\frac{5}{3}$"
   ]
  },
  {
   "cell_type": "markdown",
   "metadata": {},
   "source": [
    "d) $\\frac{x^3}{3}+4x+C|_0^1 = \\frac{1^3}{3}+4*1+C-\\frac{0^3}{3}-4*0-C = \\frac{1}{3}+4 = \\frac{13}{3}$"
   ]
  },
  {
   "cell_type": "code",
   "execution_count": null,
   "metadata": {},
   "outputs": [],
   "source": []
  }
 ],
 "metadata": {
  "kernelspec": {
   "display_name": "Python 3",
   "language": "python",
   "name": "python3"
  },
  "language_info": {
   "codemirror_mode": {
    "name": "ipython",
    "version": 3
   },
   "file_extension": ".py",
   "mimetype": "text/x-python",
   "name": "python",
   "nbconvert_exporter": "python",
   "pygments_lexer": "ipython3",
   "version": "3.7.3"
  }
 },
 "nbformat": 4,
 "nbformat_minor": 2
}
