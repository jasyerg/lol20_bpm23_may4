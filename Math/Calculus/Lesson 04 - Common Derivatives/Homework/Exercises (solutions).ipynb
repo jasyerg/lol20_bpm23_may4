{
 "cells": [
  {
   "cell_type": "markdown",
   "metadata": {},
   "source": [
    "### Problem 1:\n",
    "\n",
    "Calculate the following derivatives:\n",
    "\n",
    "a) $x^2$\n",
    "\n",
    "b) $x^3$\n",
    "\n",
    "c) $\\frac{1}{x}$\n",
    "\n",
    "d) $3^x$\n",
    "\n",
    "e) $x^{\\frac{3}{2}}$"
   ]
  },
  {
   "cell_type": "markdown",
   "metadata": {},
   "source": [
    "### Solutions:\n",
    "\n",
    "a) $2x$\n",
    "\n",
    "b) $3x^2$\n",
    "\n",
    "c) We calculate the derivative of $x^{-1}$ which is $-1x^{-2} = -\\frac{1}{x^2}$\n",
    "\n",
    "d) $ln(3)*3^x$\n",
    "\n",
    "e) $\\frac{3}{2}x^{\\frac{1}{2}}$"
   ]
  },
  {
   "cell_type": "code",
   "execution_count": null,
   "metadata": {},
   "outputs": [],
   "source": []
  }
 ],
 "metadata": {
  "kernelspec": {
   "display_name": "Python 3",
   "language": "python",
   "name": "python3"
  },
  "language_info": {
   "codemirror_mode": {
    "name": "ipython",
    "version": 3
   },
   "file_extension": ".py",
   "mimetype": "text/x-python",
   "name": "python",
   "nbconvert_exporter": "python",
   "pygments_lexer": "ipython3",
   "version": "3.7.3"
  }
 },
 "nbformat": 4,
 "nbformat_minor": 2
}
