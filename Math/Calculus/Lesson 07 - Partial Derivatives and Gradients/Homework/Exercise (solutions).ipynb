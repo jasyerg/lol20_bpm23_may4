{
 "cells": [
  {
   "cell_type": "markdown",
   "metadata": {},
   "source": [
    "### Problem 1:\n",
    "\n",
    "Calculate the partial derivative ($\\frac{\\partial f(x,y)}{\\partial x}$ and $\\frac{\\partial f(x,y)}{\\partial y}$) and gradient for\n",
    "\n",
    "a) $f(x,y) = y^3x^2$\n",
    "\n",
    "b) $f(x,y) = x^2+2xy+y^2$\n",
    "\n",
    "c) $f(x,y) = xy^3 + x^2y^2$\n",
    "\n",
    "d) $f(x,y) = x^3y+e^x$\n",
    "\n",
    "e) $f(x,y) = x^2sin(y)+y^2cos(x)$"
   ]
  },
  {
   "cell_type": "markdown",
   "metadata": {},
   "source": [
    "### Solutions:\n",
    "\n",
    "a) \n",
    "\n",
    "$\\frac{\\partial f(x,y)}{\\partial x} = 2xy^3$\n",
    "\n",
    "$\\frac{\\partial f(x,y)}{\\partial y} = 3y^2x^2$\n",
    "\n",
    "$\\nabla = [2xy^3,3y^2x^2]$"
   ]
  },
  {
   "cell_type": "markdown",
   "metadata": {},
   "source": [
    "b) \n",
    "\n",
    "$\\frac{\\partial f(x,y)}{\\partial x} = 2x+2y$\n",
    "\n",
    "$\\frac{\\partial f(x,y)}{\\partial y} = 2x+2y$\n",
    "\n",
    "$\\nabla = [2x+2y,2x+2y]$"
   ]
  },
  {
   "cell_type": "markdown",
   "metadata": {},
   "source": [
    "c)\n",
    "\n",
    "$\\frac{\\partial f(x,y)}{\\partial x} = y^3+2xy^2$\n",
    "\n",
    "$\\frac{\\partial f(x,y)}{\\partial y} = 3xy^2+2yx^2$\n",
    "\n",
    "$\\nabla = [y^3+2xy^2,3xy^2+2yx^2]$"
   ]
  },
  {
   "cell_type": "markdown",
   "metadata": {},
   "source": [
    "d) \n",
    "\n",
    "$\\frac{\\partial f(x,y)}{\\partial x} = 3x^2y+e^x$\n",
    "\n",
    "$\\frac{\\partial f(x,y)}{\\partial y} = x^3$\n",
    "\n",
    "$\\nabla = [3x^2y+e^x,x^3]$"
   ]
  },
  {
   "cell_type": "markdown",
   "metadata": {},
   "source": [
    "e) \n",
    "\n",
    "$\\frac{\\partial f(x,y)}{\\partial x} = 2xsin(y)-y^2sin(x)$\n",
    "\n",
    "$\\frac{\\partial f(x,y)}{\\partial y} = x^2cos(y)+2ycos(x)$\n",
    "\n",
    "$\\nabla = [2xsin(y)-y^2sin(x),x^2cos(y)+2ycos(x)]$"
   ]
  },
  {
   "cell_type": "code",
   "execution_count": null,
   "metadata": {},
   "outputs": [],
   "source": []
  }
 ],
 "metadata": {
  "kernelspec": {
   "display_name": "Python 3",
   "language": "python",
   "name": "python3"
  },
  "language_info": {
   "codemirror_mode": {
    "name": "ipython",
    "version": 3
   },
   "file_extension": ".py",
   "mimetype": "text/x-python",
   "name": "python",
   "nbconvert_exporter": "python",
   "pygments_lexer": "ipython3",
   "version": "3.7.3"
  }
 },
 "nbformat": 4,
 "nbformat_minor": 2
}
