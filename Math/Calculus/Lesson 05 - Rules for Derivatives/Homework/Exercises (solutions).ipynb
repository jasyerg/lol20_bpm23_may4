{
 "cells": [
  {
   "cell_type": "markdown",
   "metadata": {},
   "source": [
    "### Problem 1:\n",
    "\n",
    "Calculate the following derivatives:\n",
    "\n",
    "a) $x^3 + x^2$\n",
    "\n",
    "b) $x^2 - \\frac{1}{x}$\n",
    "\n",
    "c) $3x^3+5x^2+2x+4$\n",
    "\n",
    "d) $3x^7+\\sqrt{2}x^5-\\frac{4}{3}x^2+9x - \\pi$\n",
    "\n",
    "e) $e^xx^3$\n",
    "\n",
    "f) $sin(x)ln(x)$"
   ]
  },
  {
   "cell_type": "markdown",
   "metadata": {},
   "source": [
    "### Solutions:\n",
    "\n",
    "a) $3x^2+2x$\n",
    "\n",
    "b) $2x + \\frac{1}{x^2}$\n",
    "\n",
    "c) $9x^210x+2$\n",
    "\n",
    "d) $21x^6+5\\sqrt{2}x^4-\\frac{8}{3}x+9$\n",
    "\n",
    "e) $\\frac{d}{dx}e^x*x^3 + e^x*\\frac{d}{dx}x^3 = e^xx^3+3x^2e^x$\n",
    "\n",
    "f) $\\frac{d}{dx}sin(x)*ln(x) + sin(x)*\\frac{d}{dx}ln(x) = cos(x)ln(x)+\\frac{sin(x)}{x}$ "
   ]
  },
  {
   "cell_type": "code",
   "execution_count": null,
   "metadata": {},
   "outputs": [],
   "source": []
  }
 ],
 "metadata": {
  "kernelspec": {
   "display_name": "Python 3",
   "language": "python",
   "name": "python3"
  },
  "language_info": {
   "codemirror_mode": {
    "name": "ipython",
    "version": 3
   },
   "file_extension": ".py",
   "mimetype": "text/x-python",
   "name": "python",
   "nbconvert_exporter": "python",
   "pygments_lexer": "ipython3",
   "version": "3.7.3"
  }
 },
 "nbformat": 4,
 "nbformat_minor": 2
}
