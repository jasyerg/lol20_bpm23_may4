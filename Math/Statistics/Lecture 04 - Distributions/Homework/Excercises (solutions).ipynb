{
 "cells": [
  {
   "cell_type": "markdown",
   "metadata": {},
   "source": [
    "### Problem 1:\n",
    "\n",
    "a) What is the probability of getting exactly 2 heads in 6 tosses of a fair coin?\n",
    "\n",
    "b) What is the probability of getting at least 4 heads in 6 tosses of a fair coin?"
   ]
  },
  {
   "cell_type": "markdown",
   "metadata": {},
   "source": [
    "### Solution:\n",
    "\n",
    "a) We use the binomial distribution where n = 6, k = 2 and p = 0.5\n",
    "\n",
    "$n \\choose k$$p^k(1 - p)^{n-k}$ = $6 \\choose 2$$0.5^2(1 - 0.5)^{6-2}$ = $\\frac{6!}{2!4!}(0.5)^6 = \\frac{15}{64}$"
   ]
  },
  {
   "cell_type": "markdown",
   "metadata": {},
   "source": [
    "b) We use the binomial distribution where n = 6, k = 4, 5 and 6, and p = 0.5\n",
    "\n",
    "$6 \\choose 4$$0.5^4(1 - 0.5)^{6-4}$ + $6 \\choose 5$$0.5^5(1 - 0.5)^{6-5}$ + $6 \\choose 6$$0.5^6(1 - 0.5)^{6-6}$ = $\\frac{15}{64} + \\frac{6}{64} + \\frac{1}{64} = \\frac{11}{32}$"
   ]
  },
  {
   "cell_type": "markdown",
   "metadata": {},
   "source": [
    "### Problem 2:\n",
    "\n",
    "If 20% of the smartphones produced by a machine are defective: \n",
    "\n",
    "a) Determine the probability that out of 4 smartphones chosen at random, exactly 3 are defective.\n",
    "\n",
    "b) Determine the mean and the standard deviation."
   ]
  },
  {
   "cell_type": "markdown",
   "metadata": {},
   "source": [
    "### Solutions:\n",
    "\n",
    "a) \n",
    "$n \\choose k$$p^k(1 - p)^{n-k}$ = $4 \\choose 2$$0.2^3(1 - 0.2)^{4-3}$ = $\\frac{4!}{1!3!}(0.2)^3(0.8)^1 = 0.0256$\n",
    "\n",
    "b)\n",
    "\n",
    "$\\bar{X} = 4*0.4 = 1.6$\n",
    "\n",
    "$\\sigma = 4*0.4*0.6 = 0.96$"
   ]
  },
  {
   "cell_type": "markdown",
   "metadata": {},
   "source": [
    "### Problem 3:\n",
    "\n",
    "On a math test, the mean and standard deviation grades for the students were 72 and 15, respectively.  Assuming a normal distribution, calculate the z-score of students receiving a grade of:\n",
    "\n",
    "a) 60\n",
    "\n",
    "b) 93\n",
    "\n",
    "c) 72\n",
    "\n",
    "Find the grade corresponding to a z-score of:\n",
    "\n",
    "d) -1\n",
    "\n",
    "e) 1.6"
   ]
  },
  {
   "cell_type": "markdown",
   "metadata": {},
   "source": [
    "### Solutions\n",
    "\n",
    "a) $z = \\frac{X-\\bar{X}}{\\sigma} = \\frac{60-72}{15} = -0.8$\n",
    "\n",
    "b) $z = \\frac{X-\\bar{X}}{\\sigma} = \\frac{93-72}{15} = 1.4$\n",
    "\n",
    "c) $z = \\frac{X-\\bar{X}}{\\sigma} = \\frac{72-72}{15} = 0$\n",
    "\n",
    "d) $X = \\bar{X}+z\\sigma  =72 + (-1)(15) = 57$\n",
    "\n",
    "e) $X = \\bar{X}+z\\sigma  =72 + (1.6)(15) = 96$"
   ]
  },
  {
   "cell_type": "markdown",
   "metadata": {},
   "source": [
    "### Problem 4:\n",
    "\n",
    "Calculate the expected value and variance of the following:\n",
    "\n",
    "a) A Gaussian distribution with a $\\mu = 5$ and a $\\sigma^2 = 3$.\n",
    "\n",
    "b) An unfair coin with a $P(H) = 0.6$ and 100 trials (Binomial distribution)\n",
    "\n",
    "c) A uniform distribution between 20 and 30 inclusive\n",
    "\n",
    "d) An exponential distribution with a $\\lambda = 3$"
   ]
  },
  {
   "cell_type": "markdown",
   "metadata": {},
   "source": [
    "### SOLUTIONS\n",
    "\n",
    "a) \n",
    "\n",
    "$E(X) = \\mu = 5$\n",
    "\n",
    "$V(X) = \\sigma^2 = 3$"
   ]
  },
  {
   "cell_type": "markdown",
   "metadata": {},
   "source": [
    "b)\n",
    "\n",
    "$E(X) = np = 100*0.6 = 60$\n",
    "\n",
    "$V(X) = np(1-p) = 100*0.6*(1-0.6) = 100*0.6*0.4 = 24$\n"
   ]
  },
  {
   "cell_type": "markdown",
   "metadata": {},
   "source": [
    "c) \n",
    "\n",
    "$E(X) = \\frac{a+b}{2} = \\frac{20+30}{2} = 25$\n",
    "\n",
    "$V(X) = \\frac{(b-a)^2}{12} = \\frac{(30-20)^2}{12} = \\frac{(10)^2}{12} = \\frac{100}{12} = 8.33$"
   ]
  },
  {
   "cell_type": "markdown",
   "metadata": {},
   "source": [
    "d) \n",
    "\n",
    "$E(X) = \\lambda^{-1} = 3^{-1} = 0.33$\n",
    "\n",
    "$V(X) = \\lambda^{-2} = 3^{-2} = 0.11$"
   ]
  },
  {
   "cell_type": "code",
   "execution_count": null,
   "metadata": {},
   "outputs": [],
   "source": []
  }
 ],
 "metadata": {
  "kernelspec": {
   "display_name": "Python 3",
   "language": "python",
   "name": "python3"
  },
  "language_info": {
   "codemirror_mode": {
    "name": "ipython",
    "version": 3
   },
   "file_extension": ".py",
   "mimetype": "text/x-python",
   "name": "python",
   "nbconvert_exporter": "python",
   "pygments_lexer": "ipython3",
   "version": "3.7.3"
  }
 },
 "nbformat": 4,
 "nbformat_minor": 2
}
