{
 "cells": [
  {
   "cell_type": "markdown",
   "metadata": {},
   "source": [
    "# Beginner Python and Math for Data Science\n",
    "## Lecture 9 - Hypothesis Testing\n",
    "### Statistics"
   ]
  },
  {
   "cell_type": "markdown",
   "metadata": {},
   "source": [
    "__Purpose:__ The purpose of this lecture is to offer an overview of hypothesis testing. \n",
    "\n",
    "__At the end of this lecture you will be able to:__\n",
    "> 1. Perform Hypothesis Testing \n",
    "> 2. Calculate Confidence Intervals "
   ]
  },
  {
   "cell_type": "code",
   "execution_count": null,
   "metadata": {},
   "outputs": [],
   "source": [
    "import numpy as np\n",
    "import pandas as pd\n",
    "from scipy import stats\n",
    "import seaborn as sns\n",
    "import math \n",
    "import random\n",
    "import matplotlib.pyplot as plt\n",
    "%matplotlib inline"
   ]
  },
  {
   "cell_type": "markdown",
   "metadata": {},
   "source": [
    "## 1.1 Hypothesis Testing "
   ]
  },
  {
   "cell_type": "markdown",
   "metadata": {},
   "source": [
    "### 1.1.1 What is Hypothesis Testing? "
   ]
  },
  {
   "cell_type": "markdown",
   "metadata": {},
   "source": [
    "__Overview:__\n",
    "- __[Hypothesis Testing](https://en.wikipedia.org/wiki/Statistical_hypothesis_testing)__ The general idea of Hypothesis Testing is to test if some basic truth holds\n",
    "> - Some terminology:\n",
    ">> a.__Null Hypothesis:__ The Null Hypothesis is the basic truth that you would like to check if holds and is usually denoted by $H_0$<br> \n",
    ">> b. __Alternative Hypothesis:__ The Alternative Hypothesis is the opposite/converse/contradiction of the basic truth and is usually denoted by $H_a$<br> \n",
    ">> c. __One-Sided/One-Tailed Hypothesis Test:__ A one-sided/one-tailed hypothesis test is checking only if a value is less than a number OR a value is greater than a number, but not both. For example:\n",
    "\n",
    "<center> $H_0$ = the mean height of male men in the United States is equal to 160 cm ($H_0$ = 160 cm) </center>  \n",
    "\n",
    "<center> $H_a$ = the mean height of male men is greater than 160 cm ($H_a$ > 160 cm) </center> \n",
    "\n",
    ">> d. __Two-Sided/Two-Tailed Hypothesis Test:__ A two-sided/two-tailed hypothesis test checks if a value is less than a number AND checks if a value is greater than a number. For example:\n",
    "<center> $H_0$ = the mean height of male men in the United States is equal to 160 cm ($H_0$ = 160 cm) </center>  \n",
    "<center> $H_a$ = the mean height of male men is greater than 160 cm or the mean height of male men is less than 160 cm ($H_a$ 160 cm $<$ height of men $<$ 160 cm) </center> \n",
    "\n",
    "__Helpful Points:__ \n",
    "1. The goal of the Hypothesis Test is to see if we should reject the Null Hypothesis or fail to reject the Null Hypothesis\n",
    "2. Failing to reject the Null Hypothesis is NOT the same as accepting the Null Hypothesis"
   ]
  },
  {
   "cell_type": "markdown",
   "metadata": {},
   "source": [
    "### 1.1.2 Outcomes of Hypothesis Testing:"
   ]
  },
  {
   "cell_type": "markdown",
   "metadata": {},
   "source": [
    "__Overview:__ \n",
    "- Now that we have defined the Null and Alternative Hypotheses, we can consider the possible outcomes which are best summarized as 4 possible results in the following table:\n",
    "<img src=\"img36.png\">\n",
    "\n",
    "__Helpful Points:__ \n",
    "1. The Type-I Error is typically described by $\\alpha$ = P(Type-I error) = P(Reject $H_0 \\mid H_0$ is true)\n",
    "2. The Type-II Error is typically described by $\\beta$ = P(Type-II error) = P(Reject $H_a \\mid H_a$ is true)"
   ]
  },
  {
   "cell_type": "markdown",
   "metadata": {},
   "source": [
    "### 1.1.3 Performing Hypothesis Tests:"
   ]
  },
  {
   "cell_type": "markdown",
   "metadata": {},
   "source": [
    "__Overview:__ \n",
    "- There exist robust statistical tests to determine if the Null Hypothesis should be rejected or fail to be rejected\n",
    "- Performing a Hypothests Test involves 3 decisions: \n",
    "> 1. What is the Null Hypothesis? \n",
    "> 2. Do you want to control the Type-I error rate ($\\alpha$) or the Type-II error rate ($\\beta$)\n",
    "> 3. At what level do you wish to set the selected error rate (either $\\alpha$ or $\\beta$ depending on the choice made in Step 2\n",
    "\n",
    "__Helpful Points:__\n",
    "1. Typically we control the Type-I error rate ($\\alpha$) and it is common for a problem to state \"with 95% confidence\" or \"at the 5% level\" which both refer to the Type-I error rate \n",
    "\n",
    "__Practice:__ Examples of Performing Hypothesis Tests in Python "
   ]
  },
  {
   "cell_type": "markdown",
   "metadata": {},
   "source": [
    "### Example 1 (One-Sided Hypothesis Test):"
   ]
  },
  {
   "cell_type": "markdown",
   "metadata": {},
   "source": [
    "Suppose a teacher takes a sample of their class exam marks and wants to determine if the mean of the exam marks is greater than 80%, with $\\alpha = 0.05$. Assume that the class's exam marks are normally distributed so we are sampling from an underlying normal distribution. "
   ]
  },
  {
   "cell_type": "code",
   "execution_count": null,
   "metadata": {},
   "outputs": [],
   "source": [
    "exam_marks = [85, 91, 75, 79, 80, 81, 83]\n",
    "np.mean(exam_marks)"
   ]
  },
  {
   "cell_type": "markdown",
   "metadata": {},
   "source": [
    "__Step 1:__ The Null Hypothesis should be stated as $H_0 = 80$ and the Alternative Hypothesis is $H_a > 80$ since this is a One-Tailed Test "
   ]
  },
  {
   "cell_type": "markdown",
   "metadata": {},
   "source": [
    "__Step 2:__ Control the Type-I error rate $\\alpha$ at the 5% level "
   ]
  },
  {
   "cell_type": "markdown",
   "metadata": {},
   "source": [
    "__Step 3:__ Perform the Hypothesis Test which essentially involves calculating what the probability is observing a sample with the mean of 82 - did we observe this sample average by chance? \n",
    "\n",
    "__Step 3a:__ \n",
    "- We have to calculate a __critical region__ and then evaluate if the sample mean falls inside or outside the critical region\n",
    "- If the observed sample falls into the critical region, we would reject the Null Hypothesis with 1 - $\\alpha = 95$ percent confidence \n",
    "- If the observed sample falls outside the critical region, we would fail to reject the Null Hypothesis \n",
    "\n",
    "__Step 3b:__ \n",
    "- To consruct a critical region, we must calculate a __test statistic__ which represents the sample. There are many test statistics, but we will use the following statistic:\n",
    "\n",
    "<center> $T = \\frac{\\bar X - 80}{\\sqrt{S^2/n}}$ </center> \n",
    "\n",
    "- $\\bar X$ = Estimates of the mean of X (distribution that the sample has been chosen from) \n",
    "- $S^2$ = Estimates of the variance of X (distribution that the sample has been chosen from) "
   ]
  },
  {
   "cell_type": "code",
   "execution_count": null,
   "metadata": {},
   "outputs": [],
   "source": [
    "S_squared = (1/(len(exam_marks)-1))*np.sum((exam_marks - np.mean(exam_marks))**2) # unbiased sample variance \n",
    "test_stat = (np.mean(exam_marks) - 80)/(math.sqrt(S_squared / len(exam_marks))) # using formula above \n",
    "test_stat"
   ]
  },
  {
   "cell_type": "markdown",
   "metadata": {},
   "source": [
    "See the figure below to visualize where this test statistic lies"
   ]
  },
  {
   "cell_type": "markdown",
   "metadata": {},
   "source": [
    "__Step 3c:__ \n",
    "- To determine if the test statistic lies inside or outside the critical region, we need to calculuate a __critical value__ corresponding to an alpha level of $\\alpha = 0.05$. We will then compare the test statistic with the critical value\n",
    "- The critical region is defined by the area in which the following holds:\n",
    "<center> $T \\geq t_{n-1}(\\alpha)$ </center>\n",
    "- The following states that the probability of the test statistic being greater than the critical value, given that the Null Hypothesis is true, is equal to alpha \n",
    "<center> $P(T \\geq t_{n-1}(\\alpha) \\mid H_0)$ </center>"
   ]
  },
  {
   "cell_type": "code",
   "execution_count": null,
   "metadata": {},
   "outputs": [],
   "source": [
    "deg_freedom = len(exam_marks) - 1 # degrees of freedom (parameter of t distribution)\n",
    "deg_freedom"
   ]
  },
  {
   "cell_type": "code",
   "execution_count": null,
   "metadata": {},
   "outputs": [],
   "source": [
    "critical_val = stats.t.ppf(0.95, deg_freedom) # inverse cdf \n",
    "critical_val"
   ]
  },
  {
   "cell_type": "markdown",
   "metadata": {},
   "source": [
    "Since the test statistic lies to the left of the critical value, the observed sample mean falls outside the critical region and we fail to reject the Null Hypothesis at the 5% significance level. "
   ]
  },
  {
   "cell_type": "markdown",
   "metadata": {},
   "source": [
    "See the figure below to visualize where this t critical lies"
   ]
  },
  {
   "cell_type": "markdown",
   "metadata": {},
   "source": [
    "__Step 3d:__\n",
    "- We can also calculate the probability of observing a sample mean greater than the sample mean observed\n",
    "- If this probability is less than the specified alpha level, then you must fail to reject the Null Hypothesis "
   ]
  },
  {
   "cell_type": "code",
   "execution_count": null,
   "metadata": {
    "scrolled": true
   },
   "outputs": [],
   "source": [
    "1 - stats.t.cdf(test_stat, deg_freedom) # probability to the right of the test statistic (must be less than 0.05 to reject H0)"
   ]
  },
  {
   "cell_type": "code",
   "execution_count": null,
   "metadata": {},
   "outputs": [],
   "source": [
    "stats.ttest_1samp(exam_marks, 80) # one-sample t test (two-sided)"
   ]
  },
  {
   "cell_type": "code",
   "execution_count": null,
   "metadata": {},
   "outputs": [],
   "source": [
    "0.33651242446593654 / 2 # one-tailed probability"
   ]
  },
  {
   "cell_type": "markdown",
   "metadata": {},
   "source": [
    "Here is a helpful figure to understand the above steps. We computed all the numbers in the figure manually above:\n",
    "<img src=\"img_37.png\">"
   ]
  },
  {
   "cell_type": "markdown",
   "metadata": {},
   "source": [
    "Note: The above drawing is a rough sketch and is not drawn to scale."
   ]
  },
  {
   "cell_type": "markdown",
   "metadata": {},
   "source": [
    "### Problem 1:\n",
    "\n",
    "An experiment was run at a university to test the efficacy of a new drug. Participants of the experiment were randmomly assigned into a \"test\" group and a \"control group\" where the first group was given the actual drug and the second group was given a placebo drug. The purpose of the drug was to help individuals concentrate when taking standardized tests. The following outlines the results of the standardized tests after taking the respective drugs:\n",
    "\n",
    "Group 1 (test): `[91, 76, 85, 88, 65, 90]`<br>\n",
    "Group 2 (control): `[75, 95, 76, 81, 80, 93]`\n",
    "\n",
    "Determine if the mean of the two groups are different at a confidence level of 95% by performing a Hypothesis Test according to the step-by-step method outlined above. Your answer must contain your Null Hypothesis, Alternative Hypothesis, test statistic, and critical value. You can check your answer by using the SciPy function `scipy.stats.ttest_ind`, but make sure you include a manual solution.\n",
    "\n",
    "NOTE: Since we have two samples now, we can't use the T Statistic mentioned above. Instead, use the following test statistic:\n",
    "\n",
    "<center> $T = \\frac{(\\bar x_{group1} - \\bar x_{group2}) - 0}{\\sqrt{S_1^2/n_1 + S_2^2/n_2}}$ </center> "
   ]
  },
  {
   "cell_type": "code",
   "execution_count": null,
   "metadata": {},
   "outputs": [],
   "source": [
    "group_1 = [91, 76, 85, 88, 79, 90]\n",
    "group_2 = [75, 95, 76, 81, 80, 93]"
   ]
  },
  {
   "cell_type": "code",
   "execution_count": null,
   "metadata": {},
   "outputs": [],
   "source": [
    "np.mean(group_1)"
   ]
  },
  {
   "cell_type": "code",
   "execution_count": null,
   "metadata": {},
   "outputs": [],
   "source": [
    "np.mean(group_2)"
   ]
  },
  {
   "cell_type": "code",
   "execution_count": null,
   "metadata": {},
   "outputs": [],
   "source": [
    "# write your code here \n",
    "\n",
    "\n",
    "\n"
   ]
  },
  {
   "cell_type": "markdown",
   "metadata": {},
   "source": [
    "### SOLUTIONS"
   ]
  },
  {
   "cell_type": "markdown",
   "metadata": {},
   "source": [
    "### Problem 1:\n",
    "\n",
    "An experiment was run at a university to test the efficacy of a new drug. Participants of the experiment were randmomly assigned into a \"test\" group and a \"control group\" where the first group was given the actual drug and the second group was given a placebo drug. The purpose of the drug was to help individuals concentrate when taking standardized tests. The following outlines the results of the standardized tests after taking the respective drugs:\n",
    "\n",
    "Group 1 (test): `[91, 76, 85, 88, 65, 90]`<br>\n",
    "Group 2 (control): `[75, 95, 76, 81, 80, 93]`\n",
    "\n",
    "Determine if the mean of the two groups are different at a confidence level of 95% by performing a Hypothesis Test according to the step-by-step method outlined above. Your answer must contain your Null Hypothesis, Alternative Hypothesis, test statistic, and critical value. You can check your answer by using the SciPy function `scipy.stats.ttest_ind`, but make sure you include a manual solution.\n",
    "\n",
    "NOTE: Since we have two samples now, we can't use the T Statistic mentioned above. Instead, use the following test statistic:\n",
    "\n",
    "<center> $T = \\frac{(\\bar x_{group1} - \\bar x_{group2}) - 0}{\\sqrt{S_1^2/n_1 + S_2^2/n_2}}$ </center> "
   ]
  },
  {
   "cell_type": "code",
   "execution_count": null,
   "metadata": {},
   "outputs": [],
   "source": [
    "group_1 = [91, 76, 85, 88, 79, 90]\n",
    "group_2 = [75, 95, 76, 81, 80, 93]"
   ]
  },
  {
   "cell_type": "code",
   "execution_count": null,
   "metadata": {},
   "outputs": [],
   "source": [
    "np.mean(group_1)"
   ]
  },
  {
   "cell_type": "code",
   "execution_count": null,
   "metadata": {},
   "outputs": [],
   "source": [
    "np.mean(group_2)"
   ]
  },
  {
   "cell_type": "markdown",
   "metadata": {},
   "source": [
    "### Part 1 - Manually:"
   ]
  },
  {
   "cell_type": "markdown",
   "metadata": {},
   "source": [
    "__Step 1:__ The Null Hypothesis should be stated as $H_0 : \\mu_{group1} = \\mu_{group2}$ which is the same as $H_0 : \\mu_{group1} - \\mu_{group2} = 0$ and the Alternative Hypothesis is $H_a : \\mu_{group1} \\neq \\mu_{group2}$ which is the same as $H_0 : \\mu_{group1} - \\mu_{group2} \\neq 0$"
   ]
  },
  {
   "cell_type": "code",
   "execution_count": null,
   "metadata": {},
   "outputs": [],
   "source": [
    "np.mean(group_1) - np.mean(group_2)"
   ]
  },
  {
   "cell_type": "markdown",
   "metadata": {},
   "source": [
    "We are essentially saying the Null Hypothesis is that the difference between the sample mean of group 1 and the sample mean of group 2 is equal to 0. Notice, we observe this sample difference to be 1.5, but the question is - is this number significantly different than 0?"
   ]
  },
  {
   "cell_type": "markdown",
   "metadata": {},
   "source": [
    "__Step 2:__ Control the Type-I error rate $\\alpha$ at the 5% level "
   ]
  },
  {
   "cell_type": "markdown",
   "metadata": {},
   "source": [
    "__Step 3:__ Perform the Hypothesis Test which essentially involves calculating what the probability is observing a difference in sample mean equal to 1.5 - did we observe this difference in sample means by chance? \n",
    "\n",
    "__Step 3a:__ \n",
    "- We have to calculate a __critical region__ and then evaluate if the difference between the sample means falls inside or outside the critical region\n",
    "- If the observed difference in sample mean falls into the critical region, we would reject the Null Hypothesis with 1 - $\\alpha = 95%$ confidence \n",
    "- If the observed difference in sample mean outside the critical region, we would fail to reject the Null Hypothesis \n",
    "\n",
    "__Step 3b:__ \n",
    "- To consruct a critical region, we must calculate a __test statistic__ which represents the sample. There are many test statistics, but we will use the following statistic:\n",
    "\n",
    "<center> $T = \\frac{(\\bar x_{group1} - \\bar x_{group2}) - 0}{\\sqrt{S_1^2/n_1 + S_2^2/n_2}}$ </center> \n",
    "\n",
    "- $\\bar x_i$ = Estimates of the mean of group i  \n",
    "- $S_i^2$ = Estimates of the variance of group i "
   ]
  },
  {
   "cell_type": "code",
   "execution_count": null,
   "metadata": {},
   "outputs": [],
   "source": [
    "S_squared_1 = (1/(len(group_1)-1))*np.sum((group_1 - np.mean(group_1))**2)\n",
    "S_squared_2 = (1/(len(group_2)-1))*np.sum((group_2 - np.mean(group_2))**2)\n",
    "test_stat = (np.mean(group_1) - np.mean(group_2))/(math.sqrt((S_squared_1 / len(group_1)) + (S_squared_2 / len(group_2))))  \n",
    "test_stat"
   ]
  },
  {
   "cell_type": "markdown",
   "metadata": {},
   "source": [
    "__Step 3c:__ \n",
    "- To determine if the test statistic lies inside or outside the critical region, we need to calculuate a __critical value__ corresponding to an alpha level of $\\alpha = 0.05$. We will then compare the test statistic with the critical value\n",
    "- The critical region is defined by the area in which the following holds:\n",
    "<center> $T \\geq t_{n-1}(\\alpha)$ </center>\n",
    "- The following states that the probability of the test statistic being greater than the critical value, given that the Null Hypothesis is true, is equal to alpha \n",
    "<center> $P(T \\geq t_{n-1}(\\alpha) \\mid H_0)$ </center>"
   ]
  },
  {
   "cell_type": "code",
   "execution_count": null,
   "metadata": {},
   "outputs": [],
   "source": [
    "deg_freedom = len(group_1) + len(group_2) - 2\n",
    "deg_freedom"
   ]
  },
  {
   "cell_type": "code",
   "execution_count": null,
   "metadata": {},
   "outputs": [],
   "source": [
    "critical_val = stats.t.ppf(0.95, deg_freedom) # inverse cdf \n",
    "critical_val"
   ]
  },
  {
   "cell_type": "markdown",
   "metadata": {},
   "source": [
    "Since the test statistic lies to the left of the critical value, the observed sample mean falls outside the critical region and we fail to reject the Null Hypothesis at the 5% significance level. "
   ]
  },
  {
   "cell_type": "markdown",
   "metadata": {},
   "source": [
    "__Step 3d:__\n",
    "- We can also calculate the probability of observing a difference in sample means greater than the difference in sample means observed \n",
    "- If this probability is less than the specified alpha level, then you must fail to reject the Null Hypothesis "
   ]
  },
  {
   "cell_type": "code",
   "execution_count": null,
   "metadata": {
    "scrolled": true
   },
   "outputs": [],
   "source": [
    "1 - stats.t.cdf(test_stat, deg_freedom) # one-tailed probability"
   ]
  },
  {
   "cell_type": "code",
   "execution_count": null,
   "metadata": {},
   "outputs": [],
   "source": [
    "(1 - stats.t.cdf(test_stat, deg_freedom)) * 2 # two-tailed probability"
   ]
  },
  {
   "cell_type": "markdown",
   "metadata": {},
   "source": [
    "We fail to reject the Null Hypothesis since this probability is greater than alpha "
   ]
  },
  {
   "cell_type": "markdown",
   "metadata": {},
   "source": [
    "### Part 2 - Programmatically:"
   ]
  },
  {
   "cell_type": "code",
   "execution_count": null,
   "metadata": {},
   "outputs": [],
   "source": [
    "# 2 sample t test in Python (assumes equal variance which is ok for now)\n",
    "stats.ttest_ind(group_1, group_2)"
   ]
  },
  {
   "cell_type": "markdown",
   "metadata": {},
   "source": [
    "Therefore, we fail to reject the Null Hypothesis that the two group mean values are equal. "
   ]
  },
  {
   "cell_type": "code",
   "execution_count": null,
   "metadata": {},
   "outputs": [],
   "source": []
  }
 ],
 "metadata": {
  "kernelspec": {
   "display_name": "Python 3",
   "language": "python",
   "name": "python3"
  },
  "language_info": {
   "codemirror_mode": {
    "name": "ipython",
    "version": 3
   },
   "file_extension": ".py",
   "mimetype": "text/x-python",
   "name": "python",
   "nbconvert_exporter": "python",
   "pygments_lexer": "ipython3",
   "version": "3.7.3"
  }
 },
 "nbformat": 4,
 "nbformat_minor": 2
}
