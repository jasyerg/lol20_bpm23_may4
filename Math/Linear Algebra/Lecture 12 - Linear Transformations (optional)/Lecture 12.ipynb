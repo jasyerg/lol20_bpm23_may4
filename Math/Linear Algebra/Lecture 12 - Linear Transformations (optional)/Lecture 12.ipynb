{
 "cells": [
  {
   "cell_type": "markdown",
   "metadata": {},
   "source": [
    "# Beginner Python and Math for Data Science\n",
    "## Lecture 12\n",
    "### Linear Algebra - Linear Transformations"
   ]
  },
  {
   "cell_type": "markdown",
   "metadata": {},
   "source": [
    "__Purpose:__ The purpose of this lecture is to understand what are and how to apply linear transformations.  \n",
    "\n",
    "__At the end of this lecture you will be able to:__\n",
    "> 1. Work with linear transformations."
   ]
  },
  {
   "cell_type": "code",
   "execution_count": 1,
   "metadata": {},
   "outputs": [],
   "source": [
    "import numpy as np \n",
    "from scipy import linalg \n",
    "import matplotlib.pyplot as plt\n",
    "from mpl_toolkits.mplot3d import axes3d\n",
    "%matplotlib inline "
   ]
  },
  {
   "cell_type": "markdown",
   "metadata": {},
   "source": [
    "### 1.1.1 Linear Transformations"
   ]
  },
  {
   "cell_type": "markdown",
   "metadata": {},
   "source": [
    "__Overview:__\n",
    "- __Linear Transformation:__ A linear transformation refers to a linear change that is applied to a given vector as a result of some \"action\" from another object\n",
    "- Recall our definitions of functions which involved inputs and outputs, where the function applied some operation to the input, resulting in the output. Linear transformations act in the same way and can be represented in matrix representation\n",
    "- In the matrix world, matrices act as functions and are applied to input vectors as matrix-vector products to create new, transformed output vectors in the following form:\n",
    "<center> If $\\pmb A \\in \\mathbb R^{m x n}$, we consider the linear transformation as $T_A$, the input vector as $\\pmb x$, and the output vector as $\\pmb y$:</center> \n",
    "<center>$\\pmb y = T_A(\\pmb x)$ or simply $\\pmb y = \\pmb A \\pmb x$ </center>\n",
    "\n",
    "__Helpful Points:__\n",
    "1. In n-dimensional space, we define the transformation more precisely as \"linear transformation of n-dimensional space\"\n",
    "2. The word \"transformation\" simply means \"function\" (i.e. $f(x) = x^2$ is a transformation that squares the input value\n",
    "3. The most \"intersting\" part of linear transformations is that we can identify the transformational effects to any input vector if we can identify the transformational effects to the standard basis for the input space \n",
    "\n",
    "__Practice:__ Examples of Linear Transformations in Python "
   ]
  },
  {
   "cell_type": "markdown",
   "metadata": {},
   "source": [
    "### Example 1 (Linear Transformation of 2-Dimensional Space):"
   ]
  },
  {
   "cell_type": "markdown",
   "metadata": {},
   "source": [
    "### Example 1.1 (Algebraically):"
   ]
  },
  {
   "cell_type": "code",
   "execution_count": 2,
   "metadata": {},
   "outputs": [
    {
     "name": "stdout",
     "output_type": "stream",
     "text": [
      "[1 2]\n",
      "[[2 2]\n",
      " [1 3]]\n"
     ]
    }
   ],
   "source": [
    "x = np.array([1,2])\n",
    "mat = np.array([[2,2],[1,3]])\n",
    "print(x)\n",
    "print(mat)"
   ]
  },
  {
   "cell_type": "code",
   "execution_count": 3,
   "metadata": {
    "scrolled": true
   },
   "outputs": [
    {
     "name": "stdout",
     "output_type": "stream",
     "text": [
      "[6 7]\n"
     ]
    }
   ],
   "source": [
    "y = np.dot(mat, x)\n",
    "print(y)"
   ]
  },
  {
   "cell_type": "markdown",
   "metadata": {},
   "source": [
    "Notes:\n",
    "\n",
    "- The vector $[1,2]^T$ was transformed to the vector $[6,7]^T$\n",
    "- Below is the manual calculation"
   ]
  },
  {
   "cell_type": "code",
   "execution_count": 4,
   "metadata": {},
   "outputs": [
    {
     "data": {
      "text/plain": [
       "array([2, 1])"
      ]
     },
     "execution_count": 4,
     "metadata": {},
     "output_type": "execute_result"
    }
   ],
   "source": [
    "mat[:,0] * x[0] "
   ]
  },
  {
   "cell_type": "code",
   "execution_count": 5,
   "metadata": {},
   "outputs": [
    {
     "data": {
      "text/plain": [
       "array([4, 6])"
      ]
     },
     "execution_count": 5,
     "metadata": {},
     "output_type": "execute_result"
    }
   ],
   "source": [
    "mat[:,1] * x[1]"
   ]
  },
  {
   "cell_type": "code",
   "execution_count": 6,
   "metadata": {},
   "outputs": [
    {
     "data": {
      "text/plain": [
       "array([6, 7])"
      ]
     },
     "execution_count": 6,
     "metadata": {},
     "output_type": "execute_result"
    }
   ],
   "source": [
    "(mat[:,0] * x[0]) + (mat[:,1] * x[1]) # same result as above "
   ]
  },
  {
   "cell_type": "markdown",
   "metadata": {},
   "source": [
    "### Example 1.2 (Graphically):"
   ]
  },
  {
   "cell_type": "code",
   "execution_count": 7,
   "metadata": {
    "scrolled": true
   },
   "outputs": [
    {
     "data": {
      "image/png": "[encoded data removed]",
      "text/plain": [
       "<Figure size 432x288 with 1 Axes>"
      ]
     },
     "metadata": {
      "needs_background": "light"
     },
     "output_type": "display_data"
    }
   ],
   "source": [
    "soa = np.array([[0, 0, 1, 2], [0, 0, 6, 7]])\n",
    "X, Y, U, V = zip(*soa)\n",
    "plt.figure()\n",
    "ax = plt.gca()\n",
    "ax.quiver(X, Y, U, V, angles='xy', scale_units='xy', scale=1, color = [\"red\", \"blue\"])\n",
    "ax.set_xlim([0, 7])\n",
    "ax.set_ylim([0, 7])\n",
    "plt.title('Linear Transformation (x = red, y = blue)')\n",
    "plt.xlabel('$1$', fontsize = 20)\n",
    "plt.ylabel('$2$', fontsize = 20)\n",
    "plt.grid()"
   ]
  },
  {
   "cell_type": "markdown",
   "metadata": {},
   "source": [
    "### Example 1.3 (Predict Transformation of any Input Vector):"
   ]
  },
  {
   "cell_type": "markdown",
   "metadata": {},
   "source": [
    "To determine the transformational effect of any input vector, we have to know what effect the transformation has on the standard basis of the input space. In the two-dimensional vector space, we know the standard basis to be $ u = [0,1]$ and $v = [1,0]$. "
   ]
  },
  {
   "cell_type": "code",
   "execution_count": 8,
   "metadata": {},
   "outputs": [
    {
     "name": "stdout",
     "output_type": "stream",
     "text": [
      "[1 0]\n",
      "[0 1]\n"
     ]
    }
   ],
   "source": [
    "u = np.array([1,0])\n",
    "v = np.array([0,1])\n",
    "print(u)\n",
    "print(v)"
   ]
  },
  {
   "cell_type": "code",
   "execution_count": 9,
   "metadata": {},
   "outputs": [
    {
     "name": "stdout",
     "output_type": "stream",
     "text": [
      "[2 1]\n",
      "[2 3]\n"
     ]
    }
   ],
   "source": [
    "u_transformed = np.dot(mat, u)\n",
    "v_transformed = np.dot(mat, v)\n",
    "print(u_transformed)\n",
    "print(v_transformed)"
   ]
  },
  {
   "cell_type": "code",
   "execution_count": 10,
   "metadata": {
    "scrolled": false
   },
   "outputs": [
    {
     "data": {
      "image/png": "[encoded data removed]",
      "text/plain": [
       "<Figure size 432x288 with 1 Axes>"
      ]
     },
     "metadata": {
      "needs_background": "light"
     },
     "output_type": "display_data"
    }
   ],
   "source": [
    "soa = np.array([[0, 0, 1, 0], [0, 0, 0, 1], [0, 0, 2, 1], [0, 0, 2, 3]])\n",
    "X, Y, U, V = zip(*soa)\n",
    "plt.figure()\n",
    "ax = plt.gca()\n",
    "ax.quiver(X, Y, U, V, angles='xy', scale_units='xy', scale=1, color = [\"red\", \"blue\", \"green\", \"black\"])\n",
    "ax.set_xlim([-5, 5])\n",
    "ax.set_ylim([0, 5])\n",
    "plt.title('Linear Transformation (u = red, v = blue, u_transformed = green, v_transformed = black)')\n",
    "plt.xlabel('$1$', fontsize = 20)\n",
    "plt.ylabel('$2$', fontsize = 20)\n",
    "plt.grid()"
   ]
  },
  {
   "cell_type": "markdown",
   "metadata": {},
   "source": [
    "Now that we know how the 2 standard basis vectors have been transformed, we can use this fact to predict the transformational effect of any input vector:"
   ]
  },
  {
   "cell_type": "code",
   "execution_count": 11,
   "metadata": {},
   "outputs": [
    {
     "name": "stdout",
     "output_type": "stream",
     "text": [
      "[4 5]\n"
     ]
    }
   ],
   "source": [
    "x_new = np.array([4,5])\n",
    "print(x_new)"
   ]
  },
  {
   "cell_type": "markdown",
   "metadata": {},
   "source": [
    "__Method 1__ - Find the output vector $\\pmb y_{new}$ using the transformed standard basis vectors in the following form:\n",
    "<center> $x_{new,1} \\pmb u_{transformed} + x_{new,2} \\pmb v_{transformed} = 4[2,1]^T + 5[2,3]^T = \\pmb y_{new}$</center>"
   ]
  },
  {
   "cell_type": "code",
   "execution_count": 12,
   "metadata": {},
   "outputs": [
    {
     "data": {
      "text/plain": [
       "array([18, 19])"
      ]
     },
     "execution_count": 12,
     "metadata": {},
     "output_type": "execute_result"
    }
   ],
   "source": [
    "x_new[0] * u_transformed + x_new[1] * v_transformed"
   ]
  },
  {
   "cell_type": "markdown",
   "metadata": {},
   "source": [
    "__Method 2__ - Find the output vector $\\pmb y_{new}$ using the matrix transformation in the standard form:"
   ]
  },
  {
   "cell_type": "code",
   "execution_count": 13,
   "metadata": {
    "scrolled": true
   },
   "outputs": [
    {
     "data": {
      "text/plain": [
       "array([18, 19])"
      ]
     },
     "execution_count": 13,
     "metadata": {},
     "output_type": "execute_result"
    }
   ],
   "source": [
    "np.dot(mat, x_new)"
   ]
  },
  {
   "cell_type": "markdown",
   "metadata": {},
   "source": [
    "We can see that the two results are the same."
   ]
  },
  {
   "cell_type": "markdown",
   "metadata": {},
   "source": [
    "### Example 2 (Linear Transformation of 3-Dimensional Space):"
   ]
  },
  {
   "cell_type": "markdown",
   "metadata": {},
   "source": [
    "### Example 2.1 (Algebraically):"
   ]
  },
  {
   "cell_type": "code",
   "execution_count": 14,
   "metadata": {
    "scrolled": true
   },
   "outputs": [
    {
     "name": "stdout",
     "output_type": "stream",
     "text": [
      "[1 2 1]\n",
      "[[2 2 1]\n",
      " [1 2 0]\n",
      " [0 0 2]]\n"
     ]
    }
   ],
   "source": [
    "x = np.array([1,2,1])\n",
    "mat = np.array([[2,2,1],[1,2,0],[0,0,2]])\n",
    "print(x)\n",
    "print(mat)"
   ]
  },
  {
   "cell_type": "code",
   "execution_count": 15,
   "metadata": {
    "scrolled": true
   },
   "outputs": [
    {
     "name": "stdout",
     "output_type": "stream",
     "text": [
      "[7 5 2]\n"
     ]
    }
   ],
   "source": [
    "y = np.dot(mat, x)\n",
    "print(y)"
   ]
  },
  {
   "cell_type": "markdown",
   "metadata": {},
   "source": [
    "Notes:\n",
    "\n",
    "- The vector $[1,2,1]^T$ was transformed to the vector $[7,5,2]^T$\n",
    "- Recall matrix-vector products - each column of the matrix is multiplied by the associated element from the vector. See manual calculation below to refresh your memory:"
   ]
  },
  {
   "cell_type": "code",
   "execution_count": 16,
   "metadata": {},
   "outputs": [
    {
     "data": {
      "text/plain": [
       "array([2, 1, 0])"
      ]
     },
     "execution_count": 16,
     "metadata": {},
     "output_type": "execute_result"
    }
   ],
   "source": [
    "mat[:,0] * x[0] "
   ]
  },
  {
   "cell_type": "code",
   "execution_count": 17,
   "metadata": {},
   "outputs": [
    {
     "data": {
      "text/plain": [
       "array([4, 4, 0])"
      ]
     },
     "execution_count": 17,
     "metadata": {},
     "output_type": "execute_result"
    }
   ],
   "source": [
    "mat[:,1] * x[1]"
   ]
  },
  {
   "cell_type": "code",
   "execution_count": 18,
   "metadata": {},
   "outputs": [
    {
     "data": {
      "text/plain": [
       "array([1, 0, 2])"
      ]
     },
     "execution_count": 18,
     "metadata": {},
     "output_type": "execute_result"
    }
   ],
   "source": [
    "mat[:,2] * x[2]"
   ]
  },
  {
   "cell_type": "code",
   "execution_count": 19,
   "metadata": {},
   "outputs": [
    {
     "data": {
      "text/plain": [
       "array([7, 5, 2])"
      ]
     },
     "execution_count": 19,
     "metadata": {},
     "output_type": "execute_result"
    }
   ],
   "source": [
    "(mat[:,0] * x[0]) + (mat[:,1] * x[1] + mat[:,2] * x[2]) # same result as above "
   ]
  },
  {
   "cell_type": "markdown",
   "metadata": {},
   "source": [
    "### Example 2.2 (Graphically):"
   ]
  },
  {
   "cell_type": "code",
   "execution_count": 20,
   "metadata": {
    "scrolled": false
   },
   "outputs": [
    {
     "data": {
      "image/png": "[encoded data removed]",
      "text/plain": [
       "<Figure size 432x288 with 1 Axes>"
      ]
     },
     "metadata": {
      "needs_background": "light"
     },
     "output_type": "display_data"
    }
   ],
   "source": [
    "fig = plt.figure()\n",
    "ax = fig.gca(projection=\"3d\")\n",
    "soa = np.array([[0, 0, 0, 1, 2, 1], [0, 0, 0, 7, 5, 2]])\n",
    "X, Y, Z, U, V, W = zip(*soa)\n",
    "ax.set_xlim3d(0, 7)\n",
    "ax.set_ylim3d(0, 5)\n",
    "ax.set_zlim3d(0, 5)\n",
    "ax.quiver(X, Y, Z, U, V, W, length=1, arrow_length_ratio = 0.1, colors = [\"blue\", \"green\"])\n",
    "plt.title('Linear Transformation (x = blue, y = green)')\n",
    "ax.set_xlabel('$1$', fontsize=20)\n",
    "ax.set_ylabel('$2$', fontsize=20)\n",
    "ax.set_zlabel('$3$', fontsize=20)\n",
    "plt.show()"
   ]
  },
  {
   "cell_type": "markdown",
   "metadata": {},
   "source": [
    "### Example 2.3 (Predict Transformation of any Input Vector):"
   ]
  },
  {
   "cell_type": "markdown",
   "metadata": {},
   "source": [
    "To determine the transformational effect of any input vector, we have to know what effect the transformation has on the standard basis of the input space. In the three-dimensional vector space, the standard basis to be $ u = [1,0,0]$, $v = [0,1,0]$, and $w = [0,0,1]$."
   ]
  },
  {
   "cell_type": "code",
   "execution_count": 21,
   "metadata": {},
   "outputs": [
    {
     "name": "stdout",
     "output_type": "stream",
     "text": [
      "[1 0 0]\n",
      "[0 1 0]\n",
      "[0 0 1]\n"
     ]
    }
   ],
   "source": [
    "u = np.array([1,0,0])\n",
    "v = np.array([0,1,0])\n",
    "w = np.array([0,0,1])\n",
    "print(u)\n",
    "print(v)\n",
    "print(w)"
   ]
  },
  {
   "cell_type": "code",
   "execution_count": 22,
   "metadata": {},
   "outputs": [
    {
     "name": "stdout",
     "output_type": "stream",
     "text": [
      "[2 1 0]\n",
      "[2 2 0]\n",
      "[1 0 2]\n"
     ]
    }
   ],
   "source": [
    "u_transformed = np.dot(mat, u)\n",
    "v_transformed = np.dot(mat, v)\n",
    "w_transformed = np.dot(mat, w)\n",
    "print(u_transformed)\n",
    "print(v_transformed)\n",
    "print(w_transformed)"
   ]
  },
  {
   "cell_type": "code",
   "execution_count": 23,
   "metadata": {
    "scrolled": false
   },
   "outputs": [
    {
     "data": {
      "image/png": "[encoded data removed]",
      "text/plain": [
       "<Figure size 432x288 with 1 Axes>"
      ]
     },
     "metadata": {
      "needs_background": "light"
     },
     "output_type": "display_data"
    }
   ],
   "source": [
    "fig = plt.figure()\n",
    "ax = fig.gca(projection=\"3d\")\n",
    "soa = np.array([[0, 0, 0, 2, 1, 0], [0, 0, 0, 2, 2, 0], [0, 0, 0, 1, 0, 2]])\n",
    "X, Y, Z, U, V, W = zip(*soa)\n",
    "ax.set_xlim3d(0, 5)\n",
    "ax.set_ylim3d(0, 5)\n",
    "ax.set_zlim3d(0, 5)\n",
    "ax.quiver(X, Y, Z, U, V, W, length=1, arrow_length_ratio = 0.1, colors = [\"red\", \"blue\", \"green\"])\n",
    "plt.title('Linear Transformation (u_transformed = red, v_transformed = blue, w_transformed = green)')\n",
    "ax.set_xlabel('$1$', fontsize=20)\n",
    "ax.set_ylabel('$2$', fontsize=20)\n",
    "ax.set_zlabel('$3$', fontsize=20)\n",
    "plt.show()"
   ]
  },
  {
   "cell_type": "markdown",
   "metadata": {},
   "source": [
    "Now that we know how the 3 standard basis vectors have been transformed, we can use this fact to predict the transformational effect of any input vector:"
   ]
  },
  {
   "cell_type": "code",
   "execution_count": 24,
   "metadata": {},
   "outputs": [
    {
     "name": "stdout",
     "output_type": "stream",
     "text": [
      "[4 5 3]\n"
     ]
    }
   ],
   "source": [
    "x_new = np.array([4,5,3])\n",
    "print(x_new)"
   ]
  },
  {
   "cell_type": "markdown",
   "metadata": {},
   "source": [
    "__Method 1__ - Find the output vector $\\pmb y_{new}$ using the transformed standard basis vectors in the following form:\n",
    "<center> $x_{new,1} \\pmb u_{transformed} + x_{new,2} \\pmb v_{transformed} + x_{new,3} \\pmb w_{transformed} = 4[2,1,0]^T + 5[2,2,0]^T + 3[1,0,2]^T= \\pmb y_{new}$</center>"
   ]
  },
  {
   "cell_type": "code",
   "execution_count": 25,
   "metadata": {},
   "outputs": [
    {
     "data": {
      "text/plain": [
       "array([21, 14,  6])"
      ]
     },
     "execution_count": 25,
     "metadata": {},
     "output_type": "execute_result"
    }
   ],
   "source": [
    "x_new[0] * u_transformed + x_new[1] * v_transformed + x_new[2] * w_transformed"
   ]
  },
  {
   "cell_type": "markdown",
   "metadata": {},
   "source": [
    "__Method 2__ - Find the output vector $\\pmb y_{new}$ using the matrix transformation in the standard form:"
   ]
  },
  {
   "cell_type": "code",
   "execution_count": 26,
   "metadata": {
    "scrolled": true
   },
   "outputs": [
    {
     "data": {
      "text/plain": [
       "array([21, 14,  6])"
      ]
     },
     "execution_count": 26,
     "metadata": {},
     "output_type": "execute_result"
    }
   ],
   "source": [
    "np.dot(mat, x_new)"
   ]
  },
  {
   "cell_type": "markdown",
   "metadata": {},
   "source": [
    "We can see that the two results are the same."
   ]
  },
  {
   "cell_type": "code",
   "execution_count": null,
   "metadata": {},
   "outputs": [],
   "source": []
  }
 ],
 "metadata": {
  "kernelspec": {
   "display_name": "Python 3",
   "language": "python",
   "name": "python3"
  },
  "language_info": {
   "codemirror_mode": {
    "name": "ipython",
    "version": 3
   },
   "file_extension": ".py",
   "mimetype": "text/x-python",
   "name": "python",
   "nbconvert_exporter": "python",
   "pygments_lexer": "ipython3",
   "version": "3.7.3"
  }
 },
 "nbformat": 4,
 "nbformat_minor": 2
}
