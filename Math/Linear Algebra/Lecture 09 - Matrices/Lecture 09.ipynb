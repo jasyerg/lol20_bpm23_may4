{
 "cells": [
  {
   "cell_type": "markdown",
   "metadata": {},
   "source": [
    "# Beginner Python and Math for Data Science\n",
    "## Lecture 9\n",
    "### Linear Algebra - Matrices"
   ]
  },
  {
   "cell_type": "markdown",
   "metadata": {},
   "source": [
    "__Purpose:__ The purpose of this lecture is to expand our Linear Algebra knowledge to work with matrices.\n",
    "\n",
    "__At the end of this lecture you will be able to:__\n",
    "> 1. Understand what matrices are."
   ]
  },
  {
   "cell_type": "code",
   "execution_count": 1,
   "metadata": {},
   "outputs": [],
   "source": [
    "import numpy as np \n",
    "from scipy import linalg \n",
    "import matplotlib.pyplot as plt\n",
    "from mpl_toolkits.mplot3d import axes3d\n",
    "%matplotlib inline "
   ]
  },
  {
   "cell_type": "markdown",
   "metadata": {},
   "source": [
    "## 1.1 Matrices "
   ]
  },
  {
   "cell_type": "markdown",
   "metadata": {},
   "source": [
    "### 1.1 What is a Matrix?"
   ]
  },
  {
   "cell_type": "markdown",
   "metadata": {},
   "source": [
    "__Overview:__\n",
    "- __[Matrix](https://en.wikipedia.org/wiki/Matrix_(mathematics)):__ A Matrix is simply a two-dimensional array that consists of numbers along the rows and columns \n",
    "- Typically, we characterize matrices by their shape: an $m$ $x$ $n$ matrix $\\pmb A$ is said to have $m$ rows and $n$ columns\n",
    "- Each element in the matrix is denoted with `i` and `j` notation in the form of $a_{i,j}$ where $i$ represents the row index and $j$ represents the column index \n",
    "- You will notice that the \"rows\" or \"columns\" in a matrix are just vectors as we have seen so far\n",
    "\n",
    "__Helpful Points:__\n",
    "1. In Python, matrices are considered two-dimensional arrays and are of the type `numpy.ndarray`\n",
    "2. There are some \"special\" matrices such as:\n",
    ">a. An __[Identity Matrix](https://en.wikipedia.org/wiki/Identity_matrix)__ is a matrix that has ones along the main diagonal and zeors everywhere else <br>\n",
    ">b. A __Zero Matrix__ is a matrix with zeros on every element of the matrix <br>\n",
    ">c. A __[Square Matrix](https://en.wikipedia.org/wiki/Square_matrix)__ is a matrix with equal number of rows as columns <br>\n",
    ">d. A __[Symmetric Matrix](https://en.wikipedia.org/wiki/Symmetric_matrix)__ is a matrix that can be flipped (transposed) without affecting the elements of the matrix <br>\n",
    ">e. A __[Diagonal Matrix](https://en.wikipedia.org/wiki/Diagonal_matrix)__ is a matrix the main diagonal has non-zero elements from the upper left to the lower right and the remaining elements are zero<br>\n",
    "\n",
    "__Practice:__ Examples of matrices in Python "
   ]
  },
  {
   "cell_type": "markdown",
   "metadata": {},
   "source": [
    "### Example 1 (Create Square Matrix):"
   ]
  },
  {
   "cell_type": "code",
   "execution_count": 2,
   "metadata": {
    "scrolled": true
   },
   "outputs": [
    {
     "name": "stdout",
     "output_type": "stream",
     "text": [
      "[[1 2]\n",
      " [3 4]]\n"
     ]
    }
   ],
   "source": [
    "my_matrix = np.array([[1,2], [3,4]])\n",
    "print(my_matrix)"
   ]
  },
  {
   "cell_type": "code",
   "execution_count": 3,
   "metadata": {},
   "outputs": [
    {
     "data": {
      "text/plain": [
       "2"
      ]
     },
     "execution_count": 3,
     "metadata": {},
     "output_type": "execute_result"
    }
   ],
   "source": [
    "my_matrix.ndim"
   ]
  },
  {
   "cell_type": "code",
   "execution_count": 4,
   "metadata": {},
   "outputs": [
    {
     "data": {
      "text/plain": [
       "(2, 2)"
      ]
     },
     "execution_count": 4,
     "metadata": {},
     "output_type": "execute_result"
    }
   ],
   "source": [
    "my_matrix.shape"
   ]
  },
  {
   "cell_type": "markdown",
   "metadata": {},
   "source": [
    "The matrix above is square because there are equal rows and columns. "
   ]
  },
  {
   "cell_type": "markdown",
   "metadata": {},
   "source": [
    "### Example 2 (Create Non-Square Matrix):"
   ]
  },
  {
   "cell_type": "code",
   "execution_count": 11,
   "metadata": {},
   "outputs": [
    {
     "name": "stdout",
     "output_type": "stream",
     "text": [
      "[[1 2]\n",
      " [4 5]\n",
      " [7 8]]\n"
     ]
    }
   ],
   "source": [
    "my_matrix_1 = np.array([[1,2], [4,5], [7,8]])\n",
    "print(my_matrix_1)"
   ]
  },
  {
   "cell_type": "code",
   "execution_count": 12,
   "metadata": {},
   "outputs": [
    {
     "data": {
      "text/plain": [
       "2"
      ]
     },
     "execution_count": 12,
     "metadata": {},
     "output_type": "execute_result"
    }
   ],
   "source": [
    "my_matrix_1.ndim"
   ]
  },
  {
   "cell_type": "code",
   "execution_count": 13,
   "metadata": {},
   "outputs": [
    {
     "data": {
      "text/plain": [
       "(3, 2)"
      ]
     },
     "execution_count": 13,
     "metadata": {},
     "output_type": "execute_result"
    }
   ],
   "source": [
    "my_matrix_1.shape"
   ]
  },
  {
   "cell_type": "markdown",
   "metadata": {},
   "source": [
    "The matrix above is not square because there are unequal rows and columns. "
   ]
  },
  {
   "cell_type": "markdown",
   "metadata": {},
   "source": [
    "### Example 3 (Identity Matrix):"
   ]
  },
  {
   "cell_type": "code",
   "execution_count": 14,
   "metadata": {},
   "outputs": [
    {
     "name": "stdout",
     "output_type": "stream",
     "text": [
      "[[1 0 0]\n",
      " [0 1 0]\n",
      " [0 0 1]]\n"
     ]
    }
   ],
   "source": [
    "identity_matrix = np.array([[1,0,0], [0,1,0], [0,0,1]])\n",
    "print(identity_matrix)"
   ]
  },
  {
   "cell_type": "markdown",
   "metadata": {},
   "source": [
    "### Example 4 (Symmetric Matrix):"
   ]
  },
  {
   "cell_type": "code",
   "execution_count": 15,
   "metadata": {},
   "outputs": [
    {
     "name": "stdout",
     "output_type": "stream",
     "text": [
      "[[1 2 1]\n",
      " [2 0 1]\n",
      " [1 1 1]]\n"
     ]
    }
   ],
   "source": [
    "symmetric_matrix = np.array([[1,2,1], [2,0,1], [1,1,1]])\n",
    "print(symmetric_matrix)"
   ]
  },
  {
   "cell_type": "code",
   "execution_count": 16,
   "metadata": {
    "scrolled": true
   },
   "outputs": [
    {
     "name": "stdout",
     "output_type": "stream",
     "text": [
      "[[1 2 1]\n",
      " [2 0 1]\n",
      " [1 1 1]]\n"
     ]
    }
   ],
   "source": [
    "print(symmetric_matrix.transpose()) # flip the matrix "
   ]
  },
  {
   "cell_type": "markdown",
   "metadata": {},
   "source": [
    "The original matrix was considered symmetric since after flipping the matrix (i.e. turning it on its side), the elements of the matrix do not change. "
   ]
  },
  {
   "cell_type": "markdown",
   "metadata": {},
   "source": [
    "### Example 5 (Diagonal Matrix):"
   ]
  },
  {
   "cell_type": "code",
   "execution_count": 17,
   "metadata": {},
   "outputs": [
    {
     "name": "stdout",
     "output_type": "stream",
     "text": [
      "[[ 1  0  0]\n",
      " [ 0  4  0]\n",
      " [ 0  0 -3]\n",
      " [ 0  0  0]]\n"
     ]
    }
   ],
   "source": [
    "diagonal_matrix = np.array([[1,0,0], [0,4,0], [0,0,-3], [0,0,0]])\n",
    "print(diagonal_matrix)"
   ]
  },
  {
   "cell_type": "markdown",
   "metadata": {},
   "source": [
    "In general, a matrix is considered diagonal if for any i,j combination, where i = j, the element must be non-zero. For any other element, it is set to zero "
   ]
  },
  {
   "cell_type": "markdown",
   "metadata": {},
   "source": [
    "### Example 6 (Zero Matrix):"
   ]
  },
  {
   "cell_type": "code",
   "execution_count": 18,
   "metadata": {
    "scrolled": true
   },
   "outputs": [
    {
     "name": "stdout",
     "output_type": "stream",
     "text": [
      "[[0. 0. 0.]\n",
      " [0. 0. 0.]\n",
      " [0. 0. 0.]]\n"
     ]
    }
   ],
   "source": [
    "zero_matrix = np.zeros(9).reshape(3,3)\n",
    "print(zero_matrix)"
   ]
  },
  {
   "cell_type": "markdown",
   "metadata": {},
   "source": [
    "### 1.2 Notating Matrices:"
   ]
  },
  {
   "cell_type": "markdown",
   "metadata": {},
   "source": [
    "__Overview:__\n",
    "- Again, it is useful to know how matrices are notated in mathematical notation \n",
    "- Here are some practices used when notating matrices:\n",
    "> 1. The matrix name is usually uppercase (so $\\pmb X$ would represent a matrix)\n",
    "> 2. The matrix name is usually boldfaced ($\\pmb X$)\n",
    "> 3. The elements within a matrix are italicized and referenced with subscripts denoting their ordered position ($\\textit A_{m,n}$)\n",
    "\n",
    "- As mentioned above, matrices are just two-dimensional arrays where each row and column are vectors: \n",
    "<img src=\"img35.png\">\n",
    "- Row vectors:\n",
    "> $[A_{1,1},A_{1,2}]$ and $[A_{2,1},A_{2,2}]$\n",
    "- Columns vectors:\n",
    "> $[A_{1,1},A_{2,1}]^T$ and $[A_{1,2},A_{2,2}]^T$\n",
    "\n",
    "__Helpful Points:__\n",
    "1. Similar to vectors, we can specify the real coordinate space that the matrix belongs to. If a real-valued matrix $\\pmb A$ has $m$ rows and $n$ columns, then we can say that $\\pmb A \\in \\mathbb R^{m x n}$\n",
    "2. Matrix notation allows us to access specific elements within the matrix by row/column indexing similar to lists and other objects in Python \n",
    "\n",
    "__Practice:__ Examples of Accessing Matrices in Python "
   ]
  },
  {
   "cell_type": "markdown",
   "metadata": {},
   "source": [
    "### Example 1 (Accessing Elements in Matrices):"
   ]
  },
  {
   "cell_type": "code",
   "execution_count": 19,
   "metadata": {},
   "outputs": [
    {
     "name": "stdout",
     "output_type": "stream",
     "text": [
      "[[ 1  2  3]\n",
      " [ 4  5  6]\n",
      " [ 7  8  9]\n",
      " [10 11 12]]\n"
     ]
    }
   ],
   "source": [
    "my_matrix = np.array([[1,2,3], [4,5,6], [7,8,9], [10,11,12]])\n",
    "print(my_matrix)"
   ]
  },
  {
   "cell_type": "code",
   "execution_count": 20,
   "metadata": {},
   "outputs": [
    {
     "data": {
      "text/plain": [
       "array([[ 3],\n",
       "       [ 6],\n",
       "       [ 9],\n",
       "       [12]])"
      ]
     },
     "execution_count": 20,
     "metadata": {},
     "output_type": "execute_result"
    }
   ],
   "source": [
    "my_matrix[:,2:3] # 3rd column, all rows "
   ]
  },
  {
   "cell_type": "markdown",
   "metadata": {},
   "source": [
    "This is known as a Column Vector"
   ]
  },
  {
   "cell_type": "code",
   "execution_count": 21,
   "metadata": {},
   "outputs": [
    {
     "data": {
      "text/plain": [
       "array([1, 2, 3])"
      ]
     },
     "execution_count": 21,
     "metadata": {},
     "output_type": "execute_result"
    }
   ],
   "source": [
    "my_matrix[0,:] # first row, all columns"
   ]
  },
  {
   "cell_type": "markdown",
   "metadata": {},
   "source": [
    "This is known as a Row Vector"
   ]
  },
  {
   "cell_type": "code",
   "execution_count": 22,
   "metadata": {},
   "outputs": [
    {
     "data": {
      "text/plain": [
       "9"
      ]
     },
     "execution_count": 22,
     "metadata": {},
     "output_type": "execute_result"
    }
   ],
   "source": [
    "my_matrix[2,2] # 3rd row,3rd column"
   ]
  },
  {
   "cell_type": "code",
   "execution_count": null,
   "metadata": {},
   "outputs": [],
   "source": []
  }
 ],
 "metadata": {
  "kernelspec": {
   "display_name": "Python 3",
   "language": "python",
   "name": "python3"
  },
  "language_info": {
   "codemirror_mode": {
    "name": "ipython",
    "version": 3
   },
   "file_extension": ".py",
   "mimetype": "text/x-python",
   "name": "python",
   "nbconvert_exporter": "python",
   "pygments_lexer": "ipython3",
   "version": "3.7.3"
  }
 },
 "nbformat": 4,
 "nbformat_minor": 2
}
