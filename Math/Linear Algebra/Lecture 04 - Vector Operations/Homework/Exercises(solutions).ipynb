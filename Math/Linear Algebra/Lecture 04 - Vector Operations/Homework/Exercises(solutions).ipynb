{
 "cells": [
  {
   "cell_type": "markdown",
   "metadata": {},
   "source": [
    "### Problem 1:\n",
    "\n",
    "If $\\pmb a = [1, 3]$ and $\\pmb b = [5, 2]$ and $c\\pmb = 3$, calculate:\n",
    "\n",
    "a) $\\pmb a + \\pmb b$ \n",
    "\n",
    "b) $c\\pmb a$ \n",
    "\n",
    "c) $c\\pmb b$\n",
    "\n",
    "d) $c (\\pmb a+ \\pmb b)$\n",
    "\n",
    "e) $c (\\pmb b- \\pmb a)$\n"
   ]
  },
  {
   "cell_type": "markdown",
   "metadata": {},
   "source": [
    "### Solutions\n",
    "\n",
    "a) $[1+5, 3+2] = [6,5]$\n",
    "\n",
    "b) $3*[1,3] = [3*1,3*3] = [3,9]$\n",
    "\n",
    "c) $3*[5,2] = [3*5,3*2] = [15,6]$\n",
    "\n",
    "d) $3*[1+5,3+2] = 3*[6,5] = [3*6,3*5] = [18,15]$\n",
    "\n",
    "e) $3*[5-1,2-3] = 3*[4,-1] = [12,-3]$"
   ]
  },
  {
   "cell_type": "markdown",
   "metadata": {},
   "source": [
    "### Problem 2:\n",
    "\n",
    "What are the norm and unit vectors for:\n",
    "\n",
    "a) $[1, 3]$ \n",
    "\n",
    "b) $[2, 6]$ \n",
    "\n",
    "c) $[-1, -3]$ \n",
    "\n",
    "d) $[1, -3]$ \n",
    "\n",
    "e) $[1, 2, 3]$ \n",
    "\n",
    "f) $[1, 2, 3, 4]$ "
   ]
  },
  {
   "cell_type": "markdown",
   "metadata": {},
   "source": [
    "### Solutions\n",
    "\n",
    "a) $\\| \\pmb x \\| = \\sqrt{1^2 + 3^2} = 3.16,    \\pmb x_{unit} = [\\frac{1}{3.16},\\frac{3}{3.16}]$\n",
    "\n",
    "b) $\\| \\pmb x \\| = \\sqrt{2^2 + 6^2} = 6.32,    \\pmb x_{unit} = [\\frac{2}{6.32},\\frac{6}{6.32}] = [\\frac{1}{3.16},\\frac{3}{3.16}]$\n",
    "\n",
    "c) $\\| \\pmb x \\| = \\sqrt{(-1)^2 + (-3)^2} = 3.16,    \\pmb x_{unit} = [\\frac{-1}{3.16},\\frac{-3}{3.16}]$\n",
    "\n",
    "d) $\\| \\pmb x \\| = \\sqrt{1^2 + (-3)^2} = 3.16,    \\pmb x_{unit} = [\\frac{1}{3.16},\\frac{-3}{3.16}]$\n",
    "\n",
    "e) $\\| \\pmb x \\| = \\sqrt{1^2 + 2^2 + 3^2} = 3.74,    \\pmb x_{unit} = [\\frac{1}{3.74},\\frac{2}{3.74},\\frac{3}{3.74}]$\n",
    "\n",
    "f) $\\| \\pmb x \\| = \\sqrt{1^2 + 2^2 + 3^2 + 4^2} = 5.47,    \\pmb x_{unit} = [\\frac{1}{5.47},\\frac{2}{5.47},\\frac{3}{5.47},\\frac{4}{5.47}]$"
   ]
  },
  {
   "cell_type": "code",
   "execution_count": null,
   "metadata": {},
   "outputs": [],
   "source": []
  }
 ],
 "metadata": {
  "kernelspec": {
   "display_name": "Python 3",
   "language": "python",
   "name": "python3"
  },
  "language_info": {
   "codemirror_mode": {
    "name": "ipython",
    "version": 3
   },
   "file_extension": ".py",
   "mimetype": "text/x-python",
   "name": "python",
   "nbconvert_exporter": "python",
   "pygments_lexer": "ipython3",
   "version": "3.7.3"
  }
 },
 "nbformat": 4,
 "nbformat_minor": 2
}
