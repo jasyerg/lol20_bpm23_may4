{
 "cells": [
  {
   "cell_type": "markdown",
   "metadata": {},
   "source": [
    "# Beginner Python and Math for Data Science\n",
    "## Lecture 14\n",
    "### Linear Algebra - System of Linear Equations"
   ]
  },
  {
   "cell_type": "markdown",
   "metadata": {},
   "source": [
    "__Purpose:__ The purpose of this lecture is to learn how to use Linear Algebra to solve a system of linear equations.\n",
    "\n",
    "__At the end of this lecture you will be able to:__\n",
    "> 1. Understand how to solve a system of linear equations using matrix form "
   ]
  },
  {
   "cell_type": "code",
   "execution_count": 1,
   "metadata": {},
   "outputs": [],
   "source": [
    "import numpy as np \n",
    "from scipy import linalg \n",
    "import matplotlib.pyplot as plt\n",
    "from mpl_toolkits.mplot3d import axes3d\n",
    "%matplotlib inline "
   ]
  },
  {
   "cell_type": "markdown",
   "metadata": {},
   "source": [
    "## 1.1 Systems of Linear Equations  "
   ]
  },
  {
   "cell_type": "markdown",
   "metadata": {},
   "source": [
    "### 1.1.1 What is a System of Linear Equations?"
   ]
  },
  {
   "cell_type": "markdown",
   "metadata": {},
   "source": [
    "__Overview:__ \n",
    "- __[System of Linear Equations](https://en.wikipedia.org/wiki/System_of_linear_equations):__ A system of linear equations is a collection of linear equations in which the solution must satisfy all equations in the system \n",
    "- To \"solve\" the system simply means to find values for the unknown variables that make both the left side and the right side equal for all equations in the system \n",
    "- It is possible to visualize the \"solution\" to a system of equations in both 2-dimensional and 3-dimensional space as the point that two lines intersect at (in 2-d space) and the line that two planes intersect at (in 3-d space) \n",
    "\n",
    "__Helpful Points:__\n",
    "1. The system of equations can either be:\n",
    "> a. __Consistent:__ Consistent systems have at least one solution (the lines or planes intersect at least once)<br>\n",
    "> b. __Inconsistent:__ Inconsistent systems have no solution (the lines or planes never intersect) \n",
    "2. The following is an example of a system of linear equations. To \"solve\" this system would be to find values for $x$ and $y$ that satisfy both equations:\n",
    "<center> $2x - y = 0$ </center>\n",
    "<center> $-x + 2y = 3$ </center>  "
   ]
  },
  {
   "cell_type": "markdown",
   "metadata": {},
   "source": [
    "### 1.1.2 Representing a System of Linear Equations:"
   ]
  },
  {
   "cell_type": "markdown",
   "metadata": {},
   "source": [
    "__Overview:__ \n",
    "- There are 3 main ways to represent a system of linear equations in Linear Algebra:\n",
    "> 1. __Row Picture:__ The row picture represents each equation as a line/plane in $n$-dimensional space and the solution is where the two lines/planes intersect. \n",
    ">> - To plot the linear equations on a graph in 2 or 3-dimensional space, plug in numbers for $x$ and rearrange the equation to find the associated value for $y$. Conversely, plug in numbers for $y$ and rearrange the equation to find the associated value for $x$. Remember that you need only 2 points to form a line. \n",
    ">> - For the example shown above:\n",
    "<center> Equation 1: $y = 2x$ </center> \n",
    "<center> Equation 2: $y = \\frac{3}{2} + \\frac{x}{2}$ </center> \n",
    "\n",
    "> 2. __Column Picture:__ The column picture turns a system of linear equations into a single equation where coefficients become the column vectors and we are interested in finding the $x$ and $y$ values which make the linear combination equal to the right hand side vector \n",
    ">> - Recall linear combinations with vectors\n",
    ">> - For the example shown above:\n",
    "\n",
    "\\begin{equation}\n",
    "x\n",
    "\\begin{bmatrix}\n",
    "    2\\\\\n",
    "    -1\n",
    "\\end{bmatrix}\n",
    "+ y\n",
    "\\begin{bmatrix}\n",
    "    -1\\\\\n",
    "    2\n",
    "\\end{bmatrix}\n",
    "= \n",
    "\\begin{bmatrix}\n",
    "    0\\\\\n",
    "    3\n",
    "\\end{bmatrix}\n",
    "\\end{equation}\n",
    "> 3. __Matrix Picture:__ The matrix picture converts a system of linear equations to the following form where the solution of the system contains the values of $[x,y]^T$ that satisfied the equation.\n",
    "<center> $\\pmb A \\pmb x = \\pmb b$ </center> \n",
    "<center> Where $\\pmb A$ = The coefficient matrix, $\\pmb x$ = The vector of unknowns, and $\\pmb b$ = The solution vector </center>\n",
    "\n",
    "> - For the example shown above:\n",
    "\n",
    "\\begin{equation}\n",
    "\\begin{bmatrix}\n",
    "    2 & -1\\\\\n",
    "    -1 & 2\n",
    "\\end{bmatrix}\n",
    "\\begin{bmatrix}\n",
    "    x\\\\\n",
    "    y\n",
    "\\end{bmatrix}\n",
    "=\n",
    "\\begin{bmatrix}\n",
    "    0\\\\\n",
    "    3\n",
    "\\end{bmatrix}\n",
    "\\end{equation}\n",
    "\n",
    "__Helpful Points:__\n",
    "1. It is most common to use the Matrix Picture in Linear Algebra and Data Science in general, so you should become fluent with this notation\n",
    "\n",
    "__Practice:__ Examples of Representing Systems of Linear Equations in Python "
   ]
  },
  {
   "cell_type": "markdown",
   "metadata": {},
   "source": [
    "### Example 1 (Row Picture):"
   ]
  },
  {
   "cell_type": "code",
   "execution_count": 2,
   "metadata": {},
   "outputs": [],
   "source": [
    "# 2x - y = 0 or y = 2x (input x and get output y)\n",
    "def eq_1(x):\n",
    "    y = 2*x\n",
    "    return y "
   ]
  },
  {
   "cell_type": "code",
   "execution_count": 3,
   "metadata": {},
   "outputs": [
    {
     "data": {
      "text/plain": [
       "0"
      ]
     },
     "execution_count": 3,
     "metadata": {},
     "output_type": "execute_result"
    }
   ],
   "source": [
    "eq_1(0) # first point on eq 1 line (0,0)"
   ]
  },
  {
   "cell_type": "code",
   "execution_count": 4,
   "metadata": {
    "scrolled": false
   },
   "outputs": [
    {
     "data": {
      "text/plain": [
       "2"
      ]
     },
     "execution_count": 4,
     "metadata": {},
     "output_type": "execute_result"
    }
   ],
   "source": [
    "eq_1(1) # second point on eq 1 line (1,2)"
   ]
  },
  {
   "cell_type": "code",
   "execution_count": 5,
   "metadata": {},
   "outputs": [
    {
     "data": {
      "text/plain": [
       "-2"
      ]
     },
     "execution_count": 5,
     "metadata": {},
     "output_type": "execute_result"
    }
   ],
   "source": [
    "eq_1(-1) # third point on eq 1 line (-1,-2)"
   ]
  },
  {
   "cell_type": "code",
   "execution_count": 6,
   "metadata": {},
   "outputs": [],
   "source": [
    "# -x + 2y = 3 or y = 3/2 + x/2\n",
    "def eq_2(x):\n",
    "    y = 3/2 + x/2\n",
    "    return y "
   ]
  },
  {
   "cell_type": "code",
   "execution_count": 7,
   "metadata": {},
   "outputs": [
    {
     "data": {
      "text/plain": [
       "1.5"
      ]
     },
     "execution_count": 7,
     "metadata": {},
     "output_type": "execute_result"
    }
   ],
   "source": [
    "eq_2(0) # first point on eq 2 line (0,1.5)"
   ]
  },
  {
   "cell_type": "code",
   "execution_count": 8,
   "metadata": {
    "scrolled": false
   },
   "outputs": [
    {
     "data": {
      "text/plain": [
       "2.0"
      ]
     },
     "execution_count": 8,
     "metadata": {},
     "output_type": "execute_result"
    }
   ],
   "source": [
    "eq_2(1) # second point on eq 2 line (1,2)"
   ]
  },
  {
   "cell_type": "code",
   "execution_count": 9,
   "metadata": {},
   "outputs": [
    {
     "data": {
      "text/plain": [
       "1.0"
      ]
     },
     "execution_count": 9,
     "metadata": {},
     "output_type": "execute_result"
    }
   ],
   "source": [
    "eq_2(-1) # third point on eq 2 line (-1,1)"
   ]
  },
  {
   "cell_type": "code",
   "execution_count": 10,
   "metadata": {
    "scrolled": true
   },
   "outputs": [
    {
     "data": {
      "image/png": "[encoded data removed]",
      "text/plain": [
       "<Figure size 432x288 with 1 Axes>"
      ]
     },
     "metadata": {
      "needs_background": "light"
     },
     "output_type": "display_data"
    }
   ],
   "source": [
    "soa = np.array([[-1, -2, 3, 6], [-1, 1, 3, 1.5]])\n",
    "X, Y, U, V = zip(*soa)\n",
    "plt.figure()\n",
    "ax = plt.gca()\n",
    "ax.quiver(X, Y, U, V, angles='xy', scale_units='xy', scale=1, color = [\"blue\", \"red\"])\n",
    "ax.set_xlim([-2, 5])\n",
    "ax.set_ylim([-2, 5])\n",
    "plt.title('System of equations (eq1 = blue, eq 2 = red)')\n",
    "plt.xlabel('$1$', fontsize = 20)\n",
    "plt.ylabel('$2$', fontsize = 20)\n",
    "plt.axhline(y=0, color='black', linestyle='-')\n",
    "plt.axvline(x=0, color='black', linestyle='-')\n",
    "plt.grid()"
   ]
  },
  {
   "cell_type": "markdown",
   "metadata": {},
   "source": [
    "We can see graphically that the \"solution\" to this sytem of linear equations is the point $(1,2)$ or $x = 1, y = 2$ since this is where the two lines intersect. We can test this solution by checking if these variables satisfy both equations: \n",
    "\n",
    "<center> Equation 1: $2(1) - 2 = 0$ </center>\n",
    "<center> Equation 2: $-1 + 2(2) = 3$ </center> \n",
    "\n",
    "Indeed, the left side of both equations equals the right side of both equations and therefore we have found a solution to this system. It is important to note that we can see in the graph that there is only one point in which the lines intersect at, therfore this sytem has 1 solution. "
   ]
  },
  {
   "cell_type": "markdown",
   "metadata": {},
   "source": [
    "### Example 2 (Column Picture):"
   ]
  },
  {
   "cell_type": "markdown",
   "metadata": {},
   "source": [
    "Recall the formulation of the column picture. Our goal is to find values of $x$ and $y$ such that the linear combination equals the right hand side vector:<br>\n",
    "\\begin{equation}\n",
    "x\n",
    "\\begin{bmatrix}\n",
    "    2\\\\\n",
    "    -1\n",
    "\\end{bmatrix}\n",
    "+ y\n",
    "\\begin{bmatrix}\n",
    "    -1\\\\\n",
    "    2\n",
    "\\end{bmatrix}\n",
    "= \n",
    "\\begin{bmatrix}\n",
    "    0\\\\\n",
    "    3\n",
    "\\end{bmatrix}\n",
    "\\end{equation}\n",
    "\n",
    "Each column vector can be plotted and visualized on the graph below:"
   ]
  },
  {
   "cell_type": "code",
   "execution_count": 11,
   "metadata": {
    "scrolled": false
   },
   "outputs": [
    {
     "data": {
      "image/png": "[encoded data removed]",
      "text/plain": [
       "<Figure size 432x288 with 1 Axes>"
      ]
     },
     "metadata": {
      "needs_background": "light"
     },
     "output_type": "display_data"
    }
   ],
   "source": [
    "# plot the left hand side and right hand side vectors \n",
    "soa = np.array([[0, 0, 2, -1], [0, 0, -1, 2], [0, 0, 0, 3]])\n",
    "X, Y, U, V = zip(*soa)\n",
    "plt.figure()\n",
    "ax = plt.gca()\n",
    "ax.quiver(X, Y, U, V, angles='xy', scale_units='xy', scale=1, color = [\"blue\", \"red\", \"green\"])\n",
    "ax.set_xlim([-3, 3])\n",
    "ax.set_ylim([-3, 3])\n",
    "plt.title('System of equations (col_vector_1 = blue, col_vector_2 = red, col_vector_3 = green)')\n",
    "plt.xlabel('$1$', fontsize = 20)\n",
    "plt.ylabel('$2$', fontsize = 20)\n",
    "plt.grid()"
   ]
  },
  {
   "cell_type": "markdown",
   "metadata": {},
   "source": [
    "What if we were to multiply the red vector by 2 and then add it to the blue vector? Will we get the green vector? If we do, we will have found a solution."
   ]
  },
  {
   "cell_type": "code",
   "execution_count": 12,
   "metadata": {
    "scrolled": true
   },
   "outputs": [
    {
     "data": {
      "image/png": "[encoded data removed]",
      "text/plain": [
       "<Figure size 432x288 with 1 Axes>"
      ]
     },
     "metadata": {
      "needs_background": "light"
     },
     "output_type": "display_data"
    }
   ],
   "source": [
    "# plot the transformed left hand side and standard right hand side vectors \n",
    "soa = np.array([[0, 0, 2, -1], [2, -1, -2, 4], [0, 0, 0, 3]])\n",
    "X, Y, U, V = zip(*soa)\n",
    "plt.figure()\n",
    "ax = plt.gca()\n",
    "ax.quiver(X, Y, U, V, angles='xy', scale_units='xy', scale=1, color = [\"blue\", \"red\", \"green\"])\n",
    "ax.set_xlim([-3, 3])\n",
    "ax.set_ylim([-3, 3])\n",
    "plt.title('System of equations (col_vector_1 = blue, col_vector_2 = red, col_vector_3 = green)')\n",
    "plt.xlabel('$1$', fontsize = 20)\n",
    "plt.ylabel('$2$', fontsize = 20)\n",
    "plt.grid()"
   ]
  },
  {
   "cell_type": "markdown",
   "metadata": {},
   "source": [
    "Recall vector addition. The blue vector added to the transformed red vector is equal to the green vector. \n",
    "\n",
    "Therefore, we have arrived at the same solution as in the Row Picture - that is, $x = 1$ and $y = 2$"
   ]
  },
  {
   "cell_type": "markdown",
   "metadata": {},
   "source": [
    "### Example 3 (Matrix Picture):"
   ]
  },
  {
   "cell_type": "markdown",
   "metadata": {},
   "source": [
    "Recall the formulation of the Matrix Picture ($\\pmb A \\pmb x = \\pmb b$) and shown below. Our goal is to find the unknown $x$ vector that satisfies this equation. \n",
    "\\begin{equation}\n",
    "\\begin{bmatrix}\n",
    "    2 & -1\\\\\n",
    "    -1 & 2\n",
    "\\end{bmatrix}\n",
    "\\begin{bmatrix}\n",
    "    x\\\\\n",
    "    y\n",
    "\\end{bmatrix}\n",
    "=\n",
    "\\begin{bmatrix}\n",
    "    0\\\\\n",
    "    3\n",
    "\\end{bmatrix}\n",
    "\\end{equation}\n",
    "\n",
    "See below to solve this equation in the Matrix Form"
   ]
  },
  {
   "cell_type": "markdown",
   "metadata": {},
   "source": [
    "### 1.1.3 Solving System of Linear Equations"
   ]
  },
  {
   "cell_type": "markdown",
   "metadata": {},
   "source": [
    "__Overview:__ \n",
    "- Below are some of the common ways of solving systems of linear equations:\n",
    "> 1. __Method 1:__ Graphically using the row and column pictures \n",
    "> 2. __Method 2:__ Using substitution, elimination, or subtraction \n",
    "> 2. __Method 3:__ Using __[Gaussian Elimination](https://en.wikipedia.org/wiki/Gaussian_elimination)__ to achieve __[Row Echelon Form (REF)](https://en.wikipedia.org/wiki/Gaussian_elimination)__\n",
    ">> - Gaussian elimination uses matrix row operations (multiplication, addition, subtraction) to create an upper triangular matrix consisting of zeros on the lower triangle, ones along the main diagonal and possible non-zero values on the upper triangle which is considered the row echelon form of the original matrix \n",
    ">> - Gauss-Jordan elimintation performs the same matrix row operations as Gaussian elimination but achieves __Reduced Row Echelon Form__ by eliminating non-zero values in the upper triangle of the matrix \n",
    ">> - Following Gaussian Elimination to achieve row echelon form, back substitution is used to find values for the unknowns \n",
    "> 3. __Method 4:__ Using the inverse method if the matrix is invertible:\n",
    "<center> $\\pmb A \\pmb x = \\pmb b$ </center>\n",
    "Step 1: Multiply both sides by the inverse of A $\\Rightarrow$ $A^{-1}$\n",
    "<center> $\\pmb A^{-1} \\pmb A \\pmb x = \\pmb A^{-1} \\pmb b$ </center>\n",
    "Step 2: Use the fact that $\\pmb A^{-1} \\pmb A = I$\n",
    "<center> $\\pmb I \\pmb x = \\pmb A^{-1} \\pmb b$ </center> \n",
    "Step 3: Use the fact that $\\pmb I \\pmb x = \\pmb x$\n",
    "<center> $\\pmb x = \\pmb A^{-1} \\pmb b$ </center> \n",
    "\n",
    "> 3. __Method 5:__ Using NumPy and SciPy's built in matrix solve methods: [`scipy.linalg.inv`](https://docs.scipy.org/doc/scipy/reference/generated/scipy.linalg.solve.html#scipy.linalg.solve) and [`numpy.linalg.inv`](https://docs.scipy.org/doc/numpy-1.14.0/reference/routines.linalg.html)\n",
    "\n",
    "__Helpful Points:__\n",
    "1. In order to solve a system of $n$ equations, we must have $n$ unknowns \n",
    "2. There are 4 possible results for a system of equations:\n",
    "> a. __Solution 1:__ One unique, non-zero solution. For example, the RREF may look like:<br>\n",
    "\\begin{equation}\n",
    "\\begin{array}{ccc|c}  \n",
    " 1 & 0 & 0 & 2\\\\  \n",
    " 0 & 1 & 0 & -3\\\\\n",
    " 0 & 0 & 1 & -5\n",
    "\\end{array}\n",
    "\\end{equation}\n",
    "> b. __Solution 2:__ Infinitely many solutions (one equation is a linear combination of the other equation). For example, the RREF may look like:<br>\n",
    "\\begin{equation}\n",
    "\\begin{array}{cc|c}  \n",
    " 1 & -2 & 3\\\\  \n",
    " 0 & 0 & 0\\\\\n",
    "\\end{array}\n",
    "\\end{equation}\n",
    "> c. __Solution 3:__ One zero solution. For example, the RREF may look like<br>\n",
    "\\begin{equation}\n",
    "\\begin{array}{cc|c}  \n",
    " 0 & 5 & 0\\\\  \n",
    " 0 & 2 & 0\\\\\n",
    "\\end{array}\n",
    "\\end{equation}\n",
    "> d. __Solution 4:__ No solution (equations are parallel and have no intersection point). For example, the RREF may look like:<br>\n",
    "\\begin{equation}\n",
    "\\begin{array}{cc|c}  \n",
    " 1 & 2 & 3\\\\  \n",
    " 0 & 0 & 14\\\\\n",
    "\\end{array}\n",
    "\\end{equation}\n",
    "3. Recall when we were finding values for the variables $c_1$ and $c_2$ in linear combinations and linear span. In these examples the solution was given but you will know enough after this section to go back and solve these equations yourself\n",
    "\n",
    "__Practice:__ Examples of Solving System of Linear Equations in Python "
   ]
  },
  {
   "cell_type": "markdown",
   "metadata": {},
   "source": [
    "### Example 1 (Method 3):"
   ]
  },
  {
   "cell_type": "markdown",
   "metadata": {},
   "source": [
    "Let us solve the following system of linear equations:\n",
    "<center> $x + y + z = 3$ </center>\n",
    "<center> $x + 2y + 3z = 0$ </center>\n",
    "<center> $x + 3y + 4z = -2$ </center> "
   ]
  },
  {
   "cell_type": "markdown",
   "metadata": {},
   "source": [
    "We need to first convert the system of linear equations to the Matrix Form $\\pmb A \\pmb x = \\pmb b$ (see above section):\n",
    "\n",
    "The coefficient matrix:\n",
    "\n",
    "\\begin{equation}\n",
    "\\pmb A = \n",
    "\\begin{bmatrix}\n",
    "    1 & 1 & 1\\\\\n",
    "    1 & 2 & 3\\\\\n",
    "    1 & 3 & 4\n",
    "\\end{bmatrix}\n",
    "\\end{equation}\n",
    "\n",
    "The vector of unknowns:\n",
    "\n",
    "\\begin{equation}\n",
    "\\pmb x = \n",
    "\\begin{bmatrix}\n",
    "    x\\\\\n",
    "    y\\\\\n",
    "    z\n",
    "\\end{bmatrix}\n",
    "\\end{equation}\n",
    "\n",
    "The solution vector:\n",
    "\n",
    "\\begin{equation}\n",
    "\\pmb b = \n",
    "\\begin{bmatrix}\n",
    "    3\\\\\n",
    "    0\\\\\n",
    "    -2\n",
    "\\end{bmatrix}\n",
    "\\end{equation}\n",
    "\n",
    "Then, we can create the __[Augmented Matrix](https://en.wikipedia.org/wiki/Augmented_matrix)__ in the form of $\\pmb A \\vert \\pmb b$\n",
    "\n",
    "\\begin{equation}\n",
    "\\begin{array}{ccc|c}  \n",
    " 1 & 1 & 1 & 3\\\\  \n",
    " 1 & 2 & 3 & 0\\\\\n",
    " 1 & 3 & 4 & -2\n",
    "\\end{array}\n",
    "\\end{equation}\n",
    "\n",
    "Lastly, we can use matrix row operations to obtain reduced row echelon form (ones along the diagonal, zeros everywhere else except for the augmented portion)"
   ]
  },
  {
   "cell_type": "markdown",
   "metadata": {},
   "source": [
    "__Step 1:__ Re-write the first row and then ask the question - how can the element $A_{21}$ go to 0? How about subtracting the first row from the second row - $R_2 - R_1$:\n",
    "\n",
    "\\begin{equation}\n",
    "\\begin{array}{ccc|c}  \n",
    " 1 & 1 & 1 & 3\\\\  \n",
    " R_2 - R_1\\\\ 0 & 1 & 2 & -3\\\\\n",
    " 1 & 3 & 4 & -2\n",
    "\\end{array}\n",
    "\\end{equation}"
   ]
  },
  {
   "cell_type": "markdown",
   "metadata": {},
   "source": [
    "__Step 2:__ Re-write the first and second row and then ask the question - how can the element $A_{31}$ go to 0? How about subtracting the first row from the third row - $R_3 - R_1$:\n",
    "\n",
    "\\begin{equation}\n",
    "\\begin{array}{ccc|c}  \n",
    " 1 & 1 & 1 & 3\\\\  \n",
    " 0 & 1 & 2 & -3\\\\\n",
    " R_3 - R_1\\\\ 0 & 2 & 3 & -5\n",
    "\\end{array}\n",
    "\\end{equation}"
   ]
  },
  {
   "cell_type": "markdown",
   "metadata": {},
   "source": [
    "__Step 3:__ Re-write the second and the third row and then ask the question - How can the element $A_{12}$ go to 0? How about subtracting the second row from the first row - $R_1 - R_2$:\n",
    "\n",
    "\\begin{equation}\n",
    "\\begin{array}{ccc|c}  \n",
    " R_1 - R_2\\\\ 1 & 0 & -1 & 6\\\\  \n",
    " 0 & 1 & 2 & -3\\\\\n",
    " 0 & 2 & 3 & -5\n",
    "\\end{array}\n",
    "\\end{equation}"
   ]
  },
  {
   "cell_type": "markdown",
   "metadata": {},
   "source": [
    "__Step 4:__ Re-write the first and second row and then ask the queestion - How can the element $A_{32}$ go to 0? How about subtracting the third row from 2 times the second row - $2R_2 - R_3$:\n",
    "\n",
    "\\begin{equation}\n",
    "\\begin{array}{ccc|c}  \n",
    " 1 & 0 & -1 & 6\\\\  \n",
    " 0 & 1 & 2 & -3\\\\\n",
    " 2R_2-R_3\\\\ 0 & 0 & 1 & -1\n",
    "\\end{array}\n",
    "\\end{equation}"
   ]
  },
  {
   "cell_type": "markdown",
   "metadata": {},
   "source": [
    "__Step 5:__ Re-write the second and third row and then ask the queestion - How can the element $A_{13}$ go to 0? How about adding the third row to the first row - $R_1 + R_3$:\n",
    "\n",
    "\\begin{equation}\n",
    "\\begin{array}{ccc|c}  \n",
    " R_1+R_3\\\\ 1 & 0 & 0 & 5\\\\  \n",
    " 0 & 1 & 2 & -3\\\\\n",
    " 0 & 0 & 1 & -1\n",
    "\\end{array}\n",
    "\\end{equation}"
   ]
  },
  {
   "cell_type": "markdown",
   "metadata": {},
   "source": [
    "__Step 6:__ Re-write the first and the third row and then ask the queestion - How can the element $A_{23}$ go to 0? How about subtracting 2 times the third row from the second row - $R_2 - 2R_3$:\n",
    "\n",
    "\\begin{equation}\n",
    "\\begin{array}{ccc|c}  \n",
    " 1 & 0 & 0 & 5\\\\  \n",
    " R_2 - 2R_3\\\\0 & 1 & 0 & -1\\\\\n",
    " 0 & 0 & 1 & -1\n",
    "\\end{array}\n",
    "\\end{equation}"
   ]
  },
  {
   "cell_type": "markdown",
   "metadata": {},
   "source": [
    "We now have obtained the __Reduced Row Echelon Form__ of the matrix $\\pmb A$. Technically, we only needed the lower triangle of zeros to obtain __Row Echelon Form__, but the reduced version makes it abundantly clear and exceptionally easy to discern unknown values for $x$, $y$, and $z$:\n",
    "\n",
    "<center> $1x + 0y + 0z = 5$ </center>\n",
    "<center> $0x + 1y + 0z = -1$ </center>\n",
    "<center> $0x + 0y + 1z = -1$ </center>\n",
    "\n",
    "Therefore, $x = 5$, $y = -1$, and $z = -1$. We can test this is the correct solution by plugging these values back into the system of equations: \n",
    "\n",
    "<center> $1(5) + 0y + 0z = 5$ </center>\n",
    "<center> $0x + 1(-1) + 0z = -1$ </center>\n",
    "<center> $0x + 0y + 1(-1) = -1$ </center>"
   ]
  },
  {
   "cell_type": "markdown",
   "metadata": {},
   "source": [
    "### Example 2 (Method 4):"
   ]
  },
  {
   "cell_type": "code",
   "execution_count": 13,
   "metadata": {},
   "outputs": [
    {
     "name": "stdout",
     "output_type": "stream",
     "text": [
      "[[1 1 1]\n",
      " [1 2 3]\n",
      " [1 3 4]]\n",
      "[ 3  0 -2]\n"
     ]
    }
   ],
   "source": [
    "A = np.array([[1,1,1],[1,2,3],[1,3,4]])\n",
    "b = np.array([3,0,-2])\n",
    "print(A)\n",
    "print(b)"
   ]
  },
  {
   "cell_type": "code",
   "execution_count": 14,
   "metadata": {},
   "outputs": [
    {
     "name": "stdout",
     "output_type": "stream",
     "text": [
      "[[ 1.  1. -1.]\n",
      " [ 1. -3.  2.]\n",
      " [-1.  2. -1.]]\n"
     ]
    }
   ],
   "source": [
    "A_inv = np.linalg.inv(A)\n",
    "print(A_inv)"
   ]
  },
  {
   "cell_type": "code",
   "execution_count": 17,
   "metadata": {},
   "outputs": [
    {
     "data": {
      "text/plain": [
       "array([ 5., -1., -1.])"
      ]
     },
     "execution_count": 17,
     "metadata": {},
     "output_type": "execute_result"
    }
   ],
   "source": [
    "np.dot(A_inv, b)"
   ]
  },
  {
   "cell_type": "markdown",
   "metadata": {},
   "source": [
    "We obtain the same solution in Method 4 as was obtained in Method 3."
   ]
  },
  {
   "cell_type": "markdown",
   "metadata": {},
   "source": [
    "### Example 3 (Method 5):"
   ]
  },
  {
   "cell_type": "code",
   "execution_count": 18,
   "metadata": {},
   "outputs": [
    {
     "data": {
      "text/plain": [
       "array([ 5., -1., -1.])"
      ]
     },
     "execution_count": 18,
     "metadata": {},
     "output_type": "execute_result"
    }
   ],
   "source": [
    "linalg.solve(A, b) # using scipy "
   ]
  },
  {
   "cell_type": "code",
   "execution_count": 19,
   "metadata": {},
   "outputs": [
    {
     "data": {
      "text/plain": [
       "array([ 5., -1., -1.])"
      ]
     },
     "execution_count": 19,
     "metadata": {},
     "output_type": "execute_result"
    }
   ],
   "source": [
    "np.linalg.solve(A, b) # using numpy"
   ]
  },
  {
   "cell_type": "markdown",
   "metadata": {},
   "source": [
    "We obtained the same solution in Method 5 as was obtained Method 3 and 4."
   ]
  },
  {
   "cell_type": "markdown",
   "metadata": {},
   "source": [
    "### Example 4 (Using RREF to find a Matrix Inverse for an Invertible Matrix):\n",
    "\n",
    "As promised, it is possible to find the inverse of a matrix using Gaussian elimination and the Reduced Row Echelon Form:\n",
    "\n",
    "If \n",
    "\\begin{equation}\n",
    "\\pmb A = \n",
    "\\begin{bmatrix}\n",
    "    A_{11} & A_{12} & A_{13}\\\\\n",
    "    A_{21} & A_{22} & A_{23}\\\\\n",
    "    A_{31} & A_{32} & A_{33}\n",
    "\\end{bmatrix}\n",
    "\\end{equation}\n",
    "\n",
    "Then, the augmented matrix is \n",
    "\\begin{equation}\n",
    "\\begin{array}{ccc|ccc}  \n",
    "    A_{11} & A_{12} & A_{13} & 1 & 0 & 0\\\\\n",
    "    A_{21} & A_{22} & A_{23} & 0 & 1 & 0\\\\\n",
    "    A_{31} & A_{32} & A_{33} & 0 & 0 & 1\n",
    "\\end{array}\n",
    "\\end{equation}\n",
    "\n",
    "By performing Gaussian Elimination on the above Augmented Matrix and achieving RREF in the matrix to the left, the matrix to the right will become the inverse matrix. \n",
    "\n",
    "For example, \n",
    "\n",
    "If \n",
    "\\begin{equation}\n",
    "\\pmb A = \n",
    "\\begin{bmatrix}\n",
    "    2 & 1 & 1\\\\\n",
    "    3 & 2 & 1\\\\\n",
    "    2 & 1 & 2\n",
    "\\end{bmatrix}\n",
    "\\end{equation}\n",
    "\n",
    "Then, the augmented matrix becomes: \n",
    "\\begin{equation}\n",
    "\\begin{array}{ccc|ccc}  \n",
    "    2 & 1 & 1 & 1 & 0 & 0\\\\\n",
    "    3 & 2 & 1 & 0 & 1 & 0\\\\\n",
    "    2 & 1 & 2 & 0 & 0 & 1\n",
    "\\end{array}\n",
    "\\end{equation}    \n",
    "\n",
    "After obtaining RREF on the left matrix, we are left with the inverse matrix on the right: \n",
    "\\begin{equation}\n",
    "\\begin{array}{ccc|ccc}  \n",
    "    1 & 0 & 0 & 3 & -1 & -1\\\\\n",
    "    0 & 1 & 0 & -4 & 2 & 1\\\\\n",
    "    0 & 0 & 1 & -1 & 0 & 1\n",
    "\\end{array}\n",
    "\\end{equation}\n",
    "\n",
    "Verify this below:"
   ]
  },
  {
   "cell_type": "code",
   "execution_count": 20,
   "metadata": {},
   "outputs": [
    {
     "name": "stdout",
     "output_type": "stream",
     "text": [
      "[[2 1 1]\n",
      " [3 2 1]\n",
      " [2 1 2]]\n"
     ]
    }
   ],
   "source": [
    "A = np.array([[2,1,1],[3,2,1],[2,1,2]])\n",
    "print(A)"
   ]
  },
  {
   "cell_type": "code",
   "execution_count": 21,
   "metadata": {},
   "outputs": [
    {
     "data": {
      "text/plain": [
       "array([[ 3., -1., -1.],\n",
       "       [-4.,  2.,  1.],\n",
       "       [-1.,  0.,  1.]])"
      ]
     },
     "execution_count": 21,
     "metadata": {},
     "output_type": "execute_result"
    }
   ],
   "source": [
    "linalg.inv(A) # using scipy "
   ]
  },
  {
   "cell_type": "code",
   "execution_count": 22,
   "metadata": {},
   "outputs": [
    {
     "data": {
      "text/plain": [
       "array([[ 3., -1., -1.],\n",
       "       [-4.,  2.,  1.],\n",
       "       [-1.,  0.,  1.]])"
      ]
     },
     "execution_count": 22,
     "metadata": {},
     "output_type": "execute_result"
    }
   ],
   "source": [
    "np.linalg.inv(A) # using numpy "
   ]
  },
  {
   "cell_type": "markdown",
   "metadata": {},
   "source": [
    "### Problem 1\n",
    "\n",
    "For the following matrix \n",
    "\n",
    "\\begin{equation}\n",
    "\\pmb A = \n",
    "\\begin{bmatrix}\n",
    "    1 & 2 & 1\\\\\n",
    "    2 & 2 & 2\\\\\n",
    "    1 & 0 & 1\n",
    "\\end{bmatrix}\n",
    "\\end{equation}\n",
    "\n",
    "Manually find the reduced row echelon form"
   ]
  },
  {
   "cell_type": "code",
   "execution_count": null,
   "metadata": {},
   "outputs": [],
   "source": [
    "# write your code here \n",
    "\n",
    "\n",
    "\n"
   ]
  },
  {
   "cell_type": "markdown",
   "metadata": {},
   "source": [
    "### SOLUTIONS"
   ]
  },
  {
   "cell_type": "markdown",
   "metadata": {},
   "source": [
    "### Problem 1\n",
    "\n",
    "For the following matrix \n",
    "\n",
    "\\begin{equation}\n",
    "\\pmb A = \n",
    "\\begin{bmatrix}\n",
    "    1 & 2 & 1\\\\\n",
    "    2 & 2 & 2\\\\\n",
    "    1 & 0 & 1\n",
    "\\end{bmatrix}\n",
    "\\end{equation}\n",
    "\n",
    "Manually find the reduced row echelon form"
   ]
  },
  {
   "cell_type": "markdown",
   "metadata": {},
   "source": [
    "\\begin{equation}\n",
    "\\pmb A = \n",
    "\\begin{bmatrix}\n",
    "    1 & 2 & 1\\\\\n",
    "    2 & 2 & 2\\\\\n",
    "    1 & 0 & 1\n",
    "\\end{bmatrix}\n",
    "\\Rightarrow\n",
    "\\begin{bmatrix}\n",
    "    1 & 2 & 1\\\\\n",
    "    0 & -2 & 0\\\\\n",
    "    0 & -2 & 0\n",
    "\\end{bmatrix}\n",
    "\\Rightarrow\n",
    "\\begin{bmatrix}\n",
    "    1 & 2 & 1\\\\\n",
    "    0 & -2 & 0\\\\\n",
    "    0 & 0 & 0\n",
    "\\end{bmatrix}\n",
    "\\Rightarrow\n",
    "\\begin{bmatrix}\n",
    "    1 & 0 & 1\\\\\n",
    "    0 & -2 & 0\\\\\n",
    "    0 & 0 & 0\n",
    "\\end{bmatrix}\n",
    "\\Rightarrow\n",
    "\\begin{bmatrix}\n",
    "    1 & 0 & 1\\\\\n",
    "    0 & 1 & 0\\\\\n",
    "    0 & 0 & 0\n",
    "\\end{bmatrix}\n",
    "\\end{equation}"
   ]
  },
  {
   "cell_type": "code",
   "execution_count": null,
   "metadata": {},
   "outputs": [],
   "source": []
  }
 ],
 "metadata": {
  "kernelspec": {
   "display_name": "Python 3",
   "language": "python",
   "name": "python3"
  },
  "language_info": {
   "codemirror_mode": {
    "name": "ipython",
    "version": 3
   },
   "file_extension": ".py",
   "mimetype": "text/x-python",
   "name": "python",
   "nbconvert_exporter": "python",
   "pygments_lexer": "ipython3",
   "version": "3.7.3"
  }
 },
 "nbformat": 4,
 "nbformat_minor": 2
}
