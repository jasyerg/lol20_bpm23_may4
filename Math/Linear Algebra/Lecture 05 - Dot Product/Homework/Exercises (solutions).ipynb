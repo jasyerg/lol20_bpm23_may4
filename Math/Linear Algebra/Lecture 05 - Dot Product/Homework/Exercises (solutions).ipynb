{
 "cells": [
  {
   "cell_type": "markdown",
   "metadata": {},
   "source": [
    "### Problem 1: \n",
    "Given the following vectors:\n",
    "\n",
    "$ \\pmb a = [1,3]$\n",
    "$ \\pmb b = [2,-1]$\n",
    "$ \\pmb c = [-1,2]$\n",
    "$ \\pmb d = [1,2,3]$\n",
    "$ \\pmb e = [3,2,1]$\n",
    "\n",
    "\n",
    "What is the dot product of:\n",
    "\n",
    "a) $ \\pmb a \\pmb b$\n",
    "\n",
    "b) $ \\pmb b \\pmb a$\n",
    "\n",
    "c) $ \\pmb a \\pmb c$\n",
    "\n",
    "d) $ \\pmb b \\pmb c$\n",
    "\n",
    "e) $ \\pmb d \\pmb e$\n",
    "\n",
    "f) $ \\pmb e \\pmb e$"
   ]
  },
  {
   "cell_type": "markdown",
   "metadata": {},
   "source": [
    "### SOLUTIONS\n",
    "\n",
    "a) $1*2 +3*(-1) = 2-3 = -1$\n",
    "\n",
    "b) $2*1 -1*3 = 2-3 = -1$\n",
    "\n",
    "c) $1*(-1) + 3*2 = -1+6 = 5$\n",
    "\n",
    "d) $2*(-1) - 1*2 = -2-2= -4$\n",
    "\n",
    "e) $1*3+2*2+3*1 = 3+4+3 = 10$\n",
    "\n",
    "f) $3*3+2*2+1*1 = 9+4+1 = 14$"
   ]
  },
  {
   "cell_type": "markdown",
   "metadata": {},
   "source": [
    "### Problem 2: \n",
    "Given the following vectors:\n",
    "\n",
    "$ \\pmb a = [1,3]$\n",
    "$ \\pmb b = [2,-1]$\n",
    "$ \\pmb c = [-1,2]$\n",
    "$ \\pmb d = [1,2,3]$\n",
    "$ \\pmb e = [3,2,1]$\n",
    "\n",
    "\n",
    "What is the angle between:\n",
    "\n",
    "a) $a$ and $b$\n",
    "\n",
    "b) $b$ and $a$\n",
    "\n",
    "c) $a$ and $c$\n",
    "\n",
    "d) $b$ and $c$\n",
    "\n",
    "e) $d$ and $e$\n"
   ]
  },
  {
   "cell_type": "markdown",
   "metadata": {},
   "source": [
    "### SOLUTIONS\n",
    "\n",
    "The equation that we need is the following:\n",
    "\n",
    "<center> $ \\theta = acos(\\frac{\\pmb a}{\\| \\pmb a \\|} \\cdot \\frac{\\pmb b}{\\| \\pmb b \\|}) $</center>\n",
    "\n",
    "\n",
    "We can convert the angle from radians to degrees by multiplying it by 180 and dividing it by $\\pi$ "
   ]
  },
  {
   "cell_type": "markdown",
   "metadata": {},
   "source": [
    "Let's start by calculating all unit vectors:\n",
    "\n",
    "$a_{unit} = [\\frac{1}{3.16},\\frac{3}{3.16}] = [0.31,0.94]$\n",
    "\n",
    "$b_{unit} = [\\frac{2}{2.23},\\frac{1}{2.23}] = [0.89,0.44]$\n",
    "\n",
    "$c_{unit} = [\\frac{-1}{2.23},\\frac{2}{2.23}] = [-0.44,0.89]$\n",
    "\n",
    "$d_{unit} = [\\frac{1}{3.74},\\frac{2}{3.74},\\frac{3}{3.74}] = [0.26,0.53,0.80]$\n",
    "\n",
    "$e_{unit} = [\\frac{3}{3.74},\\frac{2}{3.74},\\frac{1}{3.74}] = [0.80,0.53,0.26]$\n"
   ]
  },
  {
   "cell_type": "markdown",
   "metadata": {},
   "source": [
    "a) $\\theta = acos(0.31*0.89 + 0.94*0.44)*\\frac{180}{\\pi} = 46.4$\n",
    "\n",
    "b) $\\theta = acos(0.89*0.31 + 0.44*0.94)*\\frac{180}{\\pi} = 46.4$\n",
    "\n",
    "c) $\\theta = acos(0.31*(-0.44) + 0.94*0.89)*\\frac{180}{\\pi} = 45.5$\n",
    "\n",
    "d) $\\theta = acos(0.89*(-0.44) + 0.44*0.89)*\\frac{180}{\\pi} = 90$\n",
    "\n",
    "e) $\\theta = acos(0.26*0.8+0.53*0.53+0.8*0.26)*\\frac{180}{\\pi} = 45.82$"
   ]
  }
 ],
 "metadata": {
  "kernelspec": {
   "display_name": "Python 3",
   "language": "python",
   "name": "python3"
  },
  "language_info": {
   "codemirror_mode": {
    "name": "ipython",
    "version": 3
   },
   "file_extension": ".py",
   "mimetype": "text/x-python",
   "name": "python",
   "nbconvert_exporter": "python",
   "pygments_lexer": "ipython3",
   "version": "3.7.3"
  }
 },
 "nbformat": 4,
 "nbformat_minor": 2
}
