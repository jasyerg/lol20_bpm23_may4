{
 "cells": [
  {
   "cell_type": "markdown",
   "metadata": {},
   "source": [
    "### Problem 1:\n",
    "Solve the following determinants:\n",
    "\n",
    "a)  \n",
    "\\begin{bmatrix}\n",
    "    3 & 4\\\\\n",
    "    5 & 9\\\\\n",
    "\\end{bmatrix}\n",
    "\n",
    "b)  \n",
    "\\begin{bmatrix}\n",
    "    2 & -1\\\\\n",
    "    4 & 3\\\\\n",
    "\\end{bmatrix}\n",
    "\n",
    "c)  \n",
    "\\begin{bmatrix}\n",
    "    4 & -5\\\\\n",
    "    3 & -2\\\\\n",
    "\\end{bmatrix}\n"
   ]
  },
  {
   "cell_type": "markdown",
   "metadata": {},
   "source": [
    "### Problem 2:\n",
    "\n",
    "Given:\n",
    "\\begin{equation}\n",
    "\\pmb A = \n",
    "\\begin{bmatrix}\n",
    "    2 & 5\\\\\n",
    "    1 & 3\\\\\n",
    "\\end{bmatrix}\n",
    "\\end{equation}\n",
    "\n",
    "\\begin{equation}\n",
    "\\pmb B = \n",
    "\\begin{bmatrix}\n",
    "    3 & -5\\\\\n",
    "    -1 & 2\\\\\n",
    "\\end{bmatrix}\n",
    "\\end{equation}\n",
    "\n",
    "Is $A^{-1} = B$?"
   ]
  },
  {
   "cell_type": "code",
   "execution_count": null,
   "metadata": {},
   "outputs": [],
   "source": []
  }
 ],
 "metadata": {
  "kernelspec": {
   "display_name": "Python 3",
   "language": "python",
   "name": "python3"
  },
  "language_info": {
   "codemirror_mode": {
    "name": "ipython",
    "version": 3
   },
   "file_extension": ".py",
   "mimetype": "text/x-python",
   "name": "python",
   "nbconvert_exporter": "python",
   "pygments_lexer": "ipython3",
   "version": "3.7.3"
  }
 },
 "nbformat": 4,
 "nbformat_minor": 2
}
