{
 "cells": [
  {
   "cell_type": "markdown",
   "metadata": {},
   "source": [
    "# Beginner Python and Math for Data Science\n",
    "## Lecture 11\n",
    "### Linear Algebra - Matrix Operations with Other Matrices"
   ]
  },
  {
   "cell_type": "markdown",
   "metadata": {},
   "source": [
    "__Purpose:__ The purpose of this lecture is to work with matrices and other matrix  operations. \n",
    "\n",
    "__At the end of this lecture you will be able to:__\n",
    "> 1. Work with matrix operations such as addition and multiplication"
   ]
  },
  {
   "cell_type": "code",
   "execution_count": 1,
   "metadata": {},
   "outputs": [],
   "source": [
    "import numpy as np \n",
    "from scipy import linalg \n",
    "import matplotlib.pyplot as plt\n",
    "from mpl_toolkits.mplot3d import axes3d\n",
    "%matplotlib inline "
   ]
  },
  {
   "cell_type": "markdown",
   "metadata": {},
   "source": [
    "### 1.1.1 Mathematical Operations with Matrices and other Matrices"
   ]
  },
  {
   "cell_type": "markdown",
   "metadata": {},
   "source": [
    "__Overview:__\n",
    "- It is also possible to add and multiply a matrix by another matrix:\n",
    "> 1. __Addition:__ Adding a matrix to another matrix will only work if the two matrices have the same shape. In general, the sum of $\\pmb A$ and $\\pmb B$, where both are matrices is: $[\\pmb A + \\pmb B]_{i,j} = [\\pmb A]_{i,j} + [\\pmb B]_{i,j}$. In other words, the two matrices are added element-by-element to form a new matrix \n",
    "> 2. __Multiplication:__ If $\\pmb A$ is a matrix and $\\pmb B$ is a matrix with columns $\\pmb B_1$, $\\pmb B_2$, $\\pmb B_3$, ...,  $\\pmb B_n$, then the matrix product of $\\pmb A$ with $\\pmb B$ is $\\pmb A \\pmb B = \\pmb A[\\pmb B_1 | \\pmb B_2 | \\pmb B_3 ... \\pmb B_p] = [AB_1 | AB_2 | AB_3 | ... AB_p]$\n",
    "\n",
    "\\begin{equation}\n",
    "\\begin{bmatrix}\n",
    "    A_{11}       & A_{12}\\\\\n",
    "    A_{21}       & A_{22}\n",
    "\\end{bmatrix}\n",
    "\\begin{bmatrix}\n",
    "    B_{11} & B_{12}\\\\\n",
    "    B_{21} & B_{22}\n",
    "\\end{bmatrix}\n",
    "=\n",
    "\\begin{bmatrix}\n",
    "    (A_{11}B_{11} + A_{12}B_{21}) & (A_{11}B_{12} + A_{12}B_{22})\\\\\n",
    "    (A_{21}B_{11} + A_{22}B_{21}) & (A_{12}B_{12} + A_{22}B_{22})\n",
    "\\end{bmatrix}\n",
    "\\end{equation}\n",
    "\n",
    "\\begin{equation}\n",
    "\\begin{bmatrix}\n",
    "    A_{11}       & A_{12}\\\\\n",
    "    A_{21}       & A_{22}\n",
    "\\end{bmatrix}\n",
    "\\begin{bmatrix}\n",
    "    \\pmb B_1 & \\pmb B_2\n",
    "\\end{bmatrix}\n",
    "=\n",
    "\\begin{bmatrix}\n",
    "    \\pmb A \\pmb B_1 & \\pmb A \\pmb B_2\n",
    "\\end{bmatrix}\n",
    "=\n",
    "\\begin{bmatrix}\n",
    "    \\pmb A_1 B_{11}  + \\pmb A_2 B_{21} & \\pmb A_1 B_{12} + \\pmb A_2 B_{22}\n",
    "\\end{bmatrix}\n",
    "\\end{equation}\n",
    "<br>\n",
    "<center> $\\pmb A \\pmb B = \\pmb A[\\pmb B_1 | \\pmb B_2 | \\pmb B_3 ... \\pmb B_p] = [AB_1 | AB_2 | AB_3 | ... AB_p]$ </center>\n",
    "\n",
    "__Note:__ Each column in the multiplied matrix is the matrix-vector product of $\\pmb A \\pmb B_i$\n",
    "\n",
    "__Helpful Points:__\n",
    "1. The most important rule when multiplying two matrices is that matrix A must have the same number of columns that matrix B has rows. Specifically, an $m$ $x$ $n$ matrix multiplied by an $n$ $x$ $k$ matrix is an $m$ $x$ $k$ matrix \n",
    "2. Be very careful to remember that the __Commutative Law__ that we saw with vectors does not hold with matrices. In other words, $\\pmb A \\pmb B \\neq \\pmb B \\pmb A$\n",
    "3. Matrices are NOT multipled element-by-element (be careful!!)\n",
    "\n",
    "__Practice:__ Examples of Addition and Muliplication with Matrices and other Matrices "
   ]
  },
  {
   "cell_type": "markdown",
   "metadata": {},
   "source": [
    "### Example 1 (Addition):"
   ]
  },
  {
   "cell_type": "markdown",
   "metadata": {},
   "source": [
    "### Example 1.1 (Addition with Matrices of Same Shapes):"
   ]
  },
  {
   "cell_type": "code",
   "execution_count": 2,
   "metadata": {},
   "outputs": [
    {
     "name": "stdout",
     "output_type": "stream",
     "text": [
      "[[1 1 2]\n",
      " [2 3 2]\n",
      " [4 0 0]]\n",
      "[[2 1 1]\n",
      " [1 0 0]\n",
      " [2 2 2]]\n"
     ]
    }
   ],
   "source": [
    "matrix_a = np.array([[1,1,2],[2,3,2],[4,0,0]])\n",
    "matrix_b = np.array([[2,1,1],[1,0,0],[2,2,2]])\n",
    "print(matrix_a)\n",
    "print(matrix_b)"
   ]
  },
  {
   "cell_type": "code",
   "execution_count": 3,
   "metadata": {},
   "outputs": [
    {
     "data": {
      "text/plain": [
       "(3, 3)"
      ]
     },
     "execution_count": 3,
     "metadata": {},
     "output_type": "execute_result"
    }
   ],
   "source": [
    "matrix_a.shape"
   ]
  },
  {
   "cell_type": "code",
   "execution_count": 4,
   "metadata": {},
   "outputs": [
    {
     "data": {
      "text/plain": [
       "(3, 3)"
      ]
     },
     "execution_count": 4,
     "metadata": {},
     "output_type": "execute_result"
    }
   ],
   "source": [
    "matrix_b.shape"
   ]
  },
  {
   "cell_type": "code",
   "execution_count": 5,
   "metadata": {
    "scrolled": true
   },
   "outputs": [
    {
     "data": {
      "text/plain": [
       "array([[3, 2, 3],\n",
       "       [3, 3, 2],\n",
       "       [6, 2, 2]])"
      ]
     },
     "execution_count": 5,
     "metadata": {},
     "output_type": "execute_result"
    }
   ],
   "source": [
    "matrix_a + matrix_b"
   ]
  },
  {
   "cell_type": "markdown",
   "metadata": {},
   "source": [
    "### Example 1.2 (Addition with Matrices of Different Shapes):"
   ]
  },
  {
   "cell_type": "code",
   "execution_count": 6,
   "metadata": {},
   "outputs": [
    {
     "name": "stdout",
     "output_type": "stream",
     "text": [
      "[[1 1 2]\n",
      " [2 3 2]\n",
      " [4 0 0]]\n",
      "[[2 1 1]\n",
      " [1 0 0]]\n"
     ]
    }
   ],
   "source": [
    "matrix_a = np.array([[1,1,2],[2,3,2],[4,0,0]])\n",
    "matrix_b = np.array([[2,1,1],[1,0,0]])\n",
    "print(matrix_a)\n",
    "print(matrix_b)"
   ]
  },
  {
   "cell_type": "code",
   "execution_count": 7,
   "metadata": {},
   "outputs": [
    {
     "data": {
      "text/plain": [
       "(3, 3)"
      ]
     },
     "execution_count": 7,
     "metadata": {},
     "output_type": "execute_result"
    }
   ],
   "source": [
    "matrix_a.shape"
   ]
  },
  {
   "cell_type": "code",
   "execution_count": 8,
   "metadata": {},
   "outputs": [
    {
     "data": {
      "text/plain": [
       "(2, 3)"
      ]
     },
     "execution_count": 8,
     "metadata": {},
     "output_type": "execute_result"
    }
   ],
   "source": [
    "matrix_b.shape"
   ]
  },
  {
   "cell_type": "code",
   "execution_count": 9,
   "metadata": {
    "scrolled": true
   },
   "outputs": [
    {
     "ename": "ValueError",
     "evalue": "operands could not be broadcast together with shapes (3,3) (2,3) ",
     "output_type": "error",
     "traceback": [
      "\u001b[0;31m---------------------------------------------------------------------------\u001b[0m",
      "\u001b[0;31mValueError\u001b[0m                                Traceback (most recent call last)",
      "\u001b[0;32m<ipython-input-9-aaea05d83f66>\u001b[0m in \u001b[0;36m<module>\u001b[0;34m\u001b[0m\n\u001b[0;32m----> 1\u001b[0;31m \u001b[0mmatrix_a\u001b[0m \u001b[0;34m+\u001b[0m \u001b[0mmatrix_b\u001b[0m\u001b[0;34m\u001b[0m\u001b[0;34m\u001b[0m\u001b[0m\n\u001b[0m",
      "\u001b[0;31mValueError\u001b[0m: operands could not be broadcast together with shapes (3,3) (2,3) "
     ]
    }
   ],
   "source": [
    "matrix_a + matrix_b"
   ]
  },
  {
   "cell_type": "markdown",
   "metadata": {},
   "source": [
    "### Example 2 (Multiplication):"
   ]
  },
  {
   "cell_type": "code",
   "execution_count": 10,
   "metadata": {
    "scrolled": false
   },
   "outputs": [
    {
     "name": "stdout",
     "output_type": "stream",
     "text": [
      "[[1 1]\n",
      " [2 3]]\n",
      "[[2 1]\n",
      " [1 0]]\n"
     ]
    }
   ],
   "source": [
    "matrix_a = np.array([[1,1],[2,3]])\n",
    "matrix_b = np.array([[2,1],[1,0]])\n",
    "print(matrix_a)\n",
    "print(matrix_b)"
   ]
  },
  {
   "cell_type": "markdown",
   "metadata": {},
   "source": [
    "### Example 2.1 (Method 1 - With Dot Function):"
   ]
  },
  {
   "cell_type": "code",
   "execution_count": 11,
   "metadata": {
    "scrolled": true
   },
   "outputs": [
    {
     "data": {
      "text/plain": [
       "array([[3, 1],\n",
       "       [7, 2]])"
      ]
     },
     "execution_count": 11,
     "metadata": {},
     "output_type": "execute_result"
    }
   ],
   "source": [
    "np.dot(matrix_a, matrix_b)"
   ]
  },
  {
   "cell_type": "markdown",
   "metadata": {},
   "source": [
    "### Example 2.2 (Method 2 - Matrix-Vector Products):"
   ]
  },
  {
   "cell_type": "code",
   "execution_count": 12,
   "metadata": {
    "scrolled": true
   },
   "outputs": [
    {
     "data": {
      "text/plain": [
       "array([[3],\n",
       "       [7]])"
      ]
     },
     "execution_count": 12,
     "metadata": {},
     "output_type": "execute_result"
    }
   ],
   "source": [
    "np.dot(matrix_a,matrix_b[:,0:1]) # A * B1 (first column of new matrix)"
   ]
  },
  {
   "cell_type": "code",
   "execution_count": 13,
   "metadata": {},
   "outputs": [
    {
     "data": {
      "text/plain": [
       "array([[1],\n",
       "       [2]])"
      ]
     },
     "execution_count": 13,
     "metadata": {},
     "output_type": "execute_result"
    }
   ],
   "source": [
    "np.dot(matrix_a,matrix_b[:,1:2]) # A * B2 (second column of new matrix)"
   ]
  },
  {
   "cell_type": "markdown",
   "metadata": {},
   "source": [
    "### Example 2.3 (Method 3 - Linear Combinations):"
   ]
  },
  {
   "cell_type": "markdown",
   "metadata": {},
   "source": [
    "$A_{11}B_{11} + A_{12}B_{21}$"
   ]
  },
  {
   "cell_type": "code",
   "execution_count": 14,
   "metadata": {},
   "outputs": [
    {
     "data": {
      "text/plain": [
       "array([[3]])"
      ]
     },
     "execution_count": 14,
     "metadata": {},
     "output_type": "execute_result"
    }
   ],
   "source": [
    "matrix_a[0:1, 0:1]*matrix_b[0:1, 0:1] + matrix_a[0:1, 1:2]*matrix_b[1:2, 0:1] # top left entry "
   ]
  },
  {
   "cell_type": "markdown",
   "metadata": {},
   "source": [
    "$A_{11}B_{12} + A_{12}B_{22}$"
   ]
  },
  {
   "cell_type": "code",
   "execution_count": 15,
   "metadata": {},
   "outputs": [
    {
     "data": {
      "text/plain": [
       "array([[1]])"
      ]
     },
     "execution_count": 15,
     "metadata": {},
     "output_type": "execute_result"
    }
   ],
   "source": [
    "matrix_a[0:1, 0:1]*matrix_b[0:1, 1:2] + matrix_a[0:1, 1:2]*matrix_b[1:2, 1:2] # top right entry "
   ]
  },
  {
   "cell_type": "markdown",
   "metadata": {},
   "source": [
    "$A_{21}B_{11} + A_{22}B_{21}$"
   ]
  },
  {
   "cell_type": "code",
   "execution_count": 16,
   "metadata": {},
   "outputs": [
    {
     "data": {
      "text/plain": [
       "array([[7]])"
      ]
     },
     "execution_count": 16,
     "metadata": {},
     "output_type": "execute_result"
    }
   ],
   "source": [
    "matrix_a[1:2, 0:1]*matrix_b[0:1, 0:1] + matrix_a[1:2, 1:2]*matrix_b[1:2, 0:1] # bottom left entry "
   ]
  },
  {
   "cell_type": "markdown",
   "metadata": {},
   "source": [
    "$A_{12}B_{12} + A_{22}B_{22}$"
   ]
  },
  {
   "cell_type": "code",
   "execution_count": 17,
   "metadata": {
    "scrolled": true
   },
   "outputs": [
    {
     "data": {
      "text/plain": [
       "array([[2]])"
      ]
     },
     "execution_count": 17,
     "metadata": {},
     "output_type": "execute_result"
    }
   ],
   "source": [
    "matrix_a[1:2, 0:1]*matrix_b[0:1, 1:2] + matrix_a[1:2, 1:2]*matrix_b[1:2, 1:2] # bottom right entry "
   ]
  },
  {
   "cell_type": "markdown",
   "metadata": {},
   "source": [
    "### Example 2.4 (Matrix Multiplication with Identity Matrix):"
   ]
  },
  {
   "cell_type": "markdown",
   "metadata": {},
   "source": [
    "Recall the definition of an Identity Matrix from section 7.4.1. An additional property of an identity matrix is that the multiplication of an identity matrix by any matrix will result in the same matrix. \n",
    "\n",
    "<center> $\\pmb I \\pmb A = \\pmb A$ </center>"
   ]
  },
  {
   "cell_type": "code",
   "execution_count": 18,
   "metadata": {
    "scrolled": true
   },
   "outputs": [
    {
     "name": "stdout",
     "output_type": "stream",
     "text": [
      "[[1 0 0]\n",
      " [0 1 0]\n",
      " [0 0 1]]\n"
     ]
    }
   ],
   "source": [
    "identity_matrix = np.array([[1,0,0], [0,1,0], [0,0,1]])\n",
    "print(identity_matrix)"
   ]
  },
  {
   "cell_type": "markdown",
   "metadata": {},
   "source": [
    "### Example 2.4.1 (Square Matrices):"
   ]
  },
  {
   "cell_type": "code",
   "execution_count": 19,
   "metadata": {},
   "outputs": [
    {
     "name": "stdout",
     "output_type": "stream",
     "text": [
      "[[0 2 0]\n",
      " [1 1 1]\n",
      " [2 2 1]]\n"
     ]
    }
   ],
   "source": [
    "matrix_a = np.array([[0,2,0],[1,1,1],[2,2,1]])\n",
    "print(matrix_a)"
   ]
  },
  {
   "cell_type": "code",
   "execution_count": 20,
   "metadata": {
    "scrolled": true
   },
   "outputs": [
    {
     "data": {
      "text/plain": [
       "array([[0, 2, 0],\n",
       "       [1, 1, 1],\n",
       "       [2, 2, 1]])"
      ]
     },
     "execution_count": 20,
     "metadata": {},
     "output_type": "execute_result"
    }
   ],
   "source": [
    "np.dot(identity_matrix, matrix_a)"
   ]
  },
  {
   "cell_type": "markdown",
   "metadata": {},
   "source": [
    "Note that the identity matrix will always be a square matrix, although the matrix being multiplied does not have to be square. See example below:"
   ]
  },
  {
   "cell_type": "markdown",
   "metadata": {},
   "source": [
    "### Example 2.4.2 (Non-Square Matrices):"
   ]
  },
  {
   "cell_type": "code",
   "execution_count": 21,
   "metadata": {
    "scrolled": true
   },
   "outputs": [
    {
     "name": "stdout",
     "output_type": "stream",
     "text": [
      "[[0 2]\n",
      " [1 1]\n",
      " [2 2]]\n"
     ]
    }
   ],
   "source": [
    "matrix_a = np.array([[0,2],[1,1],[2,2]])\n",
    "print(matrix_a)"
   ]
  },
  {
   "cell_type": "code",
   "execution_count": 22,
   "metadata": {
    "scrolled": true
   },
   "outputs": [
    {
     "data": {
      "text/plain": [
       "array([[0, 2],\n",
       "       [1, 1],\n",
       "       [2, 2]])"
      ]
     },
     "execution_count": 22,
     "metadata": {},
     "output_type": "execute_result"
    }
   ],
   "source": [
    "np.dot(identity_matrix, matrix_a)"
   ]
  },
  {
   "cell_type": "code",
   "execution_count": 23,
   "metadata": {},
   "outputs": [
    {
     "data": {
      "text/plain": [
       "(3, 3)"
      ]
     },
     "execution_count": 23,
     "metadata": {},
     "output_type": "execute_result"
    }
   ],
   "source": [
    "identity_matrix.shape"
   ]
  },
  {
   "cell_type": "code",
   "execution_count": 24,
   "metadata": {},
   "outputs": [
    {
     "data": {
      "text/plain": [
       "(3, 2)"
      ]
     },
     "execution_count": 24,
     "metadata": {},
     "output_type": "execute_result"
    }
   ],
   "source": [
    "matrix_a.shape"
   ]
  },
  {
   "cell_type": "markdown",
   "metadata": {},
   "source": [
    "Since we know that an $m$ $x$ $n$ matrix multiplied by an $n$ $x$ $k$ matrix, will result in an $m$ $x$ $k$ matrix, the product of these two matrices will be (3 X 3) * (3 X 2) = (3 X 2)"
   ]
  },
  {
   "cell_type": "markdown",
   "metadata": {},
   "source": [
    "### Example 2.4 (Matrix Multiplication with Zero Matrix):"
   ]
  },
  {
   "cell_type": "markdown",
   "metadata": {},
   "source": [
    "Recall the definition of a Zero Matrix from a previous section. An additional property of a zero matrix is that the multiplication of a zero matrix by any matrix will also result in the zero matrix with possibly changed shape from the original zero matrix, depending on the shape of the non-zero matrix in the product. \n",
    "\n",
    "<center> $\\pmb 0 \\pmb A = \\pmb 0$ </center>"
   ]
  },
  {
   "cell_type": "code",
   "execution_count": 25,
   "metadata": {
    "scrolled": true
   },
   "outputs": [
    {
     "name": "stdout",
     "output_type": "stream",
     "text": [
      "[[0. 0.]\n",
      " [0. 0.]\n",
      " [0. 0.]]\n"
     ]
    }
   ],
   "source": [
    "zero_matrix = np.zeros(6).reshape(3,2)\n",
    "print(zero_matrix)"
   ]
  },
  {
   "cell_type": "code",
   "execution_count": 26,
   "metadata": {},
   "outputs": [
    {
     "name": "stdout",
     "output_type": "stream",
     "text": [
      "[[1 2 3]\n",
      " [4 1 1]]\n"
     ]
    }
   ],
   "source": [
    "matrix_a = np.array([[1,2,3],[4,1,1]])\n",
    "print(matrix_a)"
   ]
  },
  {
   "cell_type": "code",
   "execution_count": 27,
   "metadata": {},
   "outputs": [
    {
     "data": {
      "text/plain": [
       "array([[0., 0., 0.],\n",
       "       [0., 0., 0.],\n",
       "       [0., 0., 0.]])"
      ]
     },
     "execution_count": 27,
     "metadata": {},
     "output_type": "execute_result"
    }
   ],
   "source": [
    "np.dot(zero_matrix, matrix_a)"
   ]
  },
  {
   "cell_type": "markdown",
   "metadata": {},
   "source": [
    "Since we know that an $m$ $x$ $n$ matrix multiplied by an $n$ $x$ $k$ matrix, will result in an $m$ $x$ $k$ matrix, the product of these two matrices will be (3 X 2) * (2 X 3) = (3 X 3)"
   ]
  },
  {
   "cell_type": "markdown",
   "metadata": {},
   "source": [
    "### Example 2.5 (Commutative Property Check):"
   ]
  },
  {
   "cell_type": "code",
   "execution_count": 28,
   "metadata": {},
   "outputs": [
    {
     "name": "stdout",
     "output_type": "stream",
     "text": [
      "[[1 2 3]\n",
      " [4 1 1]]\n"
     ]
    }
   ],
   "source": [
    "matrix_a = np.array([[1,2,3],[4,1,1]])\n",
    "print(matrix_a)"
   ]
  },
  {
   "cell_type": "code",
   "execution_count": 29,
   "metadata": {},
   "outputs": [
    {
     "name": "stdout",
     "output_type": "stream",
     "text": [
      "[[2 0]\n",
      " [1 4]\n",
      " [2 1]]\n"
     ]
    }
   ],
   "source": [
    "matrix_b = np.array([[2,0],[1,4],[2,1]])\n",
    "print(matrix_b)"
   ]
  },
  {
   "cell_type": "code",
   "execution_count": 30,
   "metadata": {},
   "outputs": [
    {
     "data": {
      "text/plain": [
       "array([[10, 11],\n",
       "       [11,  5]])"
      ]
     },
     "execution_count": 30,
     "metadata": {},
     "output_type": "execute_result"
    }
   ],
   "source": [
    "np.dot(matrix_a, matrix_b) # AB"
   ]
  },
  {
   "cell_type": "code",
   "execution_count": 31,
   "metadata": {},
   "outputs": [
    {
     "data": {
      "text/plain": [
       "array([[ 2,  4,  6],\n",
       "       [17,  6,  7],\n",
       "       [ 6,  5,  7]])"
      ]
     },
     "execution_count": 31,
     "metadata": {},
     "output_type": "execute_result"
    }
   ],
   "source": [
    "np.dot(matrix_b, matrix_a) # BA"
   ]
  },
  {
   "cell_type": "markdown",
   "metadata": {},
   "source": [
    "Therefore, it is clear that matrix multiplication is NOT commutative."
   ]
  },
  {
   "cell_type": "markdown",
   "metadata": {},
   "source": [
    "### Problem 1\n",
    "\n",
    "Create a matrix \n",
    "\n",
    "\\begin{equation}\n",
    "\\pmb A = \n",
    "\\begin{bmatrix}\n",
    "    1 & 2 & 4\\\\\n",
    "    2 & 0 & 1\\\\\n",
    "\\end{bmatrix}\n",
    "\\end{equation}\n",
    "\n",
    "and a matrix \n",
    "\n",
    "\\begin{equation}\n",
    "\\pmb B = \n",
    "\\begin{bmatrix}\n",
    "    2 & 1\\\\\n",
    "    2 & 3\\\\\n",
    "    1 & 1\n",
    "\\end{bmatrix}\n",
    "\\end{equation}\n",
    "\n",
    "Perform matrix multiplication using manual calculation on pencil and paper and also using the dot product function."
   ]
  },
  {
   "cell_type": "code",
   "execution_count": null,
   "metadata": {},
   "outputs": [],
   "source": [
    "# write your code here \n",
    "\n",
    "\n",
    "\n"
   ]
  },
  {
   "cell_type": "markdown",
   "metadata": {},
   "source": [
    "### SOLUTION\n",
    "\n",
    "### Problem 1\n",
    "\n",
    "Create a matrix \n",
    "\n",
    "\\begin{equation}\n",
    "\\pmb A = \n",
    "\\begin{bmatrix}\n",
    "    1 & 2 & 4\\\\\n",
    "    2 & 0 & 1\\\\\n",
    "\\end{bmatrix}\n",
    "\\end{equation}\n",
    "\n",
    "and a matrix \n",
    "\n",
    "\\begin{equation}\n",
    "\\pmb B = \n",
    "\\begin{bmatrix}\n",
    "    2 & 1\\\\\n",
    "    2 & 3\\\\\n",
    "    1 & 1\n",
    "\\end{bmatrix}\n",
    "\\end{equation}\n",
    "\n",
    "Perform matrix multiplication using manual calculation on pencil and paper and also using the dot product function."
   ]
  },
  {
   "cell_type": "code",
   "execution_count": 32,
   "metadata": {},
   "outputs": [
    {
     "name": "stdout",
     "output_type": "stream",
     "text": [
      "[[1 2 4]\n",
      " [2 0 1]]\n",
      "[[2 1]\n",
      " [2 3]\n",
      " [1 1]]\n"
     ]
    }
   ],
   "source": [
    "A = np.array([[1,2,4],[2,0,1]])\n",
    "B = np.array([[2,1],[2,3],[1,1]])\n",
    "print(A)\n",
    "print(B)"
   ]
  },
  {
   "cell_type": "code",
   "execution_count": 33,
   "metadata": {},
   "outputs": [
    {
     "data": {
      "text/plain": [
       "array([[10, 11],\n",
       "       [ 5,  3]])"
      ]
     },
     "execution_count": 33,
     "metadata": {},
     "output_type": "execute_result"
    }
   ],
   "source": [
    "np.dot(A, B)"
   ]
  },
  {
   "cell_type": "markdown",
   "metadata": {},
   "source": [
    "See the whiteboard for a manual calculation. "
   ]
  },
  {
   "cell_type": "code",
   "execution_count": null,
   "metadata": {},
   "outputs": [],
   "source": []
  }
 ],
 "metadata": {
  "kernelspec": {
   "display_name": "Python 3",
   "language": "python",
   "name": "python3"
  },
  "language_info": {
   "codemirror_mode": {
    "name": "ipython",
    "version": 3
   },
   "file_extension": ".py",
   "mimetype": "text/x-python",
   "name": "python",
   "nbconvert_exporter": "python",
   "pygments_lexer": "ipython3",
   "version": "3.7.3"
  }
 },
 "nbformat": 4,
 "nbformat_minor": 2
}
