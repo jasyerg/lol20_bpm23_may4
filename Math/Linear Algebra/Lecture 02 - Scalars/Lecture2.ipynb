{
 "cells": [
  {
   "cell_type": "markdown",
   "metadata": {},
   "source": [
    "# Beginner Python and Math for Data Science\n",
    "## Lecture 2 \n",
    "### Linear Algebra - Scalar"
   ]
  },
  {
   "cell_type": "markdown",
   "metadata": {},
   "source": [
    "__Purpose:__ We will learn a basic and fundamental concept in Linear Algebra known as scalar.\n",
    "\n",
    "__At the end of this lecture you will be able to:__\n",
    "> 1. Work with scalars "
   ]
  },
  {
   "cell_type": "markdown",
   "metadata": {},
   "source": [
    "## 1.1 Scalars "
   ]
  },
  {
   "cell_type": "markdown",
   "metadata": {},
   "source": [
    "### 1.1.1 What is a Scalar?:"
   ]
  },
  {
   "cell_type": "markdown",
   "metadata": {},
   "source": [
    "__Overview:__\n",
    "- __[Scalar](https://en.wikipedia.org/wiki/Scalar_(mathematics)):__ A Scalar is, simply, just a single number (versus other common objects in Linear Algebra such as vectors and matrices which consist of multiple numbers)\n",
    "- Here are some important properties of scalars:\n",
    "> 1. All the __[real numbers](https://en.wikipedia.org/wiki/Real_number)__ are considered scalars \n",
    "> 2. Scalars make up the individual components of a vector  \n",
    "\n",
    "__Helpful Points:__\n",
    "1. The NumPy Package has many \"built-in\" scalar types \n",
    "\n",
    "__Practice:__ Examples of Scalars in Python "
   ]
  },
  {
   "cell_type": "code",
   "execution_count": 1,
   "metadata": {},
   "outputs": [],
   "source": [
    "import numpy as np \n",
    "from scipy import linalg \n",
    "import math "
   ]
  },
  {
   "cell_type": "markdown",
   "metadata": {},
   "source": [
    "### Example 1 (Initialize Scalar):"
   ]
  },
  {
   "cell_type": "code",
   "execution_count": 2,
   "metadata": {},
   "outputs": [
    {
     "name": "stdout",
     "output_type": "stream",
     "text": [
      "5 is a scalar\n"
     ]
    }
   ],
   "source": [
    "my_scalar = 5\n",
    "print(\"{} is a scalar\".format(my_scalar))"
   ]
  },
  {
   "cell_type": "code",
   "execution_count": 3,
   "metadata": {
    "scrolled": true
   },
   "outputs": [
    {
     "name": "stdout",
     "output_type": "stream",
     "text": [
      "3.14 is a scalar\n"
     ]
    }
   ],
   "source": [
    "my_scalar_1 = 3.14\n",
    "print(\"{} is a scalar\".format(my_scalar_1))"
   ]
  },
  {
   "cell_type": "markdown",
   "metadata": {},
   "source": [
    "### Example 2 (Initialize non-Scalar):"
   ]
  },
  {
   "cell_type": "code",
   "execution_count": 4,
   "metadata": {},
   "outputs": [
    {
     "name": "stdout",
     "output_type": "stream",
     "text": [
      "[1, 2, 3] is NOT a scalar\n"
     ]
    }
   ],
   "source": [
    "my_list = [1,2,3]\n",
    "print(\"{} is NOT a scalar\".format(my_list))"
   ]
  },
  {
   "cell_type": "code",
   "execution_count": 5,
   "metadata": {},
   "outputs": [
    {
     "name": "stdout",
     "output_type": "stream",
     "text": [
      "[10  9  8  7] is NOT a scalar\n"
     ]
    }
   ],
   "source": [
    "my_array = np.array(np.arange(10,6,-1))\n",
    "print(\"{} is NOT a scalar\".format(my_array))"
   ]
  },
  {
   "cell_type": "markdown",
   "metadata": {},
   "source": [
    "### Example 3 (NumPy Scalar Types):"
   ]
  },
  {
   "cell_type": "code",
   "execution_count": 6,
   "metadata": {},
   "outputs": [
    {
     "data": {
      "text/plain": [
       "(int,\n",
       " float,\n",
       " complex,\n",
       " int,\n",
       " bool,\n",
       " bytes,\n",
       " str,\n",
       " memoryview,\n",
       " numpy.complex64,\n",
       " numpy.float32,\n",
       " numpy.uint16,\n",
       " numpy.int16,\n",
       " numpy.object_,\n",
       " numpy.complex128,\n",
       " numpy.float64,\n",
       " numpy.uint32,\n",
       " numpy.int32,\n",
       " numpy.bytes_,\n",
       " numpy.complex256,\n",
       " numpy.float128,\n",
       " numpy.uint64,\n",
       " numpy.int64,\n",
       " numpy.str_,\n",
       " numpy.datetime64,\n",
       " numpy.uint64,\n",
       " numpy.int64,\n",
       " numpy.void,\n",
       " numpy.bool_,\n",
       " numpy.timedelta64,\n",
       " numpy.float16,\n",
       " numpy.uint8,\n",
       " numpy.int8)"
      ]
     },
     "execution_count": 6,
     "metadata": {},
     "output_type": "execute_result"
    }
   ],
   "source": [
    "np.ScalarType"
   ]
  },
  {
   "cell_type": "markdown",
   "metadata": {},
   "source": [
    "### 1.1.2 Notating Scalars:"
   ]
  },
  {
   "cell_type": "markdown",
   "metadata": {},
   "source": [
    "__Overview:__ \n",
    "- It is useful to know the \"proper\" way of notating a scalar in mathematical notation since you may come across this when studying from textbooks or online resources\n",
    "- Here are some practices used when notating scalars:\n",
    "> 1. When defining scalars in mathematical notation, we typically write them in _italics_\n",
    "> 2. When defining scalars in mathematical notation, we typically denote the \"type\" of scalar or the \"family\" that it belongs to. For example if the scalar *x* belongs to the set of real numbers (which just means, it can be any real number), we would write this as: $x \\in \\mathbb R$\n",
    "\n",
    "__Helpful Points:__\n",
    "1. It is important to remember that the \"fancy\" looking R $(\\mathbb R)$ denotes the set of real numbers"
   ]
  },
  {
   "cell_type": "markdown",
   "metadata": {},
   "source": [
    "### 1.1.3 Operations with Scalars: "
   ]
  },
  {
   "cell_type": "markdown",
   "metadata": {},
   "source": [
    "__Overview:__\n",
    "- Scalars can be operated on other scalars, but also vectors \n",
    "- Operations involving only scalars include:\n",
    "> 1. Addition of Scalars\n",
    "> 2. Subtraction of Scalars \n",
    "> 3. Multiplication of Scalars\n",
    "> 4. Division of Scalars \n",
    "\n",
    "__Helpful Points:__\n",
    "1. However, scalars are most commonly used in vector operations (such as scalar product and scalar multiplication)\n",
    "2. Be careful not to confuse \"Scalar Multiplication\" and \"Multiplication of Scalars\". The former refers to a vector multiplied by a scalar and the latter refers to 2 scalars being multiplied\n",
    "\n",
    "__Practice:__ Operations with Scalars in Python "
   ]
  },
  {
   "cell_type": "markdown",
   "metadata": {},
   "source": [
    "### Example 1 (Scalar Operations on Scalars):"
   ]
  },
  {
   "cell_type": "code",
   "execution_count": 7,
   "metadata": {},
   "outputs": [
    {
     "data": {
      "text/plain": [
       "10"
      ]
     },
     "execution_count": 7,
     "metadata": {},
     "output_type": "execute_result"
    }
   ],
   "source": [
    "5 + 5"
   ]
  },
  {
   "cell_type": "code",
   "execution_count": 8,
   "metadata": {},
   "outputs": [
    {
     "data": {
      "text/plain": [
       "2"
      ]
     },
     "execution_count": 8,
     "metadata": {},
     "output_type": "execute_result"
    }
   ],
   "source": [
    "4 - 2"
   ]
  },
  {
   "cell_type": "code",
   "execution_count": 9,
   "metadata": {},
   "outputs": [
    {
     "data": {
      "text/plain": [
       "4"
      ]
     },
     "execution_count": 9,
     "metadata": {},
     "output_type": "execute_result"
    }
   ],
   "source": [
    "2 * 2"
   ]
  },
  {
   "cell_type": "code",
   "execution_count": 10,
   "metadata": {},
   "outputs": [
    {
     "data": {
      "text/plain": [
       "2.0"
      ]
     },
     "execution_count": 10,
     "metadata": {},
     "output_type": "execute_result"
    }
   ],
   "source": [
    "2 / 1"
   ]
  },
  {
   "cell_type": "markdown",
   "metadata": {},
   "source": [
    "This may seem extremely trivial (and almost a waste of time), but its purpose is not to teach you basic arithmetic (we hope you know that already), but instead to differentiate between scalars acting on other scalars and scalars acting on vectors which will be covered"
   ]
  },
  {
   "cell_type": "code",
   "execution_count": null,
   "metadata": {},
   "outputs": [],
   "source": []
  }
 ],
 "metadata": {
  "kernelspec": {
   "display_name": "Python 3",
   "language": "python",
   "name": "python3"
  },
  "language_info": {
   "codemirror_mode": {
    "name": "ipython",
    "version": 3
   },
   "file_extension": ".py",
   "mimetype": "text/x-python",
   "name": "python",
   "nbconvert_exporter": "python",
   "pygments_lexer": "ipython3",
   "version": "3.7.3"
  }
 },
 "nbformat": 4,
 "nbformat_minor": 2
}
