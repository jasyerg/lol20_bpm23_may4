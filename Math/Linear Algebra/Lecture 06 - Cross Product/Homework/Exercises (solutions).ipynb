{
 "cells": [
  {
   "cell_type": "markdown",
   "metadata": {},
   "source": [
    "### Problem 1:\n",
    "\n",
    "Compute the cross product of the following set of vectors: \n",
    "\n",
    "a) \n",
    "$\\pmb a = [1,2,3]$\n",
    "$\\pmb b = [3,2,1]$\n",
    "\n",
    "b)\n",
    "$\\pmb c = [1,0,-1]$\n",
    "$\\pmb d = [2,1,0]$\n",
    "\n",
    "c)\n",
    "$\\pmb e = [3,2,-1]$\n",
    "$\\pmb f = [2,3,-1]$\n",
    "\n",
    "Comment on the angle between each set of vectors. "
   ]
  },
  {
   "cell_type": "markdown",
   "metadata": {},
   "source": [
    "### SOLUTIONS"
   ]
  },
  {
   "cell_type": "markdown",
   "metadata": {},
   "source": [
    "To calculate the angle we will use:\n",
    "\n",
    "<center> $\\theta = asin(\\frac{\\| \\pmb a \\times \\pmb b \\|}{\\| \\pmb a \\| \\| \\pmb b \\|})\\frac{180}{\\pi}$</center>\n",
    "\n",
    "\n",
    "a) $[2*1 - 3*2, 3*3-1*1, 1*2-2*3] = [-4, 8, -4]$\n",
    "\n",
    "$\\theta = asin(\\frac {\\sqrt{(-4)^2+(8)^2+(-4)^2}}{\\sqrt{(1)^2+(2)^2+(3)^2}\\sqrt{(3)^2+(2)^2+(1)^2}})\\frac{180}{\\pi} = \\frac{9.79}{3.74*3.74}\\frac{180}{\\pi} = 40.12$\n",
    "\n",
    "\n",
    "b) $[0*0 - (-1)*1, -1*2-1*0, 1*1-2*0] = [1, -2, 1]$\n",
    "\n",
    "$\\theta = asin(\\frac {\\sqrt{(1)^2+(-2)^2+(1)^2}}{\\sqrt{(1)^2+(0)^2+(-1)^2}\\sqrt{(2)^2+(1)^2+(0)^2}})\\frac{180}{\\pi} = \\frac{2.44}{1.41*2.23}\\frac{180}{\\pi} = 44.48$\n",
    "\n",
    "c) $[2*(-1) - (-1)*3, (-1)*2-3*(-1), 3*3-2*2] = [1, 1, 5]$\n",
    "\n",
    "$\\theta = asin(\\frac {\\sqrt{(1)^2+(1)^2+(5)^2}}{\\sqrt{(3)^2+(2)^2+(-1)^2}\\sqrt{(2)^2+(3)^2+(-1)^2}})\\frac{180}{\\pi} = \\frac{5.19}{3.74*3.74}\\frac{180}{\\pi} = 21.26$"
   ]
  },
  {
   "cell_type": "code",
   "execution_count": null,
   "metadata": {},
   "outputs": [],
   "source": []
  }
 ],
 "metadata": {
  "kernelspec": {
   "display_name": "Python 3",
   "language": "python",
   "name": "python3"
  },
  "language_info": {
   "codemirror_mode": {
    "name": "ipython",
    "version": 3
   },
   "file_extension": ".py",
   "mimetype": "text/x-python",
   "name": "python",
   "nbconvert_exporter": "python",
   "pygments_lexer": "ipython3",
   "version": "3.7.3"
  }
 },
 "nbformat": 4,
 "nbformat_minor": 2
}
