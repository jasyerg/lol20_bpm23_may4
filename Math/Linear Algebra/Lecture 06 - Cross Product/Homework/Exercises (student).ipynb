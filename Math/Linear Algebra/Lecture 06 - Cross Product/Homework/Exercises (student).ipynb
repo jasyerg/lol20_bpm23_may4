{
 "cells": [
  {
   "cell_type": "markdown",
   "metadata": {},
   "source": [
    "### Problem 1:\n",
    "\n",
    "Compute the cross product of the following set of vectors: \n",
    "\n",
    "a) \n",
    "$\\pmb a = [1,2,3]$\n",
    "$\\pmb b = [3,2,1]$\n",
    "\n",
    "b)\n",
    "$\\pmb c = [1,0,-1]$\n",
    "$\\pmb d = [2,1,0]$\n",
    "\n",
    "c)\n",
    "$\\pmb e = [3,2,-1]$\n",
    "$\\pmb f = [2,3,-1]$\n",
    "\n",
    "Comment on the angle between each set of vectors. "
   ]
  },
  {
   "cell_type": "code",
   "execution_count": null,
   "metadata": {},
   "outputs": [],
   "source": []
  }
 ],
 "metadata": {
  "kernelspec": {
   "display_name": "Python 3",
   "language": "python",
   "name": "python3"
  },
  "language_info": {
   "codemirror_mode": {
    "name": "ipython",
    "version": 3
   },
   "file_extension": ".py",
   "mimetype": "text/x-python",
   "name": "python",
   "nbconvert_exporter": "python",
   "pygments_lexer": "ipython3",
   "version": "3.7.3"
  }
 },
 "nbformat": 4,
 "nbformat_minor": 2
}
