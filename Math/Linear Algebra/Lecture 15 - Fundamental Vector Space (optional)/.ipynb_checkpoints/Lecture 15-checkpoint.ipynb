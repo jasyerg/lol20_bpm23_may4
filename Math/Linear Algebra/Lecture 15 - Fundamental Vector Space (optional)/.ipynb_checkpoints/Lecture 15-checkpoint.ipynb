{
 "cells": [
  {
   "cell_type": "markdown",
   "metadata": {},
   "source": [
    "# Beginner Python and Math for Data Science\n",
    "## Lecture 15\n",
    "### Linear Algebra - Fundamental Vector Spaces "
   ]
  },
  {
   "cell_type": "markdown",
   "metadata": {},
   "source": [
    "__Purpose:__ The purpose of this lecture is to understand fundamental vector spaces.\n",
    "\n",
    "__At the end of this lecture you will be able to:__\n",
    "> 1. Understand how fundamental vector spaces work."
   ]
  },
  {
   "cell_type": "code",
   "execution_count": 1,
   "metadata": {},
   "outputs": [],
   "source": [
    "import numpy as np \n",
    "from scipy import linalg \n",
    "import matplotlib.pyplot as plt\n",
    "from mpl_toolkits.mplot3d import axes3d\n",
    "%matplotlib inline "
   ]
  },
  {
   "cell_type": "markdown",
   "metadata": {},
   "source": [
    "## 1.1 Fundamental Vector Spaces"
   ]
  },
  {
   "cell_type": "markdown",
   "metadata": {},
   "source": [
    "### 1.1.1 Null Space:"
   ]
  },
  {
   "cell_type": "markdown",
   "metadata": {},
   "source": [
    "__Overview:__ \n",
    "- The first \"interesting\"/\"fundamental\" vector space associated with any matrix $\\pmb A$ is the Null Space\n",
    "- __Null Space:__ The Null Space of a matrix $\\pmb A \\in \\mathbb R^{m x n}$ consists of all the vectors that when multiplied with the matrix $\\pmb A$ equal 0. In other words, it is a subspace that consists of all the possible solutions to the homogeneous equation $\\pmb A \\pmb x = \\pmb 0$:<br>\n",
    "\n",
    "<center> $N(A) = \\{\\pmb x \\in \\pmb R^n \\mid \\pmb A \\pmb x = \\pmb 0\\}$ </center>\n",
    "\n",
    ">> - If the column vectors in matrix $\\pmb A$ are linearly independent, the only solution to $\\pmb A \\pmb x = \\pmb 0$ is the trivial solution ($\\pmb x = \\pmb 0$) and therefore the Nullspace of A only contains the zero vector. This is due to the definition of linear independence \n",
    ">> - If the column vectors in matrix $\\pmb A$ are linearly dependent, there exists another solution to $\\pmb A \\pmb x = \\pmb 0$ other than the trivial solution ($\\pmb x = \\pmb 0$) and therefore the Nullspace of A contains additional vectors other than the zero vector. This is due to the definition of linear dependence \n",
    "\n",
    "__Helpful Points:__ \n",
    "1. To find the Null Space of a matrix, solve the equation $\\pmb A \\pmb x = \\pmb 0$ using the Gaussian Elimination and RREF method we saw previously\n",
    "2. In order for the solution set of vectors to the equation $\\pmb A \\pmb x = \\pmb 0$ to form a subspace, it must satisfy the conditions outlined before (contain the zero vector, closed under multiplication and addition)\n",
    "\n",
    "__Practice:__ Examples of Null Space in Python "
   ]
  },
  {
   "cell_type": "markdown",
   "metadata": {},
   "source": [
    "### Example 1 (Find Null Space):"
   ]
  },
  {
   "cell_type": "markdown",
   "metadata": {},
   "source": [
    "If we want to find the Null Space of the matrix $\\pmb A$, we have to solve the following equation \n",
    "\n",
    "\\begin{equation}\n",
    "\\pmb A = \n",
    "\\begin{bmatrix}\n",
    "    2 & 1 & 1\\\\\n",
    "    1 & 2 & 3\\\\\n",
    "    4 & 3 & 2\n",
    "\\end{bmatrix}\n",
    "\\begin{bmatrix}\n",
    "    x_1\\\\\n",
    "    x_2\\\\\n",
    "    x_3\n",
    "\\end{bmatrix}\n",
    "= \n",
    "\\begin{bmatrix}\n",
    "    0\\\\\n",
    "    0\\\\\n",
    "    0\n",
    "\\end{bmatrix}\n",
    "\\end{equation}\n",
    "\n",
    "Since $\\pmb x \\in \\mathbb R^3$, $N(A) = \\{\\pmb x \\in \\mathbb R^3 \\mid \\pmb A \\pmb x = \\pmb 0\\}$\n",
    "\n",
    "Which is the same as \n",
    "<center> $2x_1 + x_2 + x_3 = 0$ </center>\n",
    "<center> $x_1 + 2x_2 + 3x_3 = 0$ </center>\n",
    "<center> $4x_1 + 3x_2 + 2x_3 = 0$ </center>\n",
    "\n",
    "We now know how to solve this system of equations used the Augmented Matrix:\n",
    "\n",
    "\\begin{equation}\n",
    "\\begin{array}{ccc|c}  \n",
    "    2 & 1 & 1 & 0\\\\\n",
    "    1 & 2 & 3 & 0\\\\\n",
    "    4 & 3 & 2 & 0\n",
    "\\end{array}\n",
    "\\end{equation}  "
   ]
  },
  {
   "cell_type": "code",
   "execution_count": 2,
   "metadata": {},
   "outputs": [
    {
     "name": "stdout",
     "output_type": "stream",
     "text": [
      "[[2 1 1]\n",
      " [1 2 3]\n",
      " [4 3 2]]\n",
      "[0. 0. 0.]\n"
     ]
    }
   ],
   "source": [
    "A = np.array([[2,1,1],[1,2,3],[4,3,2]])\n",
    "zero = np.zeros(3)\n",
    "print(A)\n",
    "print(zero)"
   ]
  },
  {
   "cell_type": "code",
   "execution_count": 3,
   "metadata": {},
   "outputs": [
    {
     "name": "stdout",
     "output_type": "stream",
     "text": [
      "[[ 1.  -0.2 -0.2]\n",
      " [-2.   0.   1. ]\n",
      " [ 1.   0.4 -0.6]]\n"
     ]
    }
   ],
   "source": [
    "A_inv = linalg.inv(A)\n",
    "print(A_inv)"
   ]
  },
  {
   "cell_type": "code",
   "execution_count": 4,
   "metadata": {},
   "outputs": [
    {
     "data": {
      "text/plain": [
       "array([0., 0., 0.])"
      ]
     },
     "execution_count": 4,
     "metadata": {},
     "output_type": "execute_result"
    }
   ],
   "source": [
    "linalg.solve(A, zero) "
   ]
  },
  {
   "cell_type": "markdown",
   "metadata": {},
   "source": [
    "The zero vector is the only vector inside the Null Space of $\\pmb A$"
   ]
  },
  {
   "cell_type": "markdown",
   "metadata": {},
   "source": [
    "### 1.1.2 Column Space:"
   ]
  },
  {
   "cell_type": "markdown",
   "metadata": {},
   "source": [
    "__Overview:__ \n",
    "- The second \"interesting\"/\"fundamental\" vector space associated with any matrix $\\pmb A$ is the Column Space\n",
    "- __Column Space:__ The Column Space of a matrix $\\pmb A \\in \\mathbb R^{m x n}$ consists of all the vectors that can be produced as linear combinations of the columns of the matrix $\\pmb A$:\n",
    "<center> $C(A) = \\{\\pmb b \\in \\mathbb R^m \\mid \\pmb b = \\pmb A \\pmb x$ for some $\\pmb x \\in \\mathbb R^n\\}$ </center>\n",
    "\n",
    ">> - This formulation should make sense since we know the matrix-vector product is simply the multiplication of each column vector by the associated element of the vector:\n",
    "\\begin{equation}\n",
    "\\begin{bmatrix}\n",
    "    \\pmb A_1 & \\pmb A_2 & \\pmb A_3 & \\dots & \\pmb A_n\n",
    "\\end{bmatrix}\n",
    "\\begin{bmatrix}\n",
    "    x_1 \\\\\n",
    "    x_2 \\\\\n",
    "    x_3 \\\\\n",
    "    \\vdots \\\\\n",
    "    x_n\n",
    "\\end{bmatrix}\n",
    "=\n",
    "\\begin{bmatrix}\n",
    "    x_1\\pmb A_1 + x_2\\pmb A_2 + x_3\\pmb A_3 + \\dots + x_n\\pmb A_n\n",
    "\\end{bmatrix}\n",
    "=\n",
    "\\pmb b\n",
    "\\end{equation}\n",
    "<br>\n",
    ">> - It is now intuitive to think of the solutions to our famous matrix equation $\\pmb A \\pmb x = \\pmb b$ in terms of the column space of A. This equation will only have a solution if $\\pmb b$ can be written as a linear combination of the column vectors in $\\pmb A$, or we can say, this equation will only have a solution if $\\pmb b$ is in the Column Space of $\\pmb A$\n",
    "\n",
    "__Helpful Points:__ \n",
    "1. Since the Column Space contains all the linear combinations of the column vectors of a matrix, we can also say that the Column Space is equal to the span of the column vectors: $C(A) = \\langle S \\rangle$ of the column vectors\n",
    "2. To ensure the matrix-vector product is feasible, $\\pmb b$ must have $m$ components and $\\in \\mathbb R^m$, whereas $\\pmb x$ must have $n$ components and $\\in \\mathbb R^n$\n",
    "3. In summary,\n",
    "> - $\\pmb A \\pmb x = \\pmb b$ has a solution if and only if $\\pmb b \\in C(A)$\n",
    "> - $\\pmb A \\pmb x = \\pmb b$ has no solution if and only if $\\pmb b \\notin C(A)$\n",
    "4. The column vectors only form a basis of the Column Space if they are linearly independent. Also, if the column vectors are linearly independent, then the Null Space only contains the zero vector. In other words, if the Nulll Space contains more than just the zero vector, the column vectors do not form a basis for the Column Space. Once identifying the basis for the Column Space, we can easily describe the dimension of this space as simply the number of basis vectors\n",
    "\n",
    "__Practice:__ Examples of Column Space in Python "
   ]
  },
  {
   "cell_type": "markdown",
   "metadata": {},
   "source": [
    "### Example 1 (b is in the Column Space of A):"
   ]
  },
  {
   "cell_type": "markdown",
   "metadata": {},
   "source": [
    "\\begin{equation}\n",
    "\\begin{array}{cc|c}  \n",
    "    1 & 2 & 2\\\\\n",
    "    2 & -4 & -12\\\\\n",
    "\\end{array}\n",
    "\\end{equation}  "
   ]
  },
  {
   "cell_type": "code",
   "execution_count": 25,
   "metadata": {},
   "outputs": [
    {
     "name": "stdout",
     "output_type": "stream",
     "text": [
      "[[ 1  2]\n",
      " [ 2 -4]]\n",
      "[  2 -12]\n"
     ]
    }
   ],
   "source": [
    "A = np.array([[1,2],[2,-4]])\n",
    "b = np.array([2,-12])\n",
    "print(A)\n",
    "print(b)"
   ]
  },
  {
   "cell_type": "code",
   "execution_count": 26,
   "metadata": {
    "scrolled": true
   },
   "outputs": [
    {
     "data": {
      "text/plain": [
       "array([-2.,  2.])"
      ]
     },
     "execution_count": 26,
     "metadata": {},
     "output_type": "execute_result"
    }
   ],
   "source": [
    "np.linalg.solve(A, b)"
   ]
  },
  {
   "cell_type": "markdown",
   "metadata": {},
   "source": [
    "The Column Space of A contains all the linear combination of the vectors $[1,2]^T$ and $[2,-4]^T$ and clearly there exists a set of coefficients $x_1=-2$ and $x_2=2$ to produce the vector $[2,-12]$. Therefore, this vector $\\pmb b$ is in the Column Space of A. "
   ]
  },
  {
   "cell_type": "markdown",
   "metadata": {},
   "source": [
    "### Example 2 (b is not in the Column Space of A):"
   ]
  },
  {
   "cell_type": "markdown",
   "metadata": {},
   "source": [
    "\\begin{equation}\n",
    "\\begin{array}{cc|c}  \n",
    "    1 & 2 & 3\\\\\n",
    "    -2 & -4 & 8\\\\\n",
    "\\end{array}\n",
    "\\end{equation}  "
   ]
  },
  {
   "cell_type": "code",
   "execution_count": 13,
   "metadata": {},
   "outputs": [
    {
     "name": "stdout",
     "output_type": "stream",
     "text": [
      "[[ 1  2]\n",
      " [-2 -4]]\n",
      "[3 8]\n"
     ]
    }
   ],
   "source": [
    "A = np.array([[1,2],[-2,-4]])\n",
    "b = np.array([3,8])\n",
    "print(A)\n",
    "print(b)"
   ]
  },
  {
   "cell_type": "code",
   "execution_count": 14,
   "metadata": {
    "scrolled": true
   },
   "outputs": [
    {
     "ename": "LinAlgError",
     "evalue": "Singular matrix",
     "output_type": "error",
     "traceback": [
      "\u001b[0;31m---------------------------------------------------------------------------\u001b[0m",
      "\u001b[0;31mLinAlgError\u001b[0m                               Traceback (most recent call last)",
      "\u001b[0;32m<ipython-input-14-eb79222c8972>\u001b[0m in \u001b[0;36m<module>\u001b[0;34m\u001b[0m\n\u001b[0;32m----> 1\u001b[0;31m \u001b[0mnp\u001b[0m\u001b[0;34m.\u001b[0m\u001b[0mlinalg\u001b[0m\u001b[0;34m.\u001b[0m\u001b[0msolve\u001b[0m\u001b[0;34m(\u001b[0m\u001b[0mA\u001b[0m\u001b[0;34m,\u001b[0m \u001b[0mb\u001b[0m\u001b[0;34m)\u001b[0m\u001b[0;34m\u001b[0m\u001b[0;34m\u001b[0m\u001b[0m\n\u001b[0m",
      "\u001b[0;32m/anaconda3/envs/metis/lib/python3.7/site-packages/numpy/linalg/linalg.py\u001b[0m in \u001b[0;36msolve\u001b[0;34m(a, b)\u001b[0m\n\u001b[1;32m    401\u001b[0m     \u001b[0msignature\u001b[0m \u001b[0;34m=\u001b[0m \u001b[0;34m'DD->D'\u001b[0m \u001b[0;32mif\u001b[0m \u001b[0misComplexType\u001b[0m\u001b[0;34m(\u001b[0m\u001b[0mt\u001b[0m\u001b[0;34m)\u001b[0m \u001b[0;32melse\u001b[0m \u001b[0;34m'dd->d'\u001b[0m\u001b[0;34m\u001b[0m\u001b[0;34m\u001b[0m\u001b[0m\n\u001b[1;32m    402\u001b[0m     \u001b[0mextobj\u001b[0m \u001b[0;34m=\u001b[0m \u001b[0mget_linalg_error_extobj\u001b[0m\u001b[0;34m(\u001b[0m\u001b[0m_raise_linalgerror_singular\u001b[0m\u001b[0;34m)\u001b[0m\u001b[0;34m\u001b[0m\u001b[0;34m\u001b[0m\u001b[0m\n\u001b[0;32m--> 403\u001b[0;31m     \u001b[0mr\u001b[0m \u001b[0;34m=\u001b[0m \u001b[0mgufunc\u001b[0m\u001b[0;34m(\u001b[0m\u001b[0ma\u001b[0m\u001b[0;34m,\u001b[0m \u001b[0mb\u001b[0m\u001b[0;34m,\u001b[0m \u001b[0msignature\u001b[0m\u001b[0;34m=\u001b[0m\u001b[0msignature\u001b[0m\u001b[0;34m,\u001b[0m \u001b[0mextobj\u001b[0m\u001b[0;34m=\u001b[0m\u001b[0mextobj\u001b[0m\u001b[0;34m)\u001b[0m\u001b[0;34m\u001b[0m\u001b[0;34m\u001b[0m\u001b[0m\n\u001b[0m\u001b[1;32m    404\u001b[0m \u001b[0;34m\u001b[0m\u001b[0m\n\u001b[1;32m    405\u001b[0m     \u001b[0;32mreturn\u001b[0m \u001b[0mwrap\u001b[0m\u001b[0;34m(\u001b[0m\u001b[0mr\u001b[0m\u001b[0;34m.\u001b[0m\u001b[0mastype\u001b[0m\u001b[0;34m(\u001b[0m\u001b[0mresult_t\u001b[0m\u001b[0;34m,\u001b[0m \u001b[0mcopy\u001b[0m\u001b[0;34m=\u001b[0m\u001b[0;32mFalse\u001b[0m\u001b[0;34m)\u001b[0m\u001b[0;34m)\u001b[0m\u001b[0;34m\u001b[0m\u001b[0;34m\u001b[0m\u001b[0m\n",
      "\u001b[0;32m/anaconda3/envs/metis/lib/python3.7/site-packages/numpy/linalg/linalg.py\u001b[0m in \u001b[0;36m_raise_linalgerror_singular\u001b[0;34m(err, flag)\u001b[0m\n\u001b[1;32m     95\u001b[0m \u001b[0;34m\u001b[0m\u001b[0m\n\u001b[1;32m     96\u001b[0m \u001b[0;32mdef\u001b[0m \u001b[0m_raise_linalgerror_singular\u001b[0m\u001b[0;34m(\u001b[0m\u001b[0merr\u001b[0m\u001b[0;34m,\u001b[0m \u001b[0mflag\u001b[0m\u001b[0;34m)\u001b[0m\u001b[0;34m:\u001b[0m\u001b[0;34m\u001b[0m\u001b[0;34m\u001b[0m\u001b[0m\n\u001b[0;32m---> 97\u001b[0;31m     \u001b[0;32mraise\u001b[0m \u001b[0mLinAlgError\u001b[0m\u001b[0;34m(\u001b[0m\u001b[0;34m\"Singular matrix\"\u001b[0m\u001b[0;34m)\u001b[0m\u001b[0;34m\u001b[0m\u001b[0;34m\u001b[0m\u001b[0m\n\u001b[0m\u001b[1;32m     98\u001b[0m \u001b[0;34m\u001b[0m\u001b[0m\n\u001b[1;32m     99\u001b[0m \u001b[0;32mdef\u001b[0m \u001b[0m_raise_linalgerror_nonposdef\u001b[0m\u001b[0;34m(\u001b[0m\u001b[0merr\u001b[0m\u001b[0;34m,\u001b[0m \u001b[0mflag\u001b[0m\u001b[0;34m)\u001b[0m\u001b[0;34m:\u001b[0m\u001b[0;34m\u001b[0m\u001b[0;34m\u001b[0m\u001b[0m\n",
      "\u001b[0;31mLinAlgError\u001b[0m: Singular matrix"
     ]
    }
   ],
   "source": [
    "np.linalg.solve(A, b)"
   ]
  },
  {
   "cell_type": "markdown",
   "metadata": {},
   "source": [
    "The Column Space of A contains all the linear combination of the vectors $[1,-2]^T$ and $[2,-4]^T$ and clearly there does not exist any set of coefficients $x_1$ and $x_2$ to produce the vector $[3,8]$. Therefore, this vector $\\pmb b$ is not in the Column Space of A. "
   ]
  },
  {
   "cell_type": "markdown",
   "metadata": {},
   "source": [
    "### Example 3 (Finding Basis and Dimension of the Column Space):"
   ]
  },
  {
   "cell_type": "markdown",
   "metadata": {},
   "source": [
    "It turns out that by performing Gaussian Elimination on a matrix to obtain RREF, the result will provide insight into the basis and dimension of the Column Space. Let's see this below: "
   ]
  },
  {
   "cell_type": "markdown",
   "metadata": {},
   "source": [
    "If \n",
    "\\begin{equation}\n",
    "\\pmb A = \n",
    "\\begin{bmatrix}\n",
    "    1 & 0 & -1 & 0 & 4\\\\\n",
    "    2 & 1 & 0 & 0 & 9\\\\\n",
    "    -1 & 2 & 5 & 1 & -5\\\\\n",
    "    1 & -1 & -3 & -2 & 9\\\\\n",
    "\\end{bmatrix}\n",
    "\\end{equation}\n",
    "\n",
    "and we want to find the basis for the Column Space of A, we can begin by obtaining RREF of the matrix $\\pmb A$:\n",
    "\n",
    "\\begin{equation}\n",
    "\\pmb R = rref(A) = \n",
    "\\begin{bmatrix}\n",
    "    1 & 0 & -1 & 0 & 4\\\\\n",
    "    0 & 1 & 2 & 0 & 1\\\\\n",
    "    0 & 0 & 0 & 1 & -3\\\\\n",
    "    0 & 0 & 0 & 0 & 0\\\\\n",
    "\\end{bmatrix}\n",
    "\\end{equation}"
   ]
  },
  {
   "cell_type": "markdown",
   "metadata": {},
   "source": [
    "The first, second, and fourth column are called __Pivot Columns__ since they have all non-zero entries with the except of the 1 entry. The three Pivot Columns are obviously linearly independent and by extension, it can also be proven that the associated columns in matrix $\\pmb A$ are also linearly independent and span the Column Space. Therefore, the third and fifth column are \"extra\" columns and do not belong in the basis of the Column Space of A. \n",
    "\n",
    "In summary, to find the basis of the Column Space of A, obtain the RREF and find the Pivot Columns. The associated columns in the original matrix form the basis of the Column Space of A. Therefore, the dimension of this Column Space or the __Rank__ of the matrix $\\pmb A$ is the number of basis vectors in the Column Space of A or the number of linearly independent vectors in the Column Space of $\\pmb A$ or 3. "
   ]
  },
  {
   "cell_type": "code",
   "execution_count": null,
   "metadata": {},
   "outputs": [],
   "source": []
  }
 ],
 "metadata": {
  "kernelspec": {
   "display_name": "Python 3",
   "language": "python",
   "name": "python3"
  },
  "language_info": {
   "codemirror_mode": {
    "name": "ipython",
    "version": 3
   },
   "file_extension": ".py",
   "mimetype": "text/x-python",
   "name": "python",
   "nbconvert_exporter": "python",
   "pygments_lexer": "ipython3",
   "version": "3.7.3"
  }
 },
 "nbformat": 4,
 "nbformat_minor": 2
}
