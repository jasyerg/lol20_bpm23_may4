{
 "cells": [
  {
   "cell_type": "markdown",
   "metadata": {},
   "source": [
    "# Beginner Python and Math for Data Science\n",
    "## Lecture 16\n",
    "### Linear Algebra - Eigenvalues and Eigenvectors"
   ]
  },
  {
   "cell_type": "markdown",
   "metadata": {},
   "source": [
    "__Purpose:__ The purpose of this lecture is to understand the fundamentals of eigenvalues and eigenvectors\n",
    "\n",
    "__At the end of this lecture you will be able to:__\n",
    "> 1. Understand the concepts of eigenvalues and eigenvectors"
   ]
  },
  {
   "cell_type": "code",
   "execution_count": 1,
   "metadata": {},
   "outputs": [],
   "source": [
    "import numpy as np \n",
    "from scipy import linalg \n",
    "import matplotlib.pyplot as plt\n",
    "from mpl_toolkits.mplot3d import axes3d\n",
    "%matplotlib inline "
   ]
  },
  {
   "cell_type": "markdown",
   "metadata": {},
   "source": [
    "## 1.1 Eigenvectors and Eigenvalues:"
   ]
  },
  {
   "cell_type": "markdown",
   "metadata": {},
   "source": [
    "### 1.1.1 What are Eigenvectors and Eigenvalues? "
   ]
  },
  {
   "cell_type": "markdown",
   "metadata": {},
   "source": [
    "__Overview:__ \n",
    "- __[Eigenvectors](https://en.wikipedia.org/wiki/Eigenvalues_and_eigenvectors):__ Eigenvectors are special vectors associated with a matrix that when multiplied by a matrix, produce the same vector but scaled by a factor (equal to the eigenvalue)\n",
    "- __Eigenvalues:__ Eigenvalues are special numbers associated with a matrix that contribute the \"scaling\" of the eigenvector that enables the matrix-eigenvector product to be equal to the scaled version of the same eigenvector \n",
    "- Recall how matrices act as functions in linear transformation. In some special cases, the ouput of a linear transformation of a vector is the same vector as the input, but scaled by a factor \n",
    "- The gerneral formula is:\n",
    "<center> $\\pmb A \\pmb x = \\lambda \\pmb x$ </center> \n",
    "<center> where $\\pmb x$ is the Eigenvector and $\\lambda$ is the Eigenvalue </center> \n",
    "\n",
    "__Helpful Points:__\n",
    "1. Each Eigenvector corresponds to an Eigenvalue \n",
    "2. An $n$ $x$ $n$ matrix will have $n$ Eigenvalues \n",
    "\n",
    "__Practice:__ Examples of Eigenvectors and Eigenvalues "
   ]
  },
  {
   "cell_type": "markdown",
   "metadata": {},
   "source": [
    "### Example 1 (Visualizing Eigenvectors and Eigenvalues):"
   ]
  },
  {
   "cell_type": "code",
   "execution_count": 2,
   "metadata": {
    "scrolled": true
   },
   "outputs": [
    {
     "name": "stdout",
     "output_type": "stream",
     "text": [
      "[[3 1]\n",
      " [1 3]]\n"
     ]
    }
   ],
   "source": [
    "A = np.array([[3,1],[1,3]])\n",
    "print(A)"
   ]
  },
  {
   "cell_type": "markdown",
   "metadata": {},
   "source": [
    "Do any \"special vectors\" exist such that the linear transformation of the vector is in the same direction as the input vector? Let us try to find out:"
   ]
  },
  {
   "cell_type": "markdown",
   "metadata": {},
   "source": [
    "### Test 1: "
   ]
  },
  {
   "cell_type": "code",
   "execution_count": 3,
   "metadata": {},
   "outputs": [],
   "source": [
    "x = np.array([1,2])"
   ]
  },
  {
   "cell_type": "code",
   "execution_count": 4,
   "metadata": {
    "scrolled": true
   },
   "outputs": [
    {
     "data": {
      "text/plain": [
       "array([5, 7])"
      ]
     },
     "execution_count": 4,
     "metadata": {},
     "output_type": "execute_result"
    }
   ],
   "source": [
    "y = np.dot(A, x)\n",
    "y"
   ]
  },
  {
   "cell_type": "markdown",
   "metadata": {},
   "source": [
    "In order for the vector $\\pmb x = [1,2]^T$ to be an eigenvector for the matrix $\\pmb A$, the output of $\\pmb A \\pmb x$ (denoted as $\\pmb y$), must be in the same direction as the input. Let us check if $\\pmb y$ is in the same direction as $\\pmb x$:"
   ]
  },
  {
   "cell_type": "code",
   "execution_count": 5,
   "metadata": {
    "scrolled": true
   },
   "outputs": [
    {
     "data": {
      "image/png": "[encoded data removed]",
      "text/plain": [
       "<Figure size 432x288 with 1 Axes>"
      ]
     },
     "metadata": {
      "needs_background": "light"
     },
     "output_type": "display_data"
    }
   ],
   "source": [
    "soa = np.array([[0, 0, 1, 2], [0, 0, 5, 7]])\n",
    "X, Y, U, V = zip(*soa)\n",
    "plt.figure()\n",
    "ax = plt.gca()\n",
    "ax.quiver(X, Y, U, V, angles='xy', scale_units='xy', scale=1, color = [\"blue\", \"red\"])\n",
    "ax.set_xlim([0, 10])\n",
    "ax.set_ylim([0, 10])\n",
    "plt.title('Eigenvectors and Eigenvalues (Input (x) = blue, Output (y) = red)')\n",
    "plt.xlabel('$1$', fontsize = 20)\n",
    "plt.ylabel('$2$', fontsize = 20)\n",
    "plt.grid()"
   ]
  },
  {
   "cell_type": "markdown",
   "metadata": {},
   "source": [
    "It doesn't appear that $\\pmb y$ is in the same direction as $\\pmb x$, therefore $\\pmb x$ is not an Eigenvector for the matrix $\\pmb A$."
   ]
  },
  {
   "cell_type": "markdown",
   "metadata": {},
   "source": [
    "### Test 2: "
   ]
  },
  {
   "cell_type": "code",
   "execution_count": 6,
   "metadata": {},
   "outputs": [],
   "source": [
    "x_1 = np.array([1,1])"
   ]
  },
  {
   "cell_type": "code",
   "execution_count": 7,
   "metadata": {
    "scrolled": true
   },
   "outputs": [
    {
     "data": {
      "text/plain": [
       "array([4, 4])"
      ]
     },
     "execution_count": 7,
     "metadata": {},
     "output_type": "execute_result"
    }
   ],
   "source": [
    "y = np.dot(A, x_1)\n",
    "y"
   ]
  },
  {
   "cell_type": "markdown",
   "metadata": {},
   "source": [
    "In order for the vector $\\pmb x_1 = [1,1]^T$ to be an eigenvector for the matrix $\\pmb A$, the output of $\\pmb A \\pmb x_1$ (denoted as $\\pmb y$), must be in the same direction as the input. Let us check if $\\pmb y$ is in the same direction as $\\pmb x_1$:"
   ]
  },
  {
   "cell_type": "code",
   "execution_count": 8,
   "metadata": {
    "scrolled": true
   },
   "outputs": [
    {
     "data": {
      "image/png": "[encoded data removed]",
      "text/plain": [
       "<Figure size 432x288 with 1 Axes>"
      ]
     },
     "metadata": {
      "needs_background": "light"
     },
     "output_type": "display_data"
    }
   ],
   "source": [
    "soa = np.array([[0, 0, 1, 1], [0, 0, 4, 4]])\n",
    "X, Y, U, V = zip(*soa)\n",
    "plt.figure()\n",
    "ax = plt.gca()\n",
    "ax.quiver(X, Y, U, V, angles='xy', scale_units='xy', scale=1, color = [\"blue\", \"red\"])\n",
    "ax.set_xlim([0, 10])\n",
    "ax.set_ylim([0, 10])\n",
    "plt.title('Eigenvectors and Eigenvalues (Input (x_1) = blue, Output (y) = red)')\n",
    "plt.xlabel('$1$', fontsize = 20)\n",
    "plt.ylabel('$2$', fontsize = 20)\n",
    "plt.grid()"
   ]
  },
  {
   "cell_type": "markdown",
   "metadata": {},
   "source": [
    "It appears that $\\pmb y$ is in the same direction as $\\pmb x_1$, therefore $\\pmb x_1$ is an Eigenvector for the matrix $\\pmb A$. To calculate the Eigenvector $\\pmb x_1$ corresponding Eigenvalue, we simply need to calculate the factor that the input vector $\\pmb x_1$ was stretched by to produce the output vector $\\pmb y$. The stretch factor is clearly 4, so the eigenvalue for the eigenvector $\\pmb x_1$ is 4.\n",
    "\n",
    "However, the matrix $\\pmb A$ is $2$ $x$ $2$ and therefore has 2 Eigenvectors. Can you guess the other one? "
   ]
  },
  {
   "cell_type": "markdown",
   "metadata": {},
   "source": [
    "### Test 3: "
   ]
  },
  {
   "cell_type": "code",
   "execution_count": 9,
   "metadata": {},
   "outputs": [],
   "source": [
    "x_2 = np.array([-1,1])"
   ]
  },
  {
   "cell_type": "code",
   "execution_count": 10,
   "metadata": {
    "scrolled": true
   },
   "outputs": [
    {
     "data": {
      "text/plain": [
       "array([-2,  2])"
      ]
     },
     "execution_count": 10,
     "metadata": {},
     "output_type": "execute_result"
    }
   ],
   "source": [
    "y = np.dot(A, x_2)\n",
    "y"
   ]
  },
  {
   "cell_type": "markdown",
   "metadata": {},
   "source": [
    "In order for the vector $\\pmb x_2 = [-1,1]^T$ to be an eigenvector for the matrix $\\pmb A$, the output of $\\pmb A \\pmb x_2$ (denoted as $\\pmb y$), must be in the same direction as the input. Let us check if $\\pmb x_2$ is in the same direction as $\\pmb y$:"
   ]
  },
  {
   "cell_type": "code",
   "execution_count": 11,
   "metadata": {
    "scrolled": true
   },
   "outputs": [
    {
     "data": {
      "image/png": "[encoded data removed]",
      "text/plain": [
       "<Figure size 432x288 with 1 Axes>"
      ]
     },
     "metadata": {
      "needs_background": "light"
     },
     "output_type": "display_data"
    }
   ],
   "source": [
    "soa = np.array([[0, 0, -1, 1], [0, 0, -2, 2]])\n",
    "X, Y, U, V = zip(*soa)\n",
    "plt.figure()\n",
    "ax = plt.gca()\n",
    "ax.quiver(X, Y, U, V, angles='xy', scale_units='xy', scale=1, color = [\"blue\", \"red\"])\n",
    "ax.set_xlim([-5, 5])\n",
    "ax.set_ylim([-5, 5])\n",
    "plt.title('Eigenvectors and Eigenvalues (Input (x_2) = blue, Output (y) = red)')\n",
    "plt.xlabel('$1$', fontsize = 20)\n",
    "plt.ylabel('$2$', fontsize = 20)\n",
    "plt.grid()"
   ]
  },
  {
   "cell_type": "markdown",
   "metadata": {},
   "source": [
    "It appears that $\\pmb y$ is in the same direction as $\\pmb x_2$, therefore $\\pmb x_2$ is another Eigenvector for the matrix $\\pmb A$. To calculate the Eigenvector $\\pmb x_2$ corresponding Eigenvalue, we simply need to calculate the factor that the input vector $\\pmb x_2$ was stretched by to produce the output vector $\\pmb y$. The stretch factor is clearly -2, so the eigenvalue for the eigenvector $\\pmb x_2$ is -2"
   ]
  },
  {
   "cell_type": "markdown",
   "metadata": {},
   "source": [
    "### 1.1.2 Calculating Eigenvectors and Eigenvalues:"
   ]
  },
  {
   "cell_type": "markdown",
   "metadata": {},
   "source": [
    "__Overview:__ \n",
    "- There exists a more systematic way of calculating Eigenvectors and Eigenvalues than the \"guess and check\" approach attempted above\n",
    "- We know there are 2 unknowns in the equation $\\pmb A \\pmb x = \\lambda \\pmb x$, specifically $\\lambda$ and $\\pmb x$\n",
    "- There are 2 ways to calculate Eigenvectors and Eigenvalues of the matrix $\\pmb A$:\n",
    "> 1. __Method 1:__ Using the algorithm as outlined below:\n",
    "\n",
    ">> __Step 1:__ Rearrange the equation $\\pmb A \\pmb x = \\lambda \\pmb x$:\n",
    "<center> $\\pmb A \\pmb x - \\lambda \\pmb x = 0$ </center> \n",
    "\n",
    ">> __Step 2:__ Factor out the x:\n",
    "<center> $(\\pmb A - \\lambda \\pmb I)\\pmb x = 0$ </center> \n",
    "\n",
    "In order for $\\pmb x$ to be an eigenvector, $det(\\pmb A - \\lambda \\pmb I) = 0$\n",
    "\n",
    ">> __Step 3:__ Find $det(\\pmb A - \\lambda \\pmb I)$ in terms of the elements of the matrix \n",
    "\\begin{equation}\n",
    "\\pmb A - \\lambda \\pmb I = \n",
    "\\begin{bmatrix}\n",
    "    A_{12} & A_{12}\\\\\n",
    "    A_{21} & A_{22}\n",
    "\\end{bmatrix}\n",
    "-\n",
    "\\begin{bmatrix}\n",
    "    \\lambda & 0\\\\\n",
    "    0 & \\lambda\n",
    "\\end{bmatrix}\n",
    "=\n",
    "\\begin{bmatrix}\n",
    "    A_{12} - \\lambda \\pmb I & A_{12}\\\\\n",
    "    A_{21} & A_{22} - \\lambda \\pmb I\n",
    "\\end{bmatrix}\n",
    "\\end{equation}\n",
    "\n",
    "\\begin{equation}\n",
    "det(\\pmb A - \\lambda \\pmb I)\n",
    "= \n",
    "(A_{12} - \\lambda)(A_{22} - \\lambda \\pmb I) - (A_{21})(A_{12})\n",
    "\\end{equation}\n",
    "\n",
    ">> __Step 4:__ Set $det(\\pmb A - \\lambda \\pmb I) = 0$ and solve for the $\\lambda$(s) which are the Eigenvalues of the matrix $\\pmb A$\n",
    "\n",
    ">> __Step 5:__ Plug $\\lambda$(s) back into $\\pmb A - \\lambda \\pmb I$ to create $n$ new matrices\n",
    "\n",
    ">> __Step 6:__ Solve the system of equations in the $n$ new matrices using Gaussian Elimination and obtaining RREF\n",
    "\n",
    "> 2. __Method 2:__ Using NumPy and SciPy's built in matrix eigenvalue methods: [`scipy.linalg.eig`](https://docs.scipy.org/doc/scipy/reference/generated/scipy.linalg.eig.html#scipy.linalg.eig) and [`numpy.linalg.eig`](https://docs.scipy.org/doc/numpy-1.14.0/reference/generated/numpy.linalg.eig.html#numpy.linalg.eig)\n",
    "\n",
    "__Helpful Points:__\n",
    "1. The Eigenvalues of $\\pmb A^2$ and $\\pmb A^{-1}$ are $\\lambda^2$ and $\\lambda^{-1}$, with the same Eigenvectors\n",
    "\n",
    "__Practice:__ Examples of Eigenvectors and Eigenvalues in Python "
   ]
  },
  {
   "cell_type": "markdown",
   "metadata": {},
   "source": [
    "### Example 1 (Calculating Eigenvectors and Eigenvalues with Method 1):"
   ]
  },
  {
   "cell_type": "code",
   "execution_count": 12,
   "metadata": {
    "scrolled": true
   },
   "outputs": [
    {
     "name": "stdout",
     "output_type": "stream",
     "text": [
      "[[3 1]\n",
      " [1 3]]\n"
     ]
    }
   ],
   "source": [
    "A = np.array([[3,1],[1,3]])\n",
    "print(A)"
   ]
  },
  {
   "cell_type": "markdown",
   "metadata": {},
   "source": [
    "__Step 1:__ Rearrange the equation $\\pmb A \\pmb x = \\lambda \\pmb x$:\n",
    "<center> $\\pmb A \\pmb x - \\lambda \\pmb x = 0$ </center> \n",
    "\n",
    "__Step 2:__ Factor out the x:\n",
    "<center> $(\\pmb A - \\lambda \\pmb I)\\pmb x = 0$ </center> \n",
    "\n",
    "__Step 3:__ Find $det(\\pmb A - \\lambda \\pmb I)$ in terms of the elements of the matrix \n",
    "\\begin{equation}\n",
    "\\pmb A - \\lambda \\pmb I = \n",
    "\\begin{bmatrix}\n",
    "    3 & 1\\\\\n",
    "    1 & 3\n",
    "\\end{bmatrix}\n",
    "-\n",
    "\\begin{bmatrix}\n",
    "    \\lambda & 0\\\\\n",
    "    0 & \\lambda\n",
    "\\end{bmatrix}\n",
    "=\n",
    "\\begin{bmatrix}\n",
    "    3 - \\lambda \\pmb I & 1\\\\\n",
    "    1 & 3 - \\lambda \\pmb I\n",
    "\\end{bmatrix}\n",
    "\\end{equation}\n",
    "\n",
    "\\begin{equation}\n",
    "det(\\pmb A - \\lambda \\pmb I)\n",
    "= \n",
    "(3 - \\lambda)(3 - \\lambda \\pmb I) - (1)(1) = \\lambda^2 - 6\\lambda + 8 \n",
    "\\end{equation}\n",
    "\n",
    "__Step 4:__ Set $\\lambda^2 - 6\\lambda + 8 = 0$ and solve for the $\\lambda$(s) which are the Eigenvalues of the matrix $\\pmb A$ $\\Rightarrow$ $\\lambda_1 = 4$ and $\\lambda_2 = 2$.\n",
    "\n",
    "__Step 5:__ Plug $\\lambda$(s) back into $\\pmb A - \\lambda \\pmb I$ to create 2 new matrices:\n",
    "\\begin{equation}\n",
    "\\pmb A - 4\\pmb I = \n",
    "\\begin{bmatrix}\n",
    "    -1 & 1\\\\\n",
    "    1 & -1\n",
    "\\end{bmatrix}\n",
    "\\end{equation}\n",
    "\n",
    "\\begin{equation}\n",
    "\\pmb A - 2\\pmb I = \n",
    "\\begin{bmatrix}\n",
    "    1 & 1\\\\\n",
    "    1 & 1\n",
    "\\end{bmatrix}\n",
    "\\end{equation}\n",
    "\n",
    "__Step 6:__ Solve the system of equations in the 2 new matrices using Gaussian Elimination and obtaining RREF\n",
    "\n",
    "\\begin{equation}\n",
    "\\begin{array}{cc|c}  \n",
    "    -1 & 1 & 0\\\\\n",
    "    1 & -1 & 0\\\\\n",
    "\\end{array}\n",
    "\\Rightarrow x_1 = \n",
    "\\begin{bmatrix}\n",
    "    1 \\\\\n",
    "    1\n",
    "\\end{bmatrix}\n",
    "\\end{equation}  \n",
    "\n",
    "\\begin{equation}\n",
    "\\begin{array}{cc|c}  \n",
    "    1 & 1 & 0\\\\\n",
    "    1 & -1 & 0\\\\\n",
    "\\end{array}\n",
    "\\Rightarrow x_2 = \n",
    "\\begin{bmatrix}\n",
    "    -1 \\\\\n",
    "    1\n",
    "\\end{bmatrix}\n",
    "\\end{equation} "
   ]
  },
  {
   "cell_type": "markdown",
   "metadata": {},
   "source": [
    "Therefore, the two eigenvectors are $[1,1]^T$ and $[-1,1]^T$ and the two eigenvalues are 4 and 2, respectively. "
   ]
  },
  {
   "cell_type": "markdown",
   "metadata": {},
   "source": [
    "### Example 2 (Calculating Eigenvectors and Eigenvalues with Method 2):"
   ]
  },
  {
   "cell_type": "code",
   "execution_count": 13,
   "metadata": {},
   "outputs": [
    {
     "data": {
      "text/plain": [
       "(array([4.+0.j, 2.+0.j]), array([[ 0.70710678, -0.70710678],\n",
       "        [ 0.70710678,  0.70710678]]))"
      ]
     },
     "execution_count": 13,
     "metadata": {},
     "output_type": "execute_result"
    }
   ],
   "source": [
    "linalg.eig(A)"
   ]
  },
  {
   "cell_type": "code",
   "execution_count": 14,
   "metadata": {},
   "outputs": [
    {
     "data": {
      "text/plain": [
       "(array([4., 2.]), array([[ 0.70710678, -0.70710678],\n",
       "        [ 0.70710678,  0.70710678]]))"
      ]
     },
     "execution_count": 14,
     "metadata": {},
     "output_type": "execute_result"
    }
   ],
   "source": [
    "np.linalg.eig(A)"
   ]
  },
  {
   "cell_type": "code",
   "execution_count": null,
   "metadata": {},
   "outputs": [],
   "source": []
  }
 ],
 "metadata": {
  "kernelspec": {
   "display_name": "Python 3",
   "language": "python",
   "name": "python3"
  },
  "language_info": {
   "codemirror_mode": {
    "name": "ipython",
    "version": 3
   },
   "file_extension": ".py",
   "mimetype": "text/x-python",
   "name": "python",
   "nbconvert_exporter": "python",
   "pygments_lexer": "ipython3",
   "version": "3.7.3"
  }
 },
 "nbformat": 4,
 "nbformat_minor": 2
}
