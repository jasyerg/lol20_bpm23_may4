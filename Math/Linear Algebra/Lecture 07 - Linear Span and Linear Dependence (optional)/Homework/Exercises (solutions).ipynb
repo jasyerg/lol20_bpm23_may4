{
 "cells": [
  {
   "cell_type": "markdown",
   "metadata": {},
   "source": [
    "### Problem 1:\n",
    "\n",
    "For all pair combinations of the following vectors, are they linearly dependent or independent?\n",
    "\n",
    "$a = [1, 2, 0]$\n",
    "\n",
    "$b = [3, 1, -1]$\n",
    "\n",
    "$c = [-2, -4, 0]$\n",
    "\n",
    "$d = [6, 2, -2]$\n",
    "\n",
    "a) $a$ and $b$\n",
    "\n",
    "b) $a$ and $c$\n",
    "\n",
    "c) $a$ and $d$\n",
    "\n",
    "d) $b$ and $c$\n",
    "\n",
    "e) $b$ and $d$\n",
    "\n",
    "f) $c$ and $d$"
   ]
  },
  {
   "cell_type": "markdown",
   "metadata": {},
   "source": [
    "### SOLUTIONS"
   ]
  },
  {
   "cell_type": "markdown",
   "metadata": {},
   "source": [
    "a) \n",
    "\n",
    "$c_1*[1,2,0]^T + c_2[3,1,-1]^T = [0,0,0]^T$ \n",
    "\n",
    "$c_1$ and $c_2$ must both be 0 so they are Linearly Independent\n",
    "\n",
    "b) \n",
    "\n",
    "$c_1*[1,2,0]^T + c_2[-2,-4,0]^T = [0,0,0]^T$ \n",
    "\n",
    "$c_1$ and $c_2$ must both be 0 so they are Linearly Independent\n",
    "\n",
    "c) \n",
    "\n",
    "$c_1*[1,2,0]^T + c_2[6,2,-2]^T = [0,0,0]^T$ \n",
    "\n",
    "$c_1$ and $c_2$ must both be 0 so they are Linearly Independent\n",
    "\n",
    "d) \n",
    "\n",
    "$c_1*[3,1,-1]^T + c_2[-2,-4,0]^T = [0,0,0]^T$ \n",
    "\n",
    "$c_1$ and $c_2$ must both be 0 so they are Linearly Independent\n",
    "\n",
    "e) \n",
    "\n",
    "$c_1*[3,1,-1]^T + c_2[6,2,-2]^T = [0,0,0]^T$ \n",
    "\n",
    "$c_1 = -2$ and $c_2 = 1$ so they are Linearly Dependent\n",
    "\n",
    "f) \n",
    "\n",
    "$c_1*[-2,-4,0]^T + c_2[6,2,-2]^T = [0,0,0]^T$ \n",
    "\n",
    "$c_1$ and $c_2$ must both be 0 so they are Linearly Independent"
   ]
  },
  {
   "cell_type": "code",
   "execution_count": null,
   "metadata": {},
   "outputs": [],
   "source": []
  }
 ],
 "metadata": {
  "kernelspec": {
   "display_name": "Python 3",
   "language": "python",
   "name": "python3"
  },
  "language_info": {
   "codemirror_mode": {
    "name": "ipython",
    "version": 3
   },
   "file_extension": ".py",
   "mimetype": "text/x-python",
   "name": "python",
   "nbconvert_exporter": "python",
   "pygments_lexer": "ipython3",
   "version": "3.7.3"
  }
 },
 "nbformat": 4,
 "nbformat_minor": 2
}
