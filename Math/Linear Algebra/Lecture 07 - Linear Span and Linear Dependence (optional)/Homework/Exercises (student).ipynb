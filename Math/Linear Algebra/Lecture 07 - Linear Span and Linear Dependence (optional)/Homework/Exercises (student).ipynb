{
 "cells": [
  {
   "cell_type": "markdown",
   "metadata": {},
   "source": [
    "### Problem 1:\n",
    "\n",
    "For all pair combinations of the following vectors, are they linearly dependent or independent?\n",
    "\n",
    "$a = [1, 2, 0]$\n",
    "\n",
    "$b = [3, 1, -1]$\n",
    "\n",
    "$c = [-2, -4, 0]$\n",
    "\n",
    "$d = [6, 2, -2]$\n",
    "\n",
    "a) $a$ and $b$\n",
    "\n",
    "b) $a$ and $c$\n",
    "\n",
    "c) $a$ and $d$\n",
    "\n",
    "d) $b$ and $c$\n",
    "\n",
    "e) $b$ and $d$\n",
    "\n",
    "f) $c$ and $d$"
   ]
  },
  {
   "cell_type": "code",
   "execution_count": null,
   "metadata": {},
   "outputs": [],
   "source": []
  }
 ],
 "metadata": {
  "kernelspec": {
   "display_name": "Python 3",
   "language": "python",
   "name": "python3"
  },
  "language_info": {
   "codemirror_mode": {
    "name": "ipython",
    "version": 3
   },
   "file_extension": ".py",
   "mimetype": "text/x-python",
   "name": "python",
   "nbconvert_exporter": "python",
   "pygments_lexer": "ipython3",
   "version": "3.7.3"
  }
 },
 "nbformat": 4,
 "nbformat_minor": 2
}
