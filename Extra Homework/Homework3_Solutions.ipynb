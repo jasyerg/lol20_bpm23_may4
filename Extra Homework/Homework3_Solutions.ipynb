{
 "cells": [
  {
   "cell_type": "markdown",
   "metadata": {},
   "source": [
    "# Beginner Python and Math for Data Science\n"
   ]
  },
  {
   "cell_type": "markdown",
   "metadata": {},
   "source": [
    "#### 1. Create a dictionary that contains the following items: bananas: 3, apples: 2, pears: 5, oranges: 0\n",
    "\n",
    "With the help if statements complete the following:\n",
    "\n",
    "A) If there are 3 or more bananas, print __Three or more bananas__; otherwise, print __Less than three bananas__.\n",
    "\n",
    "B) If there are more than five fruits in total, print __More than five fruits__; otherwise, print __No more than five fruits__\n",
    "\n",
    "C) If there are more than 3 apples, check if there are 2 or more pears and print __True__; otherwise, print __False__"
   ]
  },
  {
   "cell_type": "code",
   "execution_count": null,
   "metadata": {},
   "outputs": [],
   "source": [
    "my_dict = {'bananas':3,'apples':2, 'pears':5, 'oranges':0}\n",
    "\n",
    "# A\n",
    "if my_dict['bananas'] >= 3:\n",
    "    print('Three or more bananas')\n",
    "else:\n",
    "    print('Less than three bananas')"
   ]
  },
  {
   "cell_type": "code",
   "execution_count": null,
   "metadata": {},
   "outputs": [],
   "source": [
    "# B\n",
    "if sum(my_dict.values()) > 5:\n",
    "    print('More than five fruits')\n",
    "else:\n",
    "    print('No more than five fuits')"
   ]
  },
  {
   "cell_type": "code",
   "execution_count": null,
   "metadata": {},
   "outputs": [],
   "source": [
    "# C\n",
    "if my_dict['apples'] > 3:\n",
    "    if my_dict['pears'] >= 2:\n",
    "        print(True)\n",
    "    else:\n",
    "        print(False)\n",
    "else:\n",
    "    print(False)"
   ]
  },
  {
   "cell_type": "markdown",
   "metadata": {},
   "source": [
    "#### 2. For the following list [3, 5, 7, 9, 2, 8]\n",
    "\n",
    "A) Using for loops write code that calculates the product of each element with its index and adds it together.  For example, $3*0 + 5*1 + 7*2 ... = 94$\n",
    "\n",
    "B) Using a while loop, keep looping through the list until it finds the element that squared is equal to 81.\n",
    "\n",
    "C) Repeat B using for loops.\n",
    "\n",
    "D) Using for loop create a new list that contains the same elements in the list plus 2.  It should produce a new list with [5, 7, 9, 11, 4, 10]"
   ]
  },
  {
   "cell_type": "code",
   "execution_count": null,
   "metadata": {},
   "outputs": [],
   "source": [
    "my_list = [3, 5, 7, 9, 2, 8]\n",
    "\n",
    "# A\n",
    "result = 0\n",
    "\n",
    "for i, val in enumerate(my_list):\n",
    "    product = i*val\n",
    "    result += product\n",
    "    \n",
    "print(result)"
   ]
  },
  {
   "cell_type": "code",
   "execution_count": null,
   "metadata": {},
   "outputs": [],
   "source": [
    "# B\n",
    "value = my_list[0]**2\n",
    "index = 0\n",
    "\n",
    "while value != 81:\n",
    "    index += 1\n",
    "    value = my_list[index]**2\n",
    "\n",
    "print(index, my_list[index])"
   ]
  },
  {
   "cell_type": "code",
   "execution_count": null,
   "metadata": {},
   "outputs": [],
   "source": [
    "# C\n",
    "for i, val in enumerate(my_list):\n",
    "    if val**2 == 81:\n",
    "        break\n",
    "        \n",
    "print(i,val)"
   ]
  },
  {
   "cell_type": "code",
   "execution_count": null,
   "metadata": {},
   "outputs": [],
   "source": [
    "# D\n",
    "new_list = []\n",
    "\n",
    "for i in my_list:\n",
    "    new_list.append(i+2)\n",
    "    \n",
    "print(new_list)"
   ]
  },
  {
   "cell_type": "markdown",
   "metadata": {},
   "source": [
    "#### 3. Write a Python program to get a string made of the first 2 and the last 2 chars from a given a string (Assume string is longer than 2 chars). \n",
    "\n",
    "Sample String : 'burger'  \n",
    "Expected Result : 'buer'  \n",
    "Sample String : 'in'  \n",
    "Expected Result : 'inin'"
   ]
  },
  {
   "cell_type": "code",
   "execution_count": null,
   "metadata": {},
   "outputs": [],
   "source": [
    "# your solution here \n",
    "def my_function(string):\n",
    "    return string[:2] + string[-2:]\n",
    "\n",
    "# Testcases\n",
    "print(my_function(\"burger\"), my_function(\"in\"))"
   ]
  },
  {
   "cell_type": "markdown",
   "metadata": {},
   "source": [
    "#### 4. Write a Python function that checks whether a word is a palindrome without using any loops.  \n",
    "\n",
    "Note: A palindrome is a word that reads the same backward as forward.  \n",
    "Example: level  \n",
    "\n",
    "Hint: Remember that strings also behave like a list in Python, so you can perform list operations on strings."
   ]
  },
  {
   "cell_type": "code",
   "execution_count": null,
   "metadata": {},
   "outputs": [],
   "source": [
    "# your solution here \n",
    "def my_function(string):\n",
    "    return string == string[::-1]\n",
    "\n",
    "# Testcases\n",
    "print(my_function(\"level\"), my_function(\"tomatoes\"))"
   ]
  },
  {
   "cell_type": "markdown",
   "metadata": {},
   "source": [
    "#### 5. Given a dictionary, write a Python program to create a list for all the keys, and another list for all the values of the dictionary.\n",
    "\n",
    "Example: my_dict = {\"a\":1, \"b\":2, \"c\":3}  \n",
    "Expected Result: l1 = [\"a\", \"b\", \"c\"], l2 = [1, 2, 3]"
   ]
  },
  {
   "cell_type": "code",
   "execution_count": null,
   "metadata": {},
   "outputs": [],
   "source": [
    "# your solution here \n",
    "def my_function(my_dict):\n",
    "    l1 = list(my_dict.keys())\n",
    "    l2 = list(my_dict.values())\n",
    "    return l1, l2\n",
    "\n",
    "# Testcases\n",
    "my_dict = {\"a\":1, \"b\":2, \"c\":3}\n",
    "print(my_function(my_dict))"
   ]
  },
  {
   "cell_type": "markdown",
   "metadata": {},
   "source": [
    "#### 6. Given a list of numbers, write a program to compute the sum of the first and last numbers of the list."
   ]
  },
  {
   "cell_type": "code",
   "execution_count": null,
   "metadata": {},
   "outputs": [],
   "source": [
    "# your solution here \n",
    "def my_function(my_list):\n",
    "    return my_list[0] + my_list[-1]\n",
    "\n",
    "# Testcases\n",
    "my_function([1,2,3])"
   ]
  },
  {
   "cell_type": "markdown",
   "metadata": {},
   "source": [
    "#### 7. Write a Python program to print out a set containing all the colors from color_list_1 which are not present in color_list_2.\n",
    "\n",
    "Test Data :  \n",
    "color_list_1 = set([\"White\", \"Black\", \"Red\"])   \n",
    "color_list_2 = set([\"Red\", \"Green\"])  \n",
    "Expected Output :  \n",
    "{'Black', 'White'}"
   ]
  },
  {
   "cell_type": "code",
   "execution_count": null,
   "metadata": {},
   "outputs": [],
   "source": [
    "# your solution here \n",
    "def my_function(set1, set2):\n",
    "    return set1 - set2 # or set1.difference(set2) would also work\n",
    "\n",
    "# Testcases\n",
    "color_list_1 = set([\"White\", \"Black\", \"Red\"])\n",
    "color_list_2 = set([\"Red\", \"Green\"])\n",
    "my_function(color_list_1, color_list_2)"
   ]
  },
  {
   "cell_type": "markdown",
   "metadata": {},
   "source": [
    "#### 8. Write a function that receives a number (x) and returns all the multiples of 7 between x and x+100 (inclusive)."
   ]
  },
  {
   "cell_type": "code",
   "execution_count": null,
   "metadata": {},
   "outputs": [],
   "source": [
    "# your solution here \n",
    "def multiple_seven(x):\n",
    "    answer = []\n",
    "    low = x\n",
    "    high = x+100\n",
    "    numbers = range(low,high+1)\n",
    "    for i in numbers:\n",
    "        if i%7 == 0:\n",
    "            answer.append(i)\n",
    "    return answer\n",
    "\n",
    "print(multiple_seven(55))"
   ]
  },
  {
   "cell_type": "markdown",
   "metadata": {},
   "source": [
    "#### 9. Write a function that receives two strings.  Return True if the second string can be written with the letters from the first string.  Otherwise return False.\n",
    "\n",
    "Test Data :  \n",
    "string1 = 'rxedeitnp'   \n",
    "string2 = 'peter'  \n",
    "Expected Output :  \n",
    "True\n",
    "\n",
    "Test Data :  \n",
    "string1 = 'rxedeitn'   \n",
    "string2 = 'peter'  \n",
    "Expected Output :  \n",
    "False"
   ]
  },
  {
   "cell_type": "code",
   "execution_count": null,
   "metadata": {},
   "outputs": [],
   "source": [
    "def spellwith(string1, string2):\n",
    "    # I am converting the strings to lists where each character is an element of the list\n",
    "    string1 = list(string1)\n",
    "    string2 = list(string2)\n",
    "    \n",
    "    for i in string2: # loop for each character in string2\n",
    "        if i in string1: # check if the charater is in string1\n",
    "            string1.remove(i) \n",
    "        else:\n",
    "            return False\n",
    "    return True\n",
    "\n",
    "string1 = 'rxedeitnp'   \n",
    "string2 = 'peter'  \n",
    "print(spellwith(string1,string2))\n",
    "\n",
    "string1 = 'rxedeitn'   \n",
    "string2 = 'peter'  \n",
    "print(spellwith(string1,string2))"
   ]
  },
  {
   "cell_type": "markdown",
   "metadata": {},
   "source": [
    "#### 10. Write a function that takes in a list as input and returns a new list with only the even integers from that list.\n",
    "\n",
    "Sample input: [1,4,5,11,12,15]  \n",
    "Expected output: [4,12]"
   ]
  },
  {
   "cell_type": "code",
   "execution_count": null,
   "metadata": {},
   "outputs": [],
   "source": [
    "# There are many possible solutions (i.e. using .pop(), list comprehensions, etc.)\n",
    "def even_int(inp_list):\n",
    "    out_list = []\n",
    "    for i in inp_list:\n",
    "        if i % 2 == 0:\n",
    "            out_list.append(i)\n",
    "    return out_list\n",
    "\n",
    "# Testcases\n",
    "even_int([1,4,5,11,12,15])"
   ]
  },
  {
   "cell_type": "markdown",
   "metadata": {},
   "source": [
    "#### 11. You are given a dictionary that has the count of the number of each fruit in a basket. Write a function that takes in the dictionary and outputs the total number of fruits in the basket.\n",
    "\n",
    "Sample input: fruits = {\"oranges\": 5, \"apples\": 2, \"blueberries\": 12}\n",
    "Expected output: 19"
   ]
  },
  {
   "cell_type": "code",
   "execution_count": null,
   "metadata": {},
   "outputs": [],
   "source": [
    "def count_fruits(fruits):\n",
    "    \"\"\"\n",
    "    Using a loop through keys\n",
    "    \"\"\"\n",
    "    total = 0\n",
    "    for key in fruits:\n",
    "        total += fruits[key]\n",
    "    return total\n",
    "\n",
    "# Testcases\n",
    "fruits = {\"oranges\": 5, \"apples\": 2, \"blueberries\": 12}\n",
    "count_fruits(fruits)"
   ]
  },
  {
   "cell_type": "code",
   "execution_count": null,
   "metadata": {},
   "outputs": [],
   "source": [
    "def count_fruits(fruits):\n",
    "    \"\"\"\n",
    "    Using the dictionary method .values()\n",
    "    \"\"\"\n",
    "    return sum(fruits.values())\n",
    "count_fruits(fruits)"
   ]
  },
  {
   "cell_type": "markdown",
   "metadata": {},
   "source": [
    "#### 12. Write a Python program that accepts a string and calculate the number of digits and letters. \n",
    "\n",
    "Input String : \"Python 3.2\"  \n",
    "\n",
    "Expected Output :  \n",
    "Letters 6  \n",
    "Digits 2  \n",
    "\n",
    "Hint: Make use of Python string's inherent isdigit() method and isalpha() method. For example, \"a\".isdigit() returns False, while \"a\".isalpha() returns True."
   ]
  },
  {
   "cell_type": "code",
   "execution_count": null,
   "metadata": {},
   "outputs": [],
   "source": [
    "def letters_digits(s):\n",
    "    d=l=0\n",
    "    for c in s:\n",
    "        if c.isdigit():\n",
    "            d=d+1\n",
    "        elif c.isalpha():\n",
    "            l=l+1\n",
    "        else:\n",
    "            pass\n",
    "    print(\"Letters\", l)\n",
    "    print(\"Digits\", d)\n",
    "\n",
    "# Testcases\n",
    "letters_digits(\"Python 3.2\")"
   ]
  },
  {
   "cell_type": "markdown",
   "metadata": {},
   "source": [
    "#### 13. Write a Python program to check the validity of a password.\n",
    "\n",
    "Validation :  \n",
    "At least 1 character from [$#@].  \n",
    "Minimum length 6 characters.  \n",
    "Maximum length 16 characters.  "
   ]
  },
  {
   "cell_type": "code",
   "execution_count": null,
   "metadata": {},
   "outputs": [],
   "source": [
    "def valid_password(p):\n",
    "    if (len(p) < 6) or (len(p) > 16):\n",
    "        return False\n",
    "    special = \"$#@\"\n",
    "    for char in p:\n",
    "        if char in special:\n",
    "            return True\n",
    "    return False\n",
    "\n",
    "# Testcases\n",
    "print(valid_password(\"135oijafea$f\")) # true, length between 6-16, contains special char\n",
    "print(valid_password(\"13oir31noaefapeofj\")) # False, does not contain special char\n",
    "print(valid_password(\"$123\")) # False, less than 6 characters"
   ]
  },
  {
   "cell_type": "markdown",
   "metadata": {},
   "source": [
    "#### 14. Fix the following codes:"
   ]
  },
  {
   "cell_type": "code",
   "execution_count": null,
   "metadata": {},
   "outputs": [],
   "source": [
    "#### A - creates all pairs of combinations for the numbers 0 thru 4.  i.e. (0,1),(0,2),(0,3),(0,4),(1,2)...\n",
    "for i in range(5):\n",
    "    for j in range(i+1,5):\n",
    "        print((i,j))"
   ]
  },
  {
   "cell_type": "code",
   "execution_count": null,
   "metadata": {},
   "outputs": [],
   "source": [
    "#### B - add all the elements in the list and prints out the total (in this example it prints 6)\n",
    "my_list = ['1','2','3']\n",
    "temp = 0\n",
    "\n",
    "for i in my_list:\n",
    "    temp += int(i)\n",
    "\n",
    "print(temp)"
   ]
  },
  {
   "cell_type": "code",
   "execution_count": null,
   "metadata": {},
   "outputs": [],
   "source": []
  }
 ],
 "metadata": {
  "kernelspec": {
   "display_name": "Python 3",
   "language": "python",
   "name": "python3"
  },
  "language_info": {
   "codemirror_mode": {
    "name": "ipython",
    "version": 3
   },
   "file_extension": ".py",
   "mimetype": "text/x-python",
   "name": "python",
   "nbconvert_exporter": "python",
   "pygments_lexer": "ipython3",
   "version": "3.7.3"
  },
  "toc": {
   "base_numbering": 1,
   "nav_menu": {},
   "number_sections": true,
   "sideBar": true,
   "skip_h1_title": false,
   "title_cell": "Table of Contents",
   "title_sidebar": "Contents",
   "toc_cell": false,
   "toc_position": {},
   "toc_section_display": true,
   "toc_window_display": false
  }
 },
 "nbformat": 4,
 "nbformat_minor": 2
}
