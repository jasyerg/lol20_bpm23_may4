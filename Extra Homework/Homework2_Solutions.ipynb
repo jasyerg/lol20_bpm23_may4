{
 "cells": [
  {
   "cell_type": "markdown",
   "metadata": {},
   "source": [
    "# Beginner Python and Math for Data Science"
   ]
  },
  {
   "cell_type": "markdown",
   "metadata": {},
   "source": [
    "#### 1. For the list: list1 = [0,1,2,3,4,5,6,7,8,9]\n",
    "\n",
    "A) Write a slice that returns [0,2,4,6,8] \n",
    "\n",
    "B) Write a slice that returns [1,3,5,7]\n",
    "\n",
    "C) Write a slice that returns [6,5,4,3]\n",
    "\n",
    "D) Write a slice that return [8,5,2]"
   ]
  },
  {
   "cell_type": "code",
   "execution_count": 1,
   "metadata": {},
   "outputs": [
    {
     "data": {
      "text/plain": [
       "[0, 2, 4, 6, 8]"
      ]
     },
     "execution_count": 1,
     "metadata": {},
     "output_type": "execute_result"
    }
   ],
   "source": [
    "# your solution here\n",
    "list1 = [0,1,2,3,4,5,6,7,8,9]\n",
    "\n",
    "# A\n",
    "list1[::2]"
   ]
  },
  {
   "cell_type": "code",
   "execution_count": 8,
   "metadata": {},
   "outputs": [
    {
     "data": {
      "text/plain": [
       "[1, 3, 5, 7]"
      ]
     },
     "execution_count": 8,
     "metadata": {},
     "output_type": "execute_result"
    }
   ],
   "source": [
    "# B\n",
    "list1[1:-1:2]"
   ]
  },
  {
   "cell_type": "code",
   "execution_count": 13,
   "metadata": {},
   "outputs": [
    {
     "data": {
      "text/plain": [
       "[6, 5, 4, 3]"
      ]
     },
     "execution_count": 13,
     "metadata": {},
     "output_type": "execute_result"
    }
   ],
   "source": [
    "# C\n",
    "list1[-4:-8:-1]"
   ]
  },
  {
   "cell_type": "code",
   "execution_count": 16,
   "metadata": {},
   "outputs": [
    {
     "data": {
      "text/plain": [
       "[8, 5, 2]"
      ]
     },
     "execution_count": 16,
     "metadata": {},
     "output_type": "execute_result"
    }
   ],
   "source": [
    "# D\n",
    "list1[-2::-3]"
   ]
  },
  {
   "cell_type": "markdown",
   "metadata": {},
   "source": [
    "#### 2. For the list: list2 = [0,['a','b','c'],2]\n",
    "\n",
    "A) Write a slice that returns [2,['a','b','c'],0] \n",
    "\n",
    "B) Write a slice that return ['a','b','c']\n",
    "\n",
    "C) Write a slice that returns ['b','c']\n",
    "\n",
    "D) Write a slice that returns ['c','a']\n",
    "\n",
    "E) Write a slice that returns [2,0]\n",
    "\n",
    "F) Write a slide that returns ['c','b','a']"
   ]
  },
  {
   "cell_type": "code",
   "execution_count": 19,
   "metadata": {},
   "outputs": [
    {
     "data": {
      "text/plain": [
       "[2, ['a', 'b', 'c'], 0]"
      ]
     },
     "execution_count": 19,
     "metadata": {},
     "output_type": "execute_result"
    }
   ],
   "source": [
    "list2 = [0,['a','b','c'],2]\n",
    "\n",
    "# A\n",
    "list2[::-1]"
   ]
  },
  {
   "cell_type": "code",
   "execution_count": 21,
   "metadata": {},
   "outputs": [
    {
     "data": {
      "text/plain": [
       "['a', 'b', 'c']"
      ]
     },
     "execution_count": 21,
     "metadata": {},
     "output_type": "execute_result"
    }
   ],
   "source": [
    "list2[1]"
   ]
  },
  {
   "cell_type": "code",
   "execution_count": 20,
   "metadata": {},
   "outputs": [
    {
     "data": {
      "text/plain": [
       "['b', 'c']"
      ]
     },
     "execution_count": 20,
     "metadata": {},
     "output_type": "execute_result"
    }
   ],
   "source": [
    "# C\n",
    "list2[1][1::]"
   ]
  },
  {
   "cell_type": "code",
   "execution_count": 22,
   "metadata": {},
   "outputs": [
    {
     "data": {
      "text/plain": [
       "['c', 'a']"
      ]
     },
     "execution_count": 22,
     "metadata": {},
     "output_type": "execute_result"
    }
   ],
   "source": [
    "# D\n",
    "list2[1][::-2]"
   ]
  },
  {
   "cell_type": "code",
   "execution_count": 23,
   "metadata": {},
   "outputs": [
    {
     "data": {
      "text/plain": [
       "[2, 0]"
      ]
     },
     "execution_count": 23,
     "metadata": {},
     "output_type": "execute_result"
    }
   ],
   "source": [
    "# E\n",
    "list2[::-2]"
   ]
  },
  {
   "cell_type": "code",
   "execution_count": 25,
   "metadata": {},
   "outputs": [
    {
     "data": {
      "text/plain": [
       "['c', 'b', 'a']"
      ]
     },
     "execution_count": 25,
     "metadata": {},
     "output_type": "execute_result"
    }
   ],
   "source": [
    "# F\n",
    "list2[1][::-1]"
   ]
  },
  {
   "cell_type": "markdown",
   "metadata": {},
   "source": [
    "#### 3. For the following list: list3 = [1, 8, 7, 3, 2, 5, 3]\n",
    "\n",
    "A) Find the index ( i ) where a __7__ occurs and return the element from the next index ( i+1 ), in this example if would be 3.\n",
    "\n",
    "B) Calculate the average between the maximum and minimum value of the list\n",
    "\n",
    "C) Using code, determine how many times __3__ occurs in the list\n",
    "\n",
    "D) Replace the last three elements in the list with 'x','y' and 'z', respectively to get [1,8,7,3,'x','y','z']\n",
    "\n",
    "E) Replace the element with index 1 with ['a','b','c'] to get [1,['a','b','c'],7,3,'x','y','z']\n",
    "\n",
    "F) Replace the letter 'b' and 'c' with 'd' and ['e','f'], respectively to get [1,['a','d',['e','f']],7,3,'x','y','z']"
   ]
  },
  {
   "cell_type": "code",
   "execution_count": 35,
   "metadata": {},
   "outputs": [
    {
     "data": {
      "text/plain": [
       "3"
      ]
     },
     "execution_count": 35,
     "metadata": {},
     "output_type": "execute_result"
    }
   ],
   "source": [
    "list3 = [1,8,7,3,2,5,3]\n",
    "\n",
    "# A\n",
    "i = list3.index(7)\n",
    "list3[i+1]"
   ]
  },
  {
   "cell_type": "code",
   "execution_count": 36,
   "metadata": {},
   "outputs": [
    {
     "data": {
      "text/plain": [
       "4.5"
      ]
     },
     "execution_count": 36,
     "metadata": {},
     "output_type": "execute_result"
    }
   ],
   "source": [
    "# B\n",
    "(max(list3) + min(list3))/2"
   ]
  },
  {
   "cell_type": "code",
   "execution_count": 37,
   "metadata": {},
   "outputs": [
    {
     "data": {
      "text/plain": [
       "2"
      ]
     },
     "execution_count": 37,
     "metadata": {},
     "output_type": "execute_result"
    }
   ],
   "source": [
    "# C\n",
    "list3.count(3)"
   ]
  },
  {
   "cell_type": "code",
   "execution_count": 40,
   "metadata": {},
   "outputs": [
    {
     "data": {
      "text/plain": [
       "[1, 8, 7, 3, 'x', 'y', 'z']"
      ]
     },
     "execution_count": 40,
     "metadata": {},
     "output_type": "execute_result"
    }
   ],
   "source": [
    "# D\n",
    "list3[-3:] = ['x','y','z']\n",
    "list3"
   ]
  },
  {
   "cell_type": "code",
   "execution_count": 41,
   "metadata": {},
   "outputs": [
    {
     "data": {
      "text/plain": [
       "[1, ['a', 'b', 'c'], 7, 3, 'x', 'y', 'z']"
      ]
     },
     "execution_count": 41,
     "metadata": {},
     "output_type": "execute_result"
    }
   ],
   "source": [
    "# E\n",
    "list3[1] = ['a','b','c']\n",
    "list3"
   ]
  },
  {
   "cell_type": "code",
   "execution_count": 44,
   "metadata": {},
   "outputs": [
    {
     "data": {
      "text/plain": [
       "[1, ['a', 'd', ['e', 'f']], 7, 3, 'x', 'y', 'z']"
      ]
     },
     "execution_count": 44,
     "metadata": {},
     "output_type": "execute_result"
    }
   ],
   "source": [
    "# F\n",
    "list3[1][1:] = ['d',['e','f']]\n",
    "list3"
   ]
  },
  {
   "cell_type": "markdown",
   "metadata": {},
   "source": [
    "#### 4. For the following list: list4 = [ 1, 3, 4, 2, 7]\n",
    "\n",
    "A) Add a __5__ at the end to get [1, 3, 4, 2, 7, 5]\n",
    "\n",
    "B) Add a __7__ at the beginning to get [7, 1, 3, 4, 2, 7, 5]\n",
    "\n",
    "C) Add a __3__ at the index 2 to get [7, 1, 3, 3, 4, 2, 7, 5]\n",
    "\n",
    "D) Remove the last two elements of the list to get [7, 1, 3, 3, 4, 2]\n",
    "\n",
    "E) Reverse the list to get [2, 4, 3, 3, 1, 7]\n",
    "\n",
    "F) Sort the list in place to get [1, 2, 3, 3, 4, 7]"
   ]
  },
  {
   "cell_type": "code",
   "execution_count": 1,
   "metadata": {},
   "outputs": [
    {
     "name": "stdout",
     "output_type": "stream",
     "text": [
      "[1, 3, 4, 2, 7, 5]\n"
     ]
    }
   ],
   "source": [
    "list4 = [ 1, 3, 4, 2, 7]\n",
    "\n",
    "# A\n",
    "list4.append(5)\n",
    "print(list4)"
   ]
  },
  {
   "cell_type": "code",
   "execution_count": 2,
   "metadata": {},
   "outputs": [
    {
     "data": {
      "text/plain": [
       "[7, 1, 3, 4, 2, 7, 5]"
      ]
     },
     "execution_count": 2,
     "metadata": {},
     "output_type": "execute_result"
    }
   ],
   "source": [
    "# B\n",
    "list4.insert(0, 7)\n",
    "list4"
   ]
  },
  {
   "cell_type": "code",
   "execution_count": 3,
   "metadata": {},
   "outputs": [
    {
     "data": {
      "text/plain": [
       "[7, 1, 3, 3, 4, 2, 7, 5]"
      ]
     },
     "execution_count": 3,
     "metadata": {},
     "output_type": "execute_result"
    }
   ],
   "source": [
    "# C\n",
    "list4.insert(2, 3)\n",
    "list4"
   ]
  },
  {
   "cell_type": "code",
   "execution_count": 4,
   "metadata": {},
   "outputs": [
    {
     "data": {
      "text/plain": [
       "[7, 1, 3, 3, 4, 2]"
      ]
     },
     "execution_count": 4,
     "metadata": {},
     "output_type": "execute_result"
    }
   ],
   "source": [
    "# D\n",
    "del list4[-2::]\n",
    "list4"
   ]
  },
  {
   "cell_type": "code",
   "execution_count": 5,
   "metadata": {},
   "outputs": [
    {
     "data": {
      "text/plain": [
       "[2, 4, 3, 3, 1, 7]"
      ]
     },
     "execution_count": 5,
     "metadata": {},
     "output_type": "execute_result"
    }
   ],
   "source": [
    "# E\n",
    "list4.reverse()\n",
    "list4"
   ]
  },
  {
   "cell_type": "code",
   "execution_count": 8,
   "metadata": {},
   "outputs": [
    {
     "data": {
      "text/plain": [
       "[1, 2, 3, 3, 4, 7]"
      ]
     },
     "execution_count": 8,
     "metadata": {},
     "output_type": "execute_result"
    }
   ],
   "source": [
    "# F\n",
    "list4.sort()\n",
    "list4"
   ]
  },
  {
   "cell_type": "markdown",
   "metadata": {},
   "source": [
    "#### 5. For the following string: \"The quick brown fox jumps over the lazy dog\"\n",
    "\n",
    "A) How many characters, including blank spaces, are in the string?\n",
    "\n",
    "B) Replace the work \"quick\" with \"slow\"\n",
    "\n",
    "C) How many words are in the sentence? \n",
    "\n",
    "D) At what index does the letter \"z\" occur?\n",
    "\n",
    "E) Sort the letters of the sentence (not in place) and print it out.\n",
    "\n",
    "F) Count how many times the  letter \"o\" appears.\n",
    "\n",
    "G) Print the string with the first letter of each word capitalized.  Google the __title__ method."
   ]
  },
  {
   "cell_type": "code",
   "execution_count": 9,
   "metadata": {},
   "outputs": [
    {
     "data": {
      "text/plain": [
       "43"
      ]
     },
     "execution_count": 9,
     "metadata": {},
     "output_type": "execute_result"
    }
   ],
   "source": [
    "my_string = \"The quick brown fox jumps over the lazy dog\"\n",
    "\n",
    "# A\n",
    "len(my_string)"
   ]
  },
  {
   "cell_type": "code",
   "execution_count": 11,
   "metadata": {},
   "outputs": [
    {
     "data": {
      "text/plain": [
       "'The slow brown fox jumps over the lazy dog'"
      ]
     },
     "execution_count": 11,
     "metadata": {},
     "output_type": "execute_result"
    }
   ],
   "source": [
    "# B\n",
    "my_string = my_string.replace('quick','slow')\n",
    "my_string"
   ]
  },
  {
   "cell_type": "code",
   "execution_count": 17,
   "metadata": {},
   "outputs": [
    {
     "name": "stdout",
     "output_type": "stream",
     "text": [
      "There are 9 words in the sentence\n"
     ]
    }
   ],
   "source": [
    "# C\n",
    "my_list = my_string.split(' ')\n",
    "print(\"There are {} words in the sentence\".format(len(my_list)))"
   ]
  },
  {
   "cell_type": "code",
   "execution_count": 18,
   "metadata": {},
   "outputs": [
    {
     "data": {
      "text/plain": [
       "36"
      ]
     },
     "execution_count": 18,
     "metadata": {},
     "output_type": "execute_result"
    }
   ],
   "source": [
    "# D\n",
    "my_string.index('z')"
   ]
  },
  {
   "cell_type": "code",
   "execution_count": 20,
   "metadata": {},
   "outputs": [
    {
     "name": "stdout",
     "output_type": "stream",
     "text": [
      "[' ', ' ', ' ', ' ', ' ', ' ', ' ', ' ', 'T', 'a', 'b', 'd', 'e', 'e', 'e', 'f', 'g', 'h', 'h', 'j', 'l', 'l', 'm', 'n', 'o', 'o', 'o', 'o', 'o', 'p', 'r', 'r', 's', 's', 't', 'u', 'v', 'w', 'w', 'x', 'y', 'z']\n"
     ]
    }
   ],
   "source": [
    "# E\n",
    "print(sorted(my_string))"
   ]
  },
  {
   "cell_type": "code",
   "execution_count": 22,
   "metadata": {},
   "outputs": [
    {
     "data": {
      "text/plain": [
       "5"
      ]
     },
     "execution_count": 22,
     "metadata": {},
     "output_type": "execute_result"
    }
   ],
   "source": [
    "# F\n",
    "my_string.count('o')"
   ]
  },
  {
   "cell_type": "code",
   "execution_count": 26,
   "metadata": {},
   "outputs": [
    {
     "name": "stdout",
     "output_type": "stream",
     "text": [
      "The Slow Brown Fox Jumps Over The Lazy Dog\n"
     ]
    }
   ],
   "source": [
    "# G\n",
    "print(my_string.title())"
   ]
  },
  {
   "cell_type": "markdown",
   "metadata": {},
   "source": [
    "#### 6. Print a sentence with the following format: \"The number is X!\" Replace X with:\n",
    "\n",
    "A) The output of 1/3 showing all decimals\n",
    "\n",
    "B) The output of 1+1/3 showing no decimals\n",
    "\n",
    "C) The output of 10/3 showing 2 decimals"
   ]
  },
  {
   "cell_type": "code",
   "execution_count": 27,
   "metadata": {},
   "outputs": [
    {
     "name": "stdout",
     "output_type": "stream",
     "text": [
      "The number is 0.3333333333333333\n"
     ]
    }
   ],
   "source": [
    "# A\n",
    "print(\"The number is {}\".format(1/3))"
   ]
  },
  {
   "cell_type": "code",
   "execution_count": 35,
   "metadata": {},
   "outputs": [
    {
     "name": "stdout",
     "output_type": "stream",
     "text": [
      "The number is 1\n"
     ]
    }
   ],
   "source": [
    "# B\n",
    "print(\"The number is {}\".format(round(1+1/3)))"
   ]
  },
  {
   "cell_type": "code",
   "execution_count": 47,
   "metadata": {},
   "outputs": [
    {
     "name": "stdout",
     "output_type": "stream",
     "text": [
      "The number is 3.33\n"
     ]
    }
   ],
   "source": [
    "# C\n",
    "print(\"The number is {:.3}\".format(10/3))"
   ]
  },
  {
   "cell_type": "markdown",
   "metadata": {},
   "source": [
    "#### 7. Create a tuple that has the following values 21, 'Roberto', 177.5\n",
    "\n",
    "A) Assign the three values to the following three variable names: Name, Height and Age using packing/unpacking.\n",
    "\n",
    "B) Fix the assignments above by updating the variable to contain Age = 21, Name = 'Roberto' and Height = 177.5 using packing/unpacking.\n",
    "\n",
    "C) Add the first and last elements of the tuple.\n",
    "\n",
    "D) From the tuple create a list that contains the last and first values to obtain [177.5, 21]"
   ]
  },
  {
   "cell_type": "code",
   "execution_count": 48,
   "metadata": {},
   "outputs": [
    {
     "name": "stdout",
     "output_type": "stream",
     "text": [
      "21 Roberto 177.5\n"
     ]
    }
   ],
   "source": [
    "my_tuple = (21,'Roberto',177.5)\n",
    "\n",
    "# A\n",
    "Name, Height, Age = my_tuple\n",
    "\n",
    "print(Name, Height, Age)"
   ]
  },
  {
   "cell_type": "code",
   "execution_count": 49,
   "metadata": {},
   "outputs": [
    {
     "name": "stdout",
     "output_type": "stream",
     "text": [
      "Roberto 177.5 21\n"
     ]
    }
   ],
   "source": [
    "# B\n",
    "Name, Height, Age = Height, Age, Name\n",
    "print(Name, Height, Age)"
   ]
  },
  {
   "cell_type": "code",
   "execution_count": 50,
   "metadata": {},
   "outputs": [
    {
     "data": {
      "text/plain": [
       "198.5"
      ]
     },
     "execution_count": 50,
     "metadata": {},
     "output_type": "execute_result"
    }
   ],
   "source": [
    "# C\n",
    "my_tuple[0] + my_tuple[2]"
   ]
  },
  {
   "cell_type": "code",
   "execution_count": 54,
   "metadata": {},
   "outputs": [
    {
     "data": {
      "text/plain": [
       "[177.5, 21]"
      ]
     },
     "execution_count": 54,
     "metadata": {},
     "output_type": "execute_result"
    }
   ],
   "source": [
    "# D\n",
    "list(my_tuple[::-2])"
   ]
  },
  {
   "cell_type": "markdown",
   "metadata": {},
   "source": [
    "#### 8. Using range, print a list that contains the following values:\n",
    "\n",
    "A) [10, 11, 12, 13, 14, 15, 16, 17, 18, 19, 20]\n",
    "\n",
    "B) [30, 29, 28, 27, 26, 25, 24, 23, 22, 21, 20]\n",
    "\n",
    "C) [5, 10, 15, 20, 25]\n",
    "\n",
    "D) [100, 78, 56, 34, 12, -10, -32, -54, -76, -98]"
   ]
  },
  {
   "cell_type": "code",
   "execution_count": 66,
   "metadata": {},
   "outputs": [
    {
     "name": "stdout",
     "output_type": "stream",
     "text": [
      "[10, 11, 12, 13, 14, 15, 16, 17, 18, 19, 20]\n"
     ]
    }
   ],
   "source": [
    "# A\n",
    "print(list(range(10,21)))"
   ]
  },
  {
   "cell_type": "code",
   "execution_count": 67,
   "metadata": {},
   "outputs": [
    {
     "name": "stdout",
     "output_type": "stream",
     "text": [
      "[30, 29, 28, 27, 26, 25, 24, 23, 22, 21, 20]\n"
     ]
    }
   ],
   "source": [
    "# B\n",
    "print(list(range(30,19,-1)))"
   ]
  },
  {
   "cell_type": "code",
   "execution_count": 68,
   "metadata": {},
   "outputs": [
    {
     "name": "stdout",
     "output_type": "stream",
     "text": [
      "[5, 10, 15, 20, 25]\n"
     ]
    }
   ],
   "source": [
    "# C\n",
    "print(list(range(5,30,5)))"
   ]
  },
  {
   "cell_type": "code",
   "execution_count": 69,
   "metadata": {},
   "outputs": [
    {
     "name": "stdout",
     "output_type": "stream",
     "text": [
      "[100, 78, 56, 34, 12, -10, -32, -54, -76, -98]\n"
     ]
    }
   ],
   "source": [
    "# D\n",
    "print(list(range(100,-100,-22)))"
   ]
  },
  {
   "cell_type": "markdown",
   "metadata": {},
   "source": [
    "#### 9. Create a range that has the following elements [100, 67, 34, 1, -32, -65, -98]\n",
    "\n",
    "A) What is the third element in the range?\n",
    "\n",
    "B) Print a list with the elements on the odd indices of the range (e.g. 1, 3, 5 ...)\n",
    "\n",
    "C) Print a list with the values of the range sorted from low to high\n",
    "\n",
    "D) Print if the value __-32__ is in the range?\n",
    "\n",
    "E) What is the index for the value __-32__?\n",
    "\n",
    "F) How many values are in the range?\n",
    "\n",
    "G) What is the minimum value of the range?"
   ]
  },
  {
   "cell_type": "code",
   "execution_count": 75,
   "metadata": {},
   "outputs": [
    {
     "name": "stdout",
     "output_type": "stream",
     "text": [
      "range(100, -100, -33)\n",
      "[100, 67, 34, 1, -32, -65, -98]\n"
     ]
    },
    {
     "data": {
      "text/plain": [
       "34"
      ]
     },
     "execution_count": 75,
     "metadata": {},
     "output_type": "execute_result"
    }
   ],
   "source": [
    "my_range = (range(100,-100,-33))\n",
    "print(my_range)\n",
    "print(list(my_range))\n",
    "\n",
    "# A\n",
    "my_range[2]"
   ]
  },
  {
   "cell_type": "code",
   "execution_count": 76,
   "metadata": {},
   "outputs": [
    {
     "name": "stdout",
     "output_type": "stream",
     "text": [
      "range(67, -131, -66)\n",
      "[67, 1, -65]\n"
     ]
    }
   ],
   "source": [
    "# B\n",
    "print(my_range[1::2])\n",
    "print(list(my_range[1::2]))"
   ]
  },
  {
   "cell_type": "code",
   "execution_count": 79,
   "metadata": {},
   "outputs": [
    {
     "name": "stdout",
     "output_type": "stream",
     "text": [
      "[-98, -65, -32, 1, 34, 67, 100]\n"
     ]
    }
   ],
   "source": [
    "# C\n",
    "print(sorted(my_range))"
   ]
  },
  {
   "cell_type": "code",
   "execution_count": 80,
   "metadata": {},
   "outputs": [
    {
     "name": "stdout",
     "output_type": "stream",
     "text": [
      "True\n"
     ]
    }
   ],
   "source": [
    "# D\n",
    "print(-32 in my_range)"
   ]
  },
  {
   "cell_type": "code",
   "execution_count": 81,
   "metadata": {},
   "outputs": [
    {
     "data": {
      "text/plain": [
       "4"
      ]
     },
     "execution_count": 81,
     "metadata": {},
     "output_type": "execute_result"
    }
   ],
   "source": [
    "# E\n",
    "my_range.index(-32)"
   ]
  },
  {
   "cell_type": "code",
   "execution_count": 82,
   "metadata": {},
   "outputs": [
    {
     "data": {
      "text/plain": [
       "7"
      ]
     },
     "execution_count": 82,
     "metadata": {},
     "output_type": "execute_result"
    }
   ],
   "source": [
    "# F\n",
    "len(my_range)"
   ]
  },
  {
   "cell_type": "code",
   "execution_count": 83,
   "metadata": {},
   "outputs": [
    {
     "data": {
      "text/plain": [
       "-98"
      ]
     },
     "execution_count": 83,
     "metadata": {},
     "output_type": "execute_result"
    }
   ],
   "source": [
    "# G\n",
    "min(my_range)"
   ]
  },
  {
   "cell_type": "markdown",
   "metadata": {},
   "source": [
    "#### 10. For the following string: \"The quick brown fox jumps over the lazy dog\"\n",
    "\n",
    "A) Modify the string so that all the characters are lowercase\n",
    "\n",
    "B) Create a set that extracts the unique letters in the string\n",
    "\n",
    "C) Remove the blank space as an element from the set\n",
    "\n",
    "D) Print a list that shows the elements of the set sorted. What do you notice?"
   ]
  },
  {
   "cell_type": "code",
   "execution_count": 5,
   "metadata": {},
   "outputs": [
    {
     "name": "stdout",
     "output_type": "stream",
     "text": [
      "the quick brown fox jumps over the lazy dog\n"
     ]
    }
   ],
   "source": [
    "my_string = \"The quick brown fox jumps over the lazy dog\"\n",
    "\n",
    "# A\n",
    "my_string = my_string.lower()\n",
    "print(my_string)"
   ]
  },
  {
   "cell_type": "code",
   "execution_count": 10,
   "metadata": {},
   "outputs": [
    {
     "name": "stdout",
     "output_type": "stream",
     "text": [
      "{'c', 'p', 'o', 'r', 'l', 'a', 'g', 'f', 'w', 'e', 'q', 'j', 'i', 'n', 'm', 'k', 's', 'z', 'v', 'b', 'd', ' ', 'u', 'y', 't', 'x', 'h'}\n"
     ]
    }
   ],
   "source": [
    "# B\n",
    "my_set = set(my_string)\n",
    "print(my_set)"
   ]
  },
  {
   "cell_type": "code",
   "execution_count": 11,
   "metadata": {},
   "outputs": [
    {
     "name": "stdout",
     "output_type": "stream",
     "text": [
      "{'c', 'p', 'o', 'r', 'l', 'a', 'g', 'f', 'w', 'e', 'q', 'j', 'i', 'n', 'm', 'k', 's', 'z', 'v', 'b', 'd', 'u', 'y', 't', 'x', 'h'}\n"
     ]
    }
   ],
   "source": [
    "# C\n",
    "my_set.remove(' ')\n",
    "print(my_set)"
   ]
  },
  {
   "cell_type": "code",
   "execution_count": 12,
   "metadata": {},
   "outputs": [
    {
     "name": "stdout",
     "output_type": "stream",
     "text": [
      "['a', 'b', 'c', 'd', 'e', 'f', 'g', 'h', 'i', 'j', 'k', 'l', 'm', 'n', 'o', 'p', 'q', 'r', 's', 't', 'u', 'v', 'w', 'x', 'y', 'z']\n"
     ]
    }
   ],
   "source": [
    "# D\n",
    "sorted_list = sorted(list(my_set))\n",
    "print(sorted_list)"
   ]
  },
  {
   "cell_type": "markdown",
   "metadata": {},
   "source": [
    "#### 11. Create a dictionary with the following:\n",
    "\n",
    "A) A dictionary (__dict1__) with the following key values:\n",
    "- Name: Clark\n",
    "- LastName: Kent\n",
    "\n",
    "B) A dictionary (__dict2__) with the following key values:\n",
    "- Name: Bruce \n",
    "- LastName: Wayne\n",
    "\n",
    "C) A dictionary (__dict3__) with the following key values:\n",
    "- Person1: dict1\n",
    "- Person2: dict2\n",
    "\n",
    "D) Print the LastName of Person1\n",
    "\n",
    "E) Replace the Name of Person2 with 'Batman'\n",
    "\n",
    "F) Add to Person1 the following key values:\n",
    "- Planet: Krypton\n",
    "\n",
    "G) Remove the Name from Person2\n",
    "\n",
    "H) Add a Person3 with the following:\n",
    "- Person3: {Superhero:WonderWoman}"
   ]
  },
  {
   "cell_type": "code",
   "execution_count": 20,
   "metadata": {},
   "outputs": [],
   "source": [
    "# A\n",
    "dict1 = {'Name':'Clark','LastName':'Kent'}"
   ]
  },
  {
   "cell_type": "code",
   "execution_count": 21,
   "metadata": {},
   "outputs": [],
   "source": [
    "# B\n",
    "dict2 = {'Name':'Bruce','LastName':'Wayne'}"
   ]
  },
  {
   "cell_type": "code",
   "execution_count": 23,
   "metadata": {},
   "outputs": [
    {
     "data": {
      "text/plain": [
       "{'Person1': {'Name': 'Clark', 'LastName': 'Kent'},\n",
       " 'Person2': {'Name': 'Bruce', 'LastName': 'Wayne'}}"
      ]
     },
     "execution_count": 23,
     "metadata": {},
     "output_type": "execute_result"
    }
   ],
   "source": [
    "# C\n",
    "dict3 = {'Person1':dict1,'Person2':dict2}\n",
    "dict3"
   ]
  },
  {
   "cell_type": "code",
   "execution_count": 24,
   "metadata": {},
   "outputs": [
    {
     "data": {
      "text/plain": [
       "'Kent'"
      ]
     },
     "execution_count": 24,
     "metadata": {},
     "output_type": "execute_result"
    }
   ],
   "source": [
    "# D\n",
    "dict3['Person1']['LastName']"
   ]
  },
  {
   "cell_type": "code",
   "execution_count": 25,
   "metadata": {},
   "outputs": [
    {
     "data": {
      "text/plain": [
       "{'Person1': {'Name': 'Clark', 'LastName': 'Kent'},\n",
       " 'Person2': {'Name': 'Batman', 'LastName': 'Wayne'}}"
      ]
     },
     "execution_count": 25,
     "metadata": {},
     "output_type": "execute_result"
    }
   ],
   "source": [
    "# E\n",
    "dict3['Person2']['Name'] = 'Batman'\n",
    "dict3"
   ]
  },
  {
   "cell_type": "code",
   "execution_count": 26,
   "metadata": {},
   "outputs": [
    {
     "data": {
      "text/plain": [
       "{'Person1': {'Name': 'Clark', 'LastName': 'Kent', 'Planet': 'Krypton'},\n",
       " 'Person2': {'Name': 'Batman', 'LastName': 'Wayne'}}"
      ]
     },
     "execution_count": 26,
     "metadata": {},
     "output_type": "execute_result"
    }
   ],
   "source": [
    "# F\n",
    "dict3['Person1']['Planet'] = 'Krypton'\n",
    "dict3"
   ]
  },
  {
   "cell_type": "code",
   "execution_count": 27,
   "metadata": {},
   "outputs": [
    {
     "data": {
      "text/plain": [
       "{'Person1': {'Name': 'Clark', 'LastName': 'Kent', 'Planet': 'Krypton'},\n",
       " 'Person2': {'LastName': 'Wayne'}}"
      ]
     },
     "execution_count": 27,
     "metadata": {},
     "output_type": "execute_result"
    }
   ],
   "source": [
    "# G\n",
    "del dict3['Person2']['Name']\n",
    "dict3"
   ]
  },
  {
   "cell_type": "code",
   "execution_count": 29,
   "metadata": {},
   "outputs": [
    {
     "data": {
      "text/plain": [
       "{'Person1': {'Name': 'Clark', 'LastName': 'Kent', 'Planet': 'Krypton'},\n",
       " 'Person2': {'LastName': 'Wayne'},\n",
       " 'Person3': {'Superhero': 'WonderWoman'}}"
      ]
     },
     "execution_count": 29,
     "metadata": {},
     "output_type": "execute_result"
    }
   ],
   "source": [
    "# H\n",
    "dict3['Person3'] = {'Superhero':'WonderWoman'}\n",
    "dict3"
   ]
  },
  {
   "cell_type": "code",
   "execution_count": null,
   "metadata": {},
   "outputs": [],
   "source": []
  }
 ],
 "metadata": {
  "kernelspec": {
   "display_name": "Python 3",
   "language": "python",
   "name": "python3"
  },
  "language_info": {
   "codemirror_mode": {
    "name": "ipython",
    "version": 3
   },
   "file_extension": ".py",
   "mimetype": "text/x-python",
   "name": "python",
   "nbconvert_exporter": "python",
   "pygments_lexer": "ipython3",
   "version": "3.7.3"
  },
  "toc": {
   "base_numbering": 1,
   "nav_menu": {},
   "number_sections": true,
   "sideBar": true,
   "skip_h1_title": false,
   "title_cell": "Table of Contents",
   "title_sidebar": "Contents",
   "toc_cell": false,
   "toc_position": {},
   "toc_section_display": true,
   "toc_window_display": false
  }
 },
 "nbformat": 4,
 "nbformat_minor": 2
}
