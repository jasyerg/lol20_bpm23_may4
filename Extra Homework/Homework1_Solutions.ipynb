{
 "cells": [
  {
   "cell_type": "markdown",
   "metadata": {},
   "source": [
    "# Beginner Python and Math for Data Science\n",
    "\n",
    "## Lecture 1, 2, 3 and 4 - Homework Solutions"
   ]
  },
  {
   "cell_type": "markdown",
   "metadata": {},
   "source": [
    "#### 1. Write a Python program to convert radian to degree.\n",
    "\n",
    "Note : The radian is the standard unit of angular measure, used in many areas of mathematics. An angle's measurement in radians is numerically equal to the length of a corresponding arc of a unit circle; one radian is just under 57.3 degrees (when the arc length is equal to the radius).\n",
    "\n",
    "Test your solution by using `180 radians`."
   ]
  },
  {
   "cell_type": "code",
   "execution_count": 1,
   "metadata": {},
   "outputs": [
    {
     "name": "stdout",
     "output_type": "stream",
     "text": [
      "10309.09090909091\n"
     ]
    }
   ],
   "source": [
    "# your solution here \n",
    "pi = 22/7\n",
    "radian = 180\n",
    "degree = radian*(180/pi)\n",
    "print(degree)"
   ]
  },
  {
   "cell_type": "markdown",
   "metadata": {},
   "source": [
    "#### 2. Write a Python program to calculate volume and surface area of a sphere. \n",
    "\n",
    "Note: A sphere is a perfectly round geometrical object in three-dimensional space that is the surface of a completely round ball.\n",
    "\n",
    "Test your solution by using a sphere with `radius = 18`"
   ]
  },
  {
   "cell_type": "code",
   "execution_count": 2,
   "metadata": {},
   "outputs": [
    {
     "name": "stdout",
     "output_type": "stream",
     "text": [
      "Surface Area is:  4073.142857142857\n",
      "Volume is:  24438.857142857138\n"
     ]
    }
   ],
   "source": [
    "# your solution here \n",
    "pi=22/7\n",
    "radius = 18.0\n",
    "sur_area = 4 * pi * radius **2\n",
    "volume = (4/3) * (pi * radius ** 3)\n",
    "print(\"Surface Area is: \", sur_area)\n",
    "print(\"Volume is: \", volume)"
   ]
  },
  {
   "cell_type": "markdown",
   "metadata": {},
   "source": [
    "#### 3. Write a Python program to solve $(x + y)(x + y)$. \n",
    "\n",
    "Test your solution if `x = 5` and `y = 1`"
   ]
  },
  {
   "cell_type": "code",
   "execution_count": 3,
   "metadata": {},
   "outputs": [
    {
     "name": "stdout",
     "output_type": "stream",
     "text": [
      "(x + y)^2 = 36\n"
     ]
    }
   ],
   "source": [
    "# your solution here \n",
    "x, y = 5, 1\n",
    "result = x * x + 2 * x * y + y * y\n",
    "print(\"(x + y)^2 =\", result)"
   ]
  },
  {
   "cell_type": "markdown",
   "metadata": {},
   "source": [
    "#### 4. Write a Python program to test whether a number is within 100 of 1000 or 2000.\n",
    "\n",
    "Test your solution with the number `2200`, `900`, and `800`"
   ]
  },
  {
   "cell_type": "code",
   "execution_count": 4,
   "metadata": {},
   "outputs": [
    {
     "name": "stdout",
     "output_type": "stream",
     "text": [
      "False\n"
     ]
    }
   ],
   "source": [
    "check_2200 = (abs(1000 - 2200) <= 100) or (abs(2000 - 2200) <= 100)\n",
    "print(check_2200)"
   ]
  },
  {
   "cell_type": "code",
   "execution_count": 5,
   "metadata": {},
   "outputs": [
    {
     "name": "stdout",
     "output_type": "stream",
     "text": [
      "True\n"
     ]
    }
   ],
   "source": [
    "check_900 = (abs(1000 - 900) <= 100) or (abs(2000 - 900) <= 100)\n",
    "print(check_900)"
   ]
  },
  {
   "cell_type": "code",
   "execution_count": 6,
   "metadata": {},
   "outputs": [
    {
     "name": "stdout",
     "output_type": "stream",
     "text": [
      "False\n"
     ]
    }
   ],
   "source": [
    "check_800 = (abs(1000 - 800) <= 100) or (abs(2000 - 800) <= 100)\n",
    "print(check_800)"
   ]
  },
  {
   "cell_type": "markdown",
   "metadata": {},
   "source": [
    "#### 5. Write a code that calculates the volume of a cylinder with a height of 5 and a radius of 3.\n",
    "\n",
    "The volume of a cylinder is given by $V=\\pi r^2 h$"
   ]
  },
  {
   "cell_type": "code",
   "execution_count": 7,
   "metadata": {},
   "outputs": [
    {
     "name": "stdout",
     "output_type": "stream",
     "text": [
      "141.3\n"
     ]
    }
   ],
   "source": [
    "pi = 3.14\n",
    "height = 5\n",
    "radius = 3\n",
    "volume = pi*radius**2*height\n",
    "print(volume)"
   ]
  },
  {
   "cell_type": "markdown",
   "metadata": {},
   "source": [
    "#### 6. Is the remainder of 7 divided by 5 greater than 3.2?"
   ]
  },
  {
   "cell_type": "code",
   "execution_count": 8,
   "metadata": {},
   "outputs": [
    {
     "name": "stdout",
     "output_type": "stream",
     "text": [
      "False\n"
     ]
    }
   ],
   "source": [
    "print(7%5>3.2)"
   ]
  },
  {
   "cell_type": "markdown",
   "metadata": {},
   "source": [
    "#### 7. How much is 52 degrees Fahrenheit in Kelvin?\n",
    "\n",
    "°K = (°F − 32) × 5/9 + 273.15"
   ]
  },
  {
   "cell_type": "code",
   "execution_count": 9,
   "metadata": {},
   "outputs": [
    {
     "name": "stdout",
     "output_type": "stream",
     "text": [
      "52 Fahrenheit is equal to 284.26 Kelvin\n"
     ]
    }
   ],
   "source": [
    "F = 52\n",
    "K = (F-32)*5/9+273.15\n",
    "print(F,'Fahrenheit is equal to',round(K,2),'Kelvin')"
   ]
  },
  {
   "cell_type": "markdown",
   "metadata": {},
   "source": [
    "#### 8. Is a 5 foot 3 inch person taller than a 1 meter 77 cms person?\n",
    "\n",
    "Knowing that: \n",
    "- 1 meter is 100 cms\n",
    "- 1 foot is 12 inches\n",
    "- 1 inch is 2.54 cms"
   ]
  },
  {
   "cell_type": "code",
   "execution_count": 10,
   "metadata": {},
   "outputs": [
    {
     "name": "stdout",
     "output_type": "stream",
     "text": [
      "Person 1 is: 160.02 cms tall\n",
      "Person 2 is: 177 cms tall\n",
      "Is Person 1 taller than Person 2? False\n"
     ]
    }
   ],
   "source": [
    "# I'll convert all units to cms and then compare\n",
    "\n",
    "# Person 1\n",
    "# 1) Convert to inches\n",
    "Person1_inch = 5*12+3 # inches\n",
    "# 2) Convert to cms\n",
    "Person1_cms = Person1_inch*2.54 # cms\n",
    "\n",
    "# Person 2\n",
    "# 1) Convert to cms\n",
    "Person2_cms = 1*100+77 # cms\n",
    "\n",
    "print('Person 1 is:', Person1_cms, 'cms tall')\n",
    "print('Person 2 is:', Person2_cms, 'cms tall')\n",
    "print('Is Person 1 taller than Person 2?', Person1_cms>Person2_cms )\n",
    "\n",
    "\n"
   ]
  },
  {
   "cell_type": "markdown",
   "metadata": {},
   "source": [
    "#### 9. Is a car that drives at 65mph faster than a car going at 80kmh and slower than a car going at 100kmh?\n",
    "\n",
    "Knowing that:\n",
    "- 1 mile is 1.6kms"
   ]
  },
  {
   "cell_type": "code",
   "execution_count": 11,
   "metadata": {},
   "outputs": [
    {
     "name": "stdout",
     "output_type": "stream",
     "text": [
      "Car 1 has a speed of 104.0 kmh\n",
      "Is Car 1 faster than 80kmh and slower than 100kmh? False\n"
     ]
    }
   ],
   "source": [
    "# convert all to kmh\n",
    "Car1_kmh = 65*1.6 # kmh\n",
    "\n",
    "Car2_kmh = 80\n",
    "Car3_kmh = 100\n",
    "\n",
    "print('Car 1 has a speed of',Car1_kmh,'kmh')\n",
    "\n",
    "result = Car2_kmh<Car1_kmh<Car3_kmh\n",
    "print('Is Car 1 faster than 80kmh and slower than 100kmh?',result)"
   ]
  },
  {
   "cell_type": "markdown",
   "metadata": {},
   "source": [
    "#### 10. Are 10lbs heavier than 3 kgs or 20 kgs?\n",
    "Knowing that:\n",
    "- 1 kgs is 2.2 lbs"
   ]
  },
  {
   "cell_type": "code",
   "execution_count": 12,
   "metadata": {},
   "outputs": [
    {
     "name": "stdout",
     "output_type": "stream",
     "text": [
      "The first mass has 4.55 kgs\n",
      "Are 10lbs heavier than 3kgs or 20kgs? True\n"
     ]
    }
   ],
   "source": [
    "# convert to kgs\n",
    "mass1_kgs = 10/2.2\n",
    "mass2_kgs = 3\n",
    "mass3_kgs = 20\n",
    "\n",
    "print('The first mass has',round(mass1_kgs,2),'kgs')\n",
    "\n",
    "result = (mass1_kgs > mass2_kgs) or (mass1_kgs > mass3_kgs)\n",
    "print('Are 10lbs heavier than 3kgs or 20kgs?',result)"
   ]
  },
  {
   "cell_type": "code",
   "execution_count": null,
   "metadata": {},
   "outputs": [],
   "source": []
  }
 ],
 "metadata": {
  "kernelspec": {
   "display_name": "Python 3",
   "language": "python",
   "name": "python3"
  },
  "language_info": {
   "codemirror_mode": {
    "name": "ipython",
    "version": 3
   },
   "file_extension": ".py",
   "mimetype": "text/x-python",
   "name": "python",
   "nbconvert_exporter": "python",
   "pygments_lexer": "ipython3",
   "version": "3.7.3"
  },
  "toc": {
   "base_numbering": 1,
   "nav_menu": {},
   "number_sections": true,
   "sideBar": true,
   "skip_h1_title": false,
   "title_cell": "Table of Contents",
   "title_sidebar": "Contents",
   "toc_cell": false,
   "toc_position": {},
   "toc_section_display": true,
   "toc_window_display": false
  }
 },
 "nbformat": 4,
 "nbformat_minor": 2
}
